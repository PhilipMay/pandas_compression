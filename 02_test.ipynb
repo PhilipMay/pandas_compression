{
 "cells": [
  {
   "cell_type": "code",
   "execution_count": 1,
   "metadata": {},
   "outputs": [],
   "source": [
    "import pandas as pd\n",
    "import time\n",
    "from typing import Literal\n",
    "from functools import partial\n",
    "from typing import Optional\n",
    "import os\n",
    "from tqdm import tqdm"
   ]
  },
  {
   "cell_type": "code",
   "execution_count": 2,
   "metadata": {},
   "outputs": [
    {
     "data": {
      "text/html": [
       "<div>\n",
       "<style scoped>\n",
       "    .dataframe tbody tr th:only-of-type {\n",
       "        vertical-align: middle;\n",
       "    }\n",
       "\n",
       "    .dataframe tbody tr th {\n",
       "        vertical-align: top;\n",
       "    }\n",
       "\n",
       "    .dataframe thead th {\n",
       "        text-align: right;\n",
       "    }\n",
       "</style>\n",
       "<table border=\"1\" class=\"dataframe\">\n",
       "  <thead>\n",
       "    <tr style=\"text-align: right;\">\n",
       "      <th></th>\n",
       "      <th>text</th>\n",
       "      <th>uuid</th>\n",
       "      <th>int_0</th>\n",
       "      <th>int_1</th>\n",
       "      <th>int_2</th>\n",
       "      <th>int_3</th>\n",
       "      <th>int_4</th>\n",
       "      <th>int_5</th>\n",
       "      <th>int_6</th>\n",
       "      <th>int_7</th>\n",
       "      <th>...</th>\n",
       "      <th>float_10</th>\n",
       "      <th>float_11</th>\n",
       "      <th>float_12</th>\n",
       "      <th>float_13</th>\n",
       "      <th>float_14</th>\n",
       "      <th>float_15</th>\n",
       "      <th>float_16</th>\n",
       "      <th>float_17</th>\n",
       "      <th>float_18</th>\n",
       "      <th>float_19</th>\n",
       "    </tr>\n",
       "  </thead>\n",
       "  <tbody>\n",
       "    <tr>\n",
       "      <th>0</th>\n",
       "      <td>Write an article based on this \"A man has been...</td>\n",
       "      <td>9b193ab1-ab92-4d74-9aac-876f21c302a0</td>\n",
       "      <td>3474</td>\n",
       "      <td>-8309</td>\n",
       "      <td>-1183</td>\n",
       "      <td>-6862</td>\n",
       "      <td>-2121</td>\n",
       "      <td>-6685</td>\n",
       "      <td>-6140</td>\n",
       "      <td>-5582</td>\n",
       "      <td>...</td>\n",
       "      <td>-1704.235408</td>\n",
       "      <td>8690.18989</td>\n",
       "      <td>7636.103984</td>\n",
       "      <td>-5305.07615</td>\n",
       "      <td>-4549.317322</td>\n",
       "      <td>-3380.911654</td>\n",
       "      <td>-4222.91801</td>\n",
       "      <td>1709.491323</td>\n",
       "      <td>1727.529697</td>\n",
       "      <td>-6372.93414</td>\n",
       "    </tr>\n",
       "    <tr>\n",
       "      <th>1</th>\n",
       "      <td>Answer the following question: - number is 54 ...</td>\n",
       "      <td>dc0a6127-3977-4ec2-8ecc-60de9df14571</td>\n",
       "      <td>3474</td>\n",
       "      <td>-8309</td>\n",
       "      <td>-1183</td>\n",
       "      <td>-6862</td>\n",
       "      <td>-2121</td>\n",
       "      <td>-6685</td>\n",
       "      <td>-6140</td>\n",
       "      <td>-5582</td>\n",
       "      <td>...</td>\n",
       "      <td>-1704.235408</td>\n",
       "      <td>8690.18989</td>\n",
       "      <td>7636.103984</td>\n",
       "      <td>-5305.07615</td>\n",
       "      <td>-4549.317322</td>\n",
       "      <td>-3380.911654</td>\n",
       "      <td>-4222.91801</td>\n",
       "      <td>1709.491323</td>\n",
       "      <td>1727.529697</td>\n",
       "      <td>-6372.93414</td>\n",
       "    </tr>\n",
       "    <tr>\n",
       "      <th>2</th>\n",
       "      <td>Produce a long descriptive sentence that uses ...</td>\n",
       "      <td>b6189a7f-9bd2-4360-b381-6e8bd1056109</td>\n",
       "      <td>3474</td>\n",
       "      <td>-8309</td>\n",
       "      <td>-1183</td>\n",
       "      <td>-6862</td>\n",
       "      <td>-2121</td>\n",
       "      <td>-6685</td>\n",
       "      <td>-6140</td>\n",
       "      <td>-5582</td>\n",
       "      <td>...</td>\n",
       "      <td>-1704.235408</td>\n",
       "      <td>8690.18989</td>\n",
       "      <td>7636.103984</td>\n",
       "      <td>-5305.07615</td>\n",
       "      <td>-4549.317322</td>\n",
       "      <td>-3380.911654</td>\n",
       "      <td>-4222.91801</td>\n",
       "      <td>1709.491323</td>\n",
       "      <td>1727.529697</td>\n",
       "      <td>-6372.93414</td>\n",
       "    </tr>\n",
       "    <tr>\n",
       "      <th>3</th>\n",
       "      <td>Write a title for this article:\\n\\nArbitration...</td>\n",
       "      <td>c64c0f95-661e-4ad5-ad61-ab99ecf30f42</td>\n",
       "      <td>3474</td>\n",
       "      <td>-8309</td>\n",
       "      <td>-1183</td>\n",
       "      <td>-6862</td>\n",
       "      <td>-2121</td>\n",
       "      <td>-6685</td>\n",
       "      <td>-6140</td>\n",
       "      <td>-5582</td>\n",
       "      <td>...</td>\n",
       "      <td>-1704.235408</td>\n",
       "      <td>8690.18989</td>\n",
       "      <td>7636.103984</td>\n",
       "      <td>-5305.07615</td>\n",
       "      <td>-4549.317322</td>\n",
       "      <td>-3380.911654</td>\n",
       "      <td>-4222.91801</td>\n",
       "      <td>1709.491323</td>\n",
       "      <td>1727.529697</td>\n",
       "      <td>-6372.93414</td>\n",
       "    </tr>\n",
       "    <tr>\n",
       "      <th>4</th>\n",
       "      <td>Read the following paragraph and determine if ...</td>\n",
       "      <td>f516250e-57b9-46a4-9397-adbf0c1f5326</td>\n",
       "      <td>3474</td>\n",
       "      <td>-8309</td>\n",
       "      <td>-1183</td>\n",
       "      <td>-6862</td>\n",
       "      <td>-2121</td>\n",
       "      <td>-6685</td>\n",
       "      <td>-6140</td>\n",
       "      <td>-5582</td>\n",
       "      <td>...</td>\n",
       "      <td>-1704.235408</td>\n",
       "      <td>8690.18989</td>\n",
       "      <td>7636.103984</td>\n",
       "      <td>-5305.07615</td>\n",
       "      <td>-4549.317322</td>\n",
       "      <td>-3380.911654</td>\n",
       "      <td>-4222.91801</td>\n",
       "      <td>1709.491323</td>\n",
       "      <td>1727.529697</td>\n",
       "      <td>-6372.93414</td>\n",
       "    </tr>\n",
       "    <tr>\n",
       "      <th>...</th>\n",
       "      <td>...</td>\n",
       "      <td>...</td>\n",
       "      <td>...</td>\n",
       "      <td>...</td>\n",
       "      <td>...</td>\n",
       "      <td>...</td>\n",
       "      <td>...</td>\n",
       "      <td>...</td>\n",
       "      <td>...</td>\n",
       "      <td>...</td>\n",
       "      <td>...</td>\n",
       "      <td>...</td>\n",
       "      <td>...</td>\n",
       "      <td>...</td>\n",
       "      <td>...</td>\n",
       "      <td>...</td>\n",
       "      <td>...</td>\n",
       "      <td>...</td>\n",
       "      <td>...</td>\n",
       "      <td>...</td>\n",
       "      <td>...</td>\n",
       "    </tr>\n",
       "    <tr>\n",
       "      <th>363486</th>\n",
       "      <td>Q: Context: Dragon Ball Z (ドラゴンボール ゼット, Dorago...</td>\n",
       "      <td>8ba7f794-07f2-451c-90c5-24f7c4e7734b</td>\n",
       "      <td>3474</td>\n",
       "      <td>-8309</td>\n",
       "      <td>-1183</td>\n",
       "      <td>-6862</td>\n",
       "      <td>-2121</td>\n",
       "      <td>-6685</td>\n",
       "      <td>-6140</td>\n",
       "      <td>-5582</td>\n",
       "      <td>...</td>\n",
       "      <td>-1704.235408</td>\n",
       "      <td>8690.18989</td>\n",
       "      <td>7636.103984</td>\n",
       "      <td>-5305.07615</td>\n",
       "      <td>-4549.317322</td>\n",
       "      <td>-3380.911654</td>\n",
       "      <td>-4222.91801</td>\n",
       "      <td>1709.491323</td>\n",
       "      <td>1727.529697</td>\n",
       "      <td>-6372.93414</td>\n",
       "    </tr>\n",
       "    <tr>\n",
       "      <th>363487</th>\n",
       "      <td>My question is: At the beginning of an academi...</td>\n",
       "      <td>3c338e45-3525-4dd4-88fe-1cc31ccc59ef</td>\n",
       "      <td>3474</td>\n",
       "      <td>-8309</td>\n",
       "      <td>-1183</td>\n",
       "      <td>-6862</td>\n",
       "      <td>-2121</td>\n",
       "      <td>-6685</td>\n",
       "      <td>-6140</td>\n",
       "      <td>-5582</td>\n",
       "      <td>...</td>\n",
       "      <td>-1704.235408</td>\n",
       "      <td>8690.18989</td>\n",
       "      <td>7636.103984</td>\n",
       "      <td>-5305.07615</td>\n",
       "      <td>-4549.317322</td>\n",
       "      <td>-3380.911654</td>\n",
       "      <td>-4222.91801</td>\n",
       "      <td>1709.491323</td>\n",
       "      <td>1727.529697</td>\n",
       "      <td>-6372.93414</td>\n",
       "    </tr>\n",
       "    <tr>\n",
       "      <th>363488</th>\n",
       "      <td>Leo: Given the sentence \"A small child in wate...</td>\n",
       "      <td>28a3dbab-0e47-4a40-acc2-05a92f02abb5</td>\n",
       "      <td>3474</td>\n",
       "      <td>-8309</td>\n",
       "      <td>-1183</td>\n",
       "      <td>-6862</td>\n",
       "      <td>-2121</td>\n",
       "      <td>-6685</td>\n",
       "      <td>-6140</td>\n",
       "      <td>-5582</td>\n",
       "      <td>...</td>\n",
       "      <td>-1704.235408</td>\n",
       "      <td>8690.18989</td>\n",
       "      <td>7636.103984</td>\n",
       "      <td>-5305.07615</td>\n",
       "      <td>-4549.317322</td>\n",
       "      <td>-3380.911654</td>\n",
       "      <td>-4222.91801</td>\n",
       "      <td>1709.491323</td>\n",
       "      <td>1727.529697</td>\n",
       "      <td>-6372.93414</td>\n",
       "    </tr>\n",
       "    <tr>\n",
       "      <th>363489</th>\n",
       "      <td>Explain simply why yes is the correct answer t...</td>\n",
       "      <td>314b76cb-9390-4e76-8a6a-6d5034765345</td>\n",
       "      <td>3474</td>\n",
       "      <td>-8309</td>\n",
       "      <td>-1183</td>\n",
       "      <td>-6862</td>\n",
       "      <td>-2121</td>\n",
       "      <td>-6685</td>\n",
       "      <td>-6140</td>\n",
       "      <td>-5582</td>\n",
       "      <td>...</td>\n",
       "      <td>-1704.235408</td>\n",
       "      <td>8690.18989</td>\n",
       "      <td>7636.103984</td>\n",
       "      <td>-5305.07615</td>\n",
       "      <td>-4549.317322</td>\n",
       "      <td>-3380.911654</td>\n",
       "      <td>-4222.91801</td>\n",
       "      <td>1709.491323</td>\n",
       "      <td>1727.529697</td>\n",
       "      <td>-6372.93414</td>\n",
       "    </tr>\n",
       "    <tr>\n",
       "      <th>363490</th>\n",
       "      <td>**Q**\\nIs the following sentence factually cor...</td>\n",
       "      <td>97dc3f03-3b14-4fa9-86fa-ea618a2fcef3</td>\n",
       "      <td>3474</td>\n",
       "      <td>-8309</td>\n",
       "      <td>-1183</td>\n",
       "      <td>-6862</td>\n",
       "      <td>-2121</td>\n",
       "      <td>-6685</td>\n",
       "      <td>-6140</td>\n",
       "      <td>-5582</td>\n",
       "      <td>...</td>\n",
       "      <td>-1704.235408</td>\n",
       "      <td>8690.18989</td>\n",
       "      <td>7636.103984</td>\n",
       "      <td>-5305.07615</td>\n",
       "      <td>-4549.317322</td>\n",
       "      <td>-3380.911654</td>\n",
       "      <td>-4222.91801</td>\n",
       "      <td>1709.491323</td>\n",
       "      <td>1727.529697</td>\n",
       "      <td>-6372.93414</td>\n",
       "    </tr>\n",
       "  </tbody>\n",
       "</table>\n",
       "<p>363491 rows × 42 columns</p>\n",
       "</div>"
      ],
      "text/plain": [
       "                                                     text  \\\n",
       "0       Write an article based on this \"A man has been...   \n",
       "1       Answer the following question: - number is 54 ...   \n",
       "2       Produce a long descriptive sentence that uses ...   \n",
       "3       Write a title for this article:\\n\\nArbitration...   \n",
       "4       Read the following paragraph and determine if ...   \n",
       "...                                                   ...   \n",
       "363486  Q: Context: Dragon Ball Z (ドラゴンボール ゼット, Dorago...   \n",
       "363487  My question is: At the beginning of an academi...   \n",
       "363488  Leo: Given the sentence \"A small child in wate...   \n",
       "363489  Explain simply why yes is the correct answer t...   \n",
       "363490  **Q**\\nIs the following sentence factually cor...   \n",
       "\n",
       "                                        uuid  int_0  int_1  int_2  int_3  \\\n",
       "0       9b193ab1-ab92-4d74-9aac-876f21c302a0   3474  -8309  -1183  -6862   \n",
       "1       dc0a6127-3977-4ec2-8ecc-60de9df14571   3474  -8309  -1183  -6862   \n",
       "2       b6189a7f-9bd2-4360-b381-6e8bd1056109   3474  -8309  -1183  -6862   \n",
       "3       c64c0f95-661e-4ad5-ad61-ab99ecf30f42   3474  -8309  -1183  -6862   \n",
       "4       f516250e-57b9-46a4-9397-adbf0c1f5326   3474  -8309  -1183  -6862   \n",
       "...                                      ...    ...    ...    ...    ...   \n",
       "363486  8ba7f794-07f2-451c-90c5-24f7c4e7734b   3474  -8309  -1183  -6862   \n",
       "363487  3c338e45-3525-4dd4-88fe-1cc31ccc59ef   3474  -8309  -1183  -6862   \n",
       "363488  28a3dbab-0e47-4a40-acc2-05a92f02abb5   3474  -8309  -1183  -6862   \n",
       "363489  314b76cb-9390-4e76-8a6a-6d5034765345   3474  -8309  -1183  -6862   \n",
       "363490  97dc3f03-3b14-4fa9-86fa-ea618a2fcef3   3474  -8309  -1183  -6862   \n",
       "\n",
       "        int_4  int_5  int_6  int_7  ...     float_10    float_11     float_12  \\\n",
       "0       -2121  -6685  -6140  -5582  ... -1704.235408  8690.18989  7636.103984   \n",
       "1       -2121  -6685  -6140  -5582  ... -1704.235408  8690.18989  7636.103984   \n",
       "2       -2121  -6685  -6140  -5582  ... -1704.235408  8690.18989  7636.103984   \n",
       "3       -2121  -6685  -6140  -5582  ... -1704.235408  8690.18989  7636.103984   \n",
       "4       -2121  -6685  -6140  -5582  ... -1704.235408  8690.18989  7636.103984   \n",
       "...       ...    ...    ...    ...  ...          ...         ...          ...   \n",
       "363486  -2121  -6685  -6140  -5582  ... -1704.235408  8690.18989  7636.103984   \n",
       "363487  -2121  -6685  -6140  -5582  ... -1704.235408  8690.18989  7636.103984   \n",
       "363488  -2121  -6685  -6140  -5582  ... -1704.235408  8690.18989  7636.103984   \n",
       "363489  -2121  -6685  -6140  -5582  ... -1704.235408  8690.18989  7636.103984   \n",
       "363490  -2121  -6685  -6140  -5582  ... -1704.235408  8690.18989  7636.103984   \n",
       "\n",
       "          float_13     float_14     float_15    float_16     float_17  \\\n",
       "0      -5305.07615 -4549.317322 -3380.911654 -4222.91801  1709.491323   \n",
       "1      -5305.07615 -4549.317322 -3380.911654 -4222.91801  1709.491323   \n",
       "2      -5305.07615 -4549.317322 -3380.911654 -4222.91801  1709.491323   \n",
       "3      -5305.07615 -4549.317322 -3380.911654 -4222.91801  1709.491323   \n",
       "4      -5305.07615 -4549.317322 -3380.911654 -4222.91801  1709.491323   \n",
       "...            ...          ...          ...         ...          ...   \n",
       "363486 -5305.07615 -4549.317322 -3380.911654 -4222.91801  1709.491323   \n",
       "363487 -5305.07615 -4549.317322 -3380.911654 -4222.91801  1709.491323   \n",
       "363488 -5305.07615 -4549.317322 -3380.911654 -4222.91801  1709.491323   \n",
       "363489 -5305.07615 -4549.317322 -3380.911654 -4222.91801  1709.491323   \n",
       "363490 -5305.07615 -4549.317322 -3380.911654 -4222.91801  1709.491323   \n",
       "\n",
       "           float_18    float_19  \n",
       "0       1727.529697 -6372.93414  \n",
       "1       1727.529697 -6372.93414  \n",
       "2       1727.529697 -6372.93414  \n",
       "3       1727.529697 -6372.93414  \n",
       "4       1727.529697 -6372.93414  \n",
       "...             ...         ...  \n",
       "363486  1727.529697 -6372.93414  \n",
       "363487  1727.529697 -6372.93414  \n",
       "363488  1727.529697 -6372.93414  \n",
       "363489  1727.529697 -6372.93414  \n",
       "363490  1727.529697 -6372.93414  \n",
       "\n",
       "[363491 rows x 42 columns]"
      ]
     },
     "execution_count": 2,
     "metadata": {},
     "output_type": "execute_result"
    }
   ],
   "source": [
    "df = pd.read_pickle(\"./data/data.pkl.gz\")\n",
    "df"
   ]
  },
  {
   "cell_type": "code",
   "execution_count": 3,
   "metadata": {},
   "outputs": [
    {
     "data": {
      "text/plain": [
       "np.int64(823608914)"
      ]
     },
     "execution_count": 3,
     "metadata": {},
     "output_type": "execute_result"
    }
   ],
   "source": [
    "# total memory usage in bytes without index\n",
    "# see https://pandas.pydata.org/docs/reference/api/pandas.DataFrame.memory_usage.html\n",
    "mem_usage = df.memory_usage(index=False, deep=True).sum()\n",
    "mem_usage"
   ]
  },
  {
   "cell_type": "code",
   "execution_count": 4,
   "metadata": {},
   "outputs": [
    {
     "data": {
      "text/plain": [
       "np.float64(785.454668045044)"
      ]
     },
     "execution_count": 4,
     "metadata": {},
     "output_type": "execute_result"
    }
   ],
   "source": [
    "# total memory usage in m_bytes without index\n",
    "mem_size_mb = mem_usage / 1024 / 1024\n",
    "mem_size_mb"
   ]
  },
  {
   "cell_type": "code",
   "execution_count": 5,
   "metadata": {},
   "outputs": [],
   "source": [
    "def evaluate_performance(\n",
    "        df,\n",
    "        method: Literal[\"csv\", \"parquet\"],\n",
    "        compression: Optional[str] = None,\n",
    "        compression_level: Optional[int] = None,\n",
    "    ) -> dict:\n",
    "    filename = f\"./test_data/data.{method}\"\n",
    "\n",
    "    # set save_fn and read_fn\n",
    "    save_fn = None\n",
    "    read_fn = None\n",
    "    additional_save_params = {}\n",
    "    if method == \"csv\":\n",
    "        if compression is not None:\n",
    "            additional_save_params[\"compression\"] = compression\n",
    "        assert compression_level is None\n",
    "        save_fn = partial(df.to_csv, index=False, path_or_buf=filename, **additional_save_params)\n",
    "        read_fn = partial(pd.read_csv, filepath_or_buffer=filename, **additional_save_params)\n",
    "    elif method == \"parquet\":\n",
    "        if compression is not None:\n",
    "            additional_save_params[\"compression\"] = compression\n",
    "        if compression_level is not None:\n",
    "            additional_save_params[\"compression_level\"] = compression_level\n",
    "        save_fn = partial(df.to_parquet, index=False, engine=\"pyarrow\", path=filename, **additional_save_params)\n",
    "        read_fn = partial(pd.read_parquet, path=filename, engine=\"pyarrow\")\n",
    "    elif method == \"feather\":\n",
    "        if compression is not None:\n",
    "            additional_save_params[\"compression\"] = compression\n",
    "        if compression_level is not None:\n",
    "            additional_save_params[\"compression_level\"] = compression_level\n",
    "        save_fn = partial(df.to_feather, path=filename, **additional_save_params)\n",
    "        read_fn = partial(pd.read_feather, path=filename)\n",
    "    assert save_fn is not None\n",
    "    assert read_fn is not None\n",
    "\n",
    "\n",
    "    # write\n",
    "    start_time = time.time()\n",
    "    save_fn()\n",
    "    save_time = time.time() - start_time\n",
    "    # print(\"save_time:\", save_time)\n",
    "\n",
    "    # read\n",
    "    start_time = time.time()\n",
    "    for _ in range(10):\n",
    "        read_fn()\n",
    "    read_time = (time.time() - start_time) / 10\n",
    "    # print(\"read_time:\", read_time)\n",
    "\n",
    "    # get size\n",
    "    file_size = os.path.getsize(filename) / 1024 / 1024\n",
    "    # print(\"file_size:\", file_size)\n",
    "\n",
    "    # delete file\n",
    "    os.remove(filename)\n",
    "\n",
    "    result = {\n",
    "        \"method\": method,\n",
    "        \"save_time\": save_time,\n",
    "        \"read_time\": read_time,\n",
    "        \"file_size\": file_size,\n",
    "    }\n",
    "\n",
    "    for k, v in additional_save_params.items():\n",
    "        result[k] = v\n",
    "\n",
    "    return result\n"
   ]
  },
  {
   "cell_type": "code",
   "execution_count": 6,
   "metadata": {},
   "outputs": [],
   "source": [
    "eval_results = []"
   ]
  },
  {
   "cell_type": "code",
   "execution_count": 7,
   "metadata": {},
   "outputs": [
    {
     "name": "stderr",
     "output_type": "stream",
     "text": [
      "  5%|▌         | 1/20 [00:11<03:34, 11.31s/it]"
     ]
    },
    {
     "name": "stdout",
     "output_type": "stream",
     "text": [
      "{'method': 'parquet', 'save_time': 1.7168431282043457, 'read_time': 0.9589344024658203, 'file_size': 205.0951271057129, 'compression': 'zstd', 'compression_level': 1}\n"
     ]
    },
    {
     "name": "stderr",
     "output_type": "stream",
     "text": [
      " 10%|█         | 2/20 [00:23<03:32, 11.80s/it]"
     ]
    },
    {
     "name": "stdout",
     "output_type": "stream",
     "text": [
      "{'method': 'parquet', 'save_time': 2.1638808250427246, 'read_time': 0.9968081951141358, 'file_size': 190.3500156402588, 'compression': 'zstd', 'compression_level': 2}\n"
     ]
    },
    {
     "name": "stderr",
     "output_type": "stream",
     "text": [
      " 15%|█▌        | 3/20 [00:36<03:26, 12.15s/it]"
     ]
    },
    {
     "name": "stdout",
     "output_type": "stream",
     "text": [
      "{'method': 'parquet', 'save_time': 2.4616479873657227, 'read_time': 1.0109827041625976, 'file_size': 181.8889560699463, 'compression': 'zstd', 'compression_level': 3}\n"
     ]
    },
    {
     "name": "stderr",
     "output_type": "stream",
     "text": [
      " 20%|██        | 4/20 [00:48<03:17, 12.34s/it]"
     ]
    },
    {
     "name": "stdout",
     "output_type": "stream",
     "text": [
      "{'method': 'parquet', 'save_time': 2.55195689201355, 'read_time': 1.0079713106155395, 'file_size': 179.64045810699463, 'compression': 'zstd', 'compression_level': 4}\n"
     ]
    },
    {
     "name": "stderr",
     "output_type": "stream",
     "text": [
      " 25%|██▌       | 5/20 [01:03<03:16, 13.07s/it]"
     ]
    },
    {
     "name": "stdout",
     "output_type": "stream",
     "text": [
      "{'method': 'parquet', 'save_time': 4.067563056945801, 'read_time': 1.0285160064697265, 'file_size': 174.0382194519043, 'compression': 'zstd', 'compression_level': 5}\n"
     ]
    },
    {
     "name": "stderr",
     "output_type": "stream",
     "text": [
      " 30%|███       | 6/20 [01:18<03:13, 13.84s/it]"
     ]
    },
    {
     "name": "stdout",
     "output_type": "stream",
     "text": [
      "{'method': 'parquet', 'save_time': 5.7080299854278564, 'read_time': 0.961374306678772, 'file_size': 168.9164524078369, 'compression': 'zstd', 'compression_level': 6}\n"
     ]
    },
    {
     "name": "stderr",
     "output_type": "stream",
     "text": [
      " 35%|███▌      | 7/20 [01:34<03:08, 14.46s/it]"
     ]
    },
    {
     "name": "stdout",
     "output_type": "stream",
     "text": [
      "{'method': 'parquet', 'save_time': 6.3573222160339355, 'read_time': 0.9390930891036987, 'file_size': 166.69308376312256, 'compression': 'zstd', 'compression_level': 7}\n"
     ]
    },
    {
     "name": "stderr",
     "output_type": "stream",
     "text": [
      " 40%|████      | 8/20 [01:51<03:03, 15.29s/it]"
     ]
    },
    {
     "name": "stdout",
     "output_type": "stream",
     "text": [
      "{'method': 'parquet', 'save_time': 8.056328058242798, 'read_time': 0.8995661973953247, 'file_size': 164.8323574066162, 'compression': 'zstd', 'compression_level': 8}\n"
     ]
    },
    {
     "name": "stderr",
     "output_type": "stream",
     "text": [
      " 45%|████▌     | 9/20 [02:08<02:53, 15.81s/it]"
     ]
    },
    {
     "name": "stdout",
     "output_type": "stream",
     "text": [
      "{'method': 'parquet', 'save_time': 8.054328203201294, 'read_time': 0.8899359941482544, 'file_size': 164.41628742218018, 'compression': 'zstd', 'compression_level': 9}\n"
     ]
    },
    {
     "name": "stderr",
     "output_type": "stream",
     "text": [
      " 50%|█████     | 10/20 [02:27<02:48, 16.84s/it]"
     ]
    },
    {
     "name": "stdout",
     "output_type": "stream",
     "text": [
      "{'method': 'parquet', 'save_time': 10.362239837646484, 'read_time': 0.8775696992874146, 'file_size': 163.0141191482544, 'compression': 'zstd', 'compression_level': 10}\n"
     ]
    },
    {
     "name": "stderr",
     "output_type": "stream",
     "text": [
      " 55%|█████▌    | 11/20 [02:49<02:45, 18.35s/it]"
     ]
    },
    {
     "name": "stdout",
     "output_type": "stream",
     "text": [
      "{'method': 'parquet', 'save_time': 13.053364992141724, 'read_time': 0.874109411239624, 'file_size': 162.2701644897461, 'compression': 'zstd', 'compression_level': 11}\n"
     ]
    },
    {
     "name": "stderr",
     "output_type": "stream",
     "text": [
      " 60%|██████    | 12/20 [03:10<02:35, 19.40s/it]"
     ]
    },
    {
     "name": "stdout",
     "output_type": "stream",
     "text": [
      "{'method': 'parquet', 'save_time': 13.024783849716187, 'read_time': 0.8779834985733033, 'file_size': 162.2701644897461, 'compression': 'zstd', 'compression_level': 12}\n"
     ]
    },
    {
     "name": "stderr",
     "output_type": "stream",
     "text": [
      " 65%|██████▌   | 13/20 [03:50<02:59, 25.59s/it]"
     ]
    },
    {
     "name": "stdout",
     "output_type": "stream",
     "text": [
      "{'method': 'parquet', 'save_time': 30.98591899871826, 'read_time': 0.8818485975265503, 'file_size': 160.5430212020874, 'compression': 'zstd', 'compression_level': 13}\n"
     ]
    },
    {
     "name": "stderr",
     "output_type": "stream",
     "text": [
      " 70%|███████   | 14/20 [04:34<03:07, 31.23s/it]"
     ]
    },
    {
     "name": "stdout",
     "output_type": "stream",
     "text": [
      "{'method': 'parquet', 'save_time': 35.568851947784424, 'read_time': 0.8690489053726196, 'file_size': 159.9736909866333, 'compression': 'zstd', 'compression_level': 14}\n"
     ]
    },
    {
     "name": "stderr",
     "output_type": "stream",
     "text": [
      " 75%|███████▌  | 15/20 [05:20<02:58, 35.66s/it]"
     ]
    },
    {
     "name": "stdout",
     "output_type": "stream",
     "text": [
      "{'method': 'parquet', 'save_time': 37.22284293174744, 'read_time': 0.8725491046905518, 'file_size': 159.89682865142822, 'compression': 'zstd', 'compression_level': 15}\n"
     ]
    },
    {
     "name": "stderr",
     "output_type": "stream",
     "text": [
      " 80%|████████  | 16/20 [06:22<02:53, 43.44s/it]"
     ]
    },
    {
     "name": "stdout",
     "output_type": "stream",
     "text": [
      "{'method': 'parquet', 'save_time': 52.612979888916016, 'read_time': 0.8881033897399903, 'file_size': 153.43690872192383, 'compression': 'zstd', 'compression_level': 16}\n"
     ]
    },
    {
     "name": "stderr",
     "output_type": "stream",
     "text": [
      " 85%|████████▌ | 17/20 [07:33<02:35, 51.90s/it]"
     ]
    },
    {
     "name": "stdout",
     "output_type": "stream",
     "text": [
      "{'method': 'parquet', 'save_time': 62.5625102519989, 'read_time': 0.9025753974914551, 'file_size': 152.65603065490723, 'compression': 'zstd', 'compression_level': 17}\n"
     ]
    },
    {
     "name": "stderr",
     "output_type": "stream",
     "text": [
      " 90%|█████████ | 18/20 [09:01<02:04, 62.49s/it]"
     ]
    },
    {
     "name": "stdout",
     "output_type": "stream",
     "text": [
      "{'method': 'parquet', 'save_time': 77.91794109344482, 'read_time': 0.9199609756469727, 'file_size': 151.67846584320068, 'compression': 'zstd', 'compression_level': 18}\n"
     ]
    },
    {
     "name": "stderr",
     "output_type": "stream",
     "text": [
      " 95%|█████████▌| 19/20 [10:36<01:12, 72.46s/it]"
     ]
    },
    {
     "name": "stdout",
     "output_type": "stream",
     "text": [
      "{'method': 'parquet', 'save_time': 86.38836717605591, 'read_time': 0.9317858934402465, 'file_size': 151.54985809326172, 'compression': 'zstd', 'compression_level': 19}\n"
     ]
    },
    {
     "name": "stderr",
     "output_type": "stream",
     "text": [
      "100%|██████████| 20/20 [12:12<00:00, 36.64s/it]"
     ]
    },
    {
     "name": "stdout",
     "output_type": "stream",
     "text": [
      "{'method': 'parquet', 'save_time': 86.35913395881653, 'read_time': 0.9622390031814575, 'file_size': 151.54985809326172, 'compression': 'zstd', 'compression_level': 20}\n"
     ]
    },
    {
     "name": "stderr",
     "output_type": "stream",
     "text": [
      "\n"
     ]
    }
   ],
   "source": [
    "# parquet, zstd\n",
    "for cl in tqdm(range(1, 21)):\n",
    "    r = evaluate_performance(df, \"parquet\", compression=\"zstd\", compression_level=cl)\n",
    "    print(r)\n",
    "    eval_results.append(r)"
   ]
  },
  {
   "cell_type": "code",
   "execution_count": 8,
   "metadata": {},
   "outputs": [
    {
     "name": "stderr",
     "output_type": "stream",
     "text": [
      "  5%|▌         | 1/20 [00:08<02:32,  8.02s/it]"
     ]
    },
    {
     "name": "stdout",
     "output_type": "stream",
     "text": [
      "{'method': 'parquet', 'save_time': 1.338258981704712, 'read_time': 0.6679298162460328, 'file_size': 299.8812093734741, 'compression': 'lz4', 'compression_level': 1}\n"
     ]
    },
    {
     "name": "stderr",
     "output_type": "stream",
     "text": [
      " 10%|█         | 2/20 [00:15<02:21,  7.84s/it]"
     ]
    },
    {
     "name": "stdout",
     "output_type": "stream",
     "text": [
      "{'method': 'parquet', 'save_time': 1.3117198944091797, 'read_time': 0.6393234252929687, 'file_size': 299.8812093734741, 'compression': 'lz4', 'compression_level': 2}\n"
     ]
    },
    {
     "name": "stderr",
     "output_type": "stream",
     "text": [
      " 15%|█▌        | 3/20 [00:27<02:43,  9.64s/it]"
     ]
    },
    {
     "name": "stdout",
     "output_type": "stream",
     "text": [
      "{'method': 'parquet', 'save_time': 5.2876200675964355, 'read_time': 0.6485427141189575, 'file_size': 229.84929656982422, 'compression': 'lz4', 'compression_level': 3}\n"
     ]
    },
    {
     "name": "stderr",
     "output_type": "stream",
     "text": [
      " 20%|██        | 4/20 [00:40<02:57, 11.07s/it]"
     ]
    },
    {
     "name": "stdout",
     "output_type": "stream",
     "text": [
      "{'method': 'parquet', 'save_time': 6.83267879486084, 'read_time': 0.6433796167373658, 'file_size': 224.4717779159546, 'compression': 'lz4', 'compression_level': 4}\n"
     ]
    },
    {
     "name": "stderr",
     "output_type": "stream",
     "text": [
      " 25%|██▌       | 5/20 [00:55<03:08, 12.54s/it]"
     ]
    },
    {
     "name": "stdout",
     "output_type": "stream",
     "text": [
      "{'method': 'parquet', 'save_time': 8.747347116470337, 'read_time': 0.6408979892730713, 'file_size': 221.61809635162354, 'compression': 'lz4', 'compression_level': 5}\n"
     ]
    },
    {
     "name": "stderr",
     "output_type": "stream",
     "text": [
      " 30%|███       | 6/20 [01:12<03:16, 14.05s/it]"
     ]
    },
    {
     "name": "stdout",
     "output_type": "stream",
     "text": [
      "{'method': 'parquet', 'save_time': 10.597584247589111, 'read_time': 0.6371343851089477, 'file_size': 220.34614181518555, 'compression': 'lz4', 'compression_level': 6}\n"
     ]
    },
    {
     "name": "stderr",
     "output_type": "stream",
     "text": [
      " 35%|███▌      | 7/20 [01:31<03:23, 15.63s/it]"
     ]
    },
    {
     "name": "stdout",
     "output_type": "stream",
     "text": [
      "{'method': 'parquet', 'save_time': 12.45890498161316, 'read_time': 0.6426115036010742, 'file_size': 219.82338619232178, 'compression': 'lz4', 'compression_level': 7}\n"
     ]
    },
    {
     "name": "stderr",
     "output_type": "stream",
     "text": [
      " 40%|████      | 8/20 [01:52<03:25, 17.11s/it]"
     ]
    },
    {
     "name": "stdout",
     "output_type": "stream",
     "text": [
      "{'method': 'parquet', 'save_time': 13.872910976409912, 'read_time': 0.6405241250991821, 'file_size': 219.62268161773682, 'compression': 'lz4', 'compression_level': 8}\n"
     ]
    },
    {
     "name": "stderr",
     "output_type": "stream",
     "text": [
      " 45%|████▌     | 9/20 [02:13<03:23, 18.50s/it]"
     ]
    },
    {
     "name": "stdout",
     "output_type": "stream",
     "text": [
      "{'method': 'parquet', 'save_time': 15.134925842285156, 'read_time': 0.6417816162109375, 'file_size': 219.5131492614746, 'compression': 'lz4', 'compression_level': 9}\n"
     ]
    },
    {
     "name": "stderr",
     "output_type": "stream",
     "text": [
      " 50%|█████     | 10/20 [02:41<03:32, 21.25s/it]"
     ]
    },
    {
     "name": "stdout",
     "output_type": "stream",
     "text": [
      "{'method': 'parquet', 'save_time': 20.99379825592041, 'read_time': 0.6420857906341553, 'file_size': 218.33648586273193, 'compression': 'lz4', 'compression_level': 10}\n"
     ]
    },
    {
     "name": "stderr",
     "output_type": "stream",
     "text": [
      " 55%|█████▌    | 11/20 [03:12<03:39, 24.40s/it]"
     ]
    },
    {
     "name": "stdout",
     "output_type": "stream",
     "text": [
      "{'method': 'parquet', 'save_time': 25.107905864715576, 'read_time': 0.6419222831726075, 'file_size': 217.9263620376587, 'compression': 'lz4', 'compression_level': 11}\n"
     ]
    },
    {
     "name": "stderr",
     "output_type": "stream",
     "text": [
      " 60%|██████    | 12/20 [03:47<03:41, 27.71s/it]"
     ]
    },
    {
     "name": "stdout",
     "output_type": "stream",
     "text": [
      "{'method': 'parquet', 'save_time': 28.843078136444092, 'read_time': 0.644201683998108, 'file_size': 217.89891529083252, 'compression': 'lz4', 'compression_level': 12}\n"
     ]
    },
    {
     "name": "stderr",
     "output_type": "stream",
     "text": [
      " 65%|██████▌   | 13/20 [04:23<03:30, 30.04s/it]"
     ]
    },
    {
     "name": "stdout",
     "output_type": "stream",
     "text": [
      "{'method': 'parquet', 'save_time': 28.960288047790527, 'read_time': 0.6441783905029297, 'file_size': 217.89891529083252, 'compression': 'lz4', 'compression_level': 13}\n"
     ]
    },
    {
     "name": "stderr",
     "output_type": "stream",
     "text": [
      " 70%|███████   | 14/20 [04:58<03:09, 31.61s/it]"
     ]
    },
    {
     "name": "stdout",
     "output_type": "stream",
     "text": [
      "{'method': 'parquet', 'save_time': 28.83184289932251, 'read_time': 0.6413195848464965, 'file_size': 217.89891529083252, 'compression': 'lz4', 'compression_level': 14}\n"
     ]
    },
    {
     "name": "stderr",
     "output_type": "stream",
     "text": [
      " 75%|███████▌  | 15/20 [05:33<02:43, 32.78s/it]"
     ]
    },
    {
     "name": "stdout",
     "output_type": "stream",
     "text": [
      "{'method': 'parquet', 'save_time': 29.021782159805298, 'read_time': 0.6449590921401978, 'file_size': 217.89891529083252, 'compression': 'lz4', 'compression_level': 15}\n"
     ]
    },
    {
     "name": "stderr",
     "output_type": "stream",
     "text": [
      " 80%|████████  | 16/20 [06:09<02:14, 33.57s/it]"
     ]
    },
    {
     "name": "stdout",
     "output_type": "stream",
     "text": [
      "{'method': 'parquet', 'save_time': 28.96356725692749, 'read_time': 0.6445579051971435, 'file_size': 217.89891529083252, 'compression': 'lz4', 'compression_level': 16}\n"
     ]
    },
    {
     "name": "stderr",
     "output_type": "stream",
     "text": [
      " 85%|████████▌ | 17/20 [06:44<01:42, 34.12s/it]"
     ]
    },
    {
     "name": "stdout",
     "output_type": "stream",
     "text": [
      "{'method': 'parquet', 'save_time': 28.96080207824707, 'read_time': 0.6425777912139893, 'file_size': 217.89891529083252, 'compression': 'lz4', 'compression_level': 17}\n"
     ]
    },
    {
     "name": "stderr",
     "output_type": "stream",
     "text": [
      " 90%|█████████ | 18/20 [07:20<01:09, 34.50s/it]"
     ]
    },
    {
     "name": "stdout",
     "output_type": "stream",
     "text": [
      "{'method': 'parquet', 'save_time': 28.956976175308228, 'read_time': 0.6442868947982788, 'file_size': 217.89891529083252, 'compression': 'lz4', 'compression_level': 18}\n"
     ]
    },
    {
     "name": "stderr",
     "output_type": "stream",
     "text": [
      " 95%|█████████▌| 19/20 [07:55<00:34, 34.74s/it]"
     ]
    },
    {
     "name": "stdout",
     "output_type": "stream",
     "text": [
      "{'method': 'parquet', 'save_time': 28.874755859375, 'read_time': 0.6422530174255371, 'file_size': 217.89891529083252, 'compression': 'lz4', 'compression_level': 19}\n"
     ]
    },
    {
     "name": "stderr",
     "output_type": "stream",
     "text": [
      "100%|██████████| 20/20 [08:30<00:00, 25.54s/it]"
     ]
    },
    {
     "name": "stdout",
     "output_type": "stream",
     "text": [
      "{'method': 'parquet', 'save_time': 28.945737838745117, 'read_time': 0.6439600944519043, 'file_size': 217.89891529083252, 'compression': 'lz4', 'compression_level': 20}\n"
     ]
    },
    {
     "name": "stderr",
     "output_type": "stream",
     "text": [
      "\n"
     ]
    }
   ],
   "source": [
    "# parquet, lz4\n",
    "for cl in tqdm(range(1, 21)):\n",
    "    r = evaluate_performance(df, \"parquet\", compression=\"lz4\", compression_level=cl)\n",
    "    print(r)\n",
    "    eval_results.append(r)"
   ]
  },
  {
   "cell_type": "code",
   "execution_count": 9,
   "metadata": {},
   "outputs": [
    {
     "name": "stderr",
     "output_type": "stream",
     "text": [
      "  5%|▌         | 1/20 [00:08<02:50,  8.95s/it]"
     ]
    },
    {
     "name": "stdout",
     "output_type": "stream",
     "text": [
      "{'method': 'feather', 'save_time': 1.3659017086029053, 'read_time': 0.758134388923645, 'file_size': 203.28154182434082, 'compression': 'zstd', 'compression_level': 1}\n"
     ]
    },
    {
     "name": "stderr",
     "output_type": "stream",
     "text": [
      " 10%|█         | 2/20 [00:19<02:54,  9.71s/it]"
     ]
    },
    {
     "name": "stdout",
     "output_type": "stream",
     "text": [
      "{'method': 'feather', 'save_time': 1.9289109706878662, 'read_time': 0.8319602966308594, 'file_size': 188.03924751281738, 'compression': 'zstd', 'compression_level': 2}\n"
     ]
    },
    {
     "name": "stderr",
     "output_type": "stream",
     "text": [
      " 15%|█▌        | 3/20 [00:29<02:51, 10.08s/it]"
     ]
    },
    {
     "name": "stdout",
     "output_type": "stream",
     "text": [
      "{'method': 'feather', 'save_time': 2.118134021759033, 'read_time': 0.8396064043045044, 'file_size': 178.33611488342285, 'compression': 'zstd', 'compression_level': 3}\n"
     ]
    },
    {
     "name": "stderr",
     "output_type": "stream",
     "text": [
      " 20%|██        | 4/20 [00:40<02:44, 10.27s/it]"
     ]
    },
    {
     "name": "stdout",
     "output_type": "stream",
     "text": [
      "{'method': 'feather', 'save_time': 2.1852591037750244, 'read_time': 0.8379509687423706, 'file_size': 174.79282569885254, 'compression': 'zstd', 'compression_level': 4}\n"
     ]
    },
    {
     "name": "stderr",
     "output_type": "stream",
     "text": [
      " 25%|██▌       | 5/20 [00:52<02:44, 10.96s/it]"
     ]
    },
    {
     "name": "stdout",
     "output_type": "stream",
     "text": [
      "{'method': 'feather', 'save_time': 3.6861913204193115, 'read_time': 0.8503822803497314, 'file_size': 169.25403022766113, 'compression': 'zstd', 'compression_level': 5}\n"
     ]
    },
    {
     "name": "stderr",
     "output_type": "stream",
     "text": [
      " 30%|███       | 6/20 [01:05<02:45, 11.82s/it]"
     ]
    },
    {
     "name": "stdout",
     "output_type": "stream",
     "text": [
      "{'method': 'feather', 'save_time': 5.286766052246094, 'read_time': 0.8181221961975098, 'file_size': 163.3628101348877, 'compression': 'zstd', 'compression_level': 6}\n"
     ]
    },
    {
     "name": "stderr",
     "output_type": "stream",
     "text": [
      " 35%|███▌      | 7/20 [01:20<02:43, 12.62s/it]"
     ]
    },
    {
     "name": "stdout",
     "output_type": "stream",
     "text": [
      "{'method': 'feather', 'save_time': 6.230818033218384, 'read_time': 0.8027096033096314, 'file_size': 159.58596992492676, 'compression': 'zstd', 'compression_level': 7}\n"
     ]
    },
    {
     "name": "stderr",
     "output_type": "stream",
     "text": [
      " 40%|████      | 8/20 [01:36<02:43, 13.65s/it]"
     ]
    },
    {
     "name": "stdout",
     "output_type": "stream",
     "text": [
      "{'method': 'feather', 'save_time': 8.04234528541565, 'read_time': 0.7806519746780396, 'file_size': 157.31350135803223, 'compression': 'zstd', 'compression_level': 8}\n"
     ]
    },
    {
     "name": "stderr",
     "output_type": "stream",
     "text": [
      " 45%|████▌     | 9/20 [01:51<02:37, 14.31s/it]"
     ]
    },
    {
     "name": "stdout",
     "output_type": "stream",
     "text": [
      "{'method': 'feather', 'save_time': 8.042502164840698, 'read_time': 0.7712942838668824, 'file_size': 153.5480670928955, 'compression': 'zstd', 'compression_level': 9}\n"
     ]
    },
    {
     "name": "stderr",
     "output_type": "stream",
     "text": [
      " 50%|█████     | 10/20 [02:10<02:36, 15.60s/it]"
     ]
    },
    {
     "name": "stdout",
     "output_type": "stream",
     "text": [
      "{'method': 'feather', 'save_time': 10.937083721160889, 'read_time': 0.7562822103500366, 'file_size': 150.4430332183838, 'compression': 'zstd', 'compression_level': 10}\n"
     ]
    },
    {
     "name": "stderr",
     "output_type": "stream",
     "text": [
      " 55%|█████▌    | 11/20 [02:32<02:39, 17.76s/it]"
     ]
    },
    {
     "name": "stdout",
     "output_type": "stream",
     "text": [
      "{'method': 'feather', 'save_time': 15.215730905532837, 'read_time': 0.7433353900909424, 'file_size': 148.66246223449707, 'compression': 'zstd', 'compression_level': 11}\n"
     ]
    },
    {
     "name": "stderr",
     "output_type": "stream",
     "text": [
      " 60%|██████    | 12/20 [02:57<02:37, 19.69s/it]"
     ]
    },
    {
     "name": "stdout",
     "output_type": "stream",
     "text": [
      "{'method': 'feather', 'save_time': 16.657838821411133, 'read_time': 0.744694185256958, 'file_size': 148.19056129455566, 'compression': 'zstd', 'compression_level': 12}\n"
     ]
    },
    {
     "name": "stderr",
     "output_type": "stream",
     "text": [
      " 65%|██████▌   | 13/20 [03:47<03:23, 29.14s/it]"
     ]
    },
    {
     "name": "stdout",
     "output_type": "stream",
     "text": [
      "{'method': 'feather', 'save_time': 43.371659994125366, 'read_time': 0.7497128963470459, 'file_size': 146.080171585083, 'compression': 'zstd', 'compression_level': 13}\n"
     ]
    },
    {
     "name": "stderr",
     "output_type": "stream",
     "text": [
      " 70%|███████   | 14/20 [04:50<03:55, 39.19s/it]"
     ]
    },
    {
     "name": "stdout",
     "output_type": "stream",
     "text": [
      "{'method': 'feather', 'save_time': 55.01982116699219, 'read_time': 0.7415153026580811, 'file_size': 144.4615421295166, 'compression': 'zstd', 'compression_level': 14}\n"
     ]
    },
    {
     "name": "stderr",
     "output_type": "stream",
     "text": [
      " 75%|███████▌  | 15/20 [06:29<04:46, 57.23s/it]"
     ]
    },
    {
     "name": "stdout",
     "output_type": "stream",
     "text": [
      "{'method': 'feather', 'save_time': 91.66012907028198, 'read_time': 0.7364465951919555, 'file_size': 142.21407508850098, 'compression': 'zstd', 'compression_level': 15}\n"
     ]
    },
    {
     "name": "stderr",
     "output_type": "stream",
     "text": [
      " 80%|████████  | 16/20 [07:56<04:25, 66.36s/it]"
     ]
    },
    {
     "name": "stdout",
     "output_type": "stream",
     "text": [
      "{'method': 'feather', 'save_time': 80.07639598846436, 'read_time': 0.7488458156585693, 'file_size': 137.54537391662598, 'compression': 'zstd', 'compression_level': 16}\n"
     ]
    },
    {
     "name": "stderr",
     "output_type": "stream",
     "text": [
      " 85%|████████▌ | 17/20 [10:09<04:19, 86.35s/it]"
     ]
    },
    {
     "name": "stdout",
     "output_type": "stream",
     "text": [
      "{'method': 'feather', 'save_time': 125.38843894004822, 'read_time': 0.7451626062393188, 'file_size': 132.2216968536377, 'compression': 'zstd', 'compression_level': 17}\n"
     ]
    },
    {
     "name": "stderr",
     "output_type": "stream",
     "text": [
      " 90%|█████████ | 18/20 [12:43<03:33, 106.71s/it]"
     ]
    },
    {
     "name": "stdout",
     "output_type": "stream",
     "text": [
      "{'method': 'feather', 'save_time': 146.68037581443787, 'read_time': 0.74114511013031, 'file_size': 129.81019020080566, 'compression': 'zstd', 'compression_level': 18}\n"
     ]
    },
    {
     "name": "stderr",
     "output_type": "stream",
     "text": [
      " 95%|█████████▌| 19/20 [15:53<02:11, 131.66s/it]"
     ]
    },
    {
     "name": "stdout",
     "output_type": "stream",
     "text": [
      "{'method': 'feather', 'save_time': 182.27556467056274, 'read_time': 0.750898814201355, 'file_size': 128.0803165435791, 'compression': 'zstd', 'compression_level': 19}\n"
     ]
    },
    {
     "name": "stderr",
     "output_type": "stream",
     "text": [
      "100%|██████████| 20/20 [19:48<00:00, 59.42s/it] "
     ]
    },
    {
     "name": "stdout",
     "output_type": "stream",
     "text": [
      "{'method': 'feather', 'save_time': 227.16688799858093, 'read_time': 0.7431152105331421, 'file_size': 119.38253974914551, 'compression': 'zstd', 'compression_level': 20}\n"
     ]
    },
    {
     "name": "stderr",
     "output_type": "stream",
     "text": [
      "\n"
     ]
    }
   ],
   "source": [
    "# feather, zstd\n",
    "for cl in tqdm(range(1, 21)):\n",
    "    r = evaluate_performance(df, \"feather\", compression=\"zstd\", compression_level=cl)\n",
    "    print(r)\n",
    "    eval_results.append(r)"
   ]
  },
  {
   "cell_type": "code",
   "execution_count": 10,
   "metadata": {},
   "outputs": [
    {
     "name": "stderr",
     "output_type": "stream",
     "text": [
      "  5%|▌         | 1/20 [00:06<02:02,  6.42s/it]"
     ]
    },
    {
     "name": "stdout",
     "output_type": "stream",
     "text": [
      "{'method': 'feather', 'save_time': 1.2404112815856934, 'read_time': 0.5180318117141723, 'file_size': 299.81385231018066, 'compression': 'lz4', 'compression_level': 1}\n"
     ]
    },
    {
     "name": "stderr",
     "output_type": "stream",
     "text": [
      " 10%|█         | 2/20 [00:12<01:54,  6.38s/it]"
     ]
    },
    {
     "name": "stdout",
     "output_type": "stream",
     "text": [
      "{'method': 'feather', 'save_time': 1.2343418598175049, 'read_time': 0.5106603860855102, 'file_size': 299.81385231018066, 'compression': 'lz4', 'compression_level': 2}\n"
     ]
    },
    {
     "name": "stderr",
     "output_type": "stream",
     "text": [
      " 15%|█▌        | 3/20 [00:23<02:19,  8.19s/it]"
     ]
    },
    {
     "name": "stdout",
     "output_type": "stream",
     "text": [
      "{'method': 'feather', 'save_time': 5.111583232879639, 'read_time': 0.5237424850463868, 'file_size': 229.60533332824707, 'compression': 'lz4', 'compression_level': 3}\n"
     ]
    },
    {
     "name": "stderr",
     "output_type": "stream",
     "text": [
      " 20%|██        | 4/20 [00:35<02:34,  9.67s/it]"
     ]
    },
    {
     "name": "stdout",
     "output_type": "stream",
     "text": [
      "{'method': 'feather', 'save_time': 6.697415113449097, 'read_time': 0.5230430126190185, 'file_size': 224.1416187286377, 'compression': 'lz4', 'compression_level': 4}\n"
     ]
    },
    {
     "name": "stderr",
     "output_type": "stream",
     "text": [
      " 25%|██▌       | 5/20 [00:48<02:47, 11.17s/it]"
     ]
    },
    {
     "name": "stdout",
     "output_type": "stream",
     "text": [
      "{'method': 'feather', 'save_time': 8.645272016525269, 'read_time': 0.517979907989502, 'file_size': 221.22650337219238, 'compression': 'lz4', 'compression_level': 5}\n"
     ]
    },
    {
     "name": "stderr",
     "output_type": "stream",
     "text": [
      " 30%|███       | 6/20 [01:04<02:58, 12.77s/it]"
     ]
    },
    {
     "name": "stdout",
     "output_type": "stream",
     "text": [
      "{'method': 'feather', 'save_time': 10.630670070648193, 'read_time': 0.524041223526001, 'file_size': 219.92561531066895, 'compression': 'lz4', 'compression_level': 6}\n"
     ]
    },
    {
     "name": "stderr",
     "output_type": "stream",
     "text": [
      " 35%|███▌      | 7/20 [01:22<03:07, 14.40s/it]"
     ]
    },
    {
     "name": "stdout",
     "output_type": "stream",
     "text": [
      "{'method': 'feather', 'save_time': 12.552356719970703, 'read_time': 0.5198963165283204, 'file_size': 219.39285469055176, 'compression': 'lz4', 'compression_level': 7}\n"
     ]
    },
    {
     "name": "stderr",
     "output_type": "stream",
     "text": [
      " 40%|████      | 8/20 [01:41<03:11, 15.93s/it]"
     ]
    },
    {
     "name": "stdout",
     "output_type": "stream",
     "text": [
      "{'method': 'feather', 'save_time': 14.0329430103302, 'read_time': 0.5181215047836304, 'file_size': 219.1904010772705, 'compression': 'lz4', 'compression_level': 8}\n"
     ]
    },
    {
     "name": "stderr",
     "output_type": "stream",
     "text": [
      " 45%|████▌     | 9/20 [02:02<03:11, 17.38s/it]"
     ]
    },
    {
     "name": "stdout",
     "output_type": "stream",
     "text": [
      "{'method': 'feather', 'save_time': 15.353935956954956, 'read_time': 0.5202113866806031, 'file_size': 219.07815742492676, 'compression': 'lz4', 'compression_level': 9}\n"
     ]
    },
    {
     "name": "stderr",
     "output_type": "stream",
     "text": [
      " 50%|█████     | 10/20 [02:28<03:20, 20.09s/it]"
     ]
    },
    {
     "name": "stdout",
     "output_type": "stream",
     "text": [
      "{'method': 'feather', 'save_time': 21.00790500640869, 'read_time': 0.5163185834884644, 'file_size': 217.88507270812988, 'compression': 'lz4', 'compression_level': 10}\n"
     ]
    },
    {
     "name": "stderr",
     "output_type": "stream",
     "text": [
      " 55%|█████▌    | 11/20 [02:59<03:29, 23.30s/it]"
     ]
    },
    {
     "name": "stdout",
     "output_type": "stream",
     "text": [
      "{'method': 'feather', 'save_time': 25.374151945114136, 'read_time': 0.5185709238052368, 'file_size': 217.48253059387207, 'compression': 'lz4', 'compression_level': 11}\n"
     ]
    },
    {
     "name": "stderr",
     "output_type": "stream",
     "text": [
      " 60%|██████    | 12/20 [03:35<03:37, 27.21s/it]"
     ]
    },
    {
     "name": "stdout",
     "output_type": "stream",
     "text": [
      "{'method': 'feather', 'save_time': 30.92774486541748, 'read_time': 0.5222226142883301, 'file_size': 217.457124710083, 'compression': 'lz4', 'compression_level': 12}\n"
     ]
    },
    {
     "name": "stderr",
     "output_type": "stream",
     "text": [
      " 65%|██████▌   | 13/20 [04:11<03:29, 29.90s/it]"
     ]
    },
    {
     "name": "stdout",
     "output_type": "stream",
     "text": [
      "{'method': 'feather', 'save_time': 30.962579011917114, 'read_time': 0.5129292011260986, 'file_size': 217.457124710083, 'compression': 'lz4', 'compression_level': 13}\n"
     ]
    },
    {
     "name": "stderr",
     "output_type": "stream",
     "text": [
      " 70%|███████   | 14/20 [04:47<03:10, 31.74s/it]"
     ]
    },
    {
     "name": "stdout",
     "output_type": "stream",
     "text": [
      "{'method': 'feather', 'save_time': 30.85590386390686, 'read_time': 0.5128146886825562, 'file_size': 217.457124710083, 'compression': 'lz4', 'compression_level': 14}\n"
     ]
    },
    {
     "name": "stderr",
     "output_type": "stream",
     "text": [
      " 75%|███████▌  | 15/20 [05:23<02:45, 33.04s/it]"
     ]
    },
    {
     "name": "stdout",
     "output_type": "stream",
     "text": [
      "{'method': 'feather', 'save_time': 30.91698718070984, 'read_time': 0.5137624740600586, 'file_size': 217.457124710083, 'compression': 'lz4', 'compression_level': 15}\n"
     ]
    },
    {
     "name": "stderr",
     "output_type": "stream",
     "text": [
      " 80%|████████  | 16/20 [05:59<02:15, 33.91s/it]"
     ]
    },
    {
     "name": "stdout",
     "output_type": "stream",
     "text": [
      "{'method': 'feather', 'save_time': 30.788990020751953, 'read_time': 0.512905502319336, 'file_size': 217.457124710083, 'compression': 'lz4', 'compression_level': 16}\n"
     ]
    },
    {
     "name": "stderr",
     "output_type": "stream",
     "text": [
      " 85%|████████▌ | 17/20 [06:35<01:43, 34.53s/it]"
     ]
    },
    {
     "name": "stdout",
     "output_type": "stream",
     "text": [
      "{'method': 'feather', 'save_time': 30.855582237243652, 'read_time': 0.5129684925079345, 'file_size': 217.457124710083, 'compression': 'lz4', 'compression_level': 17}\n"
     ]
    },
    {
     "name": "stderr",
     "output_type": "stream",
     "text": [
      " 90%|█████████ | 18/20 [07:11<01:09, 34.97s/it]"
     ]
    },
    {
     "name": "stdout",
     "output_type": "stream",
     "text": [
      "{'method': 'feather', 'save_time': 30.854987144470215, 'read_time': 0.5146545886993408, 'file_size': 217.457124710083, 'compression': 'lz4', 'compression_level': 18}\n"
     ]
    },
    {
     "name": "stderr",
     "output_type": "stream",
     "text": [
      " 95%|█████████▌| 19/20 [07:47<00:35, 35.28s/it]"
     ]
    },
    {
     "name": "stdout",
     "output_type": "stream",
     "text": [
      "{'method': 'feather', 'save_time': 30.856679916381836, 'read_time': 0.5138850927352905, 'file_size': 217.457124710083, 'compression': 'lz4', 'compression_level': 19}\n"
     ]
    },
    {
     "name": "stderr",
     "output_type": "stream",
     "text": [
      "100%|██████████| 20/20 [08:23<00:00, 25.16s/it]"
     ]
    },
    {
     "name": "stdout",
     "output_type": "stream",
     "text": [
      "{'method': 'feather', 'save_time': 30.903788089752197, 'read_time': 0.5150339126586914, 'file_size': 217.457124710083, 'compression': 'lz4', 'compression_level': 20}\n"
     ]
    },
    {
     "name": "stderr",
     "output_type": "stream",
     "text": [
      "\n"
     ]
    }
   ],
   "source": [
    "# feather, lz4\n",
    "for cl in tqdm(range(1, 21)):\n",
    "    r = evaluate_performance(df, \"feather\", compression=\"lz4\", compression_level=cl)\n",
    "    print(r)\n",
    "    eval_results.append(r)"
   ]
  },
  {
   "cell_type": "code",
   "execution_count": 11,
   "metadata": {},
   "outputs": [
    {
     "name": "stdout",
     "output_type": "stream",
     "text": [
      "{'method': 'parquet', 'save_time': 19.627086877822876, 'read_time': 1.7965444087982179, 'file_size': 189.7540044784546, 'compression': 'gzip'}\n",
      "{'method': 'parquet', 'save_time': 1.3376078605651855, 'read_time': 0.7331516027450562, 'file_size': 296.9213275909424, 'compression': 'snappy'}\n",
      "{'method': 'parquet', 'save_time': 1.3070762157440186, 'read_time': 0.6384718894958497, 'file_size': 299.8812093734741, 'compression': 'lz4'}\n",
      "{'method': 'parquet', 'save_time': 1.483922004699707, 'read_time': 0.8763885021209716, 'file_size': 205.0951271057129, 'compression': 'zstd'}\n",
      "{'method': 'parquet', 'save_time': 18.214473962783813, 'read_time': 1.545258593559265, 'file_size': 159.6326036453247, 'compression': 'brotli'}\n",
      "{'method': 'parquet', 'save_time': 1.3652260303497314, 'read_time': 0.7113039016723632, 'file_size': 296.9213275909424}\n"
     ]
    }
   ],
   "source": [
    "# parquet\n",
    "for c in [\"gzip\", \"snappy\", \"lz4\", \"zstd\", \"brotli\", None]:\n",
    "    r = evaluate_performance(df, \"parquet\", compression=c)\n",
    "    print(r)\n",
    "    eval_results.append(r)"
   ]
  },
  {
   "cell_type": "code",
   "execution_count": 12,
   "metadata": {},
   "outputs": [
    {
     "name": "stdout",
     "output_type": "stream",
     "text": [
      "{'method': 'feather', 'save_time': 1.2270021438598633, 'read_time': 0.5096915006637573, 'file_size': 299.81385231018066, 'compression': 'lz4'}\n",
      "{'method': 'feather', 'save_time': 1.355456829071045, 'read_time': 0.7567508935928344, 'file_size': 203.28154182434082, 'compression': 'zstd'}\n",
      "{'method': 'feather', 'save_time': 0.33922886848449707, 'read_time': 0.38898358345031736, 'file_size': 634.9402027130127, 'compression': 'uncompressed'}\n",
      "{'method': 'feather', 'save_time': 1.2628107070922852, 'read_time': 0.5181000232696533, 'file_size': 299.81385231018066}\n"
     ]
    }
   ],
   "source": [
    "# feather\n",
    "for c in [\"lz4\", \"zstd\", \"uncompressed\", None]:\n",
    "    r = evaluate_performance(df, \"feather\", compression=c)\n",
    "    print(r)\n",
    "    eval_results.append(r)"
   ]
  },
  {
   "cell_type": "code",
   "execution_count": 13,
   "metadata": {},
   "outputs": [
    {
     "name": "stdout",
     "output_type": "stream",
     "text": [
      "{'method': 'csv', 'save_time': 27.699738264083862, 'read_time': 5.631162214279175, 'file_size': 199.11504650115967, 'compression': 'zip'}\n",
      "{'method': 'csv', 'save_time': 31.161946773529053, 'read_time': 7.01388680934906, 'file_size': 198.55400371551514, 'compression': 'gzip'}\n",
      "{'method': 'csv', 'save_time': 62.240323066711426, 'read_time': 16.672200083732605, 'file_size': 153.71932125091553, 'compression': 'bz2'}\n",
      "{'method': 'csv', 'save_time': 12.84618878364563, 'read_time': 5.495090508460999, 'file_size': 184.9435920715332, 'compression': 'zstd'}\n",
      "{'method': 'csv', 'save_time': 211.0541648864746, 'read_time': 11.23839750289917, 'file_size': 131.52967834472656, 'compression': 'xz'}\n",
      "{'method': 'csv', 'save_time': 10.89088487625122, 'read_time': 4.963031196594239, 'file_size': 691.806640625, 'compression': 'tar'}\n",
      "{'method': 'csv', 'save_time': 10.828938961029053, 'read_time': 4.969729208946228, 'file_size': 691.7978973388672}\n"
     ]
    }
   ],
   "source": [
    "# csv\n",
    "for c in ['zip', 'gzip', 'bz2', 'zstd', 'xz', 'tar', None]:\n",
    "    r = evaluate_performance(df, \"csv\", compression=c)\n",
    "    print(r)\n",
    "    eval_results.append(r)"
   ]
  },
  {
   "cell_type": "code",
   "execution_count": 14,
   "metadata": {},
   "outputs": [
    {
     "data": {
      "text/html": [
       "<div>\n",
       "<style scoped>\n",
       "    .dataframe tbody tr th:only-of-type {\n",
       "        vertical-align: middle;\n",
       "    }\n",
       "\n",
       "    .dataframe tbody tr th {\n",
       "        vertical-align: top;\n",
       "    }\n",
       "\n",
       "    .dataframe thead th {\n",
       "        text-align: right;\n",
       "    }\n",
       "</style>\n",
       "<table border=\"1\" class=\"dataframe\">\n",
       "  <thead>\n",
       "    <tr style=\"text-align: right;\">\n",
       "      <th></th>\n",
       "      <th>method</th>\n",
       "      <th>save_time</th>\n",
       "      <th>read_time</th>\n",
       "      <th>file_size</th>\n",
       "      <th>compression</th>\n",
       "      <th>compression_level</th>\n",
       "    </tr>\n",
       "  </thead>\n",
       "  <tbody>\n",
       "    <tr>\n",
       "      <th>0</th>\n",
       "      <td>parquet</td>\n",
       "      <td>1.716843</td>\n",
       "      <td>0.958934</td>\n",
       "      <td>205.095127</td>\n",
       "      <td>zstd</td>\n",
       "      <td>1.0</td>\n",
       "    </tr>\n",
       "    <tr>\n",
       "      <th>1</th>\n",
       "      <td>parquet</td>\n",
       "      <td>2.163881</td>\n",
       "      <td>0.996808</td>\n",
       "      <td>190.350016</td>\n",
       "      <td>zstd</td>\n",
       "      <td>2.0</td>\n",
       "    </tr>\n",
       "    <tr>\n",
       "      <th>2</th>\n",
       "      <td>parquet</td>\n",
       "      <td>2.461648</td>\n",
       "      <td>1.010983</td>\n",
       "      <td>181.888956</td>\n",
       "      <td>zstd</td>\n",
       "      <td>3.0</td>\n",
       "    </tr>\n",
       "    <tr>\n",
       "      <th>3</th>\n",
       "      <td>parquet</td>\n",
       "      <td>2.551957</td>\n",
       "      <td>1.007971</td>\n",
       "      <td>179.640458</td>\n",
       "      <td>zstd</td>\n",
       "      <td>4.0</td>\n",
       "    </tr>\n",
       "    <tr>\n",
       "      <th>4</th>\n",
       "      <td>parquet</td>\n",
       "      <td>4.067563</td>\n",
       "      <td>1.028516</td>\n",
       "      <td>174.038219</td>\n",
       "      <td>zstd</td>\n",
       "      <td>5.0</td>\n",
       "    </tr>\n",
       "    <tr>\n",
       "      <th>...</th>\n",
       "      <td>...</td>\n",
       "      <td>...</td>\n",
       "      <td>...</td>\n",
       "      <td>...</td>\n",
       "      <td>...</td>\n",
       "      <td>...</td>\n",
       "    </tr>\n",
       "    <tr>\n",
       "      <th>92</th>\n",
       "      <td>csv</td>\n",
       "      <td>62.240323</td>\n",
       "      <td>16.672200</td>\n",
       "      <td>153.719321</td>\n",
       "      <td>bz2</td>\n",
       "      <td>NaN</td>\n",
       "    </tr>\n",
       "    <tr>\n",
       "      <th>93</th>\n",
       "      <td>csv</td>\n",
       "      <td>12.846189</td>\n",
       "      <td>5.495091</td>\n",
       "      <td>184.943592</td>\n",
       "      <td>zstd</td>\n",
       "      <td>NaN</td>\n",
       "    </tr>\n",
       "    <tr>\n",
       "      <th>94</th>\n",
       "      <td>csv</td>\n",
       "      <td>211.054165</td>\n",
       "      <td>11.238398</td>\n",
       "      <td>131.529678</td>\n",
       "      <td>xz</td>\n",
       "      <td>NaN</td>\n",
       "    </tr>\n",
       "    <tr>\n",
       "      <th>95</th>\n",
       "      <td>csv</td>\n",
       "      <td>10.890885</td>\n",
       "      <td>4.963031</td>\n",
       "      <td>691.806641</td>\n",
       "      <td>tar</td>\n",
       "      <td>NaN</td>\n",
       "    </tr>\n",
       "    <tr>\n",
       "      <th>96</th>\n",
       "      <td>csv</td>\n",
       "      <td>10.828939</td>\n",
       "      <td>4.969729</td>\n",
       "      <td>691.797897</td>\n",
       "      <td>NaN</td>\n",
       "      <td>NaN</td>\n",
       "    </tr>\n",
       "  </tbody>\n",
       "</table>\n",
       "<p>97 rows × 6 columns</p>\n",
       "</div>"
      ],
      "text/plain": [
       "     method   save_time  read_time   file_size compression  compression_level\n",
       "0   parquet    1.716843   0.958934  205.095127        zstd                1.0\n",
       "1   parquet    2.163881   0.996808  190.350016        zstd                2.0\n",
       "2   parquet    2.461648   1.010983  181.888956        zstd                3.0\n",
       "3   parquet    2.551957   1.007971  179.640458        zstd                4.0\n",
       "4   parquet    4.067563   1.028516  174.038219        zstd                5.0\n",
       "..      ...         ...        ...         ...         ...                ...\n",
       "92      csv   62.240323  16.672200  153.719321         bz2                NaN\n",
       "93      csv   12.846189   5.495091  184.943592        zstd                NaN\n",
       "94      csv  211.054165  11.238398  131.529678          xz                NaN\n",
       "95      csv   10.890885   4.963031  691.806641         tar                NaN\n",
       "96      csv   10.828939   4.969729  691.797897         NaN                NaN\n",
       "\n",
       "[97 rows x 6 columns]"
      ]
     },
     "execution_count": 14,
     "metadata": {},
     "output_type": "execute_result"
    }
   ],
   "source": [
    "df = pd.DataFrame(eval_results)\n",
    "df"
   ]
  },
  {
   "cell_type": "code",
   "execution_count": 15,
   "metadata": {},
   "outputs": [
    {
     "data": {
      "text/html": [
       "<div>\n",
       "<style scoped>\n",
       "    .dataframe tbody tr th:only-of-type {\n",
       "        vertical-align: middle;\n",
       "    }\n",
       "\n",
       "    .dataframe tbody tr th {\n",
       "        vertical-align: top;\n",
       "    }\n",
       "\n",
       "    .dataframe thead th {\n",
       "        text-align: right;\n",
       "    }\n",
       "</style>\n",
       "<table border=\"1\" class=\"dataframe\">\n",
       "  <thead>\n",
       "    <tr style=\"text-align: right;\">\n",
       "      <th></th>\n",
       "      <th>method</th>\n",
       "      <th>save_time</th>\n",
       "      <th>read_time</th>\n",
       "      <th>file_size</th>\n",
       "      <th>compression</th>\n",
       "      <th>compression_level</th>\n",
       "      <th>comp_ratio</th>\n",
       "    </tr>\n",
       "  </thead>\n",
       "  <tbody>\n",
       "    <tr>\n",
       "      <th>0</th>\n",
       "      <td>parquet</td>\n",
       "      <td>1.716843</td>\n",
       "      <td>0.958934</td>\n",
       "      <td>205.095127</td>\n",
       "      <td>zstd</td>\n",
       "      <td>1.0</td>\n",
       "      <td>3.829709</td>\n",
       "    </tr>\n",
       "    <tr>\n",
       "      <th>1</th>\n",
       "      <td>parquet</td>\n",
       "      <td>2.163881</td>\n",
       "      <td>0.996808</td>\n",
       "      <td>190.350016</td>\n",
       "      <td>zstd</td>\n",
       "      <td>2.0</td>\n",
       "      <td>4.126370</td>\n",
       "    </tr>\n",
       "    <tr>\n",
       "      <th>2</th>\n",
       "      <td>parquet</td>\n",
       "      <td>2.461648</td>\n",
       "      <td>1.010983</td>\n",
       "      <td>181.888956</td>\n",
       "      <td>zstd</td>\n",
       "      <td>3.0</td>\n",
       "      <td>4.318320</td>\n",
       "    </tr>\n",
       "    <tr>\n",
       "      <th>3</th>\n",
       "      <td>parquet</td>\n",
       "      <td>2.551957</td>\n",
       "      <td>1.007971</td>\n",
       "      <td>179.640458</td>\n",
       "      <td>zstd</td>\n",
       "      <td>4.0</td>\n",
       "      <td>4.372371</td>\n",
       "    </tr>\n",
       "    <tr>\n",
       "      <th>4</th>\n",
       "      <td>parquet</td>\n",
       "      <td>4.067563</td>\n",
       "      <td>1.028516</td>\n",
       "      <td>174.038219</td>\n",
       "      <td>zstd</td>\n",
       "      <td>5.0</td>\n",
       "      <td>4.513116</td>\n",
       "    </tr>\n",
       "    <tr>\n",
       "      <th>...</th>\n",
       "      <td>...</td>\n",
       "      <td>...</td>\n",
       "      <td>...</td>\n",
       "      <td>...</td>\n",
       "      <td>...</td>\n",
       "      <td>...</td>\n",
       "      <td>...</td>\n",
       "    </tr>\n",
       "    <tr>\n",
       "      <th>92</th>\n",
       "      <td>csv</td>\n",
       "      <td>62.240323</td>\n",
       "      <td>16.672200</td>\n",
       "      <td>153.719321</td>\n",
       "      <td>bz2</td>\n",
       "      <td>NaN</td>\n",
       "      <td>5.109668</td>\n",
       "    </tr>\n",
       "    <tr>\n",
       "      <th>93</th>\n",
       "      <td>csv</td>\n",
       "      <td>12.846189</td>\n",
       "      <td>5.495091</td>\n",
       "      <td>184.943592</td>\n",
       "      <td>zstd</td>\n",
       "      <td>NaN</td>\n",
       "      <td>4.246996</td>\n",
       "    </tr>\n",
       "    <tr>\n",
       "      <th>94</th>\n",
       "      <td>csv</td>\n",
       "      <td>211.054165</td>\n",
       "      <td>11.238398</td>\n",
       "      <td>131.529678</td>\n",
       "      <td>xz</td>\n",
       "      <td>NaN</td>\n",
       "      <td>5.971692</td>\n",
       "    </tr>\n",
       "    <tr>\n",
       "      <th>95</th>\n",
       "      <td>csv</td>\n",
       "      <td>10.890885</td>\n",
       "      <td>4.963031</td>\n",
       "      <td>691.806641</td>\n",
       "      <td>tar</td>\n",
       "      <td>NaN</td>\n",
       "      <td>1.135367</td>\n",
       "    </tr>\n",
       "    <tr>\n",
       "      <th>96</th>\n",
       "      <td>csv</td>\n",
       "      <td>10.828939</td>\n",
       "      <td>4.969729</td>\n",
       "      <td>691.797897</td>\n",
       "      <td>NaN</td>\n",
       "      <td>NaN</td>\n",
       "      <td>1.135382</td>\n",
       "    </tr>\n",
       "  </tbody>\n",
       "</table>\n",
       "<p>97 rows × 7 columns</p>\n",
       "</div>"
      ],
      "text/plain": [
       "     method   save_time  read_time   file_size compression  compression_level  \\\n",
       "0   parquet    1.716843   0.958934  205.095127        zstd                1.0   \n",
       "1   parquet    2.163881   0.996808  190.350016        zstd                2.0   \n",
       "2   parquet    2.461648   1.010983  181.888956        zstd                3.0   \n",
       "3   parquet    2.551957   1.007971  179.640458        zstd                4.0   \n",
       "4   parquet    4.067563   1.028516  174.038219        zstd                5.0   \n",
       "..      ...         ...        ...         ...         ...                ...   \n",
       "92      csv   62.240323  16.672200  153.719321         bz2                NaN   \n",
       "93      csv   12.846189   5.495091  184.943592        zstd                NaN   \n",
       "94      csv  211.054165  11.238398  131.529678          xz                NaN   \n",
       "95      csv   10.890885   4.963031  691.806641         tar                NaN   \n",
       "96      csv   10.828939   4.969729  691.797897         NaN                NaN   \n",
       "\n",
       "    comp_ratio  \n",
       "0     3.829709  \n",
       "1     4.126370  \n",
       "2     4.318320  \n",
       "3     4.372371  \n",
       "4     4.513116  \n",
       "..         ...  \n",
       "92    5.109668  \n",
       "93    4.246996  \n",
       "94    5.971692  \n",
       "95    1.135367  \n",
       "96    1.135382  \n",
       "\n",
       "[97 rows x 7 columns]"
      ]
     },
     "execution_count": 15,
     "metadata": {},
     "output_type": "execute_result"
    }
   ],
   "source": [
    "df[\"comp_ratio\"] = mem_size_mb / df[\"file_size\"]\n",
    "df"
   ]
  },
  {
   "cell_type": "code",
   "execution_count": 16,
   "metadata": {},
   "outputs": [],
   "source": [
    "df.to_pickle(\"./data/test_results_02.pkl.gz\", compression=\"gzip\")"
   ]
  },
  {
   "cell_type": "code",
   "execution_count": null,
   "metadata": {},
   "outputs": [],
   "source": []
  }
 ],
 "metadata": {
  "kernelspec": {
   "display_name": ".venv",
   "language": "python",
   "name": "python3"
  },
  "language_info": {
   "codemirror_mode": {
    "name": "ipython",
    "version": 3
   },
   "file_extension": ".py",
   "mimetype": "text/x-python",
   "name": "python",
   "nbconvert_exporter": "python",
   "pygments_lexer": "ipython3",
   "version": "3.11.9"
  }
 },
 "nbformat": 4,
 "nbformat_minor": 2
}
