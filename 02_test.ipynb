{
 "cells": [
  {
   "cell_type": "code",
   "execution_count": 1,
   "metadata": {},
   "outputs": [],
   "source": [
    "import pandas as pd\n",
    "import time\n",
    "from typing import Literal\n",
    "from functools import partial\n",
    "from typing import Optional\n",
    "import os\n",
    "from tqdm import tqdm"
   ]
  },
  {
   "cell_type": "code",
   "execution_count": 2,
   "metadata": {},
   "outputs": [
    {
     "data": {
      "text/html": [
       "<div>\n",
       "<style scoped>\n",
       "    .dataframe tbody tr th:only-of-type {\n",
       "        vertical-align: middle;\n",
       "    }\n",
       "\n",
       "    .dataframe tbody tr th {\n",
       "        vertical-align: top;\n",
       "    }\n",
       "\n",
       "    .dataframe thead th {\n",
       "        text-align: right;\n",
       "    }\n",
       "</style>\n",
       "<table border=\"1\" class=\"dataframe\">\n",
       "  <thead>\n",
       "    <tr style=\"text-align: right;\">\n",
       "      <th></th>\n",
       "      <th>text</th>\n",
       "      <th>uuid</th>\n",
       "      <th>int_0</th>\n",
       "      <th>int_1</th>\n",
       "      <th>int_2</th>\n",
       "      <th>int_3</th>\n",
       "      <th>int_4</th>\n",
       "      <th>int_5</th>\n",
       "      <th>int_6</th>\n",
       "      <th>int_7</th>\n",
       "      <th>...</th>\n",
       "      <th>float_10</th>\n",
       "      <th>float_11</th>\n",
       "      <th>float_12</th>\n",
       "      <th>float_13</th>\n",
       "      <th>float_14</th>\n",
       "      <th>float_15</th>\n",
       "      <th>float_16</th>\n",
       "      <th>float_17</th>\n",
       "      <th>float_18</th>\n",
       "      <th>float_19</th>\n",
       "    </tr>\n",
       "  </thead>\n",
       "  <tbody>\n",
       "    <tr>\n",
       "      <th>0</th>\n",
       "      <td>Write an article based on this \"A man has been...</td>\n",
       "      <td>b54b3d34-3f6f-4c0b-a210-69da1379c571</td>\n",
       "      <td>738</td>\n",
       "      <td>-4336</td>\n",
       "      <td>9460</td>\n",
       "      <td>1471</td>\n",
       "      <td>-7503</td>\n",
       "      <td>2256</td>\n",
       "      <td>2584</td>\n",
       "      <td>-7753</td>\n",
       "      <td>...</td>\n",
       "      <td>-7199.994733</td>\n",
       "      <td>-9980.010534</td>\n",
       "      <td>8313.739502</td>\n",
       "      <td>-281.719533</td>\n",
       "      <td>2265.228975</td>\n",
       "      <td>-4379.18087</td>\n",
       "      <td>-6003.950693</td>\n",
       "      <td>-1099.742199</td>\n",
       "      <td>8478.982152</td>\n",
       "      <td>-8314.523325</td>\n",
       "    </tr>\n",
       "    <tr>\n",
       "      <th>1</th>\n",
       "      <td>Answer the following question: - number is 54 ...</td>\n",
       "      <td>89d56dd6-d0c1-4044-8d1e-ef62b74eab3a</td>\n",
       "      <td>738</td>\n",
       "      <td>-4336</td>\n",
       "      <td>9460</td>\n",
       "      <td>1471</td>\n",
       "      <td>-7503</td>\n",
       "      <td>2256</td>\n",
       "      <td>2584</td>\n",
       "      <td>-7753</td>\n",
       "      <td>...</td>\n",
       "      <td>-7199.994733</td>\n",
       "      <td>-9980.010534</td>\n",
       "      <td>8313.739502</td>\n",
       "      <td>-281.719533</td>\n",
       "      <td>2265.228975</td>\n",
       "      <td>-4379.18087</td>\n",
       "      <td>-6003.950693</td>\n",
       "      <td>-1099.742199</td>\n",
       "      <td>8478.982152</td>\n",
       "      <td>-8314.523325</td>\n",
       "    </tr>\n",
       "    <tr>\n",
       "      <th>2</th>\n",
       "      <td>Produce a long descriptive sentence that uses ...</td>\n",
       "      <td>9125dfea-83c2-45cd-b286-57d534ff19a9</td>\n",
       "      <td>738</td>\n",
       "      <td>-4336</td>\n",
       "      <td>9460</td>\n",
       "      <td>1471</td>\n",
       "      <td>-7503</td>\n",
       "      <td>2256</td>\n",
       "      <td>2584</td>\n",
       "      <td>-7753</td>\n",
       "      <td>...</td>\n",
       "      <td>-7199.994733</td>\n",
       "      <td>-9980.010534</td>\n",
       "      <td>8313.739502</td>\n",
       "      <td>-281.719533</td>\n",
       "      <td>2265.228975</td>\n",
       "      <td>-4379.18087</td>\n",
       "      <td>-6003.950693</td>\n",
       "      <td>-1099.742199</td>\n",
       "      <td>8478.982152</td>\n",
       "      <td>-8314.523325</td>\n",
       "    </tr>\n",
       "    <tr>\n",
       "      <th>3</th>\n",
       "      <td>Write a title for this article:\\n\\nArbitration...</td>\n",
       "      <td>bca11522-af6b-400a-b972-7a08acabc5be</td>\n",
       "      <td>738</td>\n",
       "      <td>-4336</td>\n",
       "      <td>9460</td>\n",
       "      <td>1471</td>\n",
       "      <td>-7503</td>\n",
       "      <td>2256</td>\n",
       "      <td>2584</td>\n",
       "      <td>-7753</td>\n",
       "      <td>...</td>\n",
       "      <td>-7199.994733</td>\n",
       "      <td>-9980.010534</td>\n",
       "      <td>8313.739502</td>\n",
       "      <td>-281.719533</td>\n",
       "      <td>2265.228975</td>\n",
       "      <td>-4379.18087</td>\n",
       "      <td>-6003.950693</td>\n",
       "      <td>-1099.742199</td>\n",
       "      <td>8478.982152</td>\n",
       "      <td>-8314.523325</td>\n",
       "    </tr>\n",
       "    <tr>\n",
       "      <th>4</th>\n",
       "      <td>Read the following paragraph and determine if ...</td>\n",
       "      <td>1ab891c2-dfd8-429d-8c02-f315a52f0af9</td>\n",
       "      <td>738</td>\n",
       "      <td>-4336</td>\n",
       "      <td>9460</td>\n",
       "      <td>1471</td>\n",
       "      <td>-7503</td>\n",
       "      <td>2256</td>\n",
       "      <td>2584</td>\n",
       "      <td>-7753</td>\n",
       "      <td>...</td>\n",
       "      <td>-7199.994733</td>\n",
       "      <td>-9980.010534</td>\n",
       "      <td>8313.739502</td>\n",
       "      <td>-281.719533</td>\n",
       "      <td>2265.228975</td>\n",
       "      <td>-4379.18087</td>\n",
       "      <td>-6003.950693</td>\n",
       "      <td>-1099.742199</td>\n",
       "      <td>8478.982152</td>\n",
       "      <td>-8314.523325</td>\n",
       "    </tr>\n",
       "    <tr>\n",
       "      <th>...</th>\n",
       "      <td>...</td>\n",
       "      <td>...</td>\n",
       "      <td>...</td>\n",
       "      <td>...</td>\n",
       "      <td>...</td>\n",
       "      <td>...</td>\n",
       "      <td>...</td>\n",
       "      <td>...</td>\n",
       "      <td>...</td>\n",
       "      <td>...</td>\n",
       "      <td>...</td>\n",
       "      <td>...</td>\n",
       "      <td>...</td>\n",
       "      <td>...</td>\n",
       "      <td>...</td>\n",
       "      <td>...</td>\n",
       "      <td>...</td>\n",
       "      <td>...</td>\n",
       "      <td>...</td>\n",
       "      <td>...</td>\n",
       "      <td>...</td>\n",
       "    </tr>\n",
       "    <tr>\n",
       "      <th>363486</th>\n",
       "      <td>Q: Context: Dragon Ball Z (ドラゴンボール ゼット, Dorago...</td>\n",
       "      <td>4facf7ca-4560-4e3a-96d6-51ce3df041a4</td>\n",
       "      <td>738</td>\n",
       "      <td>-4336</td>\n",
       "      <td>9460</td>\n",
       "      <td>1471</td>\n",
       "      <td>-7503</td>\n",
       "      <td>2256</td>\n",
       "      <td>2584</td>\n",
       "      <td>-7753</td>\n",
       "      <td>...</td>\n",
       "      <td>-7199.994733</td>\n",
       "      <td>-9980.010534</td>\n",
       "      <td>8313.739502</td>\n",
       "      <td>-281.719533</td>\n",
       "      <td>2265.228975</td>\n",
       "      <td>-4379.18087</td>\n",
       "      <td>-6003.950693</td>\n",
       "      <td>-1099.742199</td>\n",
       "      <td>8478.982152</td>\n",
       "      <td>-8314.523325</td>\n",
       "    </tr>\n",
       "    <tr>\n",
       "      <th>363487</th>\n",
       "      <td>My question is: At the beginning of an academi...</td>\n",
       "      <td>df1bfb0b-bd20-4dc1-8c43-324fc01cfcf9</td>\n",
       "      <td>738</td>\n",
       "      <td>-4336</td>\n",
       "      <td>9460</td>\n",
       "      <td>1471</td>\n",
       "      <td>-7503</td>\n",
       "      <td>2256</td>\n",
       "      <td>2584</td>\n",
       "      <td>-7753</td>\n",
       "      <td>...</td>\n",
       "      <td>-7199.994733</td>\n",
       "      <td>-9980.010534</td>\n",
       "      <td>8313.739502</td>\n",
       "      <td>-281.719533</td>\n",
       "      <td>2265.228975</td>\n",
       "      <td>-4379.18087</td>\n",
       "      <td>-6003.950693</td>\n",
       "      <td>-1099.742199</td>\n",
       "      <td>8478.982152</td>\n",
       "      <td>-8314.523325</td>\n",
       "    </tr>\n",
       "    <tr>\n",
       "      <th>363488</th>\n",
       "      <td>Leo: Given the sentence \"A small child in wate...</td>\n",
       "      <td>eda543d9-a684-481b-a4ca-3b3731df52a2</td>\n",
       "      <td>738</td>\n",
       "      <td>-4336</td>\n",
       "      <td>9460</td>\n",
       "      <td>1471</td>\n",
       "      <td>-7503</td>\n",
       "      <td>2256</td>\n",
       "      <td>2584</td>\n",
       "      <td>-7753</td>\n",
       "      <td>...</td>\n",
       "      <td>-7199.994733</td>\n",
       "      <td>-9980.010534</td>\n",
       "      <td>8313.739502</td>\n",
       "      <td>-281.719533</td>\n",
       "      <td>2265.228975</td>\n",
       "      <td>-4379.18087</td>\n",
       "      <td>-6003.950693</td>\n",
       "      <td>-1099.742199</td>\n",
       "      <td>8478.982152</td>\n",
       "      <td>-8314.523325</td>\n",
       "    </tr>\n",
       "    <tr>\n",
       "      <th>363489</th>\n",
       "      <td>Explain simply why yes is the correct answer t...</td>\n",
       "      <td>bfa3e117-443b-443a-9f54-09dc619b00c9</td>\n",
       "      <td>738</td>\n",
       "      <td>-4336</td>\n",
       "      <td>9460</td>\n",
       "      <td>1471</td>\n",
       "      <td>-7503</td>\n",
       "      <td>2256</td>\n",
       "      <td>2584</td>\n",
       "      <td>-7753</td>\n",
       "      <td>...</td>\n",
       "      <td>-7199.994733</td>\n",
       "      <td>-9980.010534</td>\n",
       "      <td>8313.739502</td>\n",
       "      <td>-281.719533</td>\n",
       "      <td>2265.228975</td>\n",
       "      <td>-4379.18087</td>\n",
       "      <td>-6003.950693</td>\n",
       "      <td>-1099.742199</td>\n",
       "      <td>8478.982152</td>\n",
       "      <td>-8314.523325</td>\n",
       "    </tr>\n",
       "    <tr>\n",
       "      <th>363490</th>\n",
       "      <td>**Q**\\nIs the following sentence factually cor...</td>\n",
       "      <td>ff9841dc-6ed6-4429-b2f5-e4cc44271bf9</td>\n",
       "      <td>738</td>\n",
       "      <td>-4336</td>\n",
       "      <td>9460</td>\n",
       "      <td>1471</td>\n",
       "      <td>-7503</td>\n",
       "      <td>2256</td>\n",
       "      <td>2584</td>\n",
       "      <td>-7753</td>\n",
       "      <td>...</td>\n",
       "      <td>-7199.994733</td>\n",
       "      <td>-9980.010534</td>\n",
       "      <td>8313.739502</td>\n",
       "      <td>-281.719533</td>\n",
       "      <td>2265.228975</td>\n",
       "      <td>-4379.18087</td>\n",
       "      <td>-6003.950693</td>\n",
       "      <td>-1099.742199</td>\n",
       "      <td>8478.982152</td>\n",
       "      <td>-8314.523325</td>\n",
       "    </tr>\n",
       "  </tbody>\n",
       "</table>\n",
       "<p>363491 rows × 42 columns</p>\n",
       "</div>"
      ],
      "text/plain": [
       "                                                     text  \\\n",
       "0       Write an article based on this \"A man has been...   \n",
       "1       Answer the following question: - number is 54 ...   \n",
       "2       Produce a long descriptive sentence that uses ...   \n",
       "3       Write a title for this article:\\n\\nArbitration...   \n",
       "4       Read the following paragraph and determine if ...   \n",
       "...                                                   ...   \n",
       "363486  Q: Context: Dragon Ball Z (ドラゴンボール ゼット, Dorago...   \n",
       "363487  My question is: At the beginning of an academi...   \n",
       "363488  Leo: Given the sentence \"A small child in wate...   \n",
       "363489  Explain simply why yes is the correct answer t...   \n",
       "363490  **Q**\\nIs the following sentence factually cor...   \n",
       "\n",
       "                                        uuid  int_0  int_1  int_2  int_3  \\\n",
       "0       b54b3d34-3f6f-4c0b-a210-69da1379c571    738  -4336   9460   1471   \n",
       "1       89d56dd6-d0c1-4044-8d1e-ef62b74eab3a    738  -4336   9460   1471   \n",
       "2       9125dfea-83c2-45cd-b286-57d534ff19a9    738  -4336   9460   1471   \n",
       "3       bca11522-af6b-400a-b972-7a08acabc5be    738  -4336   9460   1471   \n",
       "4       1ab891c2-dfd8-429d-8c02-f315a52f0af9    738  -4336   9460   1471   \n",
       "...                                      ...    ...    ...    ...    ...   \n",
       "363486  4facf7ca-4560-4e3a-96d6-51ce3df041a4    738  -4336   9460   1471   \n",
       "363487  df1bfb0b-bd20-4dc1-8c43-324fc01cfcf9    738  -4336   9460   1471   \n",
       "363488  eda543d9-a684-481b-a4ca-3b3731df52a2    738  -4336   9460   1471   \n",
       "363489  bfa3e117-443b-443a-9f54-09dc619b00c9    738  -4336   9460   1471   \n",
       "363490  ff9841dc-6ed6-4429-b2f5-e4cc44271bf9    738  -4336   9460   1471   \n",
       "\n",
       "        int_4  int_5  int_6  int_7  ...     float_10     float_11  \\\n",
       "0       -7503   2256   2584  -7753  ... -7199.994733 -9980.010534   \n",
       "1       -7503   2256   2584  -7753  ... -7199.994733 -9980.010534   \n",
       "2       -7503   2256   2584  -7753  ... -7199.994733 -9980.010534   \n",
       "3       -7503   2256   2584  -7753  ... -7199.994733 -9980.010534   \n",
       "4       -7503   2256   2584  -7753  ... -7199.994733 -9980.010534   \n",
       "...       ...    ...    ...    ...  ...          ...          ...   \n",
       "363486  -7503   2256   2584  -7753  ... -7199.994733 -9980.010534   \n",
       "363487  -7503   2256   2584  -7753  ... -7199.994733 -9980.010534   \n",
       "363488  -7503   2256   2584  -7753  ... -7199.994733 -9980.010534   \n",
       "363489  -7503   2256   2584  -7753  ... -7199.994733 -9980.010534   \n",
       "363490  -7503   2256   2584  -7753  ... -7199.994733 -9980.010534   \n",
       "\n",
       "           float_12    float_13     float_14    float_15     float_16  \\\n",
       "0       8313.739502 -281.719533  2265.228975 -4379.18087 -6003.950693   \n",
       "1       8313.739502 -281.719533  2265.228975 -4379.18087 -6003.950693   \n",
       "2       8313.739502 -281.719533  2265.228975 -4379.18087 -6003.950693   \n",
       "3       8313.739502 -281.719533  2265.228975 -4379.18087 -6003.950693   \n",
       "4       8313.739502 -281.719533  2265.228975 -4379.18087 -6003.950693   \n",
       "...             ...         ...          ...         ...          ...   \n",
       "363486  8313.739502 -281.719533  2265.228975 -4379.18087 -6003.950693   \n",
       "363487  8313.739502 -281.719533  2265.228975 -4379.18087 -6003.950693   \n",
       "363488  8313.739502 -281.719533  2265.228975 -4379.18087 -6003.950693   \n",
       "363489  8313.739502 -281.719533  2265.228975 -4379.18087 -6003.950693   \n",
       "363490  8313.739502 -281.719533  2265.228975 -4379.18087 -6003.950693   \n",
       "\n",
       "           float_17     float_18     float_19  \n",
       "0      -1099.742199  8478.982152 -8314.523325  \n",
       "1      -1099.742199  8478.982152 -8314.523325  \n",
       "2      -1099.742199  8478.982152 -8314.523325  \n",
       "3      -1099.742199  8478.982152 -8314.523325  \n",
       "4      -1099.742199  8478.982152 -8314.523325  \n",
       "...             ...          ...          ...  \n",
       "363486 -1099.742199  8478.982152 -8314.523325  \n",
       "363487 -1099.742199  8478.982152 -8314.523325  \n",
       "363488 -1099.742199  8478.982152 -8314.523325  \n",
       "363489 -1099.742199  8478.982152 -8314.523325  \n",
       "363490 -1099.742199  8478.982152 -8314.523325  \n",
       "\n",
       "[363491 rows x 42 columns]"
      ]
     },
     "execution_count": 2,
     "metadata": {},
     "output_type": "execute_result"
    }
   ],
   "source": [
    "df = pd.read_pickle(\"./data/data.pkl.gz\")\n",
    "df"
   ]
  },
  {
   "cell_type": "code",
   "execution_count": 3,
   "metadata": {},
   "outputs": [
    {
     "data": {
      "text/plain": [
       "np.int64(823608914)"
      ]
     },
     "execution_count": 3,
     "metadata": {},
     "output_type": "execute_result"
    }
   ],
   "source": [
    "# total memory usage in bytes without index\n",
    "# see https://pandas.pydata.org/docs/reference/api/pandas.DataFrame.memory_usage.html\n",
    "mem_usage = df.memory_usage(index=False, deep=True).sum()\n",
    "mem_usage"
   ]
  },
  {
   "cell_type": "code",
   "execution_count": 4,
   "metadata": {},
   "outputs": [
    {
     "data": {
      "text/plain": [
       "np.float64(785.454668045044)"
      ]
     },
     "execution_count": 4,
     "metadata": {},
     "output_type": "execute_result"
    }
   ],
   "source": [
    "# total memory usage in m_bytes without index\n",
    "mem_size_mb = mem_usage / 1024 / 1024\n",
    "mem_size_mb"
   ]
  },
  {
   "cell_type": "code",
   "execution_count": 5,
   "metadata": {},
   "outputs": [],
   "source": [
    "def evaluate_performance(\n",
    "        df,\n",
    "        method: Literal[\"csv\", \"parquet\"],\n",
    "        compression: Optional[str] = None,\n",
    "        compression_level: Optional[int] = None,\n",
    "    ) -> dict:\n",
    "    filename = f\"./test_data/data.{method}\"\n",
    "\n",
    "    # set save_fn and read_fn\n",
    "    save_fn = None\n",
    "    read_fn = None\n",
    "    additional_save_params = {}\n",
    "    if method == \"csv\":\n",
    "        if compression is not None:\n",
    "            additional_save_params[\"compression\"] = compression\n",
    "        assert compression_level is None\n",
    "        save_fn = partial(df.to_csv, index=False, path_or_buf=filename, **additional_save_params)\n",
    "        read_fn = partial(pd.read_csv, filepath_or_buffer=filename, **additional_save_params)\n",
    "    elif method == \"parquet\":\n",
    "        if compression is not None:\n",
    "            additional_save_params[\"compression\"] = compression\n",
    "        if compression_level is not None:\n",
    "            additional_save_params[\"compression_level\"] = compression_level\n",
    "        save_fn = partial(df.to_parquet, index=False, engine=\"pyarrow\", path=filename, **additional_save_params)\n",
    "        read_fn = partial(pd.read_parquet, path=filename, engine=\"pyarrow\")\n",
    "    elif method == \"feather\":\n",
    "        if compression is not None:\n",
    "            additional_save_params[\"compression\"] = compression\n",
    "        if compression_level is not None:\n",
    "            additional_save_params[\"compression_level\"] = compression_level\n",
    "        save_fn = partial(df.to_feather, path=filename, **additional_save_params)\n",
    "        read_fn = partial(pd.read_feather, path=filename)\n",
    "    assert save_fn is not None\n",
    "    assert read_fn is not None\n",
    "\n",
    "\n",
    "    # write\n",
    "    start_time = time.time()\n",
    "    save_fn()\n",
    "    save_time = time.time() - start_time\n",
    "    # print(\"save_time:\", save_time)\n",
    "\n",
    "    # read\n",
    "    start_time = time.time()\n",
    "    for _ in range(10):\n",
    "        read_fn()\n",
    "    read_time = (time.time() - start_time) / 10\n",
    "    # print(\"read_time:\", read_time)\n",
    "\n",
    "    # get size\n",
    "    file_size = os.path.getsize(filename) / 1024 / 1024\n",
    "    # print(\"file_size:\", file_size)\n",
    "\n",
    "    # delete file\n",
    "    os.remove(filename)\n",
    "\n",
    "    result = {\n",
    "        \"method\": method,\n",
    "        \"save_time\": save_time,\n",
    "        \"read_time\": read_time,\n",
    "        \"file_size\": file_size,\n",
    "    }\n",
    "\n",
    "    for k, v in additional_save_params.items():\n",
    "        result[k] = v\n",
    "\n",
    "    return result\n"
   ]
  },
  {
   "cell_type": "code",
   "execution_count": 6,
   "metadata": {},
   "outputs": [],
   "source": [
    "eval_results = []"
   ]
  },
  {
   "cell_type": "code",
   "execution_count": 7,
   "metadata": {},
   "outputs": [
    {
     "name": "stderr",
     "output_type": "stream",
     "text": [
      "  5%|▌         | 1/20 [00:11<03:36, 11.41s/it]"
     ]
    },
    {
     "name": "stdout",
     "output_type": "stream",
     "text": [
      "{'method': 'parquet', 'save_time': 1.7474689483642578, 'read_time': 0.965549898147583, 'file_size': 205.07519054412842, 'compression': 'zstd', 'compression_level': 1}\n"
     ]
    },
    {
     "name": "stderr",
     "output_type": "stream",
     "text": [
      " 10%|█         | 2/20 [00:23<03:34, 11.94s/it]"
     ]
    },
    {
     "name": "stdout",
     "output_type": "stream",
     "text": [
      "{'method': 'parquet', 'save_time': 2.159285068511963, 'read_time': 1.0152277946472168, 'file_size': 190.3560552597046, 'compression': 'zstd', 'compression_level': 2}\n"
     ]
    },
    {
     "name": "stderr",
     "output_type": "stream",
     "text": [
      " 15%|█▌        | 3/20 [00:36<03:26, 12.14s/it]"
     ]
    },
    {
     "name": "stdout",
     "output_type": "stream",
     "text": [
      "{'method': 'parquet', 'save_time': 2.4242920875549316, 'read_time': 0.9958317041397095, 'file_size': 181.88686847686768, 'compression': 'zstd', 'compression_level': 3}\n"
     ]
    },
    {
     "name": "stderr",
     "output_type": "stream",
     "text": [
      " 20%|██        | 4/20 [00:48<03:15, 12.22s/it]"
     ]
    },
    {
     "name": "stdout",
     "output_type": "stream",
     "text": [
      "{'method': 'parquet', 'save_time': 2.5598528385162354, 'read_time': 0.977943229675293, 'file_size': 179.63973236083984, 'compression': 'zstd', 'compression_level': 4}\n"
     ]
    },
    {
     "name": "stderr",
     "output_type": "stream",
     "text": [
      " 25%|██▌       | 5/20 [01:02<03:12, 12.86s/it]"
     ]
    },
    {
     "name": "stdout",
     "output_type": "stream",
     "text": [
      "{'method': 'parquet', 'save_time': 3.9961161613464355, 'read_time': 0.9996631145477295, 'file_size': 174.0381155014038, 'compression': 'zstd', 'compression_level': 5}\n"
     ]
    },
    {
     "name": "stderr",
     "output_type": "stream",
     "text": [
      " 30%|███       | 6/20 [01:17<03:11, 13.67s/it]"
     ]
    },
    {
     "name": "stdout",
     "output_type": "stream",
     "text": [
      "{'method': 'parquet', 'save_time': 5.550973176956177, 'read_time': 0.9690049171447754, 'file_size': 168.91651344299316, 'compression': 'zstd', 'compression_level': 6}\n"
     ]
    },
    {
     "name": "stderr",
     "output_type": "stream",
     "text": [
      " 35%|███▌      | 7/20 [01:33<03:07, 14.40s/it]"
     ]
    },
    {
     "name": "stdout",
     "output_type": "stream",
     "text": [
      "{'method': 'parquet', 'save_time': 6.333881855010986, 'read_time': 0.9553101062774658, 'file_size': 166.69336414337158, 'compression': 'zstd', 'compression_level': 7}\n"
     ]
    },
    {
     "name": "stderr",
     "output_type": "stream",
     "text": [
      " 40%|████      | 8/20 [01:50<03:03, 15.33s/it]"
     ]
    },
    {
     "name": "stdout",
     "output_type": "stream",
     "text": [
      "{'method': 'parquet', 'save_time': 8.066375970840454, 'read_time': 0.9255957126617431, 'file_size': 164.83230018615723, 'compression': 'zstd', 'compression_level': 8}\n"
     ]
    },
    {
     "name": "stderr",
     "output_type": "stream",
     "text": [
      " 45%|████▌     | 9/20 [02:08<02:55, 15.96s/it]"
     ]
    },
    {
     "name": "stdout",
     "output_type": "stream",
     "text": [
      "{'method': 'parquet', 'save_time': 8.093254089355469, 'read_time': 0.925340986251831, 'file_size': 164.41600513458252, 'compression': 'zstd', 'compression_level': 9}\n"
     ]
    },
    {
     "name": "stderr",
     "output_type": "stream",
     "text": [
      " 50%|█████     | 10/20 [02:27<02:51, 17.11s/it]"
     ]
    },
    {
     "name": "stdout",
     "output_type": "stream",
     "text": [
      "{'method': 'parquet', 'save_time': 10.471324920654297, 'read_time': 0.9212288856506348, 'file_size': 163.01386737823486, 'compression': 'zstd', 'compression_level': 10}\n"
     ]
    },
    {
     "name": "stderr",
     "output_type": "stream",
     "text": [
      " 55%|█████▌    | 11/20 [02:50<02:48, 18.77s/it]"
     ]
    },
    {
     "name": "stdout",
     "output_type": "stream",
     "text": [
      "{'method': 'parquet', 'save_time': 13.239589929580688, 'read_time': 0.9287830114364624, 'file_size': 162.26992225646973, 'compression': 'zstd', 'compression_level': 11}\n"
     ]
    },
    {
     "name": "stderr",
     "output_type": "stream",
     "text": [
      " 60%|██████    | 12/20 [03:12<02:38, 19.85s/it]"
     ]
    },
    {
     "name": "stdout",
     "output_type": "stream",
     "text": [
      "{'method': 'parquet', 'save_time': 13.037472009658813, 'read_time': 0.9292199850082398, 'file_size': 162.26992225646973, 'compression': 'zstd', 'compression_level': 12}\n"
     ]
    },
    {
     "name": "stderr",
     "output_type": "stream",
     "text": [
      " 65%|██████▌   | 13/20 [03:53<03:02, 26.09s/it]"
     ]
    },
    {
     "name": "stdout",
     "output_type": "stream",
     "text": [
      "{'method': 'parquet', 'save_time': 31.206995964050293, 'read_time': 0.9222171068191528, 'file_size': 160.54247951507568, 'compression': 'zstd', 'compression_level': 13}\n"
     ]
    },
    {
     "name": "stderr",
     "output_type": "stream",
     "text": [
      " 70%|███████   | 14/20 [04:38<03:10, 31.73s/it]"
     ]
    },
    {
     "name": "stdout",
     "output_type": "stream",
     "text": [
      "{'method': 'parquet', 'save_time': 35.70629811286926, 'read_time': 0.9063392877578735, 'file_size': 159.9730739593506, 'compression': 'zstd', 'compression_level': 14}\n"
     ]
    },
    {
     "name": "stderr",
     "output_type": "stream",
     "text": [
      " 75%|███████▌  | 15/20 [05:24<03:00, 36.14s/it]"
     ]
    },
    {
     "name": "stdout",
     "output_type": "stream",
     "text": [
      "{'method': 'parquet', 'save_time': 37.29375624656677, 'read_time': 0.90638747215271, 'file_size': 159.8962106704712, 'compression': 'zstd', 'compression_level': 15}\n"
     ]
    },
    {
     "name": "stderr",
     "output_type": "stream",
     "text": [
      " 80%|████████  | 16/20 [06:26<02:55, 43.93s/it]"
     ]
    },
    {
     "name": "stdout",
     "output_type": "stream",
     "text": [
      "{'method': 'parquet', 'save_time': 52.7331600189209, 'read_time': 0.9291988134384155, 'file_size': 153.43654346466064, 'compression': 'zstd', 'compression_level': 16}\n"
     ]
    },
    {
     "name": "stderr",
     "output_type": "stream",
     "text": [
      " 85%|████████▌ | 17/20 [07:38<02:37, 52.43s/it]"
     ]
    },
    {
     "name": "stdout",
     "output_type": "stream",
     "text": [
      "{'method': 'parquet', 'save_time': 62.78430891036987, 'read_time': 0.9413970947265625, 'file_size': 152.656099319458, 'compression': 'zstd', 'compression_level': 17}\n"
     ]
    },
    {
     "name": "stderr",
     "output_type": "stream",
     "text": [
      " 90%|█████████ | 18/20 [09:06<02:06, 63.05s/it]"
     ]
    },
    {
     "name": "stdout",
     "output_type": "stream",
     "text": [
      "{'method': 'parquet', 'save_time': 78.11695694923401, 'read_time': 0.9643545150756836, 'file_size': 151.67816257476807, 'compression': 'zstd', 'compression_level': 18}\n"
     ]
    },
    {
     "name": "stderr",
     "output_type": "stream",
     "text": [
      " 95%|█████████▌| 19/20 [10:42<01:13, 73.04s/it]"
     ]
    },
    {
     "name": "stdout",
     "output_type": "stream",
     "text": [
      "{'method': 'parquet', 'save_time': 86.62412905693054, 'read_time': 0.9685128927230835, 'file_size': 151.54964542388916, 'compression': 'zstd', 'compression_level': 19}\n"
     ]
    },
    {
     "name": "stderr",
     "output_type": "stream",
     "text": [
      "100%|██████████| 20/20 [12:18<00:00, 36.94s/it]"
     ]
    },
    {
     "name": "stdout",
     "output_type": "stream",
     "text": [
      "{'method': 'parquet', 'save_time': 86.5854856967926, 'read_time': 0.9588436841964721, 'file_size': 151.54964542388916, 'compression': 'zstd', 'compression_level': 20}\n"
     ]
    },
    {
     "name": "stderr",
     "output_type": "stream",
     "text": [
      "\n"
     ]
    }
   ],
   "source": [
    "# parquet, zstd\n",
    "for cl in tqdm(range(1, 21)):\n",
    "    r = evaluate_performance(df, \"parquet\", compression=\"zstd\", compression_level=cl)\n",
    "    print(r)\n",
    "    eval_results.append(r)"
   ]
  },
  {
   "cell_type": "code",
   "execution_count": 8,
   "metadata": {},
   "outputs": [
    {
     "name": "stderr",
     "output_type": "stream",
     "text": [
      "  5%|▌         | 1/20 [00:07<02:31,  8.00s/it]"
     ]
    },
    {
     "name": "stdout",
     "output_type": "stream",
     "text": [
      "{'method': 'parquet', 'save_time': 1.3304309844970703, 'read_time': 0.6665350914001464, 'file_size': 299.8797607421875, 'compression': 'lz4', 'compression_level': 1}\n"
     ]
    },
    {
     "name": "stderr",
     "output_type": "stream",
     "text": [
      " 10%|█         | 2/20 [00:15<02:21,  7.84s/it]"
     ]
    },
    {
     "name": "stdout",
     "output_type": "stream",
     "text": [
      "{'method': 'parquet', 'save_time': 1.3406920433044434, 'read_time': 0.6389130115509033, 'file_size': 299.8797607421875, 'compression': 'lz4', 'compression_level': 2}\n"
     ]
    },
    {
     "name": "stderr",
     "output_type": "stream",
     "text": [
      " 15%|█▌        | 3/20 [00:27<02:42,  9.55s/it]"
     ]
    },
    {
     "name": "stdout",
     "output_type": "stream",
     "text": [
      "{'method': 'parquet', 'save_time': 5.305738925933838, 'read_time': 0.6282583951950074, 'file_size': 229.84841060638428, 'compression': 'lz4', 'compression_level': 3}\n"
     ]
    },
    {
     "name": "stderr",
     "output_type": "stream",
     "text": [
      " 20%|██        | 4/20 [00:40<02:55, 10.97s/it]"
     ]
    },
    {
     "name": "stdout",
     "output_type": "stream",
     "text": [
      "{'method': 'parquet', 'save_time': 6.902993202209473, 'read_time': 0.6228114843368531, 'file_size': 224.47092056274414, 'compression': 'lz4', 'compression_level': 4}\n"
     ]
    },
    {
     "name": "stderr",
     "output_type": "stream",
     "text": [
      " 25%|██▌       | 5/20 [00:55<03:05, 12.39s/it]"
     ]
    },
    {
     "name": "stdout",
     "output_type": "stream",
     "text": [
      "{'method': 'parquet', 'save_time': 8.689306020736694, 'read_time': 0.6226851940155029, 'file_size': 221.61770629882812, 'compression': 'lz4', 'compression_level': 5}\n"
     ]
    },
    {
     "name": "stderr",
     "output_type": "stream",
     "text": [
      " 30%|███       | 6/20 [01:12<03:14, 13.90s/it]"
     ]
    },
    {
     "name": "stdout",
     "output_type": "stream",
     "text": [
      "{'method': 'parquet', 'save_time': 10.588641166687012, 'read_time': 0.6221467971801757, 'file_size': 220.34580421447754, 'compression': 'lz4', 'compression_level': 6}\n"
     ]
    },
    {
     "name": "stderr",
     "output_type": "stream",
     "text": [
      " 35%|███▌      | 7/20 [01:30<03:20, 15.44s/it]"
     ]
    },
    {
     "name": "stdout",
     "output_type": "stream",
     "text": [
      "{'method': 'parquet', 'save_time': 12.400532245635986, 'read_time': 0.621133279800415, 'file_size': 219.82305335998535, 'compression': 'lz4', 'compression_level': 7}\n"
     ]
    },
    {
     "name": "stderr",
     "output_type": "stream",
     "text": [
      " 40%|████      | 8/20 [01:50<03:22, 16.88s/it]"
     ]
    },
    {
     "name": "stdout",
     "output_type": "stream",
     "text": [
      "{'method': 'parquet', 'save_time': 13.760159015655518, 'read_time': 0.6195186853408814, 'file_size': 219.6222743988037, 'compression': 'lz4', 'compression_level': 8}\n"
     ]
    },
    {
     "name": "stderr",
     "output_type": "stream",
     "text": [
      " 45%|████▌     | 9/20 [02:11<03:20, 18.24s/it]"
     ]
    },
    {
     "name": "stdout",
     "output_type": "stream",
     "text": [
      "{'method': 'parquet', 'save_time': 15.031702041625977, 'read_time': 0.6199553966522217, 'file_size': 219.51273727416992, 'compression': 'lz4', 'compression_level': 9}\n"
     ]
    },
    {
     "name": "stderr",
     "output_type": "stream",
     "text": [
      " 50%|█████     | 10/20 [02:39<03:29, 20.97s/it]"
     ]
    },
    {
     "name": "stdout",
     "output_type": "stream",
     "text": [
      "{'method': 'parquet', 'save_time': 20.863772869110107, 'read_time': 0.6221276998519898, 'file_size': 218.3360137939453, 'compression': 'lz4', 'compression_level': 10}\n"
     ]
    },
    {
     "name": "stderr",
     "output_type": "stream",
     "text": [
      " 55%|█████▌    | 11/20 [03:10<03:37, 24.15s/it]"
     ]
    },
    {
     "name": "stdout",
     "output_type": "stream",
     "text": [
      "{'method': 'parquet', 'save_time': 25.14086389541626, 'read_time': 0.622526216506958, 'file_size': 217.92595863342285, 'compression': 'lz4', 'compression_level': 11}\n"
     ]
    },
    {
     "name": "stderr",
     "output_type": "stream",
     "text": [
      " 60%|██████    | 12/20 [03:45<03:40, 27.51s/it]"
     ]
    },
    {
     "name": "stdout",
     "output_type": "stream",
     "text": [
      "{'method': 'parquet', 'save_time': 28.834513187408447, 'read_time': 0.6362168073654175, 'file_size': 217.89841556549072, 'compression': 'lz4', 'compression_level': 12}\n"
     ]
    },
    {
     "name": "stderr",
     "output_type": "stream",
     "text": [
      " 65%|██████▌   | 13/20 [04:20<03:28, 29.84s/it]"
     ]
    },
    {
     "name": "stdout",
     "output_type": "stream",
     "text": [
      "{'method': 'parquet', 'save_time': 28.908926963806152, 'read_time': 0.6294550895690918, 'file_size': 217.89841556549072, 'compression': 'lz4', 'compression_level': 13}\n"
     ]
    },
    {
     "name": "stderr",
     "output_type": "stream",
     "text": [
      " 70%|███████   | 14/20 [04:55<03:08, 31.40s/it]"
     ]
    },
    {
     "name": "stdout",
     "output_type": "stream",
     "text": [
      "{'method': 'parquet', 'save_time': 28.81997013092041, 'read_time': 0.6174817085266113, 'file_size': 217.89841556549072, 'compression': 'lz4', 'compression_level': 14}\n"
     ]
    },
    {
     "name": "stderr",
     "output_type": "stream",
     "text": [
      " 75%|███████▌  | 15/20 [05:30<02:42, 32.50s/it]"
     ]
    },
    {
     "name": "stdout",
     "output_type": "stream",
     "text": [
      "{'method': 'parquet', 'save_time': 28.854366064071655, 'read_time': 0.6195807933807373, 'file_size': 217.89841556549072, 'compression': 'lz4', 'compression_level': 15}\n"
     ]
    },
    {
     "name": "stderr",
     "output_type": "stream",
     "text": [
      " 80%|████████  | 16/20 [06:05<02:13, 33.27s/it]"
     ]
    },
    {
     "name": "stdout",
     "output_type": "stream",
     "text": [
      "{'method': 'parquet', 'save_time': 28.87512993812561, 'read_time': 0.6188410758972168, 'file_size': 217.89841556549072, 'compression': 'lz4', 'compression_level': 16}\n"
     ]
    },
    {
     "name": "stderr",
     "output_type": "stream",
     "text": [
      " 85%|████████▌ | 17/20 [06:41<01:41, 33.81s/it]"
     ]
    },
    {
     "name": "stdout",
     "output_type": "stream",
     "text": [
      "{'method': 'parquet', 'save_time': 28.9170138835907, 'read_time': 0.6148756980895996, 'file_size': 217.89841556549072, 'compression': 'lz4', 'compression_level': 17}\n"
     ]
    },
    {
     "name": "stderr",
     "output_type": "stream",
     "text": [
      " 90%|█████████ | 18/20 [07:16<01:08, 34.19s/it]"
     ]
    },
    {
     "name": "stdout",
     "output_type": "stream",
     "text": [
      "{'method': 'parquet', 'save_time': 28.865305185317993, 'read_time': 0.6193758964538574, 'file_size': 217.89841556549072, 'compression': 'lz4', 'compression_level': 18}\n"
     ]
    },
    {
     "name": "stderr",
     "output_type": "stream",
     "text": [
      " 95%|█████████▌| 19/20 [07:51<00:34, 34.45s/it]"
     ]
    },
    {
     "name": "stdout",
     "output_type": "stream",
     "text": [
      "{'method': 'parquet', 'save_time': 28.837291955947876, 'read_time': 0.6210300207138062, 'file_size': 217.89841556549072, 'compression': 'lz4', 'compression_level': 19}\n"
     ]
    },
    {
     "name": "stderr",
     "output_type": "stream",
     "text": [
      "100%|██████████| 20/20 [08:26<00:00, 25.31s/it]"
     ]
    },
    {
     "name": "stdout",
     "output_type": "stream",
     "text": [
      "{'method': 'parquet', 'save_time': 28.874538898468018, 'read_time': 0.6223037958145141, 'file_size': 217.89841556549072, 'compression': 'lz4', 'compression_level': 20}\n"
     ]
    },
    {
     "name": "stderr",
     "output_type": "stream",
     "text": [
      "\n"
     ]
    }
   ],
   "source": [
    "# parquet, lz4\n",
    "for cl in tqdm(range(1, 21)):\n",
    "    r = evaluate_performance(df, \"parquet\", compression=\"lz4\", compression_level=cl)\n",
    "    print(r)\n",
    "    eval_results.append(r)"
   ]
  },
  {
   "cell_type": "code",
   "execution_count": 9,
   "metadata": {},
   "outputs": [
    {
     "name": "stderr",
     "output_type": "stream",
     "text": [
      "  5%|▌         | 1/20 [00:08<02:47,  8.79s/it]"
     ]
    },
    {
     "name": "stdout",
     "output_type": "stream",
     "text": [
      "{'method': 'feather', 'save_time': 1.3451240062713623, 'read_time': 0.744347095489502, 'file_size': 203.36826515197754, 'compression': 'zstd', 'compression_level': 1}\n"
     ]
    },
    {
     "name": "stderr",
     "output_type": "stream",
     "text": [
      " 10%|█         | 2/20 [00:18<02:51,  9.53s/it]"
     ]
    },
    {
     "name": "stdout",
     "output_type": "stream",
     "text": [
      "{'method': 'feather', 'save_time': 1.8896477222442627, 'read_time': 0.8163393974304199, 'file_size': 188.12595558166504, 'compression': 'zstd', 'compression_level': 2}\n"
     ]
    },
    {
     "name": "stderr",
     "output_type": "stream",
     "text": [
      " 15%|█▌        | 3/20 [00:29<02:48,  9.90s/it]"
     ]
    },
    {
     "name": "stdout",
     "output_type": "stream",
     "text": [
      "{'method': 'feather', 'save_time': 2.0881597995758057, 'read_time': 0.8238502025604248, 'file_size': 178.3356647491455, 'compression': 'zstd', 'compression_level': 3}\n"
     ]
    },
    {
     "name": "stderr",
     "output_type": "stream",
     "text": [
      " 20%|██        | 4/20 [00:39<02:41, 10.08s/it]"
     ]
    },
    {
     "name": "stdout",
     "output_type": "stream",
     "text": [
      "{'method': 'feather', 'save_time': 2.15787410736084, 'read_time': 0.8209596872329712, 'file_size': 174.7921543121338, 'compression': 'zstd', 'compression_level': 4}\n"
     ]
    },
    {
     "name": "stderr",
     "output_type": "stream",
     "text": [
      " 25%|██▌       | 5/20 [00:51<02:41, 10.78s/it]"
     ]
    },
    {
     "name": "stdout",
     "output_type": "stream",
     "text": [
      "{'method': 'feather', 'save_time': 3.6550939083099365, 'read_time': 0.8351516962051392, 'file_size': 169.25423622131348, 'compression': 'zstd', 'compression_level': 5}\n"
     ]
    },
    {
     "name": "stderr",
     "output_type": "stream",
     "text": [
      " 30%|███       | 6/20 [01:04<02:42, 11.63s/it]"
     ]
    },
    {
     "name": "stdout",
     "output_type": "stream",
     "text": [
      "{'method': 'feather', 'save_time': 5.2573630809783936, 'read_time': 0.8027240037918091, 'file_size': 163.36277961730957, 'compression': 'zstd', 'compression_level': 6}\n"
     ]
    },
    {
     "name": "stderr",
     "output_type": "stream",
     "text": [
      " 35%|███▌      | 7/20 [01:18<02:41, 12.45s/it]"
     ]
    },
    {
     "name": "stdout",
     "output_type": "stream",
     "text": [
      "{'method': 'feather', 'save_time': 6.25173020362854, 'read_time': 0.7886452198028564, 'file_size': 159.58601570129395, 'compression': 'zstd', 'compression_level': 7}\n"
     ]
    },
    {
     "name": "stderr",
     "output_type": "stream",
     "text": [
      " 40%|████      | 8/20 [01:34<02:41, 13.50s/it]"
     ]
    },
    {
     "name": "stdout",
     "output_type": "stream",
     "text": [
      "{'method': 'feather', 'save_time': 8.013894081115723, 'read_time': 0.7726126670837402, 'file_size': 157.3134708404541, 'compression': 'zstd', 'compression_level': 8}\n"
     ]
    },
    {
     "name": "stderr",
     "output_type": "stream",
     "text": [
      " 45%|████▌     | 9/20 [01:50<02:35, 14.18s/it]"
     ]
    },
    {
     "name": "stdout",
     "output_type": "stream",
     "text": [
      "{'method': 'feather', 'save_time': 8.025438070297241, 'read_time': 0.7636192083358765, 'file_size': 153.54773902893066, 'compression': 'zstd', 'compression_level': 9}\n"
     ]
    },
    {
     "name": "stderr",
     "output_type": "stream",
     "text": [
      " 50%|█████     | 10/20 [02:08<02:34, 15.47s/it]"
     ]
    },
    {
     "name": "stdout",
     "output_type": "stream",
     "text": [
      "{'method': 'feather', 'save_time': 10.909493923187256, 'read_time': 0.7464206695556641, 'file_size': 150.44294929504395, 'compression': 'zstd', 'compression_level': 10}\n"
     ]
    },
    {
     "name": "stderr",
     "output_type": "stream",
     "text": [
      " 55%|█████▌    | 11/20 [02:31<02:38, 17.64s/it]"
     ]
    },
    {
     "name": "stdout",
     "output_type": "stream",
     "text": [
      "{'method': 'feather', 'save_time': 15.18178105354309, 'read_time': 0.7356106042861938, 'file_size': 148.66223335266113, 'compression': 'zstd', 'compression_level': 11}\n"
     ]
    },
    {
     "name": "stderr",
     "output_type": "stream",
     "text": [
      " 60%|██████    | 12/20 [02:55<02:36, 19.58s/it]"
     ]
    },
    {
     "name": "stdout",
     "output_type": "stream",
     "text": [
      "{'method': 'feather', 'save_time': 16.642494916915894, 'read_time': 0.7399653911590576, 'file_size': 148.1903247833252, 'compression': 'zstd', 'compression_level': 12}\n"
     ]
    },
    {
     "name": "stderr",
     "output_type": "stream",
     "text": [
      " 65%|██████▌   | 13/20 [03:47<03:25, 29.33s/it]"
     ]
    },
    {
     "name": "stdout",
     "output_type": "stream",
     "text": [
      "{'method': 'feather', 'save_time': 44.22778677940369, 'read_time': 0.7511757850646973, 'file_size': 146.08017921447754, 'compression': 'zstd', 'compression_level': 13}\n"
     ]
    },
    {
     "name": "stderr",
     "output_type": "stream",
     "text": [
      " 70%|███████   | 14/20 [04:49<03:55, 39.22s/it]"
     ]
    },
    {
     "name": "stdout",
     "output_type": "stream",
     "text": [
      "{'method': 'feather', 'save_time': 54.68725776672363, 'read_time': 0.7382879018783569, 'file_size': 144.4615421295166, 'compression': 'zstd', 'compression_level': 14}\n"
     ]
    },
    {
     "name": "stderr",
     "output_type": "stream",
     "text": [
      " 75%|███████▌  | 15/20 [06:28<04:46, 57.24s/it]"
     ]
    },
    {
     "name": "stdout",
     "output_type": "stream",
     "text": [
      "{'method': 'feather', 'save_time': 91.6344051361084, 'read_time': 0.737923264503479, 'file_size': 142.2140827178955, 'compression': 'zstd', 'compression_level': 15}\n"
     ]
    },
    {
     "name": "stderr",
     "output_type": "stream",
     "text": [
      " 80%|████████  | 16/20 [07:56<04:26, 66.55s/it]"
     ]
    },
    {
     "name": "stdout",
     "output_type": "stream",
     "text": [
      "{'method': 'feather', 'save_time': 80.64272809028625, 'read_time': 0.7512775897979737, 'file_size': 137.54656410217285, 'compression': 'zstd', 'compression_level': 16}\n"
     ]
    },
    {
     "name": "stderr",
     "output_type": "stream",
     "text": [
      " 85%|████████▌ | 17/20 [10:18<04:28, 89.35s/it]"
     ]
    },
    {
     "name": "stdout",
     "output_type": "stream",
     "text": [
      "{'method': 'feather', 'save_time': 134.6790120601654, 'read_time': 0.7698844194412231, 'file_size': 132.25786781311035, 'compression': 'zstd', 'compression_level': 17}\n"
     ]
    },
    {
     "name": "stderr",
     "output_type": "stream",
     "text": [
      " 90%|█████████ | 18/20 [13:02<03:43, 111.77s/it]"
     ]
    },
    {
     "name": "stdout",
     "output_type": "stream",
     "text": [
      "{'method': 'feather', 'save_time': 156.11641216278076, 'read_time': 0.7824528694152832, 'file_size': 129.81064796447754, 'compression': 'zstd', 'compression_level': 18}\n"
     ]
    },
    {
     "name": "stderr",
     "output_type": "stream",
     "text": [
      " 95%|█████████▌| 19/20 [16:23<02:18, 138.65s/it]"
     ]
    },
    {
     "name": "stdout",
     "output_type": "stream",
     "text": [
      "{'method': 'feather', 'save_time': 193.2136309146881, 'read_time': 0.805773401260376, 'file_size': 128.08114051818848, 'compression': 'zstd', 'compression_level': 19}\n"
     ]
    },
    {
     "name": "stderr",
     "output_type": "stream",
     "text": [
      "100%|██████████| 20/20 [20:26<00:00, 61.32s/it] "
     ]
    },
    {
     "name": "stdout",
     "output_type": "stream",
     "text": [
      "{'method': 'feather', 'save_time': 235.02985286712646, 'read_time': 0.7478172779083252, 'file_size': 119.38336372375488, 'compression': 'zstd', 'compression_level': 20}\n"
     ]
    },
    {
     "name": "stderr",
     "output_type": "stream",
     "text": [
      "\n"
     ]
    }
   ],
   "source": [
    "# feather, zstd\n",
    "for cl in tqdm(range(1, 21)):\n",
    "    r = evaluate_performance(df, \"feather\", compression=\"zstd\", compression_level=cl)\n",
    "    print(r)\n",
    "    eval_results.append(r)"
   ]
  },
  {
   "cell_type": "code",
   "execution_count": 10,
   "metadata": {},
   "outputs": [
    {
     "name": "stderr",
     "output_type": "stream",
     "text": [
      "  5%|▌         | 1/20 [00:06<02:03,  6.47s/it]"
     ]
    },
    {
     "name": "stdout",
     "output_type": "stream",
     "text": [
      "{'method': 'feather', 'save_time': 1.2652621269226074, 'read_time': 0.5205798864364624, 'file_size': 299.8126850128174, 'compression': 'lz4', 'compression_level': 1}\n"
     ]
    },
    {
     "name": "stderr",
     "output_type": "stream",
     "text": [
      " 10%|█         | 2/20 [00:12<01:55,  6.43s/it]"
     ]
    },
    {
     "name": "stdout",
     "output_type": "stream",
     "text": [
      "{'method': 'feather', 'save_time': 1.2589819431304932, 'read_time': 0.5132905960083007, 'file_size': 299.8126850128174, 'compression': 'lz4', 'compression_level': 2}\n"
     ]
    },
    {
     "name": "stderr",
     "output_type": "stream",
     "text": [
      " 15%|█▌        | 3/20 [00:23<02:20,  8.28s/it]"
     ]
    },
    {
     "name": "stdout",
     "output_type": "stream",
     "text": [
      "{'method': 'feather', 'save_time': 5.121372938156128, 'read_time': 0.5363560914993286, 'file_size': 229.60542488098145, 'compression': 'lz4', 'compression_level': 3}\n"
     ]
    },
    {
     "name": "stderr",
     "output_type": "stream",
     "text": [
      " 20%|██        | 4/20 [00:35<02:35,  9.71s/it]"
     ]
    },
    {
     "name": "stdout",
     "output_type": "stream",
     "text": [
      "{'method': 'feather', 'save_time': 6.672445058822632, 'read_time': 0.5215370893478394, 'file_size': 224.1410846710205, 'compression': 'lz4', 'compression_level': 4}\n"
     ]
    },
    {
     "name": "stderr",
     "output_type": "stream",
     "text": [
      " 25%|██▌       | 5/20 [00:49<02:48, 11.20s/it]"
     ]
    },
    {
     "name": "stdout",
     "output_type": "stream",
     "text": [
      "{'method': 'feather', 'save_time': 8.666687965393066, 'read_time': 0.5183792829513549, 'file_size': 221.2264575958252, 'compression': 'lz4', 'compression_level': 5}\n"
     ]
    },
    {
     "name": "stderr",
     "output_type": "stream",
     "text": [
      " 30%|███       | 6/20 [01:04<02:58, 12.77s/it]"
     ]
    },
    {
     "name": "stdout",
     "output_type": "stream",
     "text": [
      "{'method': 'feather', 'save_time': 10.639772891998291, 'read_time': 0.516646409034729, 'file_size': 219.92563819885254, 'compression': 'lz4', 'compression_level': 6}\n"
     ]
    },
    {
     "name": "stderr",
     "output_type": "stream",
     "text": [
      " 35%|███▌      | 7/20 [01:22<03:07, 14.40s/it]"
     ]
    },
    {
     "name": "stdout",
     "output_type": "stream",
     "text": [
      "{'method': 'feather', 'save_time': 12.574749231338501, 'read_time': 0.5178406953811645, 'file_size': 219.39287757873535, 'compression': 'lz4', 'compression_level': 7}\n"
     ]
    },
    {
     "name": "stderr",
     "output_type": "stream",
     "text": [
      " 40%|████      | 8/20 [01:41<03:11, 15.94s/it]"
     ]
    },
    {
     "name": "stdout",
     "output_type": "stream",
     "text": [
      "{'method': 'feather', 'save_time': 14.008494853973389, 'read_time': 0.521587610244751, 'file_size': 219.1904239654541, 'compression': 'lz4', 'compression_level': 8}\n"
     ]
    },
    {
     "name": "stderr",
     "output_type": "stream",
     "text": [
      " 45%|████▌     | 9/20 [02:02<03:12, 17.46s/it]"
     ]
    },
    {
     "name": "stdout",
     "output_type": "stream",
     "text": [
      "{'method': 'feather', 'save_time': 15.5746328830719, 'read_time': 0.5243259191513061, 'file_size': 219.07818031311035, 'compression': 'lz4', 'compression_level': 9}\n"
     ]
    },
    {
     "name": "stderr",
     "output_type": "stream",
     "text": [
      " 50%|█████     | 10/20 [02:29<03:22, 20.20s/it]"
     ]
    },
    {
     "name": "stdout",
     "output_type": "stream",
     "text": [
      "{'method': 'feather', 'save_time': 21.0358989238739, 'read_time': 0.5283978939056396, 'file_size': 217.88524055480957, 'compression': 'lz4', 'compression_level': 10}\n"
     ]
    },
    {
     "name": "stderr",
     "output_type": "stream",
     "text": [
      " 55%|█████▌    | 11/20 [02:59<03:30, 23.39s/it]"
     ]
    },
    {
     "name": "stdout",
     "output_type": "stream",
     "text": [
      "{'method': 'feather', 'save_time': 25.346798181533813, 'read_time': 0.5261608839035035, 'file_size': 217.48269844055176, 'compression': 'lz4', 'compression_level': 11}\n"
     ]
    },
    {
     "name": "stderr",
     "output_type": "stream",
     "text": [
      " 60%|██████    | 12/20 [03:36<03:38, 27.36s/it]"
     ]
    },
    {
     "name": "stdout",
     "output_type": "stream",
     "text": [
      "{'method': 'feather', 'save_time': 31.130176067352295, 'read_time': 0.5316784143447876, 'file_size': 217.4572925567627, 'compression': 'lz4', 'compression_level': 12}\n"
     ]
    },
    {
     "name": "stderr",
     "output_type": "stream",
     "text": [
      " 65%|██████▌   | 13/20 [04:12<03:30, 30.06s/it]"
     ]
    },
    {
     "name": "stdout",
     "output_type": "stream",
     "text": [
      "{'method': 'feather', 'save_time': 30.99527907371521, 'read_time': 0.5266549110412597, 'file_size': 217.4572925567627, 'compression': 'lz4', 'compression_level': 13}\n"
     ]
    },
    {
     "name": "stderr",
     "output_type": "stream",
     "text": [
      " 70%|███████   | 14/20 [04:48<03:11, 31.89s/it]"
     ]
    },
    {
     "name": "stdout",
     "output_type": "stream",
     "text": [
      "{'method': 'feather', 'save_time': 30.908024072647095, 'read_time': 0.521205997467041, 'file_size': 217.4572925567627, 'compression': 'lz4', 'compression_level': 14}\n"
     ]
    },
    {
     "name": "stderr",
     "output_type": "stream",
     "text": [
      " 75%|███████▌  | 15/20 [05:24<02:45, 33.18s/it]"
     ]
    },
    {
     "name": "stdout",
     "output_type": "stream",
     "text": [
      "{'method': 'feather', 'save_time': 30.941724061965942, 'read_time': 0.5233436107635498, 'file_size': 217.4572925567627, 'compression': 'lz4', 'compression_level': 15}\n"
     ]
    },
    {
     "name": "stderr",
     "output_type": "stream",
     "text": [
      " 80%|████████  | 16/20 [06:01<02:16, 34.15s/it]"
     ]
    },
    {
     "name": "stdout",
     "output_type": "stream",
     "text": [
      "{'method': 'feather', 'save_time': 31.094968795776367, 'read_time': 0.5293164014816284, 'file_size': 217.4572925567627, 'compression': 'lz4', 'compression_level': 16}\n"
     ]
    },
    {
     "name": "stderr",
     "output_type": "stream",
     "text": [
      " 85%|████████▌ | 17/20 [06:37<01:44, 34.77s/it]"
     ]
    },
    {
     "name": "stdout",
     "output_type": "stream",
     "text": [
      "{'method': 'feather', 'save_time': 30.90023183822632, 'read_time': 0.5291090965270996, 'file_size': 217.4572925567627, 'compression': 'lz4', 'compression_level': 17}\n"
     ]
    },
    {
     "name": "stderr",
     "output_type": "stream",
     "text": [
      " 90%|█████████ | 18/20 [07:13<01:10, 35.19s/it]"
     ]
    },
    {
     "name": "stdout",
     "output_type": "stream",
     "text": [
      "{'method': 'feather', 'save_time': 30.95872688293457, 'read_time': 0.5210474967956543, 'file_size': 217.4572925567627, 'compression': 'lz4', 'compression_level': 18}\n"
     ]
    },
    {
     "name": "stderr",
     "output_type": "stream",
     "text": [
      " 95%|█████████▌| 19/20 [07:49<00:35, 35.50s/it]"
     ]
    },
    {
     "name": "stdout",
     "output_type": "stream",
     "text": [
      "{'method': 'feather', 'save_time': 31.008183002471924, 'read_time': 0.5226773023605347, 'file_size': 217.4572925567627, 'compression': 'lz4', 'compression_level': 19}\n"
     ]
    },
    {
     "name": "stderr",
     "output_type": "stream",
     "text": [
      "100%|██████████| 20/20 [08:26<00:00, 25.30s/it]"
     ]
    },
    {
     "name": "stdout",
     "output_type": "stream",
     "text": [
      "{'method': 'feather', 'save_time': 31.022616147994995, 'read_time': 0.5300559759140014, 'file_size': 217.4572925567627, 'compression': 'lz4', 'compression_level': 20}\n"
     ]
    },
    {
     "name": "stderr",
     "output_type": "stream",
     "text": [
      "\n"
     ]
    }
   ],
   "source": [
    "# feather, lz4\n",
    "for cl in tqdm(range(1, 21)):\n",
    "    r = evaluate_performance(df, \"feather\", compression=\"lz4\", compression_level=cl)\n",
    "    print(r)\n",
    "    eval_results.append(r)"
   ]
  },
  {
   "cell_type": "code",
   "execution_count": 11,
   "metadata": {},
   "outputs": [
    {
     "name": "stdout",
     "output_type": "stream",
     "text": [
      "{'method': 'parquet', 'save_time': 19.727378368377686, 'read_time': 1.8230156898498535, 'file_size': 189.75489807128906, 'compression': 'gzip'}\n",
      "{'method': 'parquet', 'save_time': 1.357872724533081, 'read_time': 0.7231313943862915, 'file_size': 296.9223279953003, 'compression': 'snappy'}\n",
      "{'method': 'parquet', 'save_time': 1.3139581680297852, 'read_time': 0.6405227899551391, 'file_size': 299.8797607421875, 'compression': 'lz4'}\n",
      "{'method': 'parquet', 'save_time': 1.4834280014038086, 'read_time': 0.8872984886169434, 'file_size': 205.07519054412842, 'compression': 'zstd'}\n",
      "{'method': 'parquet', 'save_time': 18.15454411506653, 'read_time': 1.5477322340011597, 'file_size': 159.63431453704834, 'compression': 'brotli'}\n",
      "{'method': 'parquet', 'save_time': 1.3409919738769531, 'read_time': 0.7068532943725586, 'file_size': 296.9223279953003}\n"
     ]
    }
   ],
   "source": [
    "# parquet\n",
    "for c in [\"gzip\", \"snappy\", \"lz4\", \"zstd\", \"brotli\", None]:\n",
    "    r = evaluate_performance(df, \"parquet\", compression=c)\n",
    "    print(r)\n",
    "    eval_results.append(r)"
   ]
  },
  {
   "cell_type": "code",
   "execution_count": 12,
   "metadata": {},
   "outputs": [
    {
     "name": "stdout",
     "output_type": "stream",
     "text": [
      "{'method': 'feather', 'save_time': 1.2305412292480469, 'read_time': 0.523431396484375, 'file_size': 299.8126850128174, 'compression': 'lz4'}\n",
      "{'method': 'feather', 'save_time': 1.3659751415252686, 'read_time': 0.7574985027313232, 'file_size': 203.36826515197754, 'compression': 'zstd'}\n",
      "{'method': 'feather', 'save_time': 0.34909796714782715, 'read_time': 0.3886462926864624, 'file_size': 634.9402027130127, 'compression': 'uncompressed'}\n",
      "{'method': 'feather', 'save_time': 1.2294721603393555, 'read_time': 0.5222255706787109, 'file_size': 299.8126850128174}\n"
     ]
    }
   ],
   "source": [
    "# feather\n",
    "for c in [\"lz4\", \"zstd\", \"uncompressed\", None]:\n",
    "    r = evaluate_performance(df, \"feather\", compression=c)\n",
    "    print(r)\n",
    "    eval_results.append(r)"
   ]
  },
  {
   "cell_type": "code",
   "execution_count": 13,
   "metadata": {},
   "outputs": [
    {
     "name": "stdout",
     "output_type": "stream",
     "text": [
      "{'method': 'csv', 'save_time': 27.928407907485962, 'read_time': 5.582700610160828, 'file_size': 199.06094551086426, 'compression': 'zip'}\n",
      "{'method': 'csv', 'save_time': 31.420535802841187, 'read_time': 6.85960431098938, 'file_size': 198.52455234527588, 'compression': 'gzip'}\n",
      "{'method': 'csv', 'save_time': 59.6335711479187, 'read_time': 16.715923690795897, 'file_size': 153.63997840881348, 'compression': 'bz2'}\n",
      "{'method': 'csv', 'save_time': 13.036777973175049, 'read_time': 5.474856877326966, 'file_size': 184.91983795166016, 'compression': 'zstd'}\n",
      "{'method': 'csv', 'save_time': 210.9705958366394, 'read_time': 11.318626832962035, 'file_size': 131.49831008911133, 'compression': 'xz'}\n",
      "{'method': 'csv', 'save_time': 11.099073886871338, 'read_time': 4.967163324356079, 'file_size': 690.419921875, 'compression': 'tar'}\n",
      "{'method': 'csv', 'save_time': 11.002596139907837, 'read_time': 4.9080727100372314, 'file_size': 690.4112892150879}\n"
     ]
    }
   ],
   "source": [
    "# csv\n",
    "for c in ['zip', 'gzip', 'bz2', 'zstd', 'xz', 'tar', None]:\n",
    "    r = evaluate_performance(df, \"csv\", compression=c)\n",
    "    print(r)\n",
    "    eval_results.append(r)"
   ]
  },
  {
   "cell_type": "code",
   "execution_count": 14,
   "metadata": {},
   "outputs": [
    {
     "data": {
      "text/html": [
       "<div>\n",
       "<style scoped>\n",
       "    .dataframe tbody tr th:only-of-type {\n",
       "        vertical-align: middle;\n",
       "    }\n",
       "\n",
       "    .dataframe tbody tr th {\n",
       "        vertical-align: top;\n",
       "    }\n",
       "\n",
       "    .dataframe thead th {\n",
       "        text-align: right;\n",
       "    }\n",
       "</style>\n",
       "<table border=\"1\" class=\"dataframe\">\n",
       "  <thead>\n",
       "    <tr style=\"text-align: right;\">\n",
       "      <th></th>\n",
       "      <th>method</th>\n",
       "      <th>save_time</th>\n",
       "      <th>read_time</th>\n",
       "      <th>file_size</th>\n",
       "      <th>compression</th>\n",
       "      <th>compression_level</th>\n",
       "    </tr>\n",
       "  </thead>\n",
       "  <tbody>\n",
       "    <tr>\n",
       "      <th>0</th>\n",
       "      <td>parquet</td>\n",
       "      <td>1.747469</td>\n",
       "      <td>0.965550</td>\n",
       "      <td>205.075191</td>\n",
       "      <td>zstd</td>\n",
       "      <td>1.0</td>\n",
       "    </tr>\n",
       "    <tr>\n",
       "      <th>1</th>\n",
       "      <td>parquet</td>\n",
       "      <td>2.159285</td>\n",
       "      <td>1.015228</td>\n",
       "      <td>190.356055</td>\n",
       "      <td>zstd</td>\n",
       "      <td>2.0</td>\n",
       "    </tr>\n",
       "    <tr>\n",
       "      <th>2</th>\n",
       "      <td>parquet</td>\n",
       "      <td>2.424292</td>\n",
       "      <td>0.995832</td>\n",
       "      <td>181.886868</td>\n",
       "      <td>zstd</td>\n",
       "      <td>3.0</td>\n",
       "    </tr>\n",
       "    <tr>\n",
       "      <th>3</th>\n",
       "      <td>parquet</td>\n",
       "      <td>2.559853</td>\n",
       "      <td>0.977943</td>\n",
       "      <td>179.639732</td>\n",
       "      <td>zstd</td>\n",
       "      <td>4.0</td>\n",
       "    </tr>\n",
       "    <tr>\n",
       "      <th>4</th>\n",
       "      <td>parquet</td>\n",
       "      <td>3.996116</td>\n",
       "      <td>0.999663</td>\n",
       "      <td>174.038116</td>\n",
       "      <td>zstd</td>\n",
       "      <td>5.0</td>\n",
       "    </tr>\n",
       "    <tr>\n",
       "      <th>...</th>\n",
       "      <td>...</td>\n",
       "      <td>...</td>\n",
       "      <td>...</td>\n",
       "      <td>...</td>\n",
       "      <td>...</td>\n",
       "      <td>...</td>\n",
       "    </tr>\n",
       "    <tr>\n",
       "      <th>92</th>\n",
       "      <td>csv</td>\n",
       "      <td>59.633571</td>\n",
       "      <td>16.715924</td>\n",
       "      <td>153.639978</td>\n",
       "      <td>bz2</td>\n",
       "      <td>NaN</td>\n",
       "    </tr>\n",
       "    <tr>\n",
       "      <th>93</th>\n",
       "      <td>csv</td>\n",
       "      <td>13.036778</td>\n",
       "      <td>5.474857</td>\n",
       "      <td>184.919838</td>\n",
       "      <td>zstd</td>\n",
       "      <td>NaN</td>\n",
       "    </tr>\n",
       "    <tr>\n",
       "      <th>94</th>\n",
       "      <td>csv</td>\n",
       "      <td>210.970596</td>\n",
       "      <td>11.318627</td>\n",
       "      <td>131.498310</td>\n",
       "      <td>xz</td>\n",
       "      <td>NaN</td>\n",
       "    </tr>\n",
       "    <tr>\n",
       "      <th>95</th>\n",
       "      <td>csv</td>\n",
       "      <td>11.099074</td>\n",
       "      <td>4.967163</td>\n",
       "      <td>690.419922</td>\n",
       "      <td>tar</td>\n",
       "      <td>NaN</td>\n",
       "    </tr>\n",
       "    <tr>\n",
       "      <th>96</th>\n",
       "      <td>csv</td>\n",
       "      <td>11.002596</td>\n",
       "      <td>4.908073</td>\n",
       "      <td>690.411289</td>\n",
       "      <td>NaN</td>\n",
       "      <td>NaN</td>\n",
       "    </tr>\n",
       "  </tbody>\n",
       "</table>\n",
       "<p>97 rows × 6 columns</p>\n",
       "</div>"
      ],
      "text/plain": [
       "     method   save_time  read_time   file_size compression  compression_level\n",
       "0   parquet    1.747469   0.965550  205.075191        zstd                1.0\n",
       "1   parquet    2.159285   1.015228  190.356055        zstd                2.0\n",
       "2   parquet    2.424292   0.995832  181.886868        zstd                3.0\n",
       "3   parquet    2.559853   0.977943  179.639732        zstd                4.0\n",
       "4   parquet    3.996116   0.999663  174.038116        zstd                5.0\n",
       "..      ...         ...        ...         ...         ...                ...\n",
       "92      csv   59.633571  16.715924  153.639978         bz2                NaN\n",
       "93      csv   13.036778   5.474857  184.919838        zstd                NaN\n",
       "94      csv  210.970596  11.318627  131.498310          xz                NaN\n",
       "95      csv   11.099074   4.967163  690.419922         tar                NaN\n",
       "96      csv   11.002596   4.908073  690.411289         NaN                NaN\n",
       "\n",
       "[97 rows x 6 columns]"
      ]
     },
     "execution_count": 14,
     "metadata": {},
     "output_type": "execute_result"
    }
   ],
   "source": [
    "df = pd.DataFrame(eval_results)\n",
    "df"
   ]
  },
  {
   "cell_type": "code",
   "execution_count": 15,
   "metadata": {},
   "outputs": [
    {
     "data": {
      "text/html": [
       "<div>\n",
       "<style scoped>\n",
       "    .dataframe tbody tr th:only-of-type {\n",
       "        vertical-align: middle;\n",
       "    }\n",
       "\n",
       "    .dataframe tbody tr th {\n",
       "        vertical-align: top;\n",
       "    }\n",
       "\n",
       "    .dataframe thead th {\n",
       "        text-align: right;\n",
       "    }\n",
       "</style>\n",
       "<table border=\"1\" class=\"dataframe\">\n",
       "  <thead>\n",
       "    <tr style=\"text-align: right;\">\n",
       "      <th></th>\n",
       "      <th>method</th>\n",
       "      <th>save_time</th>\n",
       "      <th>read_time</th>\n",
       "      <th>file_size</th>\n",
       "      <th>compression</th>\n",
       "      <th>compression_level</th>\n",
       "      <th>comp_ratio</th>\n",
       "    </tr>\n",
       "  </thead>\n",
       "  <tbody>\n",
       "    <tr>\n",
       "      <th>0</th>\n",
       "      <td>parquet</td>\n",
       "      <td>1.747469</td>\n",
       "      <td>0.965550</td>\n",
       "      <td>205.075191</td>\n",
       "      <td>zstd</td>\n",
       "      <td>1.0</td>\n",
       "      <td>3.830081</td>\n",
       "    </tr>\n",
       "    <tr>\n",
       "      <th>1</th>\n",
       "      <td>parquet</td>\n",
       "      <td>2.159285</td>\n",
       "      <td>1.015228</td>\n",
       "      <td>190.356055</td>\n",
       "      <td>zstd</td>\n",
       "      <td>2.0</td>\n",
       "      <td>4.126239</td>\n",
       "    </tr>\n",
       "    <tr>\n",
       "      <th>2</th>\n",
       "      <td>parquet</td>\n",
       "      <td>2.424292</td>\n",
       "      <td>0.995832</td>\n",
       "      <td>181.886868</td>\n",
       "      <td>zstd</td>\n",
       "      <td>3.0</td>\n",
       "      <td>4.318369</td>\n",
       "    </tr>\n",
       "    <tr>\n",
       "      <th>3</th>\n",
       "      <td>parquet</td>\n",
       "      <td>2.559853</td>\n",
       "      <td>0.977943</td>\n",
       "      <td>179.639732</td>\n",
       "      <td>zstd</td>\n",
       "      <td>4.0</td>\n",
       "      <td>4.372388</td>\n",
       "    </tr>\n",
       "    <tr>\n",
       "      <th>4</th>\n",
       "      <td>parquet</td>\n",
       "      <td>3.996116</td>\n",
       "      <td>0.999663</td>\n",
       "      <td>174.038116</td>\n",
       "      <td>zstd</td>\n",
       "      <td>5.0</td>\n",
       "      <td>4.513119</td>\n",
       "    </tr>\n",
       "    <tr>\n",
       "      <th>...</th>\n",
       "      <td>...</td>\n",
       "      <td>...</td>\n",
       "      <td>...</td>\n",
       "      <td>...</td>\n",
       "      <td>...</td>\n",
       "      <td>...</td>\n",
       "      <td>...</td>\n",
       "    </tr>\n",
       "    <tr>\n",
       "      <th>92</th>\n",
       "      <td>csv</td>\n",
       "      <td>59.633571</td>\n",
       "      <td>16.715924</td>\n",
       "      <td>153.639978</td>\n",
       "      <td>bz2</td>\n",
       "      <td>NaN</td>\n",
       "      <td>5.112307</td>\n",
       "    </tr>\n",
       "    <tr>\n",
       "      <th>93</th>\n",
       "      <td>csv</td>\n",
       "      <td>13.036778</td>\n",
       "      <td>5.474857</td>\n",
       "      <td>184.919838</td>\n",
       "      <td>zstd</td>\n",
       "      <td>NaN</td>\n",
       "      <td>4.247541</td>\n",
       "    </tr>\n",
       "    <tr>\n",
       "      <th>94</th>\n",
       "      <td>csv</td>\n",
       "      <td>210.970596</td>\n",
       "      <td>11.318627</td>\n",
       "      <td>131.498310</td>\n",
       "      <td>xz</td>\n",
       "      <td>NaN</td>\n",
       "      <td>5.973116</td>\n",
       "    </tr>\n",
       "    <tr>\n",
       "      <th>95</th>\n",
       "      <td>csv</td>\n",
       "      <td>11.099074</td>\n",
       "      <td>4.967163</td>\n",
       "      <td>690.419922</td>\n",
       "      <td>tar</td>\n",
       "      <td>NaN</td>\n",
       "      <td>1.137648</td>\n",
       "    </tr>\n",
       "    <tr>\n",
       "      <th>96</th>\n",
       "      <td>csv</td>\n",
       "      <td>11.002596</td>\n",
       "      <td>4.908073</td>\n",
       "      <td>690.411289</td>\n",
       "      <td>NaN</td>\n",
       "      <td>NaN</td>\n",
       "      <td>1.137662</td>\n",
       "    </tr>\n",
       "  </tbody>\n",
       "</table>\n",
       "<p>97 rows × 7 columns</p>\n",
       "</div>"
      ],
      "text/plain": [
       "     method   save_time  read_time   file_size compression  compression_level  \\\n",
       "0   parquet    1.747469   0.965550  205.075191        zstd                1.0   \n",
       "1   parquet    2.159285   1.015228  190.356055        zstd                2.0   \n",
       "2   parquet    2.424292   0.995832  181.886868        zstd                3.0   \n",
       "3   parquet    2.559853   0.977943  179.639732        zstd                4.0   \n",
       "4   parquet    3.996116   0.999663  174.038116        zstd                5.0   \n",
       "..      ...         ...        ...         ...         ...                ...   \n",
       "92      csv   59.633571  16.715924  153.639978         bz2                NaN   \n",
       "93      csv   13.036778   5.474857  184.919838        zstd                NaN   \n",
       "94      csv  210.970596  11.318627  131.498310          xz                NaN   \n",
       "95      csv   11.099074   4.967163  690.419922         tar                NaN   \n",
       "96      csv   11.002596   4.908073  690.411289         NaN                NaN   \n",
       "\n",
       "    comp_ratio  \n",
       "0     3.830081  \n",
       "1     4.126239  \n",
       "2     4.318369  \n",
       "3     4.372388  \n",
       "4     4.513119  \n",
       "..         ...  \n",
       "92    5.112307  \n",
       "93    4.247541  \n",
       "94    5.973116  \n",
       "95    1.137648  \n",
       "96    1.137662  \n",
       "\n",
       "[97 rows x 7 columns]"
      ]
     },
     "execution_count": 15,
     "metadata": {},
     "output_type": "execute_result"
    }
   ],
   "source": [
    "df[\"comp_ratio\"] = mem_size_mb / df[\"file_size\"]\n",
    "df"
   ]
  },
  {
   "cell_type": "code",
   "execution_count": 16,
   "metadata": {},
   "outputs": [],
   "source": [
    "df.to_pickle(\"./data/test_results_02.pkl.gz\", compression=\"gzip\")"
   ]
  },
  {
   "cell_type": "code",
   "execution_count": null,
   "metadata": {},
   "outputs": [],
   "source": []
  }
 ],
 "metadata": {
  "kernelspec": {
   "display_name": ".venv",
   "language": "python",
   "name": "python3"
  },
  "language_info": {
   "codemirror_mode": {
    "name": "ipython",
    "version": 3
   },
   "file_extension": ".py",
   "mimetype": "text/x-python",
   "name": "python",
   "nbconvert_exporter": "python",
   "pygments_lexer": "ipython3",
   "version": "3.11.9"
  }
 },
 "nbformat": 4,
 "nbformat_minor": 2
}
