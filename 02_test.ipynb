{
 "cells": [
  {
   "cell_type": "code",
   "execution_count": 1,
   "metadata": {},
   "outputs": [],
   "source": [
    "import pandas as pd\n",
    "import time\n",
    "from typing import Literal\n",
    "from functools import partial\n",
    "from typing import Optional\n",
    "import os\n",
    "from tqdm import tqdm"
   ]
  },
  {
   "cell_type": "code",
   "execution_count": 2,
   "metadata": {},
   "outputs": [
    {
     "data": {
      "text/html": [
       "<div>\n",
       "<style scoped>\n",
       "    .dataframe tbody tr th:only-of-type {\n",
       "        vertical-align: middle;\n",
       "    }\n",
       "\n",
       "    .dataframe tbody tr th {\n",
       "        vertical-align: top;\n",
       "    }\n",
       "\n",
       "    .dataframe thead th {\n",
       "        text-align: right;\n",
       "    }\n",
       "</style>\n",
       "<table border=\"1\" class=\"dataframe\">\n",
       "  <thead>\n",
       "    <tr style=\"text-align: right;\">\n",
       "      <th></th>\n",
       "      <th>text</th>\n",
       "      <th>uuid</th>\n",
       "      <th>int_0</th>\n",
       "      <th>int_1</th>\n",
       "      <th>int_2</th>\n",
       "      <th>int_3</th>\n",
       "      <th>int_4</th>\n",
       "      <th>int_5</th>\n",
       "      <th>int_6</th>\n",
       "      <th>int_7</th>\n",
       "      <th>...</th>\n",
       "      <th>float_10</th>\n",
       "      <th>float_11</th>\n",
       "      <th>float_12</th>\n",
       "      <th>float_13</th>\n",
       "      <th>float_14</th>\n",
       "      <th>float_15</th>\n",
       "      <th>float_16</th>\n",
       "      <th>float_17</th>\n",
       "      <th>float_18</th>\n",
       "      <th>float_19</th>\n",
       "    </tr>\n",
       "  </thead>\n",
       "  <tbody>\n",
       "    <tr>\n",
       "      <th>0</th>\n",
       "      <td>Write an article based on this \"A man has been...</td>\n",
       "      <td>227f72fe-fecc-4a8b-83fd-4c0bf79044b5</td>\n",
       "      <td>-1848</td>\n",
       "      <td>-7448</td>\n",
       "      <td>7011</td>\n",
       "      <td>-9271</td>\n",
       "      <td>-818</td>\n",
       "      <td>7723</td>\n",
       "      <td>7408</td>\n",
       "      <td>2765</td>\n",
       "      <td>...</td>\n",
       "      <td>1070.510375</td>\n",
       "      <td>-2632.194811</td>\n",
       "      <td>-1511.181933</td>\n",
       "      <td>3382.551305</td>\n",
       "      <td>2358.230930</td>\n",
       "      <td>6346.687782</td>\n",
       "      <td>7923.668912</td>\n",
       "      <td>7232.114931</td>\n",
       "      <td>-266.226245</td>\n",
       "      <td>-9490.335888</td>\n",
       "    </tr>\n",
       "    <tr>\n",
       "      <th>1</th>\n",
       "      <td>Answer the following question: - number is 54 ...</td>\n",
       "      <td>43f035e4-7905-4d4e-9b78-9ce1dbe3f15e</td>\n",
       "      <td>9485</td>\n",
       "      <td>3322</td>\n",
       "      <td>-210</td>\n",
       "      <td>4539</td>\n",
       "      <td>-5712</td>\n",
       "      <td>-6642</td>\n",
       "      <td>-6763</td>\n",
       "      <td>5408</td>\n",
       "      <td>...</td>\n",
       "      <td>9887.030489</td>\n",
       "      <td>1584.941985</td>\n",
       "      <td>1049.882522</td>\n",
       "      <td>-7057.736693</td>\n",
       "      <td>3311.705920</td>\n",
       "      <td>9250.504381</td>\n",
       "      <td>-5306.747252</td>\n",
       "      <td>4346.091141</td>\n",
       "      <td>3705.083462</td>\n",
       "      <td>586.077705</td>\n",
       "    </tr>\n",
       "    <tr>\n",
       "      <th>2</th>\n",
       "      <td>Produce a long descriptive sentence that uses ...</td>\n",
       "      <td>7d6cf004-4fc9-44b2-abbb-6aa6bb9e111f</td>\n",
       "      <td>-6568</td>\n",
       "      <td>-1429</td>\n",
       "      <td>7863</td>\n",
       "      <td>-5897</td>\n",
       "      <td>-4845</td>\n",
       "      <td>-9337</td>\n",
       "      <td>-4177</td>\n",
       "      <td>4800</td>\n",
       "      <td>...</td>\n",
       "      <td>122.453601</td>\n",
       "      <td>-6977.767998</td>\n",
       "      <td>-1533.505752</td>\n",
       "      <td>8333.095625</td>\n",
       "      <td>8700.795720</td>\n",
       "      <td>668.340118</td>\n",
       "      <td>4788.639416</td>\n",
       "      <td>-5222.894166</td>\n",
       "      <td>189.314977</td>\n",
       "      <td>-749.222275</td>\n",
       "    </tr>\n",
       "    <tr>\n",
       "      <th>3</th>\n",
       "      <td>Write a title for this article:\\n\\nArbitration...</td>\n",
       "      <td>1391998a-7260-4037-a886-fdba49282e8f</td>\n",
       "      <td>9467</td>\n",
       "      <td>-7638</td>\n",
       "      <td>5174</td>\n",
       "      <td>9196</td>\n",
       "      <td>-2378</td>\n",
       "      <td>9352</td>\n",
       "      <td>-4298</td>\n",
       "      <td>7949</td>\n",
       "      <td>...</td>\n",
       "      <td>5982.354362</td>\n",
       "      <td>-8063.945081</td>\n",
       "      <td>1541.905625</td>\n",
       "      <td>-9395.554755</td>\n",
       "      <td>1492.364621</td>\n",
       "      <td>7765.053363</td>\n",
       "      <td>6506.765269</td>\n",
       "      <td>2367.205007</td>\n",
       "      <td>-785.401680</td>\n",
       "      <td>-5978.024988</td>\n",
       "    </tr>\n",
       "    <tr>\n",
       "      <th>4</th>\n",
       "      <td>Read the following paragraph and determine if ...</td>\n",
       "      <td>5d1a24d4-e1d3-4e94-aabd-e58af037cfb3</td>\n",
       "      <td>-9609</td>\n",
       "      <td>-2289</td>\n",
       "      <td>-5844</td>\n",
       "      <td>3732</td>\n",
       "      <td>9806</td>\n",
       "      <td>-9914</td>\n",
       "      <td>3537</td>\n",
       "      <td>5583</td>\n",
       "      <td>...</td>\n",
       "      <td>4007.461801</td>\n",
       "      <td>-1500.406799</td>\n",
       "      <td>2546.834503</td>\n",
       "      <td>-3985.334523</td>\n",
       "      <td>8679.221751</td>\n",
       "      <td>6246.762728</td>\n",
       "      <td>1169.103626</td>\n",
       "      <td>-6382.974071</td>\n",
       "      <td>-2610.357519</td>\n",
       "      <td>4656.015420</td>\n",
       "    </tr>\n",
       "    <tr>\n",
       "      <th>...</th>\n",
       "      <td>...</td>\n",
       "      <td>...</td>\n",
       "      <td>...</td>\n",
       "      <td>...</td>\n",
       "      <td>...</td>\n",
       "      <td>...</td>\n",
       "      <td>...</td>\n",
       "      <td>...</td>\n",
       "      <td>...</td>\n",
       "      <td>...</td>\n",
       "      <td>...</td>\n",
       "      <td>...</td>\n",
       "      <td>...</td>\n",
       "      <td>...</td>\n",
       "      <td>...</td>\n",
       "      <td>...</td>\n",
       "      <td>...</td>\n",
       "      <td>...</td>\n",
       "      <td>...</td>\n",
       "      <td>...</td>\n",
       "      <td>...</td>\n",
       "    </tr>\n",
       "    <tr>\n",
       "      <th>363486</th>\n",
       "      <td>Q: Context: Dragon Ball Z (ドラゴンボール ゼット, Dorago...</td>\n",
       "      <td>e28c91e5-2115-473b-b31e-dd144a23ff5c</td>\n",
       "      <td>2524</td>\n",
       "      <td>-6655</td>\n",
       "      <td>7295</td>\n",
       "      <td>-8549</td>\n",
       "      <td>9114</td>\n",
       "      <td>-3688</td>\n",
       "      <td>-1763</td>\n",
       "      <td>5185</td>\n",
       "      <td>...</td>\n",
       "      <td>1708.789279</td>\n",
       "      <td>-9009.858048</td>\n",
       "      <td>7385.617783</td>\n",
       "      <td>-706.417619</td>\n",
       "      <td>-7424.619217</td>\n",
       "      <td>-2887.129320</td>\n",
       "      <td>-7133.300432</td>\n",
       "      <td>-9886.948402</td>\n",
       "      <td>520.655812</td>\n",
       "      <td>1172.371076</td>\n",
       "    </tr>\n",
       "    <tr>\n",
       "      <th>363487</th>\n",
       "      <td>My question is: At the beginning of an academi...</td>\n",
       "      <td>a520be4b-773c-4147-b06a-47a74687060d</td>\n",
       "      <td>-8329</td>\n",
       "      <td>-9144</td>\n",
       "      <td>-8182</td>\n",
       "      <td>-6010</td>\n",
       "      <td>-6693</td>\n",
       "      <td>-2829</td>\n",
       "      <td>-1539</td>\n",
       "      <td>-7076</td>\n",
       "      <td>...</td>\n",
       "      <td>9303.174804</td>\n",
       "      <td>-6311.456145</td>\n",
       "      <td>9012.214267</td>\n",
       "      <td>3875.721583</td>\n",
       "      <td>3114.162623</td>\n",
       "      <td>2359.850872</td>\n",
       "      <td>5780.628130</td>\n",
       "      <td>7284.598954</td>\n",
       "      <td>5170.040989</td>\n",
       "      <td>927.500877</td>\n",
       "    </tr>\n",
       "    <tr>\n",
       "      <th>363488</th>\n",
       "      <td>Leo: Given the sentence \"A small child in wate...</td>\n",
       "      <td>4fde38d0-d92e-40f4-8dd1-d0499f1f04b0</td>\n",
       "      <td>1880</td>\n",
       "      <td>-7913</td>\n",
       "      <td>-8065</td>\n",
       "      <td>1328</td>\n",
       "      <td>-4772</td>\n",
       "      <td>7595</td>\n",
       "      <td>-993</td>\n",
       "      <td>3088</td>\n",
       "      <td>...</td>\n",
       "      <td>-5330.552098</td>\n",
       "      <td>3927.901481</td>\n",
       "      <td>-112.163506</td>\n",
       "      <td>-8667.423113</td>\n",
       "      <td>6856.692759</td>\n",
       "      <td>-1924.300261</td>\n",
       "      <td>-7216.503573</td>\n",
       "      <td>6365.602925</td>\n",
       "      <td>1535.116783</td>\n",
       "      <td>-8458.252345</td>\n",
       "    </tr>\n",
       "    <tr>\n",
       "      <th>363489</th>\n",
       "      <td>Explain simply why yes is the correct answer t...</td>\n",
       "      <td>fc592a4e-986b-4502-be87-39beee10c6a9</td>\n",
       "      <td>-9594</td>\n",
       "      <td>-3164</td>\n",
       "      <td>-306</td>\n",
       "      <td>9538</td>\n",
       "      <td>5491</td>\n",
       "      <td>9416</td>\n",
       "      <td>-2350</td>\n",
       "      <td>6787</td>\n",
       "      <td>...</td>\n",
       "      <td>-5342.596101</td>\n",
       "      <td>3930.096931</td>\n",
       "      <td>4469.888351</td>\n",
       "      <td>4613.697146</td>\n",
       "      <td>1460.793708</td>\n",
       "      <td>3206.175178</td>\n",
       "      <td>529.310585</td>\n",
       "      <td>-1578.960446</td>\n",
       "      <td>-8725.192612</td>\n",
       "      <td>-5633.208819</td>\n",
       "    </tr>\n",
       "    <tr>\n",
       "      <th>363490</th>\n",
       "      <td>**Q**\\nIs the following sentence factually cor...</td>\n",
       "      <td>ad358f30-915e-4683-8d13-2cdf814d0070</td>\n",
       "      <td>-4989</td>\n",
       "      <td>580</td>\n",
       "      <td>-8582</td>\n",
       "      <td>7421</td>\n",
       "      <td>6190</td>\n",
       "      <td>-8987</td>\n",
       "      <td>370</td>\n",
       "      <td>-3363</td>\n",
       "      <td>...</td>\n",
       "      <td>6036.315256</td>\n",
       "      <td>-3952.453886</td>\n",
       "      <td>-1732.808915</td>\n",
       "      <td>7365.363335</td>\n",
       "      <td>-5.331142</td>\n",
       "      <td>8063.312418</td>\n",
       "      <td>-3826.200507</td>\n",
       "      <td>6094.634619</td>\n",
       "      <td>8676.304071</td>\n",
       "      <td>-5720.047864</td>\n",
       "    </tr>\n",
       "  </tbody>\n",
       "</table>\n",
       "<p>363491 rows × 42 columns</p>\n",
       "</div>"
      ],
      "text/plain": [
       "                                                     text  \\\n",
       "0       Write an article based on this \"A man has been...   \n",
       "1       Answer the following question: - number is 54 ...   \n",
       "2       Produce a long descriptive sentence that uses ...   \n",
       "3       Write a title for this article:\\n\\nArbitration...   \n",
       "4       Read the following paragraph and determine if ...   \n",
       "...                                                   ...   \n",
       "363486  Q: Context: Dragon Ball Z (ドラゴンボール ゼット, Dorago...   \n",
       "363487  My question is: At the beginning of an academi...   \n",
       "363488  Leo: Given the sentence \"A small child in wate...   \n",
       "363489  Explain simply why yes is the correct answer t...   \n",
       "363490  **Q**\\nIs the following sentence factually cor...   \n",
       "\n",
       "                                        uuid  int_0  int_1  int_2  int_3  \\\n",
       "0       227f72fe-fecc-4a8b-83fd-4c0bf79044b5  -1848  -7448   7011  -9271   \n",
       "1       43f035e4-7905-4d4e-9b78-9ce1dbe3f15e   9485   3322   -210   4539   \n",
       "2       7d6cf004-4fc9-44b2-abbb-6aa6bb9e111f  -6568  -1429   7863  -5897   \n",
       "3       1391998a-7260-4037-a886-fdba49282e8f   9467  -7638   5174   9196   \n",
       "4       5d1a24d4-e1d3-4e94-aabd-e58af037cfb3  -9609  -2289  -5844   3732   \n",
       "...                                      ...    ...    ...    ...    ...   \n",
       "363486  e28c91e5-2115-473b-b31e-dd144a23ff5c   2524  -6655   7295  -8549   \n",
       "363487  a520be4b-773c-4147-b06a-47a74687060d  -8329  -9144  -8182  -6010   \n",
       "363488  4fde38d0-d92e-40f4-8dd1-d0499f1f04b0   1880  -7913  -8065   1328   \n",
       "363489  fc592a4e-986b-4502-be87-39beee10c6a9  -9594  -3164   -306   9538   \n",
       "363490  ad358f30-915e-4683-8d13-2cdf814d0070  -4989    580  -8582   7421   \n",
       "\n",
       "        int_4  int_5  int_6  int_7  ...     float_10     float_11  \\\n",
       "0        -818   7723   7408   2765  ...  1070.510375 -2632.194811   \n",
       "1       -5712  -6642  -6763   5408  ...  9887.030489  1584.941985   \n",
       "2       -4845  -9337  -4177   4800  ...   122.453601 -6977.767998   \n",
       "3       -2378   9352  -4298   7949  ...  5982.354362 -8063.945081   \n",
       "4        9806  -9914   3537   5583  ...  4007.461801 -1500.406799   \n",
       "...       ...    ...    ...    ...  ...          ...          ...   \n",
       "363486   9114  -3688  -1763   5185  ...  1708.789279 -9009.858048   \n",
       "363487  -6693  -2829  -1539  -7076  ...  9303.174804 -6311.456145   \n",
       "363488  -4772   7595   -993   3088  ... -5330.552098  3927.901481   \n",
       "363489   5491   9416  -2350   6787  ... -5342.596101  3930.096931   \n",
       "363490   6190  -8987    370  -3363  ...  6036.315256 -3952.453886   \n",
       "\n",
       "           float_12     float_13     float_14     float_15     float_16  \\\n",
       "0      -1511.181933  3382.551305  2358.230930  6346.687782  7923.668912   \n",
       "1       1049.882522 -7057.736693  3311.705920  9250.504381 -5306.747252   \n",
       "2      -1533.505752  8333.095625  8700.795720   668.340118  4788.639416   \n",
       "3       1541.905625 -9395.554755  1492.364621  7765.053363  6506.765269   \n",
       "4       2546.834503 -3985.334523  8679.221751  6246.762728  1169.103626   \n",
       "...             ...          ...          ...          ...          ...   \n",
       "363486  7385.617783  -706.417619 -7424.619217 -2887.129320 -7133.300432   \n",
       "363487  9012.214267  3875.721583  3114.162623  2359.850872  5780.628130   \n",
       "363488  -112.163506 -8667.423113  6856.692759 -1924.300261 -7216.503573   \n",
       "363489  4469.888351  4613.697146  1460.793708  3206.175178   529.310585   \n",
       "363490 -1732.808915  7365.363335    -5.331142  8063.312418 -3826.200507   \n",
       "\n",
       "           float_17     float_18     float_19  \n",
       "0       7232.114931  -266.226245 -9490.335888  \n",
       "1       4346.091141  3705.083462   586.077705  \n",
       "2      -5222.894166   189.314977  -749.222275  \n",
       "3       2367.205007  -785.401680 -5978.024988  \n",
       "4      -6382.974071 -2610.357519  4656.015420  \n",
       "...             ...          ...          ...  \n",
       "363486 -9886.948402   520.655812  1172.371076  \n",
       "363487  7284.598954  5170.040989   927.500877  \n",
       "363488  6365.602925  1535.116783 -8458.252345  \n",
       "363489 -1578.960446 -8725.192612 -5633.208819  \n",
       "363490  6094.634619  8676.304071 -5720.047864  \n",
       "\n",
       "[363491 rows x 42 columns]"
      ]
     },
     "execution_count": 2,
     "metadata": {},
     "output_type": "execute_result"
    }
   ],
   "source": [
    "df = pd.read_pickle(\"./data/data_02.pkl.gz\")\n",
    "df"
   ]
  },
  {
   "cell_type": "code",
   "execution_count": 3,
   "metadata": {},
   "outputs": [
    {
     "data": {
      "text/plain": [
       "np.int64(823608914)"
      ]
     },
     "execution_count": 3,
     "metadata": {},
     "output_type": "execute_result"
    }
   ],
   "source": [
    "# total memory usage in bytes without index\n",
    "# see https://pandas.pydata.org/docs/reference/api/pandas.DataFrame.memory_usage.html\n",
    "mem_usage = df.memory_usage(index=False, deep=True).sum()\n",
    "mem_usage"
   ]
  },
  {
   "cell_type": "code",
   "execution_count": 4,
   "metadata": {},
   "outputs": [
    {
     "data": {
      "text/plain": [
       "np.float64(785.454668045044)"
      ]
     },
     "execution_count": 4,
     "metadata": {},
     "output_type": "execute_result"
    }
   ],
   "source": [
    "# total memory usage in m_bytes without index\n",
    "mem_size_mb = mem_usage / 1024 / 1024\n",
    "mem_size_mb"
   ]
  },
  {
   "cell_type": "code",
   "execution_count": 5,
   "metadata": {},
   "outputs": [],
   "source": [
    "def evaluate_performance(\n",
    "        df,\n",
    "        method: Literal[\"csv\", \"parquet\"],\n",
    "        compression: Optional[str] = None,\n",
    "        compression_level: Optional[int] = None,\n",
    "    ) -> dict:\n",
    "    filename = f\"./test_data/data.{method}\"\n",
    "\n",
    "    # set save_fn and read_fn\n",
    "    save_fn = None\n",
    "    read_fn = None\n",
    "    additional_save_params = {}\n",
    "    if method == \"csv\":\n",
    "        if compression is not None:\n",
    "            additional_save_params[\"compression\"] = compression\n",
    "        assert compression_level is None\n",
    "        save_fn = partial(df.to_csv, index=False, path_or_buf=filename, **additional_save_params)\n",
    "        read_fn = partial(pd.read_csv, filepath_or_buffer=filename, **additional_save_params)\n",
    "    elif method == \"parquet\":\n",
    "        if compression is not None:\n",
    "            additional_save_params[\"compression\"] = compression\n",
    "        if compression_level is not None:\n",
    "            additional_save_params[\"compression_level\"] = compression_level\n",
    "        save_fn = partial(df.to_parquet, index=False, engine=\"pyarrow\", path=filename, **additional_save_params)\n",
    "        read_fn = partial(pd.read_parquet, path=filename, engine=\"pyarrow\")\n",
    "    elif method == \"feather\":\n",
    "        if compression is not None:\n",
    "            additional_save_params[\"compression\"] = compression\n",
    "        if compression_level is not None:\n",
    "            additional_save_params[\"compression_level\"] = compression_level\n",
    "        save_fn = partial(df.to_feather, path=filename, **additional_save_params)\n",
    "        read_fn = partial(pd.read_feather, path=filename)\n",
    "    assert save_fn is not None\n",
    "    assert read_fn is not None\n",
    "\n",
    "\n",
    "    # write\n",
    "    start_time = time.time()\n",
    "    save_fn()\n",
    "    save_time = time.time() - start_time\n",
    "    # print(\"save_time:\", save_time)\n",
    "\n",
    "    # read\n",
    "    start_time = time.time()\n",
    "    for _ in range(10):\n",
    "        read_fn()\n",
    "    read_time = (time.time() - start_time) / 10\n",
    "    # print(\"read_time:\", read_time)\n",
    "\n",
    "    # get size\n",
    "    file_size = os.path.getsize(filename) / 1024 / 1024\n",
    "    # print(\"file_size:\", file_size)\n",
    "\n",
    "    # delete file\n",
    "    os.remove(filename)\n",
    "\n",
    "    result = {\n",
    "        \"method\": method,\n",
    "        \"save_time\": save_time,\n",
    "        \"read_time\": read_time,\n",
    "        \"file_size\": file_size,\n",
    "    }\n",
    "\n",
    "    for k, v in additional_save_params.items():\n",
    "        result[k] = v\n",
    "\n",
    "    return result\n"
   ]
  },
  {
   "cell_type": "code",
   "execution_count": 6,
   "metadata": {},
   "outputs": [],
   "source": [
    "eval_results = []"
   ]
  },
  {
   "cell_type": "code",
   "execution_count": 7,
   "metadata": {},
   "outputs": [
    {
     "name": "stderr",
     "output_type": "stream",
     "text": [
      "  5%|▌         | 1/20 [00:12<04:05, 12.94s/it]"
     ]
    },
    {
     "name": "stdout",
     "output_type": "stream",
     "text": [
      "{'method': 'parquet', 'save_time': 2.312278985977173, 'read_time': 1.0616801977157593, 'file_size': 276.7370548248291, 'compression': 'zstd', 'compression_level': 1}\n"
     ]
    },
    {
     "name": "stderr",
     "output_type": "stream",
     "text": [
      " 10%|█         | 2/20 [00:25<03:53, 12.97s/it]"
     ]
    },
    {
     "name": "stdout",
     "output_type": "stream",
     "text": [
      "{'method': 'parquet', 'save_time': 2.5550568103790283, 'read_time': 1.043575406074524, 'file_size': 262.0364189147949, 'compression': 'zstd', 'compression_level': 2}\n"
     ]
    },
    {
     "name": "stderr",
     "output_type": "stream",
     "text": [
      " 15%|█▌        | 3/20 [00:39<03:41, 13.03s/it]"
     ]
    },
    {
     "name": "stdout",
     "output_type": "stream",
     "text": [
      "{'method': 'parquet', 'save_time': 2.830312967300415, 'read_time': 1.0259203910827637, 'file_size': 253.57188892364502, 'compression': 'zstd', 'compression_level': 3}\n"
     ]
    },
    {
     "name": "stderr",
     "output_type": "stream",
     "text": [
      " 20%|██        | 4/20 [00:51<03:27, 12.99s/it]"
     ]
    },
    {
     "name": "stdout",
     "output_type": "stream",
     "text": [
      "{'method': 'parquet', 'save_time': 2.7992680072784424, 'read_time': 1.0134236097335816, 'file_size': 251.29093742370605, 'compression': 'zstd', 'compression_level': 4}\n"
     ]
    },
    {
     "name": "stderr",
     "output_type": "stream",
     "text": [
      " 25%|██▌       | 5/20 [01:06<03:23, 13.54s/it]"
     ]
    },
    {
     "name": "stdout",
     "output_type": "stream",
     "text": [
      "{'method': 'parquet', 'save_time': 4.2797229290008545, 'read_time': 1.0230851650238038, 'file_size': 245.69420337677002, 'compression': 'zstd', 'compression_level': 5}\n"
     ]
    },
    {
     "name": "stderr",
     "output_type": "stream",
     "text": [
      " 30%|███       | 6/20 [01:22<03:20, 14.34s/it]"
     ]
    },
    {
     "name": "stdout",
     "output_type": "stream",
     "text": [
      "{'method': 'parquet', 'save_time': 5.905365943908691, 'read_time': 0.9991514921188355, 'file_size': 240.56724643707275, 'compression': 'zstd', 'compression_level': 6}\n"
     ]
    },
    {
     "name": "stderr",
     "output_type": "stream",
     "text": [
      " 35%|███▌      | 7/20 [01:38<03:16, 15.09s/it]"
     ]
    },
    {
     "name": "stdout",
     "output_type": "stream",
     "text": [
      "{'method': 'parquet', 'save_time': 6.737414836883545, 'read_time': 0.987249779701233, 'file_size': 238.34781455993652, 'compression': 'zstd', 'compression_level': 7}\n"
     ]
    },
    {
     "name": "stderr",
     "output_type": "stream",
     "text": [
      " 40%|████      | 8/20 [01:57<03:12, 16.08s/it]"
     ]
    },
    {
     "name": "stdout",
     "output_type": "stream",
     "text": [
      "{'method': 'parquet', 'save_time': 8.506093263626099, 'read_time': 0.9684303045272827, 'file_size': 236.48412799835205, 'compression': 'zstd', 'compression_level': 8}\n"
     ]
    },
    {
     "name": "stderr",
     "output_type": "stream",
     "text": [
      " 45%|████▌     | 9/20 [02:15<03:04, 16.77s/it]"
     ]
    },
    {
     "name": "stdout",
     "output_type": "stream",
     "text": [
      "{'method': 'parquet', 'save_time': 8.595574855804443, 'read_time': 0.968661093711853, 'file_size': 236.07024574279785, 'compression': 'zstd', 'compression_level': 9}\n"
     ]
    },
    {
     "name": "stderr",
     "output_type": "stream",
     "text": [
      " 50%|█████     | 10/20 [02:35<02:59, 17.91s/it]"
     ]
    },
    {
     "name": "stdout",
     "output_type": "stream",
     "text": [
      "{'method': 'parquet', 'save_time': 11.042462348937988, 'read_time': 0.9419200897216797, 'file_size': 234.6721591949463, 'compression': 'zstd', 'compression_level': 10}\n"
     ]
    },
    {
     "name": "stderr",
     "output_type": "stream",
     "text": [
      " 55%|█████▌    | 11/20 [02:59<02:56, 19.58s/it]"
     ]
    },
    {
     "name": "stdout",
     "output_type": "stream",
     "text": [
      "{'method': 'parquet', 'save_time': 13.962411642074585, 'read_time': 0.9412861108779907, 'file_size': 233.91981601715088, 'compression': 'zstd', 'compression_level': 11}\n"
     ]
    },
    {
     "name": "stderr",
     "output_type": "stream",
     "text": [
      " 60%|██████    | 12/20 [03:22<02:45, 20.72s/it]"
     ]
    },
    {
     "name": "stdout",
     "output_type": "stream",
     "text": [
      "{'method': 'parquet', 'save_time': 13.933927774429321, 'read_time': 0.9396738052368164, 'file_size': 233.9198350906372, 'compression': 'zstd', 'compression_level': 12}\n"
     ]
    },
    {
     "name": "stderr",
     "output_type": "stream",
     "text": [
      " 65%|██████▌   | 13/20 [04:06<03:13, 27.65s/it]"
     ]
    },
    {
     "name": "stdout",
     "output_type": "stream",
     "text": [
      "{'method': 'parquet', 'save_time': 34.09358263015747, 'read_time': 0.9474082946777344, 'file_size': 232.2176866531372, 'compression': 'zstd', 'compression_level': 13}\n"
     ]
    },
    {
     "name": "stderr",
     "output_type": "stream",
     "text": [
      " 70%|███████   | 14/20 [04:54<03:23, 33.89s/it]"
     ]
    },
    {
     "name": "stdout",
     "output_type": "stream",
     "text": [
      "{'method': 'parquet', 'save_time': 38.85608983039856, 'read_time': 0.9449542045593262, 'file_size': 231.64834594726562, 'compression': 'zstd', 'compression_level': 14}\n"
     ]
    },
    {
     "name": "stderr",
     "output_type": "stream",
     "text": [
      " 75%|███████▌  | 15/20 [05:44<03:14, 38.83s/it]"
     ]
    },
    {
     "name": "stdout",
     "output_type": "stream",
     "text": [
      "{'method': 'parquet', 'save_time': 40.654706954956055, 'read_time': 0.9637369871139526, 'file_size': 231.57147598266602, 'compression': 'zstd', 'compression_level': 15}\n"
     ]
    },
    {
     "name": "stderr",
     "output_type": "stream",
     "text": [
      " 80%|████████  | 16/20 [06:53<03:11, 47.90s/it]"
     ]
    },
    {
     "name": "stdout",
     "output_type": "stream",
     "text": [
      "{'method': 'parquet', 'save_time': 59.31754112243652, 'read_time': 0.9645037889480591, 'file_size': 225.10124588012695, 'compression': 'zstd', 'compression_level': 16}\n"
     ]
    },
    {
     "name": "stderr",
     "output_type": "stream",
     "text": [
      " 85%|████████▌ | 17/20 [08:12<02:51, 57.03s/it]"
     ]
    },
    {
     "name": "stdout",
     "output_type": "stream",
     "text": [
      "{'method': 'parquet', 'save_time': 68.43108606338501, 'read_time': 0.982734203338623, 'file_size': 224.3366470336914, 'compression': 'zstd', 'compression_level': 17}\n"
     ]
    },
    {
     "name": "stderr",
     "output_type": "stream",
     "text": [
      " 90%|█████████ | 18/20 [09:47<02:17, 68.67s/it]"
     ]
    },
    {
     "name": "stdout",
     "output_type": "stream",
     "text": [
      "{'method': 'parquet', 'save_time': 85.78946304321289, 'read_time': 0.9966506004333496, 'file_size': 223.1301155090332, 'compression': 'zstd', 'compression_level': 18}\n"
     ]
    },
    {
     "name": "stderr",
     "output_type": "stream",
     "text": [
      " 95%|█████████▌| 19/20 [11:30<01:18, 78.98s/it]"
     ]
    },
    {
     "name": "stdout",
     "output_type": "stream",
     "text": [
      "{'method': 'parquet', 'save_time': 93.06958389282227, 'read_time': 0.9918389081954956, 'file_size': 222.9604148864746, 'compression': 'zstd', 'compression_level': 19}\n"
     ]
    },
    {
     "name": "stderr",
     "output_type": "stream",
     "text": [
      "100%|██████████| 20/20 [13:10<00:00, 39.53s/it]"
     ]
    },
    {
     "name": "stdout",
     "output_type": "stream",
     "text": [
      "{'method': 'parquet', 'save_time': 89.84644603729248, 'read_time': 0.9848781108856202, 'file_size': 222.9604148864746, 'compression': 'zstd', 'compression_level': 20}\n"
     ]
    },
    {
     "name": "stderr",
     "output_type": "stream",
     "text": [
      "\n"
     ]
    }
   ],
   "source": [
    "# parquet, zstd\n",
    "for cl in tqdm(range(1, 21)):\n",
    "    r = evaluate_performance(df, \"parquet\", compression=\"zstd\", compression_level=cl)\n",
    "    print(r)\n",
    "    eval_results.append(r)"
   ]
  },
  {
   "cell_type": "code",
   "execution_count": 8,
   "metadata": {},
   "outputs": [
    {
     "name": "stderr",
     "output_type": "stream",
     "text": [
      "  5%|▌         | 1/20 [00:08<02:38,  8.34s/it]"
     ]
    },
    {
     "name": "stdout",
     "output_type": "stream",
     "text": [
      "{'method': 'parquet', 'save_time': 1.536238193511963, 'read_time': 0.6799933910369873, 'file_size': 375.51332664489746, 'compression': 'lz4', 'compression_level': 1}\n"
     ]
    },
    {
     "name": "stderr",
     "output_type": "stream",
     "text": [
      " 10%|█         | 2/20 [00:16<02:26,  8.15s/it]"
     ]
    },
    {
     "name": "stdout",
     "output_type": "stream",
     "text": [
      "{'method': 'parquet', 'save_time': 1.4375081062316895, 'read_time': 0.6575443029403687, 'file_size': 375.51332664489746, 'compression': 'lz4', 'compression_level': 2}\n"
     ]
    },
    {
     "name": "stderr",
     "output_type": "stream",
     "text": [
      " 15%|█▌        | 3/20 [00:29<02:59, 10.55s/it]"
     ]
    },
    {
     "name": "stdout",
     "output_type": "stream",
     "text": [
      "{'method': 'parquet', 'save_time': 6.640911102294922, 'read_time': 0.6747983694076538, 'file_size': 305.42485523223877, 'compression': 'lz4', 'compression_level': 3}\n"
     ]
    },
    {
     "name": "stderr",
     "output_type": "stream",
     "text": [
      " 20%|██        | 4/20 [00:44<03:16, 12.28s/it]"
     ]
    },
    {
     "name": "stdout",
     "output_type": "stream",
     "text": [
      "{'method': 'parquet', 'save_time': 8.237220764160156, 'read_time': 0.670818829536438, 'file_size': 300.04003524780273, 'compression': 'lz4', 'compression_level': 4}\n"
     ]
    },
    {
     "name": "stderr",
     "output_type": "stream",
     "text": [
      " 25%|██▌       | 5/20 [01:01<03:28, 13.90s/it]"
     ]
    },
    {
     "name": "stdout",
     "output_type": "stream",
     "text": [
      "{'method': 'parquet', 'save_time': 10.054103136062622, 'read_time': 0.6717385053634644, 'file_size': 297.17571926116943, 'compression': 'lz4', 'compression_level': 5}\n"
     ]
    },
    {
     "name": "stderr",
     "output_type": "stream",
     "text": [
      " 30%|███       | 6/20 [01:20<03:37, 15.53s/it]"
     ]
    },
    {
     "name": "stdout",
     "output_type": "stream",
     "text": [
      "{'method': 'parquet', 'save_time': 12.036086082458496, 'read_time': 0.6647548198699951, 'file_size': 295.8850908279419, 'compression': 'lz4', 'compression_level': 6}\n"
     ]
    },
    {
     "name": "stderr",
     "output_type": "stream",
     "text": [
      " 35%|███▌      | 7/20 [01:40<03:42, 17.14s/it]"
     ]
    },
    {
     "name": "stdout",
     "output_type": "stream",
     "text": [
      "{'method': 'parquet', 'save_time': 13.852581024169922, 'read_time': 0.6602885961532593, 'file_size': 295.331880569458, 'compression': 'lz4', 'compression_level': 7}\n"
     ]
    },
    {
     "name": "stderr",
     "output_type": "stream",
     "text": [
      " 40%|████      | 8/20 [02:02<03:43, 18.64s/it]"
     ]
    },
    {
     "name": "stdout",
     "output_type": "stream",
     "text": [
      "{'method': 'parquet', 'save_time': 15.337045907974243, 'read_time': 0.6516093015670776, 'file_size': 295.1030435562134, 'compression': 'lz4', 'compression_level': 8}\n"
     ]
    },
    {
     "name": "stderr",
     "output_type": "stream",
     "text": [
      " 45%|████▌     | 9/20 [02:25<03:40, 20.03s/it]"
     ]
    },
    {
     "name": "stdout",
     "output_type": "stream",
     "text": [
      "{'method': 'parquet', 'save_time': 16.652570009231567, 'read_time': 0.6417562246322632, 'file_size': 294.99389934539795, 'compression': 'lz4', 'compression_level': 9}\n"
     ]
    },
    {
     "name": "stderr",
     "output_type": "stream",
     "text": [
      " 50%|█████     | 10/20 [02:55<03:50, 23.04s/it]"
     ]
    },
    {
     "name": "stdout",
     "output_type": "stream",
     "text": [
      "{'method': 'parquet', 'save_time': 23.113133192062378, 'read_time': 0.6678667068481445, 'file_size': 293.82403659820557, 'compression': 'lz4', 'compression_level': 10}\n"
     ]
    },
    {
     "name": "stderr",
     "output_type": "stream",
     "text": [
      " 55%|█████▌    | 11/20 [03:31<04:03, 27.01s/it]"
     ]
    },
    {
     "name": "stdout",
     "output_type": "stream",
     "text": [
      "{'method': 'parquet', 'save_time': 29.203999996185303, 'read_time': 0.6806789875030518, 'file_size': 293.4069423675537, 'compression': 'lz4', 'compression_level': 11}\n"
     ]
    },
    {
     "name": "stderr",
     "output_type": "stream",
     "text": [
      " 60%|██████    | 12/20 [04:11<04:07, 30.88s/it]"
     ]
    },
    {
     "name": "stdout",
     "output_type": "stream",
     "text": [
      "{'method': 'parquet', 'save_time': 33.34485602378845, 'read_time': 0.6359492301940918, 'file_size': 293.3767786026001, 'compression': 'lz4', 'compression_level': 12}\n"
     ]
    },
    {
     "name": "stderr",
     "output_type": "stream",
     "text": [
      " 65%|██████▌   | 13/20 [04:50<03:54, 33.57s/it]"
     ]
    },
    {
     "name": "stdout",
     "output_type": "stream",
     "text": [
      "{'method': 'parquet', 'save_time': 33.37185215950012, 'read_time': 0.6393235921859741, 'file_size': 293.3767786026001, 'compression': 'lz4', 'compression_level': 13}\n"
     ]
    },
    {
     "name": "stderr",
     "output_type": "stream",
     "text": [
      " 70%|███████   | 14/20 [05:30<03:32, 35.49s/it]"
     ]
    },
    {
     "name": "stdout",
     "output_type": "stream",
     "text": [
      "{'method': 'parquet', 'save_time': 33.322794914245605, 'read_time': 0.6590963840484619, 'file_size': 293.3767786026001, 'compression': 'lz4', 'compression_level': 14}\n"
     ]
    },
    {
     "name": "stderr",
     "output_type": "stream",
     "text": [
      " 75%|███████▌  | 15/20 [06:10<03:04, 36.81s/it]"
     ]
    },
    {
     "name": "stdout",
     "output_type": "stream",
     "text": [
      "{'method': 'parquet', 'save_time': 33.37194490432739, 'read_time': 0.6485883235931397, 'file_size': 293.3767786026001, 'compression': 'lz4', 'compression_level': 15}\n"
     ]
    },
    {
     "name": "stderr",
     "output_type": "stream",
     "text": [
      " 80%|████████  | 16/20 [06:50<02:31, 37.84s/it]"
     ]
    },
    {
     "name": "stdout",
     "output_type": "stream",
     "text": [
      "{'method': 'parquet', 'save_time': 33.40215802192688, 'read_time': 0.6823335886001587, 'file_size': 293.3767786026001, 'compression': 'lz4', 'compression_level': 16}\n"
     ]
    },
    {
     "name": "stderr",
     "output_type": "stream",
     "text": [
      " 85%|████████▌ | 17/20 [07:30<01:55, 38.50s/it]"
     ]
    },
    {
     "name": "stdout",
     "output_type": "stream",
     "text": [
      "{'method': 'parquet', 'save_time': 33.22955894470215, 'read_time': 0.6824392318725586, 'file_size': 293.3767786026001, 'compression': 'lz4', 'compression_level': 17}\n"
     ]
    },
    {
     "name": "stderr",
     "output_type": "stream",
     "text": [
      " 90%|█████████ | 18/20 [08:11<01:17, 38.98s/it]"
     ]
    },
    {
     "name": "stdout",
     "output_type": "stream",
     "text": [
      "{'method': 'parquet', 'save_time': 33.36378717422485, 'read_time': 0.6724496126174927, 'file_size': 293.3767786026001, 'compression': 'lz4', 'compression_level': 18}\n"
     ]
    },
    {
     "name": "stderr",
     "output_type": "stream",
     "text": [
      " 95%|█████████▌| 19/20 [08:51<00:39, 39.36s/it]"
     ]
    },
    {
     "name": "stdout",
     "output_type": "stream",
     "text": [
      "{'method': 'parquet', 'save_time': 33.410090923309326, 'read_time': 0.6825837135314942, 'file_size': 293.3767786026001, 'compression': 'lz4', 'compression_level': 19}\n"
     ]
    },
    {
     "name": "stderr",
     "output_type": "stream",
     "text": [
      "100%|██████████| 20/20 [09:32<00:00, 28.63s/it]"
     ]
    },
    {
     "name": "stdout",
     "output_type": "stream",
     "text": [
      "{'method': 'parquet', 'save_time': 34.173468828201294, 'read_time': 0.7123449087142945, 'file_size': 293.3767786026001, 'compression': 'lz4', 'compression_level': 20}\n"
     ]
    },
    {
     "name": "stderr",
     "output_type": "stream",
     "text": [
      "\n"
     ]
    }
   ],
   "source": [
    "# parquet, lz4\n",
    "for cl in tqdm(range(1, 21)):\n",
    "    r = evaluate_performance(df, \"parquet\", compression=\"lz4\", compression_level=cl)\n",
    "    print(r)\n",
    "    eval_results.append(r)"
   ]
  },
  {
   "cell_type": "code",
   "execution_count": 9,
   "metadata": {},
   "outputs": [
    {
     "name": "stderr",
     "output_type": "stream",
     "text": [
      "  5%|▌         | 1/20 [00:09<03:00,  9.50s/it]"
     ]
    },
    {
     "name": "stdout",
     "output_type": "stream",
     "text": [
      "{'method': 'feather', 'save_time': 1.6337261199951172, 'read_time': 0.7863580226898194, 'file_size': 274.08423042297363, 'compression': 'zstd', 'compression_level': 1}\n"
     ]
    },
    {
     "name": "stderr",
     "output_type": "stream",
     "text": [
      " 10%|█         | 2/20 [00:20<03:02, 10.14s/it]"
     ]
    },
    {
     "name": "stdout",
     "output_type": "stream",
     "text": [
      "{'method': 'feather', 'save_time': 2.02420973777771, 'read_time': 0.8554614067077637, 'file_size': 258.8376941680908, 'compression': 'zstd', 'compression_level': 2}\n"
     ]
    },
    {
     "name": "stderr",
     "output_type": "stream",
     "text": [
      " 15%|█▌        | 3/20 [00:30<02:58, 10.48s/it]"
     ]
    },
    {
     "name": "stdout",
     "output_type": "stream",
     "text": [
      "{'method': 'feather', 'save_time': 2.2185800075531006, 'read_time': 0.8664433002471924, 'file_size': 249.05484199523926, 'compression': 'zstd', 'compression_level': 3}\n"
     ]
    },
    {
     "name": "stderr",
     "output_type": "stream",
     "text": [
      " 20%|██        | 4/20 [00:41<02:51, 10.69s/it]"
     ]
    },
    {
     "name": "stdout",
     "output_type": "stream",
     "text": [
      "{'method': 'feather', 'save_time': 2.320780038833618, 'read_time': 0.8685598134994507, 'file_size': 245.37567329406738, 'compression': 'zstd', 'compression_level': 4}\n"
     ]
    },
    {
     "name": "stderr",
     "output_type": "stream",
     "text": [
      " 25%|██▌       | 5/20 [00:54<02:50, 11.37s/it]"
     ]
    },
    {
     "name": "stdout",
     "output_type": "stream",
     "text": [
      "{'method': 'feather', 'save_time': 3.8632969856262207, 'read_time': 0.8724118232727051, 'file_size': 239.80018043518066, 'compression': 'zstd', 'compression_level': 5}\n"
     ]
    },
    {
     "name": "stderr",
     "output_type": "stream",
     "text": [
      " 30%|███       | 6/20 [01:08<02:51, 12.22s/it]"
     ]
    },
    {
     "name": "stdout",
     "output_type": "stream",
     "text": [
      "{'method': 'feather', 'save_time': 5.458178758621216, 'read_time': 0.838856291770935, 'file_size': 234.57203102111816, 'compression': 'zstd', 'compression_level': 6}\n"
     ]
    },
    {
     "name": "stderr",
     "output_type": "stream",
     "text": [
      " 35%|███▌      | 7/20 [01:23<02:49, 13.03s/it]"
     ]
    },
    {
     "name": "stdout",
     "output_type": "stream",
     "text": [
      "{'method': 'feather', 'save_time': 6.479353904724121, 'read_time': 0.8212389707565307, 'file_size': 230.76948738098145, 'compression': 'zstd', 'compression_level': 7}\n"
     ]
    },
    {
     "name": "stderr",
     "output_type": "stream",
     "text": [
      " 40%|████      | 8/20 [01:39<02:48, 14.08s/it]"
     ]
    },
    {
     "name": "stdout",
     "output_type": "stream",
     "text": [
      "{'method': 'feather', 'save_time': 8.300963163375854, 'read_time': 0.8029086828231812, 'file_size': 228.068941116333, 'compression': 'zstd', 'compression_level': 8}\n"
     ]
    },
    {
     "name": "stderr",
     "output_type": "stream",
     "text": [
      " 45%|████▌     | 9/20 [01:55<02:43, 14.83s/it]"
     ]
    },
    {
     "name": "stdout",
     "output_type": "stream",
     "text": [
      "{'method': 'feather', 'save_time': 8.390407085418701, 'read_time': 0.8096047163009643, 'file_size': 224.30322456359863, 'compression': 'zstd', 'compression_level': 9}\n"
     ]
    },
    {
     "name": "stderr",
     "output_type": "stream",
     "text": [
      " 50%|█████     | 10/20 [02:15<02:41, 16.19s/it]"
     ]
    },
    {
     "name": "stdout",
     "output_type": "stream",
     "text": [
      "{'method': 'feather', 'save_time': 11.370028972625732, 'read_time': 0.7869773149490357, 'file_size': 221.17950630187988, 'compression': 'zstd', 'compression_level': 10}\n"
     ]
    },
    {
     "name": "stderr",
     "output_type": "stream",
     "text": [
      " 55%|█████▌    | 11/20 [02:39<02:47, 18.57s/it]"
     ]
    },
    {
     "name": "stdout",
     "output_type": "stream",
     "text": [
      "{'method': 'feather', 'save_time': 16.065247058868408, 'read_time': 0.789002799987793, 'file_size': 219.3731174468994, 'compression': 'zstd', 'compression_level': 11}\n"
     ]
    },
    {
     "name": "stderr",
     "output_type": "stream",
     "text": [
      " 60%|██████    | 12/20 [03:04<02:45, 20.65s/it]"
     ]
    },
    {
     "name": "stdout",
     "output_type": "stream",
     "text": [
      "{'method': 'feather', 'save_time': 17.576188325881958, 'read_time': 0.7830511808395386, 'file_size': 218.901216506958, 'compression': 'zstd', 'compression_level': 12}\n"
     ]
    },
    {
     "name": "stderr",
     "output_type": "stream",
     "text": [
      " 65%|██████▌   | 13/20 [04:00<03:39, 31.42s/it]"
     ]
    },
    {
     "name": "stdout",
     "output_type": "stream",
     "text": [
      "{'method': 'feather', 'save_time': 48.42420196533203, 'read_time': 0.7761694908142089, 'file_size': 216.753267288208, 'compression': 'zstd', 'compression_level': 13}\n"
     ]
    },
    {
     "name": "stderr",
     "output_type": "stream",
     "text": [
      " 70%|███████   | 14/20 [05:10<04:17, 42.92s/it]"
     ]
    },
    {
     "name": "stdout",
     "output_type": "stream",
     "text": [
      "{'method': 'feather', 'save_time': 61.80457401275635, 'read_time': 0.768505597114563, 'file_size': 213.89065742492676, 'compression': 'zstd', 'compression_level': 14}\n"
     ]
    },
    {
     "name": "stderr",
     "output_type": "stream",
     "text": [
      " 75%|███████▌  | 15/20 [06:58<05:13, 62.76s/it]"
     ]
    },
    {
     "name": "stdout",
     "output_type": "stream",
     "text": [
      "{'method': 'feather', 'save_time': 101.14088892936707, 'read_time': 0.7600722312927246, 'file_size': 211.61963081359863, 'compression': 'zstd', 'compression_level': 15}\n"
     ]
    },
    {
     "name": "stderr",
     "output_type": "stream",
     "text": [
      " 80%|████████  | 16/20 [08:33<04:49, 72.42s/it]"
     ]
    },
    {
     "name": "stdout",
     "output_type": "stream",
     "text": [
      "{'method': 'feather', 'save_time': 87.12003111839294, 'read_time': 0.7743613004684449, 'file_size': 207.89100074768066, 'compression': 'zstd', 'compression_level': 16}\n"
     ]
    },
    {
     "name": "stderr",
     "output_type": "stream",
     "text": [
      " 85%|████████▌ | 17/20 [10:56<04:40, 93.51s/it]"
     ]
    },
    {
     "name": "stdout",
     "output_type": "stream",
     "text": [
      "{'method': 'feather', 'save_time': 134.67507195472717, 'read_time': 0.7857311010360718, 'file_size': 202.5795383453369, 'compression': 'zstd', 'compression_level': 17}\n"
     ]
    },
    {
     "name": "stderr",
     "output_type": "stream",
     "text": [
      " 90%|█████████ | 18/20 [13:40<03:49, 114.64s/it]"
     ]
    },
    {
     "name": "stdout",
     "output_type": "stream",
     "text": [
      "{'method': 'feather', 'save_time': 155.8468301296234, 'read_time': 0.7980259895324707, 'file_size': 200.37107276916504, 'compression': 'zstd', 'compression_level': 18}\n"
     ]
    },
    {
     "name": "stderr",
     "output_type": "stream",
     "text": [
      " 95%|█████████▌| 19/20 [16:59<02:20, 140.14s/it]"
     ]
    },
    {
     "name": "stdout",
     "output_type": "stream",
     "text": [
      "{'method': 'feather', 'save_time': 191.88540387153625, 'read_time': 0.7650203227996826, 'file_size': 199.14063453674316, 'compression': 'zstd', 'compression_level': 19}\n"
     ]
    },
    {
     "name": "stderr",
     "output_type": "stream",
     "text": [
      "100%|██████████| 20/20 [20:59<00:00, 62.97s/it] "
     ]
    },
    {
     "name": "stdout",
     "output_type": "stream",
     "text": [
      "{'method': 'feather', 'save_time': 232.0722999572754, 'read_time': 0.7568066120147705, 'file_size': 190.44285774230957, 'compression': 'zstd', 'compression_level': 20}\n"
     ]
    },
    {
     "name": "stderr",
     "output_type": "stream",
     "text": [
      "\n"
     ]
    }
   ],
   "source": [
    "# feather, zstd\n",
    "for cl in tqdm(range(1, 21)):\n",
    "    r = evaluate_performance(df, \"feather\", compression=\"zstd\", compression_level=cl)\n",
    "    print(r)\n",
    "    eval_results.append(r)"
   ]
  },
  {
   "cell_type": "code",
   "execution_count": 10,
   "metadata": {},
   "outputs": [
    {
     "name": "stderr",
     "output_type": "stream",
     "text": [
      "  5%|▌         | 1/20 [00:06<02:06,  6.68s/it]"
     ]
    },
    {
     "name": "stdout",
     "output_type": "stream",
     "text": [
      "{'method': 'feather', 'save_time': 1.290541172027588, 'read_time': 0.5380644083023072, 'file_size': 382.2165927886963, 'compression': 'lz4', 'compression_level': 1}\n"
     ]
    },
    {
     "name": "stderr",
     "output_type": "stream",
     "text": [
      " 10%|█         | 2/20 [00:13<01:57,  6.55s/it]"
     ]
    },
    {
     "name": "stdout",
     "output_type": "stream",
     "text": [
      "{'method': 'feather', 'save_time': 1.2576570510864258, 'read_time': 0.5195846080780029, 'file_size': 382.2165927886963, 'compression': 'lz4', 'compression_level': 2}\n"
     ]
    },
    {
     "name": "stderr",
     "output_type": "stream",
     "text": [
      " 15%|█▌        | 3/20 [00:23<02:22,  8.36s/it]"
     ]
    },
    {
     "name": "stdout",
     "output_type": "stream",
     "text": [
      "{'method': 'feather', 'save_time': 5.197656154632568, 'read_time': 0.5323812007904053, 'file_size': 308.3122501373291, 'compression': 'lz4', 'compression_level': 3}\n"
     ]
    },
    {
     "name": "stderr",
     "output_type": "stream",
     "text": [
      " 20%|██        | 4/20 [00:35<02:36,  9.81s/it]"
     ]
    },
    {
     "name": "stdout",
     "output_type": "stream",
     "text": [
      "{'method': 'feather', 'save_time': 6.713475227355957, 'read_time': 0.5307584047317505, 'file_size': 302.7686405181885, 'compression': 'lz4', 'compression_level': 4}\n"
     ]
    },
    {
     "name": "stderr",
     "output_type": "stream",
     "text": [
      " 25%|██▌       | 5/20 [00:49<02:49, 11.31s/it]"
     ]
    },
    {
     "name": "stdout",
     "output_type": "stream",
     "text": [
      "{'method': 'feather', 'save_time': 8.655227899551392, 'read_time': 0.5320410966873169, 'file_size': 299.7300205230713, 'compression': 'lz4', 'compression_level': 5}\n"
     ]
    },
    {
     "name": "stderr",
     "output_type": "stream",
     "text": [
      " 30%|███       | 6/20 [01:05<03:00, 12.91s/it]"
     ]
    },
    {
     "name": "stdout",
     "output_type": "stream",
     "text": [
      "{'method': 'feather', 'save_time': 10.621734142303467, 'read_time': 0.5369843244552612, 'file_size': 298.2436695098877, 'compression': 'lz4', 'compression_level': 6}\n"
     ]
    },
    {
     "name": "stderr",
     "output_type": "stream",
     "text": [
      " 35%|███▌      | 7/20 [01:23<03:08, 14.53s/it]"
     ]
    },
    {
     "name": "stdout",
     "output_type": "stream",
     "text": [
      "{'method': 'feather', 'save_time': 12.492452144622803, 'read_time': 0.5383381843566895, 'file_size': 297.3937244415283, 'compression': 'lz4', 'compression_level': 7}\n"
     ]
    },
    {
     "name": "stderr",
     "output_type": "stream",
     "text": [
      " 40%|████      | 8/20 [01:42<03:12, 16.08s/it]"
     ]
    },
    {
     "name": "stdout",
     "output_type": "stream",
     "text": [
      "{'method': 'feather', 'save_time': 13.951219320297241, 'read_time': 0.5421907901763916, 'file_size': 296.850923538208, 'compression': 'lz4', 'compression_level': 8}\n"
     ]
    },
    {
     "name": "stderr",
     "output_type": "stream",
     "text": [
      " 45%|████▌     | 9/20 [02:03<03:12, 17.53s/it]"
     ]
    },
    {
     "name": "stdout",
     "output_type": "stream",
     "text": [
      "{'method': 'feather', 'save_time': 15.313683032989502, 'read_time': 0.5396970987319947, 'file_size': 296.74151039123535, 'compression': 'lz4', 'compression_level': 9}\n"
     ]
    },
    {
     "name": "stderr",
     "output_type": "stream",
     "text": [
      " 50%|█████     | 10/20 [02:30<03:22, 20.29s/it]"
     ]
    },
    {
     "name": "stdout",
     "output_type": "stream",
     "text": [
      "{'method': 'feather', 'save_time': 21.218377828598022, 'read_time': 0.5263140678405762, 'file_size': 297.1527271270752, 'compression': 'lz4', 'compression_level': 10}\n"
     ]
    },
    {
     "name": "stderr",
     "output_type": "stream",
     "text": [
      " 55%|█████▌    | 11/20 [03:02<03:34, 23.85s/it]"
     ]
    },
    {
     "name": "stdout",
     "output_type": "stream",
     "text": [
      "{'method': 'feather', 'save_time': 26.610891103744507, 'read_time': 0.528836989402771, 'file_size': 296.0005741119385, 'compression': 'lz4', 'compression_level': 11}\n"
     ]
    },
    {
     "name": "stderr",
     "output_type": "stream",
     "text": [
      " 60%|██████    | 12/20 [03:38<03:40, 27.59s/it]"
     ]
    },
    {
     "name": "stdout",
     "output_type": "stream",
     "text": [
      "{'method': 'feather', 'save_time': 30.65232515335083, 'read_time': 0.5497368812561035, 'file_size': 295.0932788848877, 'compression': 'lz4', 'compression_level': 12}\n"
     ]
    },
    {
     "name": "stderr",
     "output_type": "stream",
     "text": [
      " 65%|██████▌   | 13/20 [04:14<03:31, 30.15s/it]"
     ]
    },
    {
     "name": "stdout",
     "output_type": "stream",
     "text": [
      "{'method': 'feather', 'save_time': 30.72233510017395, 'read_time': 0.5294882774353027, 'file_size': 295.0932788848877, 'compression': 'lz4', 'compression_level': 13}\n"
     ]
    },
    {
     "name": "stderr",
     "output_type": "stream",
     "text": [
      " 70%|███████   | 14/20 [04:50<03:11, 31.95s/it]"
     ]
    },
    {
     "name": "stdout",
     "output_type": "stream",
     "text": [
      "{'method': 'feather', 'save_time': 30.714147090911865, 'read_time': 0.5392313241958618, 'file_size': 295.0932788848877, 'compression': 'lz4', 'compression_level': 14}\n"
     ]
    },
    {
     "name": "stderr",
     "output_type": "stream",
     "text": [
      " 75%|███████▌  | 15/20 [05:26<02:45, 33.18s/it]"
     ]
    },
    {
     "name": "stdout",
     "output_type": "stream",
     "text": [
      "{'method': 'feather', 'save_time': 30.66402006149292, 'read_time': 0.5357027053833008, 'file_size': 295.0932788848877, 'compression': 'lz4', 'compression_level': 15}\n"
     ]
    },
    {
     "name": "stderr",
     "output_type": "stream",
     "text": [
      " 80%|████████  | 16/20 [06:02<02:16, 34.08s/it]"
     ]
    },
    {
     "name": "stdout",
     "output_type": "stream",
     "text": [
      "{'method': 'feather', 'save_time': 30.73835802078247, 'read_time': 0.5429946899414062, 'file_size': 295.0932788848877, 'compression': 'lz4', 'compression_level': 16}\n"
     ]
    },
    {
     "name": "stderr",
     "output_type": "stream",
     "text": [
      " 85%|████████▌ | 17/20 [06:38<01:43, 34.66s/it]"
     ]
    },
    {
     "name": "stdout",
     "output_type": "stream",
     "text": [
      "{'method': 'feather', 'save_time': 30.627331018447876, 'read_time': 0.5377061128616333, 'file_size': 295.0932788848877, 'compression': 'lz4', 'compression_level': 17}\n"
     ]
    },
    {
     "name": "stderr",
     "output_type": "stream",
     "text": [
      " 90%|█████████ | 18/20 [07:14<01:10, 35.07s/it]"
     ]
    },
    {
     "name": "stdout",
     "output_type": "stream",
     "text": [
      "{'method': 'feather', 'save_time': 30.710247039794922, 'read_time': 0.5314020156860352, 'file_size': 295.0932788848877, 'compression': 'lz4', 'compression_level': 18}\n"
     ]
    },
    {
     "name": "stderr",
     "output_type": "stream",
     "text": [
      " 95%|█████████▌| 19/20 [07:50<00:35, 35.36s/it]"
     ]
    },
    {
     "name": "stdout",
     "output_type": "stream",
     "text": [
      "{'method': 'feather', 'save_time': 30.61126208305359, 'read_time': 0.541713285446167, 'file_size': 295.0932788848877, 'compression': 'lz4', 'compression_level': 19}\n"
     ]
    },
    {
     "name": "stderr",
     "output_type": "stream",
     "text": [
      "100%|██████████| 20/20 [08:26<00:00, 25.34s/it]"
     ]
    },
    {
     "name": "stdout",
     "output_type": "stream",
     "text": [
      "{'method': 'feather', 'save_time': 30.8820641040802, 'read_time': 0.5315488815307617, 'file_size': 295.0932788848877, 'compression': 'lz4', 'compression_level': 20}\n"
     ]
    },
    {
     "name": "stderr",
     "output_type": "stream",
     "text": [
      "\n"
     ]
    }
   ],
   "source": [
    "# feather, lz4\n",
    "for cl in tqdm(range(1, 21)):\n",
    "    r = evaluate_performance(df, \"feather\", compression=\"lz4\", compression_level=cl)\n",
    "    print(r)\n",
    "    eval_results.append(r)"
   ]
  },
  {
   "cell_type": "code",
   "execution_count": 11,
   "metadata": {},
   "outputs": [
    {
     "name": "stdout",
     "output_type": "stream",
     "text": [
      "{'method': 'parquet', 'save_time': 21.936084985733032, 'read_time': 1.857405996322632, 'file_size': 261.4524908065796, 'compression': 'gzip'}\n",
      "{'method': 'parquet', 'save_time': 1.4769291877746582, 'read_time': 0.756915807723999, 'file_size': 372.26979064941406, 'compression': 'snappy'}\n",
      "{'method': 'parquet', 'save_time': 1.436607837677002, 'read_time': 0.6520306825637817, 'file_size': 375.51332664489746, 'compression': 'lz4'}\n",
      "{'method': 'parquet', 'save_time': 1.6624550819396973, 'read_time': 0.8908697843551636, 'file_size': 276.7370548248291, 'compression': 'zstd'}\n",
      "{'method': 'parquet', 'save_time': 18.984238862991333, 'read_time': 1.5739156007766724, 'file_size': 230.74532318115234, 'compression': 'brotli'}\n",
      "{'method': 'parquet', 'save_time': 1.4593620300292969, 'read_time': 0.7634199619293213, 'file_size': 372.26979064941406}\n"
     ]
    }
   ],
   "source": [
    "# parquet\n",
    "for c in [\"gzip\", \"snappy\", \"lz4\", \"zstd\", \"brotli\", None]:\n",
    "    r = evaluate_performance(df, \"parquet\", compression=c)\n",
    "    print(r)\n",
    "    eval_results.append(r)"
   ]
  },
  {
   "cell_type": "code",
   "execution_count": 12,
   "metadata": {},
   "outputs": [
    {
     "name": "stdout",
     "output_type": "stream",
     "text": [
      "{'method': 'feather', 'save_time': 1.2862539291381836, 'read_time': 0.5309521913528442, 'file_size': 382.2165927886963, 'compression': 'lz4'}\n",
      "{'method': 'feather', 'save_time': 1.38962721824646, 'read_time': 0.7580457925796509, 'file_size': 274.08423042297363, 'compression': 'zstd'}\n",
      "{'method': 'feather', 'save_time': 0.34214329719543457, 'read_time': 0.38784117698669435, 'file_size': 634.9402027130127, 'compression': 'uncompressed'}\n",
      "{'method': 'feather', 'save_time': 1.252026081085205, 'read_time': 0.5269888877868653, 'file_size': 382.2165927886963}\n"
     ]
    }
   ],
   "source": [
    "# feather\n",
    "for c in [\"lz4\", \"zstd\", \"uncompressed\", None]:\n",
    "    r = evaluate_performance(df, \"feather\", compression=c)\n",
    "    print(r)\n",
    "    eval_results.append(r)"
   ]
  },
  {
   "cell_type": "code",
   "execution_count": 13,
   "metadata": {},
   "outputs": [
    {
     "name": "stdout",
     "output_type": "stream",
     "text": [
      "{'method': 'csv', 'save_time': 32.36922287940979, 'read_time': 6.146654200553894, 'file_size': 298.97631645202637, 'compression': 'zip'}\n",
      "{'method': 'csv', 'save_time': 36.42905068397522, 'read_time': 8.302969312667846, 'file_size': 298.6697826385498, 'compression': 'gzip'}\n",
      "{'method': 'csv', 'save_time': 49.01720690727234, 'read_time': 20.00485780239105, 'file_size': 230.6348533630371, 'compression': 'bz2'}\n",
      "{'method': 'csv', 'save_time': 14.664268970489502, 'read_time': 6.1076120138168335, 'file_size': 289.5586061477661, 'compression': 'zstd'}\n",
      "{'method': 'csv', 'save_time': 331.15426301956177, 'read_time': 15.681923604011535, 'file_size': 212.4040298461914, 'compression': 'xz'}\n",
      "{'method': 'csv', 'save_time': 11.371416807174683, 'read_time': 5.131657218933105, 'file_size': 691.07421875, 'compression': 'tar'}\n",
      "{'method': 'csv', 'save_time': 11.353543043136597, 'read_time': 5.117451095581055, 'file_size': 691.0666332244873}\n"
     ]
    }
   ],
   "source": [
    "# csv\n",
    "for c in ['zip', 'gzip', 'bz2', 'zstd', 'xz', 'tar', None]:\n",
    "    r = evaluate_performance(df, \"csv\", compression=c)\n",
    "    print(r)\n",
    "    eval_results.append(r)"
   ]
  },
  {
   "cell_type": "code",
   "execution_count": 14,
   "metadata": {},
   "outputs": [
    {
     "data": {
      "text/html": [
       "<div>\n",
       "<style scoped>\n",
       "    .dataframe tbody tr th:only-of-type {\n",
       "        vertical-align: middle;\n",
       "    }\n",
       "\n",
       "    .dataframe tbody tr th {\n",
       "        vertical-align: top;\n",
       "    }\n",
       "\n",
       "    .dataframe thead th {\n",
       "        text-align: right;\n",
       "    }\n",
       "</style>\n",
       "<table border=\"1\" class=\"dataframe\">\n",
       "  <thead>\n",
       "    <tr style=\"text-align: right;\">\n",
       "      <th></th>\n",
       "      <th>method</th>\n",
       "      <th>save_time</th>\n",
       "      <th>read_time</th>\n",
       "      <th>file_size</th>\n",
       "      <th>compression</th>\n",
       "      <th>compression_level</th>\n",
       "    </tr>\n",
       "  </thead>\n",
       "  <tbody>\n",
       "    <tr>\n",
       "      <th>0</th>\n",
       "      <td>parquet</td>\n",
       "      <td>2.312279</td>\n",
       "      <td>1.061680</td>\n",
       "      <td>276.737055</td>\n",
       "      <td>zstd</td>\n",
       "      <td>1.0</td>\n",
       "    </tr>\n",
       "    <tr>\n",
       "      <th>1</th>\n",
       "      <td>parquet</td>\n",
       "      <td>2.555057</td>\n",
       "      <td>1.043575</td>\n",
       "      <td>262.036419</td>\n",
       "      <td>zstd</td>\n",
       "      <td>2.0</td>\n",
       "    </tr>\n",
       "    <tr>\n",
       "      <th>2</th>\n",
       "      <td>parquet</td>\n",
       "      <td>2.830313</td>\n",
       "      <td>1.025920</td>\n",
       "      <td>253.571889</td>\n",
       "      <td>zstd</td>\n",
       "      <td>3.0</td>\n",
       "    </tr>\n",
       "    <tr>\n",
       "      <th>3</th>\n",
       "      <td>parquet</td>\n",
       "      <td>2.799268</td>\n",
       "      <td>1.013424</td>\n",
       "      <td>251.290937</td>\n",
       "      <td>zstd</td>\n",
       "      <td>4.0</td>\n",
       "    </tr>\n",
       "    <tr>\n",
       "      <th>4</th>\n",
       "      <td>parquet</td>\n",
       "      <td>4.279723</td>\n",
       "      <td>1.023085</td>\n",
       "      <td>245.694203</td>\n",
       "      <td>zstd</td>\n",
       "      <td>5.0</td>\n",
       "    </tr>\n",
       "    <tr>\n",
       "      <th>...</th>\n",
       "      <td>...</td>\n",
       "      <td>...</td>\n",
       "      <td>...</td>\n",
       "      <td>...</td>\n",
       "      <td>...</td>\n",
       "      <td>...</td>\n",
       "    </tr>\n",
       "    <tr>\n",
       "      <th>92</th>\n",
       "      <td>csv</td>\n",
       "      <td>49.017207</td>\n",
       "      <td>20.004858</td>\n",
       "      <td>230.634853</td>\n",
       "      <td>bz2</td>\n",
       "      <td>NaN</td>\n",
       "    </tr>\n",
       "    <tr>\n",
       "      <th>93</th>\n",
       "      <td>csv</td>\n",
       "      <td>14.664269</td>\n",
       "      <td>6.107612</td>\n",
       "      <td>289.558606</td>\n",
       "      <td>zstd</td>\n",
       "      <td>NaN</td>\n",
       "    </tr>\n",
       "    <tr>\n",
       "      <th>94</th>\n",
       "      <td>csv</td>\n",
       "      <td>331.154263</td>\n",
       "      <td>15.681924</td>\n",
       "      <td>212.404030</td>\n",
       "      <td>xz</td>\n",
       "      <td>NaN</td>\n",
       "    </tr>\n",
       "    <tr>\n",
       "      <th>95</th>\n",
       "      <td>csv</td>\n",
       "      <td>11.371417</td>\n",
       "      <td>5.131657</td>\n",
       "      <td>691.074219</td>\n",
       "      <td>tar</td>\n",
       "      <td>NaN</td>\n",
       "    </tr>\n",
       "    <tr>\n",
       "      <th>96</th>\n",
       "      <td>csv</td>\n",
       "      <td>11.353543</td>\n",
       "      <td>5.117451</td>\n",
       "      <td>691.066633</td>\n",
       "      <td>NaN</td>\n",
       "      <td>NaN</td>\n",
       "    </tr>\n",
       "  </tbody>\n",
       "</table>\n",
       "<p>97 rows × 6 columns</p>\n",
       "</div>"
      ],
      "text/plain": [
       "     method   save_time  read_time   file_size compression  compression_level\n",
       "0   parquet    2.312279   1.061680  276.737055        zstd                1.0\n",
       "1   parquet    2.555057   1.043575  262.036419        zstd                2.0\n",
       "2   parquet    2.830313   1.025920  253.571889        zstd                3.0\n",
       "3   parquet    2.799268   1.013424  251.290937        zstd                4.0\n",
       "4   parquet    4.279723   1.023085  245.694203        zstd                5.0\n",
       "..      ...         ...        ...         ...         ...                ...\n",
       "92      csv   49.017207  20.004858  230.634853         bz2                NaN\n",
       "93      csv   14.664269   6.107612  289.558606        zstd                NaN\n",
       "94      csv  331.154263  15.681924  212.404030          xz                NaN\n",
       "95      csv   11.371417   5.131657  691.074219         tar                NaN\n",
       "96      csv   11.353543   5.117451  691.066633         NaN                NaN\n",
       "\n",
       "[97 rows x 6 columns]"
      ]
     },
     "execution_count": 14,
     "metadata": {},
     "output_type": "execute_result"
    }
   ],
   "source": [
    "df = pd.DataFrame(eval_results)\n",
    "df"
   ]
  },
  {
   "cell_type": "code",
   "execution_count": 15,
   "metadata": {},
   "outputs": [
    {
     "data": {
      "text/html": [
       "<div>\n",
       "<style scoped>\n",
       "    .dataframe tbody tr th:only-of-type {\n",
       "        vertical-align: middle;\n",
       "    }\n",
       "\n",
       "    .dataframe tbody tr th {\n",
       "        vertical-align: top;\n",
       "    }\n",
       "\n",
       "    .dataframe thead th {\n",
       "        text-align: right;\n",
       "    }\n",
       "</style>\n",
       "<table border=\"1\" class=\"dataframe\">\n",
       "  <thead>\n",
       "    <tr style=\"text-align: right;\">\n",
       "      <th></th>\n",
       "      <th>method</th>\n",
       "      <th>save_time</th>\n",
       "      <th>read_time</th>\n",
       "      <th>file_size</th>\n",
       "      <th>compression</th>\n",
       "      <th>compression_level</th>\n",
       "      <th>comp_ratio</th>\n",
       "    </tr>\n",
       "  </thead>\n",
       "  <tbody>\n",
       "    <tr>\n",
       "      <th>0</th>\n",
       "      <td>parquet</td>\n",
       "      <td>2.312279</td>\n",
       "      <td>1.061680</td>\n",
       "      <td>276.737055</td>\n",
       "      <td>zstd</td>\n",
       "      <td>1.0</td>\n",
       "      <td>2.838271</td>\n",
       "    </tr>\n",
       "    <tr>\n",
       "      <th>1</th>\n",
       "      <td>parquet</td>\n",
       "      <td>2.555057</td>\n",
       "      <td>1.043575</td>\n",
       "      <td>262.036419</td>\n",
       "      <td>zstd</td>\n",
       "      <td>2.0</td>\n",
       "      <td>2.997502</td>\n",
       "    </tr>\n",
       "    <tr>\n",
       "      <th>2</th>\n",
       "      <td>parquet</td>\n",
       "      <td>2.830313</td>\n",
       "      <td>1.025920</td>\n",
       "      <td>253.571889</td>\n",
       "      <td>zstd</td>\n",
       "      <td>3.0</td>\n",
       "      <td>3.097562</td>\n",
       "    </tr>\n",
       "    <tr>\n",
       "      <th>3</th>\n",
       "      <td>parquet</td>\n",
       "      <td>2.799268</td>\n",
       "      <td>1.013424</td>\n",
       "      <td>251.290937</td>\n",
       "      <td>zstd</td>\n",
       "      <td>4.0</td>\n",
       "      <td>3.125678</td>\n",
       "    </tr>\n",
       "    <tr>\n",
       "      <th>4</th>\n",
       "      <td>parquet</td>\n",
       "      <td>4.279723</td>\n",
       "      <td>1.023085</td>\n",
       "      <td>245.694203</td>\n",
       "      <td>zstd</td>\n",
       "      <td>5.0</td>\n",
       "      <td>3.196879</td>\n",
       "    </tr>\n",
       "    <tr>\n",
       "      <th>...</th>\n",
       "      <td>...</td>\n",
       "      <td>...</td>\n",
       "      <td>...</td>\n",
       "      <td>...</td>\n",
       "      <td>...</td>\n",
       "      <td>...</td>\n",
       "      <td>...</td>\n",
       "    </tr>\n",
       "    <tr>\n",
       "      <th>92</th>\n",
       "      <td>csv</td>\n",
       "      <td>49.017207</td>\n",
       "      <td>20.004858</td>\n",
       "      <td>230.634853</td>\n",
       "      <td>bz2</td>\n",
       "      <td>NaN</td>\n",
       "      <td>3.405620</td>\n",
       "    </tr>\n",
       "    <tr>\n",
       "      <th>93</th>\n",
       "      <td>csv</td>\n",
       "      <td>14.664269</td>\n",
       "      <td>6.107612</td>\n",
       "      <td>289.558606</td>\n",
       "      <td>zstd</td>\n",
       "      <td>NaN</td>\n",
       "      <td>2.712593</td>\n",
       "    </tr>\n",
       "    <tr>\n",
       "      <th>94</th>\n",
       "      <td>csv</td>\n",
       "      <td>331.154263</td>\n",
       "      <td>15.681924</td>\n",
       "      <td>212.404030</td>\n",
       "      <td>xz</td>\n",
       "      <td>NaN</td>\n",
       "      <td>3.697927</td>\n",
       "    </tr>\n",
       "    <tr>\n",
       "      <th>95</th>\n",
       "      <td>csv</td>\n",
       "      <td>11.371417</td>\n",
       "      <td>5.131657</td>\n",
       "      <td>691.074219</td>\n",
       "      <td>tar</td>\n",
       "      <td>NaN</td>\n",
       "      <td>1.136571</td>\n",
       "    </tr>\n",
       "    <tr>\n",
       "      <th>96</th>\n",
       "      <td>csv</td>\n",
       "      <td>11.353543</td>\n",
       "      <td>5.117451</td>\n",
       "      <td>691.066633</td>\n",
       "      <td>NaN</td>\n",
       "      <td>NaN</td>\n",
       "      <td>1.136583</td>\n",
       "    </tr>\n",
       "  </tbody>\n",
       "</table>\n",
       "<p>97 rows × 7 columns</p>\n",
       "</div>"
      ],
      "text/plain": [
       "     method   save_time  read_time   file_size compression  compression_level  \\\n",
       "0   parquet    2.312279   1.061680  276.737055        zstd                1.0   \n",
       "1   parquet    2.555057   1.043575  262.036419        zstd                2.0   \n",
       "2   parquet    2.830313   1.025920  253.571889        zstd                3.0   \n",
       "3   parquet    2.799268   1.013424  251.290937        zstd                4.0   \n",
       "4   parquet    4.279723   1.023085  245.694203        zstd                5.0   \n",
       "..      ...         ...        ...         ...         ...                ...   \n",
       "92      csv   49.017207  20.004858  230.634853         bz2                NaN   \n",
       "93      csv   14.664269   6.107612  289.558606        zstd                NaN   \n",
       "94      csv  331.154263  15.681924  212.404030          xz                NaN   \n",
       "95      csv   11.371417   5.131657  691.074219         tar                NaN   \n",
       "96      csv   11.353543   5.117451  691.066633         NaN                NaN   \n",
       "\n",
       "    comp_ratio  \n",
       "0     2.838271  \n",
       "1     2.997502  \n",
       "2     3.097562  \n",
       "3     3.125678  \n",
       "4     3.196879  \n",
       "..         ...  \n",
       "92    3.405620  \n",
       "93    2.712593  \n",
       "94    3.697927  \n",
       "95    1.136571  \n",
       "96    1.136583  \n",
       "\n",
       "[97 rows x 7 columns]"
      ]
     },
     "execution_count": 15,
     "metadata": {},
     "output_type": "execute_result"
    }
   ],
   "source": [
    "df[\"comp_ratio\"] = mem_size_mb / df[\"file_size\"]\n",
    "df"
   ]
  },
  {
   "cell_type": "code",
   "execution_count": 16,
   "metadata": {},
   "outputs": [],
   "source": [
    "df.to_pickle(\"./data/test_results_03.pkl.gz\", compression=\"gzip\")"
   ]
  },
  {
   "cell_type": "code",
   "execution_count": null,
   "metadata": {},
   "outputs": [],
   "source": []
  }
 ],
 "metadata": {
  "kernelspec": {
   "display_name": ".venv",
   "language": "python",
   "name": "python3"
  },
  "language_info": {
   "codemirror_mode": {
    "name": "ipython",
    "version": 3
   },
   "file_extension": ".py",
   "mimetype": "text/x-python",
   "name": "python",
   "nbconvert_exporter": "python",
   "pygments_lexer": "ipython3",
   "version": "3.11.9"
  }
 },
 "nbformat": 4,
 "nbformat_minor": 2
}
