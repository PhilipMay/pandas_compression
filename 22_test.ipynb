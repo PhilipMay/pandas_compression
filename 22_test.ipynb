{
 "cells": [
  {
   "cell_type": "code",
   "execution_count": 1,
   "metadata": {},
   "outputs": [],
   "source": [
    "import pandas as pd\n",
    "import time\n",
    "from typing import Literal\n",
    "from functools import partial\n",
    "from typing import Optional\n",
    "import os\n",
    "from tqdm import tqdm"
   ]
  },
  {
   "cell_type": "code",
   "execution_count": 2,
   "metadata": {},
   "outputs": [
    {
     "data": {
      "text/html": [
       "<div>\n",
       "<style scoped>\n",
       "    .dataframe tbody tr th:only-of-type {\n",
       "        vertical-align: middle;\n",
       "    }\n",
       "\n",
       "    .dataframe tbody tr th {\n",
       "        vertical-align: top;\n",
       "    }\n",
       "\n",
       "    .dataframe thead th {\n",
       "        text-align: right;\n",
       "    }\n",
       "</style>\n",
       "<table border=\"1\" class=\"dataframe\">\n",
       "  <thead>\n",
       "    <tr style=\"text-align: right;\">\n",
       "      <th></th>\n",
       "      <th>text</th>\n",
       "      <th>uuid</th>\n",
       "      <th>category_0</th>\n",
       "      <th>category_1</th>\n",
       "      <th>category_2</th>\n",
       "      <th>category_3</th>\n",
       "      <th>category_4</th>\n",
       "      <th>category_5</th>\n",
       "      <th>category_6</th>\n",
       "      <th>category_7</th>\n",
       "      <th>...</th>\n",
       "      <th>category_90</th>\n",
       "      <th>category_91</th>\n",
       "      <th>category_92</th>\n",
       "      <th>category_93</th>\n",
       "      <th>category_94</th>\n",
       "      <th>category_95</th>\n",
       "      <th>category_96</th>\n",
       "      <th>category_97</th>\n",
       "      <th>category_98</th>\n",
       "      <th>category_99</th>\n",
       "    </tr>\n",
       "  </thead>\n",
       "  <tbody>\n",
       "    <tr>\n",
       "      <th>0</th>\n",
       "      <td>Write an article based on this \"A man has been...</td>\n",
       "      <td>d2e7c46f-cd54-459d-824a-b7beac0da1a3</td>\n",
       "      <td>y</td>\n",
       "      <td>r</td>\n",
       "      <td>w</td>\n",
       "      <td>v</td>\n",
       "      <td>s</td>\n",
       "      <td>m</td>\n",
       "      <td>j</td>\n",
       "      <td>o</td>\n",
       "      <td>...</td>\n",
       "      <td>h</td>\n",
       "      <td>j</td>\n",
       "      <td>c</td>\n",
       "      <td>s</td>\n",
       "      <td>m</td>\n",
       "      <td>h</td>\n",
       "      <td>x</td>\n",
       "      <td>w</td>\n",
       "      <td>w</td>\n",
       "      <td>v</td>\n",
       "    </tr>\n",
       "    <tr>\n",
       "      <th>1</th>\n",
       "      <td>Answer the following question: - number is 54 ...</td>\n",
       "      <td>dafabcf7-caa7-4491-8f00-1fb817dbd4b4</td>\n",
       "      <td>s</td>\n",
       "      <td>e</td>\n",
       "      <td>g</td>\n",
       "      <td>q</td>\n",
       "      <td>t</td>\n",
       "      <td>m</td>\n",
       "      <td>n</td>\n",
       "      <td>r</td>\n",
       "      <td>...</td>\n",
       "      <td>m</td>\n",
       "      <td>b</td>\n",
       "      <td>v</td>\n",
       "      <td>t</td>\n",
       "      <td>u</td>\n",
       "      <td>o</td>\n",
       "      <td>e</td>\n",
       "      <td>o</td>\n",
       "      <td>f</td>\n",
       "      <td>a</td>\n",
       "    </tr>\n",
       "    <tr>\n",
       "      <th>2</th>\n",
       "      <td>Produce a long descriptive sentence that uses ...</td>\n",
       "      <td>dd1e9b91-feea-472c-9f65-2eda2d42c4c1</td>\n",
       "      <td>a</td>\n",
       "      <td>r</td>\n",
       "      <td>c</td>\n",
       "      <td>g</td>\n",
       "      <td>v</td>\n",
       "      <td>l</td>\n",
       "      <td>d</td>\n",
       "      <td>f</td>\n",
       "      <td>...</td>\n",
       "      <td>l</td>\n",
       "      <td>o</td>\n",
       "      <td>m</td>\n",
       "      <td>q</td>\n",
       "      <td>y</td>\n",
       "      <td>h</td>\n",
       "      <td>b</td>\n",
       "      <td>h</td>\n",
       "      <td>v</td>\n",
       "      <td>u</td>\n",
       "    </tr>\n",
       "    <tr>\n",
       "      <th>3</th>\n",
       "      <td>Write a title for this article:\\n\\nArbitration...</td>\n",
       "      <td>740923fb-5624-4f69-bcdc-874bb0800634</td>\n",
       "      <td>v</td>\n",
       "      <td>u</td>\n",
       "      <td>c</td>\n",
       "      <td>x</td>\n",
       "      <td>u</td>\n",
       "      <td>g</td>\n",
       "      <td>d</td>\n",
       "      <td>e</td>\n",
       "      <td>...</td>\n",
       "      <td>x</td>\n",
       "      <td>u</td>\n",
       "      <td>m</td>\n",
       "      <td>y</td>\n",
       "      <td>l</td>\n",
       "      <td>t</td>\n",
       "      <td>a</td>\n",
       "      <td>r</td>\n",
       "      <td>j</td>\n",
       "      <td>k</td>\n",
       "    </tr>\n",
       "    <tr>\n",
       "      <th>4</th>\n",
       "      <td>Read the following paragraph and determine if ...</td>\n",
       "      <td>fa18b94b-5cd7-443c-9394-83bc2c8f8051</td>\n",
       "      <td>k</td>\n",
       "      <td>w</td>\n",
       "      <td>d</td>\n",
       "      <td>b</td>\n",
       "      <td>m</td>\n",
       "      <td>d</td>\n",
       "      <td>i</td>\n",
       "      <td>w</td>\n",
       "      <td>...</td>\n",
       "      <td>i</td>\n",
       "      <td>b</td>\n",
       "      <td>l</td>\n",
       "      <td>z</td>\n",
       "      <td>g</td>\n",
       "      <td>a</td>\n",
       "      <td>j</td>\n",
       "      <td>e</td>\n",
       "      <td>w</td>\n",
       "      <td>x</td>\n",
       "    </tr>\n",
       "    <tr>\n",
       "      <th>...</th>\n",
       "      <td>...</td>\n",
       "      <td>...</td>\n",
       "      <td>...</td>\n",
       "      <td>...</td>\n",
       "      <td>...</td>\n",
       "      <td>...</td>\n",
       "      <td>...</td>\n",
       "      <td>...</td>\n",
       "      <td>...</td>\n",
       "      <td>...</td>\n",
       "      <td>...</td>\n",
       "      <td>...</td>\n",
       "      <td>...</td>\n",
       "      <td>...</td>\n",
       "      <td>...</td>\n",
       "      <td>...</td>\n",
       "      <td>...</td>\n",
       "      <td>...</td>\n",
       "      <td>...</td>\n",
       "      <td>...</td>\n",
       "      <td>...</td>\n",
       "    </tr>\n",
       "    <tr>\n",
       "      <th>363486</th>\n",
       "      <td>Q: Context: Dragon Ball Z (ドラゴンボール ゼット, Dorago...</td>\n",
       "      <td>29dc880d-b8cf-481e-9916-84d475c32876</td>\n",
       "      <td>n</td>\n",
       "      <td>r</td>\n",
       "      <td>a</td>\n",
       "      <td>r</td>\n",
       "      <td>c</td>\n",
       "      <td>p</td>\n",
       "      <td>u</td>\n",
       "      <td>f</td>\n",
       "      <td>...</td>\n",
       "      <td>c</td>\n",
       "      <td>v</td>\n",
       "      <td>q</td>\n",
       "      <td>r</td>\n",
       "      <td>w</td>\n",
       "      <td>p</td>\n",
       "      <td>m</td>\n",
       "      <td>h</td>\n",
       "      <td>x</td>\n",
       "      <td>e</td>\n",
       "    </tr>\n",
       "    <tr>\n",
       "      <th>363487</th>\n",
       "      <td>My question is: At the beginning of an academi...</td>\n",
       "      <td>8b23b7df-fa3c-4e41-9fdf-5991583442f9</td>\n",
       "      <td>s</td>\n",
       "      <td>n</td>\n",
       "      <td>c</td>\n",
       "      <td>g</td>\n",
       "      <td>j</td>\n",
       "      <td>q</td>\n",
       "      <td>i</td>\n",
       "      <td>r</td>\n",
       "      <td>...</td>\n",
       "      <td>f</td>\n",
       "      <td>n</td>\n",
       "      <td>b</td>\n",
       "      <td>k</td>\n",
       "      <td>b</td>\n",
       "      <td>f</td>\n",
       "      <td>r</td>\n",
       "      <td>q</td>\n",
       "      <td>m</td>\n",
       "      <td>r</td>\n",
       "    </tr>\n",
       "    <tr>\n",
       "      <th>363488</th>\n",
       "      <td>Leo: Given the sentence \"A small child in wate...</td>\n",
       "      <td>a1e1482f-a178-497b-b9d5-04f978de6feb</td>\n",
       "      <td>o</td>\n",
       "      <td>m</td>\n",
       "      <td>r</td>\n",
       "      <td>t</td>\n",
       "      <td>j</td>\n",
       "      <td>g</td>\n",
       "      <td>d</td>\n",
       "      <td>n</td>\n",
       "      <td>...</td>\n",
       "      <td>a</td>\n",
       "      <td>g</td>\n",
       "      <td>j</td>\n",
       "      <td>j</td>\n",
       "      <td>h</td>\n",
       "      <td>s</td>\n",
       "      <td>q</td>\n",
       "      <td>x</td>\n",
       "      <td>o</td>\n",
       "      <td>v</td>\n",
       "    </tr>\n",
       "    <tr>\n",
       "      <th>363489</th>\n",
       "      <td>Explain simply why yes is the correct answer t...</td>\n",
       "      <td>e233b119-9dec-4916-b3bf-bed41ec2272b</td>\n",
       "      <td>y</td>\n",
       "      <td>e</td>\n",
       "      <td>u</td>\n",
       "      <td>a</td>\n",
       "      <td>e</td>\n",
       "      <td>a</td>\n",
       "      <td>k</td>\n",
       "      <td>f</td>\n",
       "      <td>...</td>\n",
       "      <td>y</td>\n",
       "      <td>p</td>\n",
       "      <td>j</td>\n",
       "      <td>n</td>\n",
       "      <td>l</td>\n",
       "      <td>d</td>\n",
       "      <td>p</td>\n",
       "      <td>b</td>\n",
       "      <td>s</td>\n",
       "      <td>a</td>\n",
       "    </tr>\n",
       "    <tr>\n",
       "      <th>363490</th>\n",
       "      <td>**Q**\\nIs the following sentence factually cor...</td>\n",
       "      <td>503e6434-8eac-4fee-9119-dbfbf969b209</td>\n",
       "      <td>d</td>\n",
       "      <td>w</td>\n",
       "      <td>k</td>\n",
       "      <td>f</td>\n",
       "      <td>r</td>\n",
       "      <td>o</td>\n",
       "      <td>d</td>\n",
       "      <td>e</td>\n",
       "      <td>...</td>\n",
       "      <td>z</td>\n",
       "      <td>a</td>\n",
       "      <td>a</td>\n",
       "      <td>g</td>\n",
       "      <td>g</td>\n",
       "      <td>e</td>\n",
       "      <td>q</td>\n",
       "      <td>h</td>\n",
       "      <td>f</td>\n",
       "      <td>l</td>\n",
       "    </tr>\n",
       "  </tbody>\n",
       "</table>\n",
       "<p>363491 rows × 102 columns</p>\n",
       "</div>"
      ],
      "text/plain": [
       "                                                     text  \\\n",
       "0       Write an article based on this \"A man has been...   \n",
       "1       Answer the following question: - number is 54 ...   \n",
       "2       Produce a long descriptive sentence that uses ...   \n",
       "3       Write a title for this article:\\n\\nArbitration...   \n",
       "4       Read the following paragraph and determine if ...   \n",
       "...                                                   ...   \n",
       "363486  Q: Context: Dragon Ball Z (ドラゴンボール ゼット, Dorago...   \n",
       "363487  My question is: At the beginning of an academi...   \n",
       "363488  Leo: Given the sentence \"A small child in wate...   \n",
       "363489  Explain simply why yes is the correct answer t...   \n",
       "363490  **Q**\\nIs the following sentence factually cor...   \n",
       "\n",
       "                                        uuid category_0 category_1 category_2  \\\n",
       "0       d2e7c46f-cd54-459d-824a-b7beac0da1a3          y          r          w   \n",
       "1       dafabcf7-caa7-4491-8f00-1fb817dbd4b4          s          e          g   \n",
       "2       dd1e9b91-feea-472c-9f65-2eda2d42c4c1          a          r          c   \n",
       "3       740923fb-5624-4f69-bcdc-874bb0800634          v          u          c   \n",
       "4       fa18b94b-5cd7-443c-9394-83bc2c8f8051          k          w          d   \n",
       "...                                      ...        ...        ...        ...   \n",
       "363486  29dc880d-b8cf-481e-9916-84d475c32876          n          r          a   \n",
       "363487  8b23b7df-fa3c-4e41-9fdf-5991583442f9          s          n          c   \n",
       "363488  a1e1482f-a178-497b-b9d5-04f978de6feb          o          m          r   \n",
       "363489  e233b119-9dec-4916-b3bf-bed41ec2272b          y          e          u   \n",
       "363490  503e6434-8eac-4fee-9119-dbfbf969b209          d          w          k   \n",
       "\n",
       "       category_3 category_4 category_5 category_6 category_7  ...  \\\n",
       "0               v          s          m          j          o  ...   \n",
       "1               q          t          m          n          r  ...   \n",
       "2               g          v          l          d          f  ...   \n",
       "3               x          u          g          d          e  ...   \n",
       "4               b          m          d          i          w  ...   \n",
       "...           ...        ...        ...        ...        ...  ...   \n",
       "363486          r          c          p          u          f  ...   \n",
       "363487          g          j          q          i          r  ...   \n",
       "363488          t          j          g          d          n  ...   \n",
       "363489          a          e          a          k          f  ...   \n",
       "363490          f          r          o          d          e  ...   \n",
       "\n",
       "       category_90 category_91 category_92 category_93 category_94  \\\n",
       "0                h           j           c           s           m   \n",
       "1                m           b           v           t           u   \n",
       "2                l           o           m           q           y   \n",
       "3                x           u           m           y           l   \n",
       "4                i           b           l           z           g   \n",
       "...            ...         ...         ...         ...         ...   \n",
       "363486           c           v           q           r           w   \n",
       "363487           f           n           b           k           b   \n",
       "363488           a           g           j           j           h   \n",
       "363489           y           p           j           n           l   \n",
       "363490           z           a           a           g           g   \n",
       "\n",
       "       category_95 category_96 category_97 category_98 category_99  \n",
       "0                h           x           w           w           v  \n",
       "1                o           e           o           f           a  \n",
       "2                h           b           h           v           u  \n",
       "3                t           a           r           j           k  \n",
       "4                a           j           e           w           x  \n",
       "...            ...         ...         ...         ...         ...  \n",
       "363486           p           m           h           x           e  \n",
       "363487           f           r           q           m           r  \n",
       "363488           s           q           x           o           v  \n",
       "363489           d           p           b           s           a  \n",
       "363490           e           q           h           f           l  \n",
       "\n",
       "[363491 rows x 102 columns]"
      ]
     },
     "execution_count": 2,
     "metadata": {},
     "output_type": "execute_result"
    }
   ],
   "source": [
    "df = pd.read_pickle(\"./data/data_category.pkl.gz\")\n",
    "df"
   ]
  },
  {
   "cell_type": "code",
   "execution_count": 3,
   "metadata": {},
   "outputs": [
    {
     "data": {
      "text/plain": [
       "np.int64(743791694)"
      ]
     },
     "execution_count": 3,
     "metadata": {},
     "output_type": "execute_result"
    }
   ],
   "source": [
    "# total memory usage in bytes without index\n",
    "# see https://pandas.pydata.org/docs/reference/api/pandas.DataFrame.memory_usage.html\n",
    "mem_usage = df.memory_usage(index=False, deep=True).sum()\n",
    "mem_usage"
   ]
  },
  {
   "cell_type": "code",
   "execution_count": 4,
   "metadata": {},
   "outputs": [
    {
     "data": {
      "text/plain": [
       "np.float64(709.3350353240967)"
      ]
     },
     "execution_count": 4,
     "metadata": {},
     "output_type": "execute_result"
    }
   ],
   "source": [
    "# total memory usage in m_bytes without index\n",
    "mem_size_mb = mem_usage / 1024 / 1024\n",
    "mem_size_mb"
   ]
  },
  {
   "cell_type": "code",
   "execution_count": 5,
   "metadata": {},
   "outputs": [],
   "source": [
    "def evaluate_performance(\n",
    "        df,\n",
    "        method: Literal[\"csv\", \"parquet\"],\n",
    "        compression: Optional[str] = None,\n",
    "        compression_level: Optional[int] = None,\n",
    "    ) -> dict:\n",
    "    filename = f\"./test_data/data.{method}\"\n",
    "\n",
    "    # set save_fn and read_fn\n",
    "    save_fn = None\n",
    "    read_fn = None\n",
    "    additional_save_params = {}\n",
    "    if method == \"csv\":\n",
    "        if compression is not None:\n",
    "            additional_save_params[\"compression\"] = compression\n",
    "        assert compression_level is None\n",
    "        save_fn = partial(df.to_csv, index=False, path_or_buf=filename, **additional_save_params)\n",
    "        read_fn = partial(pd.read_csv, filepath_or_buffer=filename, **additional_save_params)\n",
    "    elif method == \"parquet\":\n",
    "        if compression is not None:\n",
    "            additional_save_params[\"compression\"] = compression\n",
    "        if compression_level is not None:\n",
    "            additional_save_params[\"compression_level\"] = compression_level\n",
    "        save_fn = partial(df.to_parquet, index=False, engine=\"pyarrow\", path=filename, **additional_save_params)\n",
    "        read_fn = partial(pd.read_parquet, path=filename, engine=\"pyarrow\")\n",
    "    elif method == \"feather\":\n",
    "        if compression is not None:\n",
    "            additional_save_params[\"compression\"] = compression\n",
    "        if compression_level is not None:\n",
    "            additional_save_params[\"compression_level\"] = compression_level\n",
    "        save_fn = partial(df.to_feather, path=filename, **additional_save_params)\n",
    "        read_fn = partial(pd.read_feather, path=filename)\n",
    "    assert save_fn is not None\n",
    "    assert read_fn is not None\n",
    "\n",
    "\n",
    "    # write\n",
    "    start_time = time.time()\n",
    "    save_fn()\n",
    "    save_time = time.time() - start_time\n",
    "    # print(\"save_time:\", save_time)\n",
    "\n",
    "    # read\n",
    "    start_time = time.time()\n",
    "    for _ in range(10):\n",
    "        read_fn()\n",
    "    read_time = (time.time() - start_time) / 10\n",
    "    # print(\"read_time:\", read_time)\n",
    "\n",
    "    # get size\n",
    "    file_size = os.path.getsize(filename) / 1024 / 1024\n",
    "    # print(\"file_size:\", file_size)\n",
    "\n",
    "    # delete file\n",
    "    os.remove(filename)\n",
    "\n",
    "    result = {\n",
    "        \"method\": method,\n",
    "        \"save_time\": save_time,\n",
    "        \"read_time\": read_time,\n",
    "        \"file_size\": file_size,\n",
    "    }\n",
    "\n",
    "    for k, v in additional_save_params.items():\n",
    "        result[k] = v\n",
    "\n",
    "    return result\n"
   ]
  },
  {
   "cell_type": "code",
   "execution_count": 6,
   "metadata": {},
   "outputs": [],
   "source": [
    "eval_results = []"
   ]
  },
  {
   "cell_type": "code",
   "execution_count": 7,
   "metadata": {},
   "outputs": [
    {
     "name": "stderr",
     "output_type": "stream",
     "text": [
      "  5%|▌         | 1/20 [00:11<03:46, 11.93s/it]"
     ]
    },
    {
     "name": "stdout",
     "output_type": "stream",
     "text": [
      "{'method': 'parquet', 'save_time': 2.0900628566741943, 'read_time': 0.984036922454834, 'file_size': 226.8893756866455, 'compression': 'zstd', 'compression_level': 1}\n"
     ]
    },
    {
     "name": "stderr",
     "output_type": "stream",
     "text": [
      " 10%|█         | 2/20 [00:24<03:43, 12.44s/it]"
     ]
    },
    {
     "name": "stdout",
     "output_type": "stream",
     "text": [
      "{'method': 'parquet', 'save_time': 2.398170232772827, 'read_time': 1.0397315740585327, 'file_size': 212.13928413391113, 'compression': 'zstd', 'compression_level': 2}\n"
     ]
    },
    {
     "name": "stderr",
     "output_type": "stream",
     "text": [
      " 15%|█▌        | 3/20 [00:37<03:37, 12.80s/it]"
     ]
    },
    {
     "name": "stdout",
     "output_type": "stream",
     "text": [
      "{'method': 'parquet', 'save_time': 2.7862768173217773, 'read_time': 1.0443446159362793, 'file_size': 203.67618083953857, 'compression': 'zstd', 'compression_level': 3}\n"
     ]
    },
    {
     "name": "stderr",
     "output_type": "stream",
     "text": [
      " 20%|██        | 4/20 [00:51<03:27, 12.99s/it]"
     ]
    },
    {
     "name": "stdout",
     "output_type": "stream",
     "text": [
      "{'method': 'parquet', 'save_time': 2.8023130893707275, 'read_time': 1.0460953950881957, 'file_size': 201.42714405059814, 'compression': 'zstd', 'compression_level': 4}\n"
     ]
    },
    {
     "name": "stderr",
     "output_type": "stream",
     "text": [
      " 25%|██▌       | 5/20 [01:06<03:25, 13.72s/it]"
     ]
    },
    {
     "name": "stdout",
     "output_type": "stream",
     "text": [
      "{'method': 'parquet', 'save_time': 4.344430923461914, 'read_time': 1.0678874731063843, 'file_size': 195.82324886322021, 'compression': 'zstd', 'compression_level': 5}\n"
     ]
    },
    {
     "name": "stderr",
     "output_type": "stream",
     "text": [
      " 30%|███       | 6/20 [01:22<03:24, 14.61s/it]"
     ]
    },
    {
     "name": "stdout",
     "output_type": "stream",
     "text": [
      "{'method': 'parquet', 'save_time': 5.930858850479126, 'read_time': 1.0391349792480469, 'file_size': 190.7016887664795, 'compression': 'zstd', 'compression_level': 6}\n"
     ]
    },
    {
     "name": "stderr",
     "output_type": "stream",
     "text": [
      " 35%|███▌      | 7/20 [01:39<03:21, 15.49s/it]"
     ]
    },
    {
     "name": "stdout",
     "output_type": "stream",
     "text": [
      "{'method': 'parquet', 'save_time': 6.786940097808838, 'read_time': 1.0508110046386718, 'file_size': 188.47851753234863, 'compression': 'zstd', 'compression_level': 7}\n"
     ]
    },
    {
     "name": "stderr",
     "output_type": "stream",
     "text": [
      " 40%|████      | 8/20 [01:58<03:17, 16.48s/it]"
     ]
    },
    {
     "name": "stdout",
     "output_type": "stream",
     "text": [
      "{'method': 'parquet', 'save_time': 8.63676404953003, 'read_time': 0.9980435132980346, 'file_size': 186.61782932281494, 'compression': 'zstd', 'compression_level': 8}\n"
     ]
    },
    {
     "name": "stderr",
     "output_type": "stream",
     "text": [
      " 45%|████▌     | 9/20 [02:16<03:07, 17.08s/it]"
     ]
    },
    {
     "name": "stdout",
     "output_type": "stream",
     "text": [
      "{'method': 'parquet', 'save_time': 8.488038778305054, 'read_time': 0.9911326885223388, 'file_size': 186.20174884796143, 'compression': 'zstd', 'compression_level': 9}\n"
     ]
    },
    {
     "name": "stderr",
     "output_type": "stream",
     "text": [
      " 50%|█████     | 10/20 [02:37<03:01, 18.20s/it]"
     ]
    },
    {
     "name": "stdout",
     "output_type": "stream",
     "text": [
      "{'method': 'parquet', 'save_time': 10.920305252075195, 'read_time': 0.9763767719268799, 'file_size': 184.79971313476562, 'compression': 'zstd', 'compression_level': 10}\n"
     ]
    },
    {
     "name": "stderr",
     "output_type": "stream",
     "text": [
      " 55%|█████▌    | 11/20 [03:01<02:58, 19.86s/it]"
     ]
    },
    {
     "name": "stdout",
     "output_type": "stream",
     "text": [
      "{'method': 'parquet', 'save_time': 13.724972009658813, 'read_time': 0.9916614055633545, 'file_size': 184.05713081359863, 'compression': 'zstd', 'compression_level': 11}\n"
     ]
    },
    {
     "name": "stderr",
     "output_type": "stream",
     "text": [
      " 60%|██████    | 12/20 [03:24<02:48, 21.00s/it]"
     ]
    },
    {
     "name": "stdout",
     "output_type": "stream",
     "text": [
      "{'method': 'parquet', 'save_time': 13.789183139801025, 'read_time': 0.9810190916061401, 'file_size': 184.05713081359863, 'compression': 'zstd', 'compression_level': 12}\n"
     ]
    },
    {
     "name": "stderr",
     "output_type": "stream",
     "text": [
      " 65%|██████▌   | 13/20 [04:08<03:14, 27.71s/it]"
     ]
    },
    {
     "name": "stdout",
     "output_type": "stream",
     "text": [
      "{'method': 'parquet', 'save_time': 33.28212308883667, 'read_time': 0.9874844074249267, 'file_size': 182.33034420013428, 'compression': 'zstd', 'compression_level': 13}\n"
     ]
    },
    {
     "name": "stderr",
     "output_type": "stream",
     "text": [
      " 70%|███████   | 14/20 [04:55<03:22, 33.79s/it]"
     ]
    },
    {
     "name": "stdout",
     "output_type": "stream",
     "text": [
      "{'method': 'parquet', 'save_time': 38.096182107925415, 'read_time': 0.9736217975616455, 'file_size': 181.7610321044922, 'compression': 'zstd', 'compression_level': 14}\n"
     ]
    },
    {
     "name": "stderr",
     "output_type": "stream",
     "text": [
      " 75%|███████▌  | 15/20 [05:45<03:12, 38.55s/it]"
     ]
    },
    {
     "name": "stdout",
     "output_type": "stream",
     "text": [
      "{'method': 'parquet', 'save_time': 39.6819109916687, 'read_time': 0.9875153779983521, 'file_size': 181.68418884277344, 'compression': 'zstd', 'compression_level': 15}\n"
     ]
    },
    {
     "name": "stderr",
     "output_type": "stream",
     "text": [
      " 80%|████████  | 16/20 [06:53<03:09, 47.34s/it]"
     ]
    },
    {
     "name": "stdout",
     "output_type": "stream",
     "text": [
      "{'method': 'parquet', 'save_time': 56.57456922531128, 'read_time': 1.1199987888336183, 'file_size': 175.22446155548096, 'compression': 'zstd', 'compression_level': 16}\n"
     ]
    },
    {
     "name": "stderr",
     "output_type": "stream",
     "text": [
      " 85%|████████▌ | 17/20 [08:11<02:49, 56.66s/it]"
     ]
    },
    {
     "name": "stdout",
     "output_type": "stream",
     "text": [
      "{'method': 'parquet', 'save_time': 67.73674273490906, 'read_time': 1.0570938110351562, 'file_size': 174.4441385269165, 'compression': 'zstd', 'compression_level': 17}\n"
     ]
    },
    {
     "name": "stderr",
     "output_type": "stream",
     "text": [
      " 90%|█████████ | 18/20 [09:44<02:15, 67.54s/it]"
     ]
    },
    {
     "name": "stdout",
     "output_type": "stream",
     "text": [
      "{'method': 'parquet', 'save_time': 82.09143495559692, 'read_time': 1.076111912727356, 'file_size': 173.46569061279297, 'compression': 'zstd', 'compression_level': 18}\n"
     ]
    },
    {
     "name": "stderr",
     "output_type": "stream",
     "text": [
      " 95%|█████████▌| 19/20 [11:25<01:17, 77.60s/it]"
     ]
    },
    {
     "name": "stdout",
     "output_type": "stream",
     "text": [
      "{'method': 'parquet', 'save_time': 90.7236659526825, 'read_time': 1.0299107074737548, 'file_size': 173.33709907531738, 'compression': 'zstd', 'compression_level': 19}\n"
     ]
    },
    {
     "name": "stderr",
     "output_type": "stream",
     "text": [
      "100%|██████████| 20/20 [13:04<00:00, 39.24s/it]"
     ]
    },
    {
     "name": "stdout",
     "output_type": "stream",
     "text": [
      "{'method': 'parquet', 'save_time': 88.99277687072754, 'read_time': 1.0331578254699707, 'file_size': 173.33709907531738, 'compression': 'zstd', 'compression_level': 20}\n"
     ]
    },
    {
     "name": "stderr",
     "output_type": "stream",
     "text": [
      "\n"
     ]
    }
   ],
   "source": [
    "# parquet, zstd\n",
    "for cl in tqdm(range(1, 21)):\n",
    "    r = evaluate_performance(df, \"parquet\", compression=\"zstd\", compression_level=cl)\n",
    "    print(r)\n",
    "    eval_results.append(r)"
   ]
  },
  {
   "cell_type": "code",
   "execution_count": 8,
   "metadata": {},
   "outputs": [
    {
     "name": "stderr",
     "output_type": "stream",
     "text": [
      "  5%|▌         | 1/20 [00:09<02:52,  9.10s/it]"
     ]
    },
    {
     "name": "stdout",
     "output_type": "stream",
     "text": [
      "{'method': 'parquet', 'save_time': 1.7393920421600342, 'read_time': 0.735357689857483, 'file_size': 321.7554168701172, 'compression': 'lz4', 'compression_level': 1}\n"
     ]
    },
    {
     "name": "stderr",
     "output_type": "stream",
     "text": [
      " 10%|█         | 2/20 [00:17<02:36,  8.71s/it]"
     ]
    },
    {
     "name": "stdout",
     "output_type": "stream",
     "text": [
      "{'method': 'parquet', 'save_time': 1.5570900440216064, 'read_time': 0.6881155967712402, 'file_size': 321.7554168701172, 'compression': 'lz4', 'compression_level': 2}\n"
     ]
    },
    {
     "name": "stderr",
     "output_type": "stream",
     "text": [
      " 15%|█▌        | 3/20 [00:30<02:58, 10.49s/it]"
     ]
    },
    {
     "name": "stdout",
     "output_type": "stream",
     "text": [
      "{'method': 'parquet', 'save_time': 5.852352142333984, 'read_time': 0.6748246908187866, 'file_size': 251.7232542037964, 'compression': 'lz4', 'compression_level': 3}\n"
     ]
    },
    {
     "name": "stderr",
     "output_type": "stream",
     "text": [
      " 20%|██        | 4/20 [00:44<03:14, 12.13s/it]"
     ]
    },
    {
     "name": "stdout",
     "output_type": "stream",
     "text": [
      "{'method': 'parquet', 'save_time': 7.4448230266571045, 'read_time': 0.7179853916168213, 'file_size': 246.3456153869629, 'compression': 'lz4', 'compression_level': 4}\n"
     ]
    },
    {
     "name": "stderr",
     "output_type": "stream",
     "text": [
      " 25%|██▌       | 5/20 [01:01<03:25, 13.71s/it]"
     ]
    },
    {
     "name": "stdout",
     "output_type": "stream",
     "text": [
      "{'method': 'parquet', 'save_time': 9.448970079421997, 'read_time': 0.7053354978561401, 'file_size': 243.49229907989502, 'compression': 'lz4', 'compression_level': 5}\n"
     ]
    },
    {
     "name": "stderr",
     "output_type": "stream",
     "text": [
      " 30%|███       | 6/20 [01:19<03:33, 15.22s/it]"
     ]
    },
    {
     "name": "stdout",
     "output_type": "stream",
     "text": [
      "{'method': 'parquet', 'save_time': 11.215007781982422, 'read_time': 0.6931030988693238, 'file_size': 242.22041606903076, 'compression': 'lz4', 'compression_level': 6}\n"
     ]
    },
    {
     "name": "stderr",
     "output_type": "stream",
     "text": [
      " 35%|███▌      | 7/20 [01:39<03:38, 16.81s/it]"
     ]
    },
    {
     "name": "stdout",
     "output_type": "stream",
     "text": [
      "{'method': 'parquet', 'save_time': 12.96272897720337, 'read_time': 0.7105220079421997, 'file_size': 241.69765663146973, 'compression': 'lz4', 'compression_level': 7}\n"
     ]
    },
    {
     "name": "stderr",
     "output_type": "stream",
     "text": [
      " 40%|████      | 8/20 [02:01<03:39, 18.33s/it]"
     ]
    },
    {
     "name": "stdout",
     "output_type": "stream",
     "text": [
      "{'method': 'parquet', 'save_time': 14.592042922973633, 'read_time': 0.6989505052566528, 'file_size': 241.49703121185303, 'compression': 'lz4', 'compression_level': 8}\n"
     ]
    },
    {
     "name": "stderr",
     "output_type": "stream",
     "text": [
      " 45%|████▌     | 9/20 [02:23<03:36, 19.70s/it]"
     ]
    },
    {
     "name": "stdout",
     "output_type": "stream",
     "text": [
      "{'method': 'parquet', 'save_time': 15.710811138153076, 'read_time': 0.701621413230896, 'file_size': 241.3874912261963, 'compression': 'lz4', 'compression_level': 9}\n"
     ]
    },
    {
     "name": "stderr",
     "output_type": "stream",
     "text": [
      " 50%|█████     | 10/20 [02:52<03:44, 22.49s/it]"
     ]
    },
    {
     "name": "stdout",
     "output_type": "stream",
     "text": [
      "{'method': 'parquet', 'save_time': 21.542015075683594, 'read_time': 0.7178672790527344, 'file_size': 240.21079921722412, 'compression': 'lz4', 'compression_level': 10}\n"
     ]
    },
    {
     "name": "stderr",
     "output_type": "stream",
     "text": [
      " 55%|█████▌    | 11/20 [03:25<03:51, 25.70s/it]"
     ]
    },
    {
     "name": "stdout",
     "output_type": "stream",
     "text": [
      "{'method': 'parquet', 'save_time': 25.960198163986206, 'read_time': 0.702301287651062, 'file_size': 239.8005027770996, 'compression': 'lz4', 'compression_level': 11}\n"
     ]
    },
    {
     "name": "stderr",
     "output_type": "stream",
     "text": [
      " 60%|██████    | 12/20 [04:02<03:53, 29.17s/it]"
     ]
    },
    {
     "name": "stdout",
     "output_type": "stream",
     "text": [
      "{'method': 'parquet', 'save_time': 29.575100898742676, 'read_time': 0.7510624170303345, 'file_size': 239.77301216125488, 'compression': 'lz4', 'compression_level': 12}\n"
     ]
    },
    {
     "name": "stderr",
     "output_type": "stream",
     "text": [
      " 65%|██████▌   | 13/20 [04:39<03:39, 31.42s/it]"
     ]
    },
    {
     "name": "stdout",
     "output_type": "stream",
     "text": [
      "{'method': 'parquet', 'save_time': 29.63607621192932, 'read_time': 0.6959657907485962, 'file_size': 239.77301216125488, 'compression': 'lz4', 'compression_level': 13}\n"
     ]
    },
    {
     "name": "stderr",
     "output_type": "stream",
     "text": [
      " 70%|███████   | 14/20 [05:15<03:17, 32.98s/it]"
     ]
    },
    {
     "name": "stdout",
     "output_type": "stream",
     "text": [
      "{'method': 'parquet', 'save_time': 29.535764932632446, 'read_time': 0.7042984008789063, 'file_size': 239.77301216125488, 'compression': 'lz4', 'compression_level': 14}\n"
     ]
    },
    {
     "name": "stderr",
     "output_type": "stream",
     "text": [
      " 75%|███████▌  | 15/20 [05:52<02:50, 34.08s/it]"
     ]
    },
    {
     "name": "stdout",
     "output_type": "stream",
     "text": [
      "{'method': 'parquet', 'save_time': 29.560651779174805, 'read_time': 0.707607102394104, 'file_size': 239.77301216125488, 'compression': 'lz4', 'compression_level': 15}\n"
     ]
    },
    {
     "name": "stderr",
     "output_type": "stream",
     "text": [
      " 80%|████████  | 16/20 [06:29<02:19, 34.85s/it]"
     ]
    },
    {
     "name": "stdout",
     "output_type": "stream",
     "text": [
      "{'method': 'parquet', 'save_time': 29.65842294692993, 'read_time': 0.6959420919418335, 'file_size': 239.77301216125488, 'compression': 'lz4', 'compression_level': 16}\n"
     ]
    },
    {
     "name": "stderr",
     "output_type": "stream",
     "text": [
      " 85%|████████▌ | 17/20 [07:06<01:46, 35.50s/it]"
     ]
    },
    {
     "name": "stdout",
     "output_type": "stream",
     "text": [
      "{'method': 'parquet', 'save_time': 29.579817056655884, 'read_time': 0.7416252851486206, 'file_size': 239.77301216125488, 'compression': 'lz4', 'compression_level': 17}\n"
     ]
    },
    {
     "name": "stderr",
     "output_type": "stream",
     "text": [
      " 90%|█████████ | 18/20 [07:42<01:11, 35.86s/it]"
     ]
    },
    {
     "name": "stdout",
     "output_type": "stream",
     "text": [
      "{'method': 'parquet', 'save_time': 29.65169930458069, 'read_time': 0.703622579574585, 'file_size': 239.77301216125488, 'compression': 'lz4', 'compression_level': 18}\n"
     ]
    },
    {
     "name": "stderr",
     "output_type": "stream",
     "text": [
      " 95%|█████████▌| 19/20 [08:19<00:36, 36.15s/it]"
     ]
    },
    {
     "name": "stdout",
     "output_type": "stream",
     "text": [
      "{'method': 'parquet', 'save_time': 29.547273874282837, 'read_time': 0.7279452800750732, 'file_size': 239.77301216125488, 'compression': 'lz4', 'compression_level': 19}\n"
     ]
    },
    {
     "name": "stderr",
     "output_type": "stream",
     "text": [
      "100%|██████████| 20/20 [08:56<00:00, 26.82s/it]"
     ]
    },
    {
     "name": "stdout",
     "output_type": "stream",
     "text": [
      "{'method': 'parquet', 'save_time': 29.654156923294067, 'read_time': 0.7017038106918335, 'file_size': 239.77301216125488, 'compression': 'lz4', 'compression_level': 20}\n"
     ]
    },
    {
     "name": "stderr",
     "output_type": "stream",
     "text": [
      "\n"
     ]
    }
   ],
   "source": [
    "# parquet, lz4\n",
    "for cl in tqdm(range(1, 21)):\n",
    "    r = evaluate_performance(df, \"parquet\", compression=\"lz4\", compression_level=cl)\n",
    "    print(r)\n",
    "    eval_results.append(r)"
   ]
  },
  {
   "cell_type": "code",
   "execution_count": 9,
   "metadata": {},
   "outputs": [
    {
     "name": "stderr",
     "output_type": "stream",
     "text": [
      "  5%|▌         | 1/20 [00:08<02:49,  8.90s/it]"
     ]
    },
    {
     "name": "stdout",
     "output_type": "stream",
     "text": [
      "{'method': 'feather', 'save_time': 1.42557692527771, 'read_time': 0.7475739240646362, 'file_size': 224.01304054260254, 'compression': 'zstd', 'compression_level': 1}\n"
     ]
    },
    {
     "name": "stderr",
     "output_type": "stream",
     "text": [
      " 10%|█         | 2/20 [00:19<02:56,  9.80s/it]"
     ]
    },
    {
     "name": "stdout",
     "output_type": "stream",
     "text": [
      "{'method': 'feather', 'save_time': 1.9998857975006104, 'read_time': 0.8416632890701294, 'file_size': 208.77051734924316, 'compression': 'zstd', 'compression_level': 2}\n"
     ]
    },
    {
     "name": "stderr",
     "output_type": "stream",
     "text": [
      " 15%|█▌        | 3/20 [00:29<02:52, 10.14s/it]"
     ]
    },
    {
     "name": "stdout",
     "output_type": "stream",
     "text": [
      "{'method': 'feather', 'save_time': 2.1534488201141357, 'read_time': 0.8398640155792236, 'file_size': 199.06656074523926, 'compression': 'zstd', 'compression_level': 3}\n"
     ]
    },
    {
     "name": "stderr",
     "output_type": "stream",
     "text": [
      " 20%|██        | 4/20 [00:40<02:45, 10.37s/it]"
     ]
    },
    {
     "name": "stdout",
     "output_type": "stream",
     "text": [
      "{'method': 'feather', 'save_time': 2.249929904937744, 'read_time': 0.8472741842269897, 'file_size': 195.82847785949707, 'compression': 'zstd', 'compression_level': 4}\n"
     ]
    },
    {
     "name": "stderr",
     "output_type": "stream",
     "text": [
      " 25%|██▌       | 5/20 [00:52<02:46, 11.10s/it]"
     ]
    },
    {
     "name": "stdout",
     "output_type": "stream",
     "text": [
      "{'method': 'feather', 'save_time': 3.745828151702881, 'read_time': 0.8624408006668091, 'file_size': 190.4362735748291, 'compression': 'zstd', 'compression_level': 5}\n"
     ]
    },
    {
     "name": "stderr",
     "output_type": "stream",
     "text": [
      " 30%|███       | 6/20 [01:06<02:47, 11.96s/it]"
     ]
    },
    {
     "name": "stdout",
     "output_type": "stream",
     "text": [
      "{'method': 'feather', 'save_time': 5.374945878982544, 'read_time': 0.8255513191223145, 'file_size': 184.54472541809082, 'compression': 'zstd', 'compression_level': 6}\n"
     ]
    },
    {
     "name": "stderr",
     "output_type": "stream",
     "text": [
      " 35%|███▌      | 7/20 [01:21<02:46, 12.80s/it]"
     ]
    },
    {
     "name": "stdout",
     "output_type": "stream",
     "text": [
      "{'method': 'feather', 'save_time': 6.2978668212890625, 'read_time': 0.8235860347747803, 'file_size': 180.76762580871582, 'compression': 'zstd', 'compression_level': 7}\n"
     ]
    },
    {
     "name": "stderr",
     "output_type": "stream",
     "text": [
      " 40%|████      | 8/20 [01:37<02:46, 13.87s/it]"
     ]
    },
    {
     "name": "stdout",
     "output_type": "stream",
     "text": [
      "{'method': 'feather', 'save_time': 8.094537019729614, 'read_time': 0.8043187856674194, 'file_size': 178.49475288391113, 'compression': 'zstd', 'compression_level': 8}\n"
     ]
    },
    {
     "name": "stderr",
     "output_type": "stream",
     "text": [
      " 45%|████▌     | 9/20 [01:53<02:40, 14.55s/it]"
     ]
    },
    {
     "name": "stdout",
     "output_type": "stream",
     "text": [
      "{'method': 'feather', 'save_time': 8.095047950744629, 'read_time': 0.7954463005065918, 'file_size': 174.7295093536377, 'compression': 'zstd', 'compression_level': 9}\n"
     ]
    },
    {
     "name": "stderr",
     "output_type": "stream",
     "text": [
      " 50%|█████     | 10/20 [02:12<02:38, 15.87s/it]"
     ]
    },
    {
     "name": "stdout",
     "output_type": "stream",
     "text": [
      "{'method': 'feather', 'save_time': 11.006395101547241, 'read_time': 0.7807962894439697, 'file_size': 171.62451362609863, 'compression': 'zstd', 'compression_level': 10}\n"
     ]
    },
    {
     "name": "stderr",
     "output_type": "stream",
     "text": [
      " 55%|█████▌    | 11/20 [02:35<02:42, 18.07s/it]"
     ]
    },
    {
     "name": "stdout",
     "output_type": "stream",
     "text": [
      "{'method': 'feather', 'save_time': 15.334919929504395, 'read_time': 0.7732085943222046, 'file_size': 169.85757637023926, 'compression': 'zstd', 'compression_level': 11}\n"
     ]
    },
    {
     "name": "stderr",
     "output_type": "stream",
     "text": [
      " 60%|██████    | 12/20 [02:59<02:40, 20.01s/it]"
     ]
    },
    {
     "name": "stdout",
     "output_type": "stream",
     "text": [
      "{'method': 'feather', 'save_time': 16.838697910308838, 'read_time': 0.7611279964447022, 'file_size': 169.38566780090332, 'compression': 'zstd', 'compression_level': 12}\n"
     ]
    },
    {
     "name": "stderr",
     "output_type": "stream",
     "text": [
      " 65%|██████▌   | 13/20 [03:51<03:26, 29.50s/it]"
     ]
    },
    {
     "name": "stdout",
     "output_type": "stream",
     "text": [
      "{'method': 'feather', 'save_time': 43.71610498428345, 'read_time': 0.7621742010116577, 'file_size': 166.85210609436035, 'compression': 'zstd', 'compression_level': 13}\n"
     ]
    },
    {
     "name": "stderr",
     "output_type": "stream",
     "text": [
      " 70%|███████   | 14/20 [04:54<03:57, 39.64s/it]"
     ]
    },
    {
     "name": "stdout",
     "output_type": "stream",
     "text": [
      "{'method': 'feather', 'save_time': 55.471288204193115, 'read_time': 0.7572419166564941, 'file_size': 165.236421585083, 'compression': 'zstd', 'compression_level': 14}\n"
     ]
    },
    {
     "name": "stderr",
     "output_type": "stream",
     "text": [
      " 75%|███████▌  | 15/20 [06:33<04:47, 57.54s/it]"
     ]
    },
    {
     "name": "stdout",
     "output_type": "stream",
     "text": [
      "{'method': 'feather', 'save_time': 91.51796913146973, 'read_time': 0.7495280981063843, 'file_size': 162.98893928527832, 'compression': 'zstd', 'compression_level': 15}\n"
     ]
    },
    {
     "name": "stderr",
     "output_type": "stream",
     "text": [
      " 80%|████████  | 16/20 [08:01<04:26, 66.68s/it]"
     ]
    },
    {
     "name": "stdout",
     "output_type": "stream",
     "text": [
      "{'method': 'feather', 'save_time': 80.24370288848877, 'read_time': 0.7650845050811768, 'file_size': 158.30799293518066, 'compression': 'zstd', 'compression_level': 16}\n"
     ]
    },
    {
     "name": "stderr",
     "output_type": "stream",
     "text": [
      " 85%|████████▌ | 17/20 [10:14<04:20, 86.70s/it]"
     ]
    },
    {
     "name": "stdout",
     "output_type": "stream",
     "text": [
      "{'method': 'feather', 'save_time': 125.5472321510315, 'read_time': 0.7708266019821167, 'file_size': 152.97683906555176, 'compression': 'zstd', 'compression_level': 17}\n"
     ]
    },
    {
     "name": "stderr",
     "output_type": "stream",
     "text": [
      " 90%|█████████ | 18/20 [12:47<03:33, 106.59s/it]"
     ]
    },
    {
     "name": "stdout",
     "output_type": "stream",
     "text": [
      "{'method': 'feather', 'save_time': 145.36742210388184, 'read_time': 0.7521837711334228, 'file_size': 150.5761890411377, 'compression': 'zstd', 'compression_level': 18}\n"
     ]
    },
    {
     "name": "stderr",
     "output_type": "stream",
     "text": [
      " 95%|█████████▌| 19/20 [15:56<02:11, 131.41s/it]"
     ]
    },
    {
     "name": "stdout",
     "output_type": "stream",
     "text": [
      "{'method': 'feather', 'save_time': 181.56097602844238, 'read_time': 0.7660135984420776, 'file_size': 148.84340858459473, 'compression': 'zstd', 'compression_level': 19}\n"
     ]
    },
    {
     "name": "stderr",
     "output_type": "stream",
     "text": [
      "100%|██████████| 20/20 [19:51<00:00, 59.56s/it] "
     ]
    },
    {
     "name": "stdout",
     "output_type": "stream",
     "text": [
      "{'method': 'feather', 'save_time': 227.24811697006226, 'read_time': 0.7567049026489258, 'file_size': 140.14563179016113, 'compression': 'zstd', 'compression_level': 20}\n"
     ]
    },
    {
     "name": "stderr",
     "output_type": "stream",
     "text": [
      "\n"
     ]
    }
   ],
   "source": [
    "# feather, zstd\n",
    "for cl in tqdm(range(1, 21)):\n",
    "    r = evaluate_performance(df, \"feather\", compression=\"zstd\", compression_level=cl)\n",
    "    print(r)\n",
    "    eval_results.append(r)"
   ]
  },
  {
   "cell_type": "code",
   "execution_count": 10,
   "metadata": {},
   "outputs": [
    {
     "name": "stderr",
     "output_type": "stream",
     "text": [
      "  5%|▌         | 1/20 [00:07<02:13,  7.02s/it]"
     ]
    },
    {
     "name": "stdout",
     "output_type": "stream",
     "text": [
      "{'method': 'feather', 'save_time': 1.2804429531097412, 'read_time': 0.5732852935791015, 'file_size': 334.1135501861572, 'compression': 'lz4', 'compression_level': 1}\n"
     ]
    },
    {
     "name": "stderr",
     "output_type": "stream",
     "text": [
      " 10%|█         | 2/20 [00:13<02:04,  6.94s/it]"
     ]
    },
    {
     "name": "stdout",
     "output_type": "stream",
     "text": [
      "{'method': 'feather', 'save_time': 1.4805629253387451, 'read_time': 0.5388987064361572, 'file_size': 334.1135501861572, 'compression': 'lz4', 'compression_level': 2}\n"
     ]
    },
    {
     "name": "stderr",
     "output_type": "stream",
     "text": [
      " 15%|█▌        | 3/20 [00:24<02:26,  8.62s/it]"
     ]
    },
    {
     "name": "stdout",
     "output_type": "stream",
     "text": [
      "{'method': 'feather', 'save_time': 5.169255018234253, 'read_time': 0.5446156024932861, 'file_size': 262.65227699279785, 'compression': 'lz4', 'compression_level': 3}\n"
     ]
    },
    {
     "name": "stderr",
     "output_type": "stream",
     "text": [
      " 20%|██        | 4/20 [00:36<02:39,  9.99s/it]"
     ]
    },
    {
     "name": "stdout",
     "output_type": "stream",
     "text": [
      "{'method': 'feather', 'save_time': 6.728070259094238, 'read_time': 0.535172700881958, 'file_size': 257.167688369751, 'compression': 'lz4', 'compression_level': 4}\n"
     ]
    },
    {
     "name": "stderr",
     "output_type": "stream",
     "text": [
      " 25%|██▌       | 5/20 [00:50<02:51, 11.46s/it]"
     ]
    },
    {
     "name": "stdout",
     "output_type": "stream",
     "text": [
      "{'method': 'feather', 'save_time': 8.654846906661987, 'read_time': 0.5401119947433471, 'file_size': 254.25290870666504, 'compression': 'lz4', 'compression_level': 5}\n"
     ]
    },
    {
     "name": "stderr",
     "output_type": "stream",
     "text": [
      " 30%|███       | 6/20 [01:06<03:02, 13.06s/it]"
     ]
    },
    {
     "name": "stdout",
     "output_type": "stream",
     "text": [
      "{'method': 'feather', 'save_time': 10.706410884857178, 'read_time': 0.5450427055358886, 'file_size': 252.95208168029785, 'compression': 'lz4', 'compression_level': 6}\n"
     ]
    },
    {
     "name": "stderr",
     "output_type": "stream",
     "text": [
      " 35%|███▌      | 7/20 [01:24<03:11, 14.71s/it]"
     ]
    },
    {
     "name": "stdout",
     "output_type": "stream",
     "text": [
      "{'method': 'feather', 'save_time': 12.628813028335571, 'read_time': 0.5471781253814697, 'file_size': 252.41932106018066, 'compression': 'lz4', 'compression_level': 7}\n"
     ]
    },
    {
     "name": "stderr",
     "output_type": "stream",
     "text": [
      " 40%|████      | 8/20 [01:44<03:14, 16.22s/it]"
     ]
    },
    {
     "name": "stdout",
     "output_type": "stream",
     "text": [
      "{'method': 'feather', 'save_time': 14.057636976242065, 'read_time': 0.538452410697937, 'file_size': 252.2168674468994, 'compression': 'lz4', 'compression_level': 8}\n"
     ]
    },
    {
     "name": "stderr",
     "output_type": "stream",
     "text": [
      " 45%|████▌     | 9/20 [02:05<03:14, 17.66s/it]"
     ]
    },
    {
     "name": "stdout",
     "output_type": "stream",
     "text": [
      "{'method': 'feather', 'save_time': 15.438199043273926, 'read_time': 0.5396882772445679, 'file_size': 252.10462379455566, 'compression': 'lz4', 'compression_level': 9}\n"
     ]
    },
    {
     "name": "stderr",
     "output_type": "stream",
     "text": [
      " 50%|█████     | 10/20 [02:31<03:23, 20.39s/it]"
     ]
    },
    {
     "name": "stdout",
     "output_type": "stream",
     "text": [
      "{'method': 'feather', 'save_time': 21.008697986602783, 'read_time': 0.5488072872161865, 'file_size': 250.90396308898926, 'compression': 'lz4', 'compression_level': 10}\n"
     ]
    },
    {
     "name": "stderr",
     "output_type": "stream",
     "text": [
      " 55%|█████▌    | 11/20 [03:02<03:32, 23.56s/it]"
     ]
    },
    {
     "name": "stdout",
     "output_type": "stream",
     "text": [
      "{'method': 'feather', 'save_time': 25.305948972702026, 'read_time': 0.5443089962005615, 'file_size': 250.50142097473145, 'compression': 'lz4', 'compression_level': 11}\n"
     ]
    },
    {
     "name": "stderr",
     "output_type": "stream",
     "text": [
      " 60%|██████    | 12/20 [03:36<03:35, 26.89s/it]"
     ]
    },
    {
     "name": "stdout",
     "output_type": "stream",
     "text": [
      "{'method': 'feather', 'save_time': 29.06900119781494, 'read_time': 0.5437150001525879, 'file_size': 250.46934700012207, 'compression': 'lz4', 'compression_level': 12}\n"
     ]
    },
    {
     "name": "stderr",
     "output_type": "stream",
     "text": [
      " 65%|██████▌   | 13/20 [04:11<03:24, 29.27s/it]"
     ]
    },
    {
     "name": "stdout",
     "output_type": "stream",
     "text": [
      "{'method': 'feather', 'save_time': 29.12043595314026, 'read_time': 0.5600850105285644, 'file_size': 250.46934700012207, 'compression': 'lz4', 'compression_level': 13}\n"
     ]
    },
    {
     "name": "stderr",
     "output_type": "stream",
     "text": [
      " 70%|███████   | 14/20 [04:46<03:05, 30.91s/it]"
     ]
    },
    {
     "name": "stdout",
     "output_type": "stream",
     "text": [
      "{'method': 'feather', 'save_time': 29.194515228271484, 'read_time': 0.5501016855239869, 'file_size': 250.46934700012207, 'compression': 'lz4', 'compression_level': 14}\n"
     ]
    },
    {
     "name": "stderr",
     "output_type": "stream",
     "text": [
      " 75%|███████▌  | 15/20 [05:20<02:40, 32.01s/it]"
     ]
    },
    {
     "name": "stdout",
     "output_type": "stream",
     "text": [
      "{'method': 'feather', 'save_time': 29.07554316520691, 'read_time': 0.5465172290802002, 'file_size': 250.46934700012207, 'compression': 'lz4', 'compression_level': 15}\n"
     ]
    },
    {
     "name": "stderr",
     "output_type": "stream",
     "text": [
      " 80%|████████  | 16/20 [05:55<02:10, 32.75s/it]"
     ]
    },
    {
     "name": "stdout",
     "output_type": "stream",
     "text": [
      "{'method': 'feather', 'save_time': 29.085169076919556, 'read_time': 0.5379619836807251, 'file_size': 250.46934700012207, 'compression': 'lz4', 'compression_level': 16}\n"
     ]
    },
    {
     "name": "stderr",
     "output_type": "stream",
     "text": [
      " 85%|████████▌ | 17/20 [06:29<01:39, 33.27s/it]"
     ]
    },
    {
     "name": "stdout",
     "output_type": "stream",
     "text": [
      "{'method': 'feather', 'save_time': 29.031739950180054, 'read_time': 0.5430895090103149, 'file_size': 250.46934700012207, 'compression': 'lz4', 'compression_level': 17}\n"
     ]
    },
    {
     "name": "stderr",
     "output_type": "stream",
     "text": [
      " 90%|█████████ | 18/20 [07:04<01:07, 33.61s/it]"
     ]
    },
    {
     "name": "stdout",
     "output_type": "stream",
     "text": [
      "{'method': 'feather', 'save_time': 29.050039052963257, 'read_time': 0.5340919017791748, 'file_size': 250.46934700012207, 'compression': 'lz4', 'compression_level': 18}\n"
     ]
    },
    {
     "name": "stderr",
     "output_type": "stream",
     "text": [
      " 95%|█████████▌| 19/20 [07:38<00:33, 33.87s/it]"
     ]
    },
    {
     "name": "stdout",
     "output_type": "stream",
     "text": [
      "{'method': 'feather', 'save_time': 29.07599902153015, 'read_time': 0.5415361881256103, 'file_size': 250.46934700012207, 'compression': 'lz4', 'compression_level': 19}\n"
     ]
    },
    {
     "name": "stderr",
     "output_type": "stream",
     "text": [
      "100%|██████████| 20/20 [08:13<00:00, 24.66s/it]"
     ]
    },
    {
     "name": "stdout",
     "output_type": "stream",
     "text": [
      "{'method': 'feather', 'save_time': 29.03005599975586, 'read_time': 0.5439633131027222, 'file_size': 250.46934700012207, 'compression': 'lz4', 'compression_level': 20}\n"
     ]
    },
    {
     "name": "stderr",
     "output_type": "stream",
     "text": [
      "\n"
     ]
    }
   ],
   "source": [
    "# feather, lz4\n",
    "for cl in tqdm(range(1, 21)):\n",
    "    r = evaluate_performance(df, \"feather\", compression=\"lz4\", compression_level=cl)\n",
    "    print(r)\n",
    "    eval_results.append(r)"
   ]
  },
  {
   "cell_type": "code",
   "execution_count": 11,
   "metadata": {},
   "outputs": [
    {
     "name": "stdout",
     "output_type": "stream",
     "text": [
      "{'method': 'parquet', 'save_time': 20.333938121795654, 'read_time': 1.8917057037353515, 'file_size': 211.33220672607422, 'compression': 'gzip'}\n",
      "{'method': 'parquet', 'save_time': 1.710979700088501, 'read_time': 0.8100784063339234, 'file_size': 318.714994430542, 'compression': 'snappy'}\n",
      "{'method': 'parquet', 'save_time': 1.5627169609069824, 'read_time': 0.7078850030899048, 'file_size': 321.7554168701172, 'compression': 'lz4'}\n",
      "{'method': 'parquet', 'save_time': 1.723479986190796, 'read_time': 0.9531194925308227, 'file_size': 226.8893756866455, 'compression': 'zstd'}\n",
      "{'method': 'parquet', 'save_time': 18.56906819343567, 'read_time': 1.6577537775039672, 'file_size': 181.17698860168457, 'compression': 'brotli'}\n",
      "{'method': 'parquet', 'save_time': 1.6790261268615723, 'read_time': 0.8445393800735473, 'file_size': 318.714994430542}\n"
     ]
    }
   ],
   "source": [
    "# parquet\n",
    "for c in [\"gzip\", \"snappy\", \"lz4\", \"zstd\", \"brotli\", None]:\n",
    "    r = evaluate_performance(df, \"parquet\", compression=c)\n",
    "    print(r)\n",
    "    eval_results.append(r)"
   ]
  },
  {
   "cell_type": "code",
   "execution_count": 12,
   "metadata": {},
   "outputs": [
    {
     "name": "stdout",
     "output_type": "stream",
     "text": [
      "{'method': 'feather', 'save_time': 1.3364830017089844, 'read_time': 0.5182675123214722, 'file_size': 334.1135501861572, 'compression': 'lz4'}\n",
      "{'method': 'feather', 'save_time': 1.3837168216705322, 'read_time': 0.773916506767273, 'file_size': 224.01304054260254, 'compression': 'zstd'}\n",
      "{'method': 'feather', 'save_time': 0.38083815574645996, 'read_time': 0.3962541103363037, 'file_size': 558.7613697052002, 'compression': 'uncompressed'}\n",
      "{'method': 'feather', 'save_time': 1.3422012329101562, 'read_time': 0.5551566839218139, 'file_size': 334.1135501861572}\n"
     ]
    }
   ],
   "source": [
    "# feather\n",
    "for c in [\"lz4\", \"zstd\", \"uncompressed\", None]:\n",
    "    r = evaluate_performance(df, \"feather\", compression=c)\n",
    "    print(r)\n",
    "    eval_results.append(r)"
   ]
  },
  {
   "cell_type": "code",
   "execution_count": 13,
   "metadata": {},
   "outputs": [
    {
     "name": "stdout",
     "output_type": "stream",
     "text": [
      "{'method': 'csv', 'save_time': 28.594516038894653, 'read_time': 5.931642293930054, 'file_size': 229.09690284729004, 'compression': 'zip'}\n",
      "{'method': 'csv', 'save_time': 32.593398094177246, 'read_time': 7.220234298706055, 'file_size': 228.72325706481934, 'compression': 'gzip'}\n",
      "{'method': 'csv', 'save_time': 39.74804401397705, 'read_time': 16.60398178100586, 'file_size': 172.7035903930664, 'compression': 'bz2'}\n",
      "{'method': 'csv', 'save_time': 10.806816816329956, 'read_time': 5.758484935760498, 'file_size': 219.93363094329834, 'compression': 'zstd'}\n",
      "{'method': 'csv', 'save_time': 251.98728919029236, 'read_time': 12.825430107116699, 'file_size': 153.80280303955078, 'compression': 'xz'}\n",
      "{'method': 'csv', 'save_time': 9.18571400642395, 'read_time': 5.357082390785218, 'file_size': 593.701171875, 'compression': 'tar'}\n",
      "{'method': 'csv', 'save_time': 8.582108736038208, 'read_time': 5.344513487815857, 'file_size': 593.6962213516235}\n"
     ]
    }
   ],
   "source": [
    "# csv\n",
    "for c in ['zip', 'gzip', 'bz2', 'zstd', 'xz', 'tar', None]:\n",
    "    r = evaluate_performance(df, \"csv\", compression=c)\n",
    "    print(r)\n",
    "    eval_results.append(r)"
   ]
  },
  {
   "cell_type": "code",
   "execution_count": 14,
   "metadata": {},
   "outputs": [
    {
     "data": {
      "text/html": [
       "<div>\n",
       "<style scoped>\n",
       "    .dataframe tbody tr th:only-of-type {\n",
       "        vertical-align: middle;\n",
       "    }\n",
       "\n",
       "    .dataframe tbody tr th {\n",
       "        vertical-align: top;\n",
       "    }\n",
       "\n",
       "    .dataframe thead th {\n",
       "        text-align: right;\n",
       "    }\n",
       "</style>\n",
       "<table border=\"1\" class=\"dataframe\">\n",
       "  <thead>\n",
       "    <tr style=\"text-align: right;\">\n",
       "      <th></th>\n",
       "      <th>method</th>\n",
       "      <th>save_time</th>\n",
       "      <th>read_time</th>\n",
       "      <th>file_size</th>\n",
       "      <th>compression</th>\n",
       "      <th>compression_level</th>\n",
       "    </tr>\n",
       "  </thead>\n",
       "  <tbody>\n",
       "    <tr>\n",
       "      <th>0</th>\n",
       "      <td>parquet</td>\n",
       "      <td>2.090063</td>\n",
       "      <td>0.984037</td>\n",
       "      <td>226.889376</td>\n",
       "      <td>zstd</td>\n",
       "      <td>1.0</td>\n",
       "    </tr>\n",
       "    <tr>\n",
       "      <th>1</th>\n",
       "      <td>parquet</td>\n",
       "      <td>2.398170</td>\n",
       "      <td>1.039732</td>\n",
       "      <td>212.139284</td>\n",
       "      <td>zstd</td>\n",
       "      <td>2.0</td>\n",
       "    </tr>\n",
       "    <tr>\n",
       "      <th>2</th>\n",
       "      <td>parquet</td>\n",
       "      <td>2.786277</td>\n",
       "      <td>1.044345</td>\n",
       "      <td>203.676181</td>\n",
       "      <td>zstd</td>\n",
       "      <td>3.0</td>\n",
       "    </tr>\n",
       "    <tr>\n",
       "      <th>3</th>\n",
       "      <td>parquet</td>\n",
       "      <td>2.802313</td>\n",
       "      <td>1.046095</td>\n",
       "      <td>201.427144</td>\n",
       "      <td>zstd</td>\n",
       "      <td>4.0</td>\n",
       "    </tr>\n",
       "    <tr>\n",
       "      <th>4</th>\n",
       "      <td>parquet</td>\n",
       "      <td>4.344431</td>\n",
       "      <td>1.067887</td>\n",
       "      <td>195.823249</td>\n",
       "      <td>zstd</td>\n",
       "      <td>5.0</td>\n",
       "    </tr>\n",
       "    <tr>\n",
       "      <th>...</th>\n",
       "      <td>...</td>\n",
       "      <td>...</td>\n",
       "      <td>...</td>\n",
       "      <td>...</td>\n",
       "      <td>...</td>\n",
       "      <td>...</td>\n",
       "    </tr>\n",
       "    <tr>\n",
       "      <th>92</th>\n",
       "      <td>csv</td>\n",
       "      <td>39.748044</td>\n",
       "      <td>16.603982</td>\n",
       "      <td>172.703590</td>\n",
       "      <td>bz2</td>\n",
       "      <td>NaN</td>\n",
       "    </tr>\n",
       "    <tr>\n",
       "      <th>93</th>\n",
       "      <td>csv</td>\n",
       "      <td>10.806817</td>\n",
       "      <td>5.758485</td>\n",
       "      <td>219.933631</td>\n",
       "      <td>zstd</td>\n",
       "      <td>NaN</td>\n",
       "    </tr>\n",
       "    <tr>\n",
       "      <th>94</th>\n",
       "      <td>csv</td>\n",
       "      <td>251.987289</td>\n",
       "      <td>12.825430</td>\n",
       "      <td>153.802803</td>\n",
       "      <td>xz</td>\n",
       "      <td>NaN</td>\n",
       "    </tr>\n",
       "    <tr>\n",
       "      <th>95</th>\n",
       "      <td>csv</td>\n",
       "      <td>9.185714</td>\n",
       "      <td>5.357082</td>\n",
       "      <td>593.701172</td>\n",
       "      <td>tar</td>\n",
       "      <td>NaN</td>\n",
       "    </tr>\n",
       "    <tr>\n",
       "      <th>96</th>\n",
       "      <td>csv</td>\n",
       "      <td>8.582109</td>\n",
       "      <td>5.344513</td>\n",
       "      <td>593.696221</td>\n",
       "      <td>NaN</td>\n",
       "      <td>NaN</td>\n",
       "    </tr>\n",
       "  </tbody>\n",
       "</table>\n",
       "<p>97 rows × 6 columns</p>\n",
       "</div>"
      ],
      "text/plain": [
       "     method   save_time  read_time   file_size compression  compression_level\n",
       "0   parquet    2.090063   0.984037  226.889376        zstd                1.0\n",
       "1   parquet    2.398170   1.039732  212.139284        zstd                2.0\n",
       "2   parquet    2.786277   1.044345  203.676181        zstd                3.0\n",
       "3   parquet    2.802313   1.046095  201.427144        zstd                4.0\n",
       "4   parquet    4.344431   1.067887  195.823249        zstd                5.0\n",
       "..      ...         ...        ...         ...         ...                ...\n",
       "92      csv   39.748044  16.603982  172.703590         bz2                NaN\n",
       "93      csv   10.806817   5.758485  219.933631        zstd                NaN\n",
       "94      csv  251.987289  12.825430  153.802803          xz                NaN\n",
       "95      csv    9.185714   5.357082  593.701172         tar                NaN\n",
       "96      csv    8.582109   5.344513  593.696221         NaN                NaN\n",
       "\n",
       "[97 rows x 6 columns]"
      ]
     },
     "execution_count": 14,
     "metadata": {},
     "output_type": "execute_result"
    }
   ],
   "source": [
    "df = pd.DataFrame(eval_results)\n",
    "df"
   ]
  },
  {
   "cell_type": "code",
   "execution_count": 15,
   "metadata": {},
   "outputs": [
    {
     "data": {
      "text/html": [
       "<div>\n",
       "<style scoped>\n",
       "    .dataframe tbody tr th:only-of-type {\n",
       "        vertical-align: middle;\n",
       "    }\n",
       "\n",
       "    .dataframe tbody tr th {\n",
       "        vertical-align: top;\n",
       "    }\n",
       "\n",
       "    .dataframe thead th {\n",
       "        text-align: right;\n",
       "    }\n",
       "</style>\n",
       "<table border=\"1\" class=\"dataframe\">\n",
       "  <thead>\n",
       "    <tr style=\"text-align: right;\">\n",
       "      <th></th>\n",
       "      <th>method</th>\n",
       "      <th>save_time</th>\n",
       "      <th>read_time</th>\n",
       "      <th>file_size</th>\n",
       "      <th>compression</th>\n",
       "      <th>compression_level</th>\n",
       "      <th>comp_ratio</th>\n",
       "    </tr>\n",
       "  </thead>\n",
       "  <tbody>\n",
       "    <tr>\n",
       "      <th>0</th>\n",
       "      <td>parquet</td>\n",
       "      <td>2.090063</td>\n",
       "      <td>0.984037</td>\n",
       "      <td>226.889376</td>\n",
       "      <td>zstd</td>\n",
       "      <td>1.0</td>\n",
       "      <td>3.126348</td>\n",
       "    </tr>\n",
       "    <tr>\n",
       "      <th>1</th>\n",
       "      <td>parquet</td>\n",
       "      <td>2.398170</td>\n",
       "      <td>1.039732</td>\n",
       "      <td>212.139284</td>\n",
       "      <td>zstd</td>\n",
       "      <td>2.0</td>\n",
       "      <td>3.343723</td>\n",
       "    </tr>\n",
       "    <tr>\n",
       "      <th>2</th>\n",
       "      <td>parquet</td>\n",
       "      <td>2.786277</td>\n",
       "      <td>1.044345</td>\n",
       "      <td>203.676181</td>\n",
       "      <td>zstd</td>\n",
       "      <td>3.0</td>\n",
       "      <td>3.482661</td>\n",
       "    </tr>\n",
       "    <tr>\n",
       "      <th>3</th>\n",
       "      <td>parquet</td>\n",
       "      <td>2.802313</td>\n",
       "      <td>1.046095</td>\n",
       "      <td>201.427144</td>\n",
       "      <td>zstd</td>\n",
       "      <td>4.0</td>\n",
       "      <td>3.521546</td>\n",
       "    </tr>\n",
       "    <tr>\n",
       "      <th>4</th>\n",
       "      <td>parquet</td>\n",
       "      <td>4.344431</td>\n",
       "      <td>1.067887</td>\n",
       "      <td>195.823249</td>\n",
       "      <td>zstd</td>\n",
       "      <td>5.0</td>\n",
       "      <td>3.622323</td>\n",
       "    </tr>\n",
       "    <tr>\n",
       "      <th>...</th>\n",
       "      <td>...</td>\n",
       "      <td>...</td>\n",
       "      <td>...</td>\n",
       "      <td>...</td>\n",
       "      <td>...</td>\n",
       "      <td>...</td>\n",
       "      <td>...</td>\n",
       "    </tr>\n",
       "    <tr>\n",
       "      <th>92</th>\n",
       "      <td>csv</td>\n",
       "      <td>39.748044</td>\n",
       "      <td>16.603982</td>\n",
       "      <td>172.703590</td>\n",
       "      <td>bz2</td>\n",
       "      <td>NaN</td>\n",
       "      <td>4.107240</td>\n",
       "    </tr>\n",
       "    <tr>\n",
       "      <th>93</th>\n",
       "      <td>csv</td>\n",
       "      <td>10.806817</td>\n",
       "      <td>5.758485</td>\n",
       "      <td>219.933631</td>\n",
       "      <td>zstd</td>\n",
       "      <td>NaN</td>\n",
       "      <td>3.225223</td>\n",
       "    </tr>\n",
       "    <tr>\n",
       "      <th>94</th>\n",
       "      <td>csv</td>\n",
       "      <td>251.987289</td>\n",
       "      <td>12.825430</td>\n",
       "      <td>153.802803</td>\n",
       "      <td>xz</td>\n",
       "      <td>NaN</td>\n",
       "      <td>4.611977</td>\n",
       "    </tr>\n",
       "    <tr>\n",
       "      <th>95</th>\n",
       "      <td>csv</td>\n",
       "      <td>9.185714</td>\n",
       "      <td>5.357082</td>\n",
       "      <td>593.701172</td>\n",
       "      <td>tar</td>\n",
       "      <td>NaN</td>\n",
       "      <td>1.194768</td>\n",
       "    </tr>\n",
       "    <tr>\n",
       "      <th>96</th>\n",
       "      <td>csv</td>\n",
       "      <td>8.582109</td>\n",
       "      <td>5.344513</td>\n",
       "      <td>593.696221</td>\n",
       "      <td>NaN</td>\n",
       "      <td>NaN</td>\n",
       "      <td>1.194778</td>\n",
       "    </tr>\n",
       "  </tbody>\n",
       "</table>\n",
       "<p>97 rows × 7 columns</p>\n",
       "</div>"
      ],
      "text/plain": [
       "     method   save_time  read_time   file_size compression  compression_level  \\\n",
       "0   parquet    2.090063   0.984037  226.889376        zstd                1.0   \n",
       "1   parquet    2.398170   1.039732  212.139284        zstd                2.0   \n",
       "2   parquet    2.786277   1.044345  203.676181        zstd                3.0   \n",
       "3   parquet    2.802313   1.046095  201.427144        zstd                4.0   \n",
       "4   parquet    4.344431   1.067887  195.823249        zstd                5.0   \n",
       "..      ...         ...        ...         ...         ...                ...   \n",
       "92      csv   39.748044  16.603982  172.703590         bz2                NaN   \n",
       "93      csv   10.806817   5.758485  219.933631        zstd                NaN   \n",
       "94      csv  251.987289  12.825430  153.802803          xz                NaN   \n",
       "95      csv    9.185714   5.357082  593.701172         tar                NaN   \n",
       "96      csv    8.582109   5.344513  593.696221         NaN                NaN   \n",
       "\n",
       "    comp_ratio  \n",
       "0     3.126348  \n",
       "1     3.343723  \n",
       "2     3.482661  \n",
       "3     3.521546  \n",
       "4     3.622323  \n",
       "..         ...  \n",
       "92    4.107240  \n",
       "93    3.225223  \n",
       "94    4.611977  \n",
       "95    1.194768  \n",
       "96    1.194778  \n",
       "\n",
       "[97 rows x 7 columns]"
      ]
     },
     "execution_count": 15,
     "metadata": {},
     "output_type": "execute_result"
    }
   ],
   "source": [
    "df[\"comp_ratio\"] = mem_size_mb / df[\"file_size\"]\n",
    "df"
   ]
  },
  {
   "cell_type": "code",
   "execution_count": 16,
   "metadata": {},
   "outputs": [],
   "source": [
    "df.to_pickle(\"./data/test_results_category_01.pkl.gz\", compression=\"gzip\")"
   ]
  },
  {
   "cell_type": "code",
   "execution_count": null,
   "metadata": {},
   "outputs": [],
   "source": []
  }
 ],
 "metadata": {
  "kernelspec": {
   "display_name": ".venv",
   "language": "python",
   "name": "python3"
  },
  "language_info": {
   "codemirror_mode": {
    "name": "ipython",
    "version": 3
   },
   "file_extension": ".py",
   "mimetype": "text/x-python",
   "name": "python",
   "nbconvert_exporter": "python",
   "pygments_lexer": "ipython3",
   "version": "3.11.9"
  }
 },
 "nbformat": 4,
 "nbformat_minor": 2
}
