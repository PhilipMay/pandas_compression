{
 "cells": [
  {
   "cell_type": "code",
   "execution_count": 1,
   "metadata": {},
   "outputs": [],
   "source": [
    "import pandas as pd\n",
    "import plotly.express as px"
   ]
  },
  {
   "cell_type": "code",
   "execution_count": 2,
   "metadata": {},
   "outputs": [
    {
     "data": {
      "text/html": [
       "<div>\n",
       "<style scoped>\n",
       "    .dataframe tbody tr th:only-of-type {\n",
       "        vertical-align: middle;\n",
       "    }\n",
       "\n",
       "    .dataframe tbody tr th {\n",
       "        vertical-align: top;\n",
       "    }\n",
       "\n",
       "    .dataframe thead th {\n",
       "        text-align: right;\n",
       "    }\n",
       "</style>\n",
       "<table border=\"1\" class=\"dataframe\">\n",
       "  <thead>\n",
       "    <tr style=\"text-align: right;\">\n",
       "      <th></th>\n",
       "      <th>method</th>\n",
       "      <th>save_time</th>\n",
       "      <th>read_time</th>\n",
       "      <th>file_size</th>\n",
       "      <th>compression</th>\n",
       "      <th>compression_level</th>\n",
       "      <th>comp_ratio</th>\n",
       "      <th>type</th>\n",
       "    </tr>\n",
       "  </thead>\n",
       "  <tbody>\n",
       "    <tr>\n",
       "      <th>0</th>\n",
       "      <td>parquet</td>\n",
       "      <td>2.31</td>\n",
       "      <td>1.06</td>\n",
       "      <td>276.737055</td>\n",
       "      <td>zstd</td>\n",
       "      <td>1</td>\n",
       "      <td>2.838</td>\n",
       "      <td>parquet_zstd</td>\n",
       "    </tr>\n",
       "    <tr>\n",
       "      <th>1</th>\n",
       "      <td>parquet</td>\n",
       "      <td>2.56</td>\n",
       "      <td>1.04</td>\n",
       "      <td>262.036419</td>\n",
       "      <td>zstd</td>\n",
       "      <td>2</td>\n",
       "      <td>2.998</td>\n",
       "      <td>parquet_zstd</td>\n",
       "    </tr>\n",
       "    <tr>\n",
       "      <th>2</th>\n",
       "      <td>parquet</td>\n",
       "      <td>2.83</td>\n",
       "      <td>1.03</td>\n",
       "      <td>253.571889</td>\n",
       "      <td>zstd</td>\n",
       "      <td>3</td>\n",
       "      <td>3.098</td>\n",
       "      <td>parquet_zstd</td>\n",
       "    </tr>\n",
       "    <tr>\n",
       "      <th>3</th>\n",
       "      <td>parquet</td>\n",
       "      <td>2.80</td>\n",
       "      <td>1.01</td>\n",
       "      <td>251.290937</td>\n",
       "      <td>zstd</td>\n",
       "      <td>4</td>\n",
       "      <td>3.126</td>\n",
       "      <td>parquet_zstd</td>\n",
       "    </tr>\n",
       "    <tr>\n",
       "      <th>4</th>\n",
       "      <td>parquet</td>\n",
       "      <td>4.28</td>\n",
       "      <td>1.02</td>\n",
       "      <td>245.694203</td>\n",
       "      <td>zstd</td>\n",
       "      <td>5</td>\n",
       "      <td>3.197</td>\n",
       "      <td>parquet_zstd</td>\n",
       "    </tr>\n",
       "    <tr>\n",
       "      <th>...</th>\n",
       "      <td>...</td>\n",
       "      <td>...</td>\n",
       "      <td>...</td>\n",
       "      <td>...</td>\n",
       "      <td>...</td>\n",
       "      <td>...</td>\n",
       "      <td>...</td>\n",
       "      <td>...</td>\n",
       "    </tr>\n",
       "    <tr>\n",
       "      <th>92</th>\n",
       "      <td>csv</td>\n",
       "      <td>49.02</td>\n",
       "      <td>20.00</td>\n",
       "      <td>230.634853</td>\n",
       "      <td>bz2</td>\n",
       "      <td>0</td>\n",
       "      <td>3.406</td>\n",
       "      <td>csv_bz2</td>\n",
       "    </tr>\n",
       "    <tr>\n",
       "      <th>93</th>\n",
       "      <td>csv</td>\n",
       "      <td>14.66</td>\n",
       "      <td>6.11</td>\n",
       "      <td>289.558606</td>\n",
       "      <td>zstd</td>\n",
       "      <td>0</td>\n",
       "      <td>2.713</td>\n",
       "      <td>csv_zstd</td>\n",
       "    </tr>\n",
       "    <tr>\n",
       "      <th>94</th>\n",
       "      <td>csv</td>\n",
       "      <td>331.15</td>\n",
       "      <td>15.68</td>\n",
       "      <td>212.404030</td>\n",
       "      <td>xz</td>\n",
       "      <td>0</td>\n",
       "      <td>3.698</td>\n",
       "      <td>csv_xz</td>\n",
       "    </tr>\n",
       "    <tr>\n",
       "      <th>95</th>\n",
       "      <td>csv</td>\n",
       "      <td>11.37</td>\n",
       "      <td>5.13</td>\n",
       "      <td>691.074219</td>\n",
       "      <td>tar</td>\n",
       "      <td>0</td>\n",
       "      <td>1.137</td>\n",
       "      <td>csv_tar</td>\n",
       "    </tr>\n",
       "    <tr>\n",
       "      <th>96</th>\n",
       "      <td>csv</td>\n",
       "      <td>11.35</td>\n",
       "      <td>5.12</td>\n",
       "      <td>691.066633</td>\n",
       "      <td>default</td>\n",
       "      <td>0</td>\n",
       "      <td>1.137</td>\n",
       "      <td>csv_default</td>\n",
       "    </tr>\n",
       "  </tbody>\n",
       "</table>\n",
       "<p>97 rows × 8 columns</p>\n",
       "</div>"
      ],
      "text/plain": [
       "     method  save_time  read_time   file_size compression  compression_level  \\\n",
       "0   parquet       2.31       1.06  276.737055        zstd                  1   \n",
       "1   parquet       2.56       1.04  262.036419        zstd                  2   \n",
       "2   parquet       2.83       1.03  253.571889        zstd                  3   \n",
       "3   parquet       2.80       1.01  251.290937        zstd                  4   \n",
       "4   parquet       4.28       1.02  245.694203        zstd                  5   \n",
       "..      ...        ...        ...         ...         ...                ...   \n",
       "92      csv      49.02      20.00  230.634853         bz2                  0   \n",
       "93      csv      14.66       6.11  289.558606        zstd                  0   \n",
       "94      csv     331.15      15.68  212.404030          xz                  0   \n",
       "95      csv      11.37       5.13  691.074219         tar                  0   \n",
       "96      csv      11.35       5.12  691.066633     default                  0   \n",
       "\n",
       "    comp_ratio          type  \n",
       "0        2.838  parquet_zstd  \n",
       "1        2.998  parquet_zstd  \n",
       "2        3.098  parquet_zstd  \n",
       "3        3.126  parquet_zstd  \n",
       "4        3.197  parquet_zstd  \n",
       "..         ...           ...  \n",
       "92       3.406       csv_bz2  \n",
       "93       2.713      csv_zstd  \n",
       "94       3.698        csv_xz  \n",
       "95       1.137       csv_tar  \n",
       "96       1.137   csv_default  \n",
       "\n",
       "[97 rows x 8 columns]"
      ]
     },
     "execution_count": 2,
     "metadata": {},
     "output_type": "execute_result"
    }
   ],
   "source": [
    "df = pd.read_pickle(\"./data/test_results_03.pkl.gz\")\n",
    "df[\"compression_level\"] = df[\"compression_level\"].fillna(0)\n",
    "df[\"compression\"] = df[\"compression\"].fillna(\"default\")\n",
    "df[\"type\"] = df[\"method\"] + \"_\" + df[\"compression\"]\n",
    "\n",
    "df[\"save_time\"] = df[\"save_time\"].round(2)\n",
    "df[\"read_time\"] = df[\"read_time\"].round(2)\n",
    "df[\"comp_ratio\"] = df[\"comp_ratio\"].round(3)\n",
    "\n",
    "# change type of column \"compression_level\" to int\n",
    "df[\"compression_level\"] = df[\"compression_level\"].astype(int)\n",
    "\n",
    "df"
   ]
  },
  {
   "cell_type": "code",
   "execution_count": 3,
   "metadata": {},
   "outputs": [
    {
     "data": {
      "text/html": [
       "<div>\n",
       "<style scoped>\n",
       "    .dataframe tbody tr th:only-of-type {\n",
       "        vertical-align: middle;\n",
       "    }\n",
       "\n",
       "    .dataframe tbody tr th {\n",
       "        vertical-align: top;\n",
       "    }\n",
       "\n",
       "    .dataframe thead th {\n",
       "        text-align: right;\n",
       "    }\n",
       "</style>\n",
       "<table border=\"1\" class=\"dataframe\">\n",
       "  <thead>\n",
       "    <tr style=\"text-align: right;\">\n",
       "      <th></th>\n",
       "      <th>method</th>\n",
       "      <th>save_time</th>\n",
       "      <th>read_time</th>\n",
       "      <th>file_size</th>\n",
       "      <th>compression</th>\n",
       "      <th>compression_level</th>\n",
       "      <th>comp_ratio</th>\n",
       "      <th>type</th>\n",
       "      <th>method_compression_with_level</th>\n",
       "    </tr>\n",
       "  </thead>\n",
       "  <tbody>\n",
       "    <tr>\n",
       "      <th>0</th>\n",
       "      <td>parquet</td>\n",
       "      <td>2.31</td>\n",
       "      <td>1.06</td>\n",
       "      <td>276.737055</td>\n",
       "      <td>zstd</td>\n",
       "      <td>1</td>\n",
       "      <td>2.838</td>\n",
       "      <td>parquet_zstd</td>\n",
       "      <td>parquet_zstd_1</td>\n",
       "    </tr>\n",
       "    <tr>\n",
       "      <th>1</th>\n",
       "      <td>parquet</td>\n",
       "      <td>2.56</td>\n",
       "      <td>1.04</td>\n",
       "      <td>262.036419</td>\n",
       "      <td>zstd</td>\n",
       "      <td>2</td>\n",
       "      <td>2.998</td>\n",
       "      <td>parquet_zstd</td>\n",
       "      <td>parquet_zstd_2</td>\n",
       "    </tr>\n",
       "    <tr>\n",
       "      <th>2</th>\n",
       "      <td>parquet</td>\n",
       "      <td>2.83</td>\n",
       "      <td>1.03</td>\n",
       "      <td>253.571889</td>\n",
       "      <td>zstd</td>\n",
       "      <td>3</td>\n",
       "      <td>3.098</td>\n",
       "      <td>parquet_zstd</td>\n",
       "      <td>parquet_zstd_3</td>\n",
       "    </tr>\n",
       "    <tr>\n",
       "      <th>3</th>\n",
       "      <td>parquet</td>\n",
       "      <td>2.80</td>\n",
       "      <td>1.01</td>\n",
       "      <td>251.290937</td>\n",
       "      <td>zstd</td>\n",
       "      <td>4</td>\n",
       "      <td>3.126</td>\n",
       "      <td>parquet_zstd</td>\n",
       "      <td>parquet_zstd_4</td>\n",
       "    </tr>\n",
       "    <tr>\n",
       "      <th>4</th>\n",
       "      <td>parquet</td>\n",
       "      <td>4.28</td>\n",
       "      <td>1.02</td>\n",
       "      <td>245.694203</td>\n",
       "      <td>zstd</td>\n",
       "      <td>5</td>\n",
       "      <td>3.197</td>\n",
       "      <td>parquet_zstd</td>\n",
       "      <td>parquet_zstd_5</td>\n",
       "    </tr>\n",
       "    <tr>\n",
       "      <th>...</th>\n",
       "      <td>...</td>\n",
       "      <td>...</td>\n",
       "      <td>...</td>\n",
       "      <td>...</td>\n",
       "      <td>...</td>\n",
       "      <td>...</td>\n",
       "      <td>...</td>\n",
       "      <td>...</td>\n",
       "      <td>...</td>\n",
       "    </tr>\n",
       "    <tr>\n",
       "      <th>92</th>\n",
       "      <td>csv</td>\n",
       "      <td>49.02</td>\n",
       "      <td>20.00</td>\n",
       "      <td>230.634853</td>\n",
       "      <td>bz2</td>\n",
       "      <td>0</td>\n",
       "      <td>3.406</td>\n",
       "      <td>csv_bz2</td>\n",
       "      <td>csv_bz2_default</td>\n",
       "    </tr>\n",
       "    <tr>\n",
       "      <th>93</th>\n",
       "      <td>csv</td>\n",
       "      <td>14.66</td>\n",
       "      <td>6.11</td>\n",
       "      <td>289.558606</td>\n",
       "      <td>zstd</td>\n",
       "      <td>0</td>\n",
       "      <td>2.713</td>\n",
       "      <td>csv_zstd</td>\n",
       "      <td>csv_zstd_default</td>\n",
       "    </tr>\n",
       "    <tr>\n",
       "      <th>94</th>\n",
       "      <td>csv</td>\n",
       "      <td>331.15</td>\n",
       "      <td>15.68</td>\n",
       "      <td>212.404030</td>\n",
       "      <td>xz</td>\n",
       "      <td>0</td>\n",
       "      <td>3.698</td>\n",
       "      <td>csv_xz</td>\n",
       "      <td>csv_xz_default</td>\n",
       "    </tr>\n",
       "    <tr>\n",
       "      <th>95</th>\n",
       "      <td>csv</td>\n",
       "      <td>11.37</td>\n",
       "      <td>5.13</td>\n",
       "      <td>691.074219</td>\n",
       "      <td>tar</td>\n",
       "      <td>0</td>\n",
       "      <td>1.137</td>\n",
       "      <td>csv_tar</td>\n",
       "      <td>csv_tar_default</td>\n",
       "    </tr>\n",
       "    <tr>\n",
       "      <th>96</th>\n",
       "      <td>csv</td>\n",
       "      <td>11.35</td>\n",
       "      <td>5.12</td>\n",
       "      <td>691.066633</td>\n",
       "      <td>default</td>\n",
       "      <td>0</td>\n",
       "      <td>1.137</td>\n",
       "      <td>csv_default</td>\n",
       "      <td>csv_default_default</td>\n",
       "    </tr>\n",
       "  </tbody>\n",
       "</table>\n",
       "<p>97 rows × 9 columns</p>\n",
       "</div>"
      ],
      "text/plain": [
       "     method  save_time  read_time   file_size compression  compression_level  \\\n",
       "0   parquet       2.31       1.06  276.737055        zstd                  1   \n",
       "1   parquet       2.56       1.04  262.036419        zstd                  2   \n",
       "2   parquet       2.83       1.03  253.571889        zstd                  3   \n",
       "3   parquet       2.80       1.01  251.290937        zstd                  4   \n",
       "4   parquet       4.28       1.02  245.694203        zstd                  5   \n",
       "..      ...        ...        ...         ...         ...                ...   \n",
       "92      csv      49.02      20.00  230.634853         bz2                  0   \n",
       "93      csv      14.66       6.11  289.558606        zstd                  0   \n",
       "94      csv     331.15      15.68  212.404030          xz                  0   \n",
       "95      csv      11.37       5.13  691.074219         tar                  0   \n",
       "96      csv      11.35       5.12  691.066633     default                  0   \n",
       "\n",
       "    comp_ratio          type method_compression_with_level  \n",
       "0        2.838  parquet_zstd                parquet_zstd_1  \n",
       "1        2.998  parquet_zstd                parquet_zstd_2  \n",
       "2        3.098  parquet_zstd                parquet_zstd_3  \n",
       "3        3.126  parquet_zstd                parquet_zstd_4  \n",
       "4        3.197  parquet_zstd                parquet_zstd_5  \n",
       "..         ...           ...                           ...  \n",
       "92       3.406       csv_bz2               csv_bz2_default  \n",
       "93       2.713      csv_zstd              csv_zstd_default  \n",
       "94       3.698        csv_xz                csv_xz_default  \n",
       "95       1.137       csv_tar               csv_tar_default  \n",
       "96       1.137   csv_default           csv_default_default  \n",
       "\n",
       "[97 rows x 9 columns]"
      ]
     },
     "execution_count": 3,
     "metadata": {},
     "output_type": "execute_result"
    }
   ],
   "source": [
    "def method_compression_with_level(row) -> str:\n",
    "    level = row[\"compression_level\"] if row[\"compression_level\"] > 0 else \"default\"\n",
    "    return f\"{row['method']}_{row['compression']}_{level}\"\n",
    "\n",
    "df[\"method_compression_with_level\"] = df.apply(method_compression_with_level, axis=1)\n",
    "df"
   ]
  },
  {
   "cell_type": "code",
   "execution_count": 4,
   "metadata": {},
   "outputs": [
    {
     "data": {
      "text/html": [
       "<div>\n",
       "<style scoped>\n",
       "    .dataframe tbody tr th:only-of-type {\n",
       "        vertical-align: middle;\n",
       "    }\n",
       "\n",
       "    .dataframe tbody tr th {\n",
       "        vertical-align: top;\n",
       "    }\n",
       "\n",
       "    .dataframe thead th {\n",
       "        text-align: right;\n",
       "    }\n",
       "</style>\n",
       "<table border=\"1\" class=\"dataframe\">\n",
       "  <thead>\n",
       "    <tr style=\"text-align: right;\">\n",
       "      <th></th>\n",
       "      <th>method</th>\n",
       "      <th>save_time</th>\n",
       "      <th>read_time</th>\n",
       "      <th>file_size</th>\n",
       "      <th>compression</th>\n",
       "      <th>compression_level</th>\n",
       "      <th>comp_ratio</th>\n",
       "      <th>type</th>\n",
       "      <th>method_compression_with_level</th>\n",
       "    </tr>\n",
       "  </thead>\n",
       "  <tbody>\n",
       "    <tr>\n",
       "      <th>92</th>\n",
       "      <td>csv</td>\n",
       "      <td>49.02</td>\n",
       "      <td>20.00</td>\n",
       "      <td>230.634853</td>\n",
       "      <td>bz2</td>\n",
       "      <td>0</td>\n",
       "      <td>3.406</td>\n",
       "      <td>csv_bz2</td>\n",
       "      <td>csv_bz2_default</td>\n",
       "    </tr>\n",
       "    <tr>\n",
       "      <th>96</th>\n",
       "      <td>csv</td>\n",
       "      <td>11.35</td>\n",
       "      <td>5.12</td>\n",
       "      <td>691.066633</td>\n",
       "      <td>default</td>\n",
       "      <td>0</td>\n",
       "      <td>1.137</td>\n",
       "      <td>csv_default</td>\n",
       "      <td>csv_default_default</td>\n",
       "    </tr>\n",
       "    <tr>\n",
       "      <th>91</th>\n",
       "      <td>csv</td>\n",
       "      <td>36.43</td>\n",
       "      <td>8.30</td>\n",
       "      <td>298.669783</td>\n",
       "      <td>gzip</td>\n",
       "      <td>0</td>\n",
       "      <td>2.630</td>\n",
       "      <td>csv_gzip</td>\n",
       "      <td>csv_gzip_default</td>\n",
       "    </tr>\n",
       "    <tr>\n",
       "      <th>95</th>\n",
       "      <td>csv</td>\n",
       "      <td>11.37</td>\n",
       "      <td>5.13</td>\n",
       "      <td>691.074219</td>\n",
       "      <td>tar</td>\n",
       "      <td>0</td>\n",
       "      <td>1.137</td>\n",
       "      <td>csv_tar</td>\n",
       "      <td>csv_tar_default</td>\n",
       "    </tr>\n",
       "    <tr>\n",
       "      <th>94</th>\n",
       "      <td>csv</td>\n",
       "      <td>331.15</td>\n",
       "      <td>15.68</td>\n",
       "      <td>212.404030</td>\n",
       "      <td>xz</td>\n",
       "      <td>0</td>\n",
       "      <td>3.698</td>\n",
       "      <td>csv_xz</td>\n",
       "      <td>csv_xz_default</td>\n",
       "    </tr>\n",
       "    <tr>\n",
       "      <th>90</th>\n",
       "      <td>csv</td>\n",
       "      <td>32.37</td>\n",
       "      <td>6.15</td>\n",
       "      <td>298.976316</td>\n",
       "      <td>zip</td>\n",
       "      <td>0</td>\n",
       "      <td>2.627</td>\n",
       "      <td>csv_zip</td>\n",
       "      <td>csv_zip_default</td>\n",
       "    </tr>\n",
       "    <tr>\n",
       "      <th>93</th>\n",
       "      <td>csv</td>\n",
       "      <td>14.66</td>\n",
       "      <td>6.11</td>\n",
       "      <td>289.558606</td>\n",
       "      <td>zstd</td>\n",
       "      <td>0</td>\n",
       "      <td>2.713</td>\n",
       "      <td>csv_zstd</td>\n",
       "      <td>csv_zstd_default</td>\n",
       "    </tr>\n",
       "    <tr>\n",
       "      <th>89</th>\n",
       "      <td>feather</td>\n",
       "      <td>1.25</td>\n",
       "      <td>0.53</td>\n",
       "      <td>382.216593</td>\n",
       "      <td>default</td>\n",
       "      <td>0</td>\n",
       "      <td>2.055</td>\n",
       "      <td>feather_default</td>\n",
       "      <td>feather_default_default</td>\n",
       "    </tr>\n",
       "    <tr>\n",
       "      <th>86</th>\n",
       "      <td>feather</td>\n",
       "      <td>1.29</td>\n",
       "      <td>0.53</td>\n",
       "      <td>382.216593</td>\n",
       "      <td>lz4</td>\n",
       "      <td>0</td>\n",
       "      <td>2.055</td>\n",
       "      <td>feather_lz4</td>\n",
       "      <td>feather_lz4_default</td>\n",
       "    </tr>\n",
       "    <tr>\n",
       "      <th>88</th>\n",
       "      <td>feather</td>\n",
       "      <td>0.34</td>\n",
       "      <td>0.39</td>\n",
       "      <td>634.940203</td>\n",
       "      <td>uncompressed</td>\n",
       "      <td>0</td>\n",
       "      <td>1.237</td>\n",
       "      <td>feather_uncompressed</td>\n",
       "      <td>feather_uncompressed_default</td>\n",
       "    </tr>\n",
       "    <tr>\n",
       "      <th>87</th>\n",
       "      <td>feather</td>\n",
       "      <td>1.39</td>\n",
       "      <td>0.76</td>\n",
       "      <td>274.084230</td>\n",
       "      <td>zstd</td>\n",
       "      <td>0</td>\n",
       "      <td>2.866</td>\n",
       "      <td>feather_zstd</td>\n",
       "      <td>feather_zstd_default</td>\n",
       "    </tr>\n",
       "    <tr>\n",
       "      <th>84</th>\n",
       "      <td>parquet</td>\n",
       "      <td>18.98</td>\n",
       "      <td>1.57</td>\n",
       "      <td>230.745323</td>\n",
       "      <td>brotli</td>\n",
       "      <td>0</td>\n",
       "      <td>3.404</td>\n",
       "      <td>parquet_brotli</td>\n",
       "      <td>parquet_brotli_default</td>\n",
       "    </tr>\n",
       "    <tr>\n",
       "      <th>85</th>\n",
       "      <td>parquet</td>\n",
       "      <td>1.46</td>\n",
       "      <td>0.76</td>\n",
       "      <td>372.269791</td>\n",
       "      <td>default</td>\n",
       "      <td>0</td>\n",
       "      <td>2.110</td>\n",
       "      <td>parquet_default</td>\n",
       "      <td>parquet_default_default</td>\n",
       "    </tr>\n",
       "    <tr>\n",
       "      <th>80</th>\n",
       "      <td>parquet</td>\n",
       "      <td>21.94</td>\n",
       "      <td>1.86</td>\n",
       "      <td>261.452491</td>\n",
       "      <td>gzip</td>\n",
       "      <td>0</td>\n",
       "      <td>3.004</td>\n",
       "      <td>parquet_gzip</td>\n",
       "      <td>parquet_gzip_default</td>\n",
       "    </tr>\n",
       "    <tr>\n",
       "      <th>82</th>\n",
       "      <td>parquet</td>\n",
       "      <td>1.44</td>\n",
       "      <td>0.65</td>\n",
       "      <td>375.513327</td>\n",
       "      <td>lz4</td>\n",
       "      <td>0</td>\n",
       "      <td>2.092</td>\n",
       "      <td>parquet_lz4</td>\n",
       "      <td>parquet_lz4_default</td>\n",
       "    </tr>\n",
       "    <tr>\n",
       "      <th>81</th>\n",
       "      <td>parquet</td>\n",
       "      <td>1.48</td>\n",
       "      <td>0.76</td>\n",
       "      <td>372.269791</td>\n",
       "      <td>snappy</td>\n",
       "      <td>0</td>\n",
       "      <td>2.110</td>\n",
       "      <td>parquet_snappy</td>\n",
       "      <td>parquet_snappy_default</td>\n",
       "    </tr>\n",
       "    <tr>\n",
       "      <th>83</th>\n",
       "      <td>parquet</td>\n",
       "      <td>1.66</td>\n",
       "      <td>0.89</td>\n",
       "      <td>276.737055</td>\n",
       "      <td>zstd</td>\n",
       "      <td>0</td>\n",
       "      <td>2.838</td>\n",
       "      <td>parquet_zstd</td>\n",
       "      <td>parquet_zstd_default</td>\n",
       "    </tr>\n",
       "  </tbody>\n",
       "</table>\n",
       "</div>"
      ],
      "text/plain": [
       "     method  save_time  read_time   file_size   compression  \\\n",
       "92      csv      49.02      20.00  230.634853           bz2   \n",
       "96      csv      11.35       5.12  691.066633       default   \n",
       "91      csv      36.43       8.30  298.669783          gzip   \n",
       "95      csv      11.37       5.13  691.074219           tar   \n",
       "94      csv     331.15      15.68  212.404030            xz   \n",
       "90      csv      32.37       6.15  298.976316           zip   \n",
       "93      csv      14.66       6.11  289.558606          zstd   \n",
       "89  feather       1.25       0.53  382.216593       default   \n",
       "86  feather       1.29       0.53  382.216593           lz4   \n",
       "88  feather       0.34       0.39  634.940203  uncompressed   \n",
       "87  feather       1.39       0.76  274.084230          zstd   \n",
       "84  parquet      18.98       1.57  230.745323        brotli   \n",
       "85  parquet       1.46       0.76  372.269791       default   \n",
       "80  parquet      21.94       1.86  261.452491          gzip   \n",
       "82  parquet       1.44       0.65  375.513327           lz4   \n",
       "81  parquet       1.48       0.76  372.269791        snappy   \n",
       "83  parquet       1.66       0.89  276.737055          zstd   \n",
       "\n",
       "    compression_level  comp_ratio                  type  \\\n",
       "92                  0       3.406               csv_bz2   \n",
       "96                  0       1.137           csv_default   \n",
       "91                  0       2.630              csv_gzip   \n",
       "95                  0       1.137               csv_tar   \n",
       "94                  0       3.698                csv_xz   \n",
       "90                  0       2.627               csv_zip   \n",
       "93                  0       2.713              csv_zstd   \n",
       "89                  0       2.055       feather_default   \n",
       "86                  0       2.055           feather_lz4   \n",
       "88                  0       1.237  feather_uncompressed   \n",
       "87                  0       2.866          feather_zstd   \n",
       "84                  0       3.404        parquet_brotli   \n",
       "85                  0       2.110       parquet_default   \n",
       "80                  0       3.004          parquet_gzip   \n",
       "82                  0       2.092           parquet_lz4   \n",
       "81                  0       2.110        parquet_snappy   \n",
       "83                  0       2.838          parquet_zstd   \n",
       "\n",
       "   method_compression_with_level  \n",
       "92               csv_bz2_default  \n",
       "96           csv_default_default  \n",
       "91              csv_gzip_default  \n",
       "95               csv_tar_default  \n",
       "94                csv_xz_default  \n",
       "90               csv_zip_default  \n",
       "93              csv_zstd_default  \n",
       "89       feather_default_default  \n",
       "86           feather_lz4_default  \n",
       "88  feather_uncompressed_default  \n",
       "87          feather_zstd_default  \n",
       "84        parquet_brotli_default  \n",
       "85       parquet_default_default  \n",
       "80          parquet_gzip_default  \n",
       "82           parquet_lz4_default  \n",
       "81        parquet_snappy_default  \n",
       "83          parquet_zstd_default  "
      ]
     },
     "execution_count": 4,
     "metadata": {},
     "output_type": "execute_result"
    }
   ],
   "source": [
    "df_default_cl = df[df[\"compression_level\"] == 0].copy()\n",
    "\n",
    "# oder df_default_cl by method_compression_with_level\n",
    "df_default_cl.sort_values(\"method_compression_with_level\", ascending=True, inplace=True)\n",
    "\n",
    "df_default_cl"
   ]
  },
  {
   "cell_type": "code",
   "execution_count": 5,
   "metadata": {},
   "outputs": [
    {
     "data": {
      "application/vnd.plotly.v1+json": {
       "config": {
        "plotlyServerURL": "https://plot.ly"
       },
       "data": [
        {
         "alignmentgroup": "True",
         "hovertemplate": "format_compression_level=%{x}<br>compression ratio=%{y}<extra></extra>",
         "legendgroup": "",
         "marker": {
          "color": "#636efa",
          "pattern": {
           "shape": ""
          }
         },
         "name": "",
         "offsetgroup": "",
         "orientation": "v",
         "showlegend": false,
         "textposition": "auto",
         "texttemplate": "%{y}",
         "type": "bar",
         "x": [
          "csv_bz2_default",
          "csv_default_default",
          "csv_gzip_default",
          "csv_tar_default",
          "csv_xz_default",
          "csv_zip_default",
          "csv_zstd_default",
          "feather_default_default",
          "feather_lz4_default",
          "feather_uncompressed_default",
          "feather_zstd_default",
          "parquet_brotli_default",
          "parquet_default_default",
          "parquet_gzip_default",
          "parquet_lz4_default",
          "parquet_snappy_default",
          "parquet_zstd_default"
         ],
         "xaxis": "x",
         "y": [
          3.406,
          1.137,
          2.63,
          1.137,
          3.698,
          2.627,
          2.713,
          2.055,
          2.055,
          1.237,
          2.866,
          3.404,
          2.11,
          3.004,
          2.092,
          2.11,
          2.838
         ],
         "yaxis": "y"
        }
       ],
       "layout": {
        "barmode": "relative",
        "legend": {
         "tracegroupgap": 0
        },
        "margin": {
         "t": 60
        },
        "template": {
         "data": {
          "bar": [
           {
            "error_x": {
             "color": "#2a3f5f"
            },
            "error_y": {
             "color": "#2a3f5f"
            },
            "marker": {
             "line": {
              "color": "#E5ECF6",
              "width": 0.5
             },
             "pattern": {
              "fillmode": "overlay",
              "size": 10,
              "solidity": 0.2
             }
            },
            "type": "bar"
           }
          ],
          "barpolar": [
           {
            "marker": {
             "line": {
              "color": "#E5ECF6",
              "width": 0.5
             },
             "pattern": {
              "fillmode": "overlay",
              "size": 10,
              "solidity": 0.2
             }
            },
            "type": "barpolar"
           }
          ],
          "carpet": [
           {
            "aaxis": {
             "endlinecolor": "#2a3f5f",
             "gridcolor": "white",
             "linecolor": "white",
             "minorgridcolor": "white",
             "startlinecolor": "#2a3f5f"
            },
            "baxis": {
             "endlinecolor": "#2a3f5f",
             "gridcolor": "white",
             "linecolor": "white",
             "minorgridcolor": "white",
             "startlinecolor": "#2a3f5f"
            },
            "type": "carpet"
           }
          ],
          "choropleth": [
           {
            "colorbar": {
             "outlinewidth": 0,
             "ticks": ""
            },
            "type": "choropleth"
           }
          ],
          "contour": [
           {
            "colorbar": {
             "outlinewidth": 0,
             "ticks": ""
            },
            "colorscale": [
             [
              0,
              "#0d0887"
             ],
             [
              0.1111111111111111,
              "#46039f"
             ],
             [
              0.2222222222222222,
              "#7201a8"
             ],
             [
              0.3333333333333333,
              "#9c179e"
             ],
             [
              0.4444444444444444,
              "#bd3786"
             ],
             [
              0.5555555555555556,
              "#d8576b"
             ],
             [
              0.6666666666666666,
              "#ed7953"
             ],
             [
              0.7777777777777778,
              "#fb9f3a"
             ],
             [
              0.8888888888888888,
              "#fdca26"
             ],
             [
              1,
              "#f0f921"
             ]
            ],
            "type": "contour"
           }
          ],
          "contourcarpet": [
           {
            "colorbar": {
             "outlinewidth": 0,
             "ticks": ""
            },
            "type": "contourcarpet"
           }
          ],
          "heatmap": [
           {
            "colorbar": {
             "outlinewidth": 0,
             "ticks": ""
            },
            "colorscale": [
             [
              0,
              "#0d0887"
             ],
             [
              0.1111111111111111,
              "#46039f"
             ],
             [
              0.2222222222222222,
              "#7201a8"
             ],
             [
              0.3333333333333333,
              "#9c179e"
             ],
             [
              0.4444444444444444,
              "#bd3786"
             ],
             [
              0.5555555555555556,
              "#d8576b"
             ],
             [
              0.6666666666666666,
              "#ed7953"
             ],
             [
              0.7777777777777778,
              "#fb9f3a"
             ],
             [
              0.8888888888888888,
              "#fdca26"
             ],
             [
              1,
              "#f0f921"
             ]
            ],
            "type": "heatmap"
           }
          ],
          "heatmapgl": [
           {
            "colorbar": {
             "outlinewidth": 0,
             "ticks": ""
            },
            "colorscale": [
             [
              0,
              "#0d0887"
             ],
             [
              0.1111111111111111,
              "#46039f"
             ],
             [
              0.2222222222222222,
              "#7201a8"
             ],
             [
              0.3333333333333333,
              "#9c179e"
             ],
             [
              0.4444444444444444,
              "#bd3786"
             ],
             [
              0.5555555555555556,
              "#d8576b"
             ],
             [
              0.6666666666666666,
              "#ed7953"
             ],
             [
              0.7777777777777778,
              "#fb9f3a"
             ],
             [
              0.8888888888888888,
              "#fdca26"
             ],
             [
              1,
              "#f0f921"
             ]
            ],
            "type": "heatmapgl"
           }
          ],
          "histogram": [
           {
            "marker": {
             "pattern": {
              "fillmode": "overlay",
              "size": 10,
              "solidity": 0.2
             }
            },
            "type": "histogram"
           }
          ],
          "histogram2d": [
           {
            "colorbar": {
             "outlinewidth": 0,
             "ticks": ""
            },
            "colorscale": [
             [
              0,
              "#0d0887"
             ],
             [
              0.1111111111111111,
              "#46039f"
             ],
             [
              0.2222222222222222,
              "#7201a8"
             ],
             [
              0.3333333333333333,
              "#9c179e"
             ],
             [
              0.4444444444444444,
              "#bd3786"
             ],
             [
              0.5555555555555556,
              "#d8576b"
             ],
             [
              0.6666666666666666,
              "#ed7953"
             ],
             [
              0.7777777777777778,
              "#fb9f3a"
             ],
             [
              0.8888888888888888,
              "#fdca26"
             ],
             [
              1,
              "#f0f921"
             ]
            ],
            "type": "histogram2d"
           }
          ],
          "histogram2dcontour": [
           {
            "colorbar": {
             "outlinewidth": 0,
             "ticks": ""
            },
            "colorscale": [
             [
              0,
              "#0d0887"
             ],
             [
              0.1111111111111111,
              "#46039f"
             ],
             [
              0.2222222222222222,
              "#7201a8"
             ],
             [
              0.3333333333333333,
              "#9c179e"
             ],
             [
              0.4444444444444444,
              "#bd3786"
             ],
             [
              0.5555555555555556,
              "#d8576b"
             ],
             [
              0.6666666666666666,
              "#ed7953"
             ],
             [
              0.7777777777777778,
              "#fb9f3a"
             ],
             [
              0.8888888888888888,
              "#fdca26"
             ],
             [
              1,
              "#f0f921"
             ]
            ],
            "type": "histogram2dcontour"
           }
          ],
          "mesh3d": [
           {
            "colorbar": {
             "outlinewidth": 0,
             "ticks": ""
            },
            "type": "mesh3d"
           }
          ],
          "parcoords": [
           {
            "line": {
             "colorbar": {
              "outlinewidth": 0,
              "ticks": ""
             }
            },
            "type": "parcoords"
           }
          ],
          "pie": [
           {
            "automargin": true,
            "type": "pie"
           }
          ],
          "scatter": [
           {
            "fillpattern": {
             "fillmode": "overlay",
             "size": 10,
             "solidity": 0.2
            },
            "type": "scatter"
           }
          ],
          "scatter3d": [
           {
            "line": {
             "colorbar": {
              "outlinewidth": 0,
              "ticks": ""
             }
            },
            "marker": {
             "colorbar": {
              "outlinewidth": 0,
              "ticks": ""
             }
            },
            "type": "scatter3d"
           }
          ],
          "scattercarpet": [
           {
            "marker": {
             "colorbar": {
              "outlinewidth": 0,
              "ticks": ""
             }
            },
            "type": "scattercarpet"
           }
          ],
          "scattergeo": [
           {
            "marker": {
             "colorbar": {
              "outlinewidth": 0,
              "ticks": ""
             }
            },
            "type": "scattergeo"
           }
          ],
          "scattergl": [
           {
            "marker": {
             "colorbar": {
              "outlinewidth": 0,
              "ticks": ""
             }
            },
            "type": "scattergl"
           }
          ],
          "scattermapbox": [
           {
            "marker": {
             "colorbar": {
              "outlinewidth": 0,
              "ticks": ""
             }
            },
            "type": "scattermapbox"
           }
          ],
          "scatterpolar": [
           {
            "marker": {
             "colorbar": {
              "outlinewidth": 0,
              "ticks": ""
             }
            },
            "type": "scatterpolar"
           }
          ],
          "scatterpolargl": [
           {
            "marker": {
             "colorbar": {
              "outlinewidth": 0,
              "ticks": ""
             }
            },
            "type": "scatterpolargl"
           }
          ],
          "scatterternary": [
           {
            "marker": {
             "colorbar": {
              "outlinewidth": 0,
              "ticks": ""
             }
            },
            "type": "scatterternary"
           }
          ],
          "surface": [
           {
            "colorbar": {
             "outlinewidth": 0,
             "ticks": ""
            },
            "colorscale": [
             [
              0,
              "#0d0887"
             ],
             [
              0.1111111111111111,
              "#46039f"
             ],
             [
              0.2222222222222222,
              "#7201a8"
             ],
             [
              0.3333333333333333,
              "#9c179e"
             ],
             [
              0.4444444444444444,
              "#bd3786"
             ],
             [
              0.5555555555555556,
              "#d8576b"
             ],
             [
              0.6666666666666666,
              "#ed7953"
             ],
             [
              0.7777777777777778,
              "#fb9f3a"
             ],
             [
              0.8888888888888888,
              "#fdca26"
             ],
             [
              1,
              "#f0f921"
             ]
            ],
            "type": "surface"
           }
          ],
          "table": [
           {
            "cells": {
             "fill": {
              "color": "#EBF0F8"
             },
             "line": {
              "color": "white"
             }
            },
            "header": {
             "fill": {
              "color": "#C8D4E3"
             },
             "line": {
              "color": "white"
             }
            },
            "type": "table"
           }
          ]
         },
         "layout": {
          "annotationdefaults": {
           "arrowcolor": "#2a3f5f",
           "arrowhead": 0,
           "arrowwidth": 1
          },
          "autotypenumbers": "strict",
          "coloraxis": {
           "colorbar": {
            "outlinewidth": 0,
            "ticks": ""
           }
          },
          "colorscale": {
           "diverging": [
            [
             0,
             "#8e0152"
            ],
            [
             0.1,
             "#c51b7d"
            ],
            [
             0.2,
             "#de77ae"
            ],
            [
             0.3,
             "#f1b6da"
            ],
            [
             0.4,
             "#fde0ef"
            ],
            [
             0.5,
             "#f7f7f7"
            ],
            [
             0.6,
             "#e6f5d0"
            ],
            [
             0.7,
             "#b8e186"
            ],
            [
             0.8,
             "#7fbc41"
            ],
            [
             0.9,
             "#4d9221"
            ],
            [
             1,
             "#276419"
            ]
           ],
           "sequential": [
            [
             0,
             "#0d0887"
            ],
            [
             0.1111111111111111,
             "#46039f"
            ],
            [
             0.2222222222222222,
             "#7201a8"
            ],
            [
             0.3333333333333333,
             "#9c179e"
            ],
            [
             0.4444444444444444,
             "#bd3786"
            ],
            [
             0.5555555555555556,
             "#d8576b"
            ],
            [
             0.6666666666666666,
             "#ed7953"
            ],
            [
             0.7777777777777778,
             "#fb9f3a"
            ],
            [
             0.8888888888888888,
             "#fdca26"
            ],
            [
             1,
             "#f0f921"
            ]
           ],
           "sequentialminus": [
            [
             0,
             "#0d0887"
            ],
            [
             0.1111111111111111,
             "#46039f"
            ],
            [
             0.2222222222222222,
             "#7201a8"
            ],
            [
             0.3333333333333333,
             "#9c179e"
            ],
            [
             0.4444444444444444,
             "#bd3786"
            ],
            [
             0.5555555555555556,
             "#d8576b"
            ],
            [
             0.6666666666666666,
             "#ed7953"
            ],
            [
             0.7777777777777778,
             "#fb9f3a"
            ],
            [
             0.8888888888888888,
             "#fdca26"
            ],
            [
             1,
             "#f0f921"
            ]
           ]
          },
          "colorway": [
           "#636efa",
           "#EF553B",
           "#00cc96",
           "#ab63fa",
           "#FFA15A",
           "#19d3f3",
           "#FF6692",
           "#B6E880",
           "#FF97FF",
           "#FECB52"
          ],
          "font": {
           "color": "#2a3f5f"
          },
          "geo": {
           "bgcolor": "white",
           "lakecolor": "white",
           "landcolor": "#E5ECF6",
           "showlakes": true,
           "showland": true,
           "subunitcolor": "white"
          },
          "hoverlabel": {
           "align": "left"
          },
          "hovermode": "closest",
          "mapbox": {
           "style": "light"
          },
          "paper_bgcolor": "white",
          "plot_bgcolor": "#E5ECF6",
          "polar": {
           "angularaxis": {
            "gridcolor": "white",
            "linecolor": "white",
            "ticks": ""
           },
           "bgcolor": "#E5ECF6",
           "radialaxis": {
            "gridcolor": "white",
            "linecolor": "white",
            "ticks": ""
           }
          },
          "scene": {
           "xaxis": {
            "backgroundcolor": "#E5ECF6",
            "gridcolor": "white",
            "gridwidth": 2,
            "linecolor": "white",
            "showbackground": true,
            "ticks": "",
            "zerolinecolor": "white"
           },
           "yaxis": {
            "backgroundcolor": "#E5ECF6",
            "gridcolor": "white",
            "gridwidth": 2,
            "linecolor": "white",
            "showbackground": true,
            "ticks": "",
            "zerolinecolor": "white"
           },
           "zaxis": {
            "backgroundcolor": "#E5ECF6",
            "gridcolor": "white",
            "gridwidth": 2,
            "linecolor": "white",
            "showbackground": true,
            "ticks": "",
            "zerolinecolor": "white"
           }
          },
          "shapedefaults": {
           "line": {
            "color": "#2a3f5f"
           }
          },
          "ternary": {
           "aaxis": {
            "gridcolor": "white",
            "linecolor": "white",
            "ticks": ""
           },
           "baxis": {
            "gridcolor": "white",
            "linecolor": "white",
            "ticks": ""
           },
           "bgcolor": "#E5ECF6",
           "caxis": {
            "gridcolor": "white",
            "linecolor": "white",
            "ticks": ""
           }
          },
          "title": {
           "x": 0.05
          },
          "xaxis": {
           "automargin": true,
           "gridcolor": "white",
           "linecolor": "white",
           "ticks": "",
           "title": {
            "standoff": 15
           },
           "zerolinecolor": "white",
           "zerolinewidth": 2
          },
          "yaxis": {
           "automargin": true,
           "gridcolor": "white",
           "linecolor": "white",
           "ticks": "",
           "title": {
            "standoff": 15
           },
           "zerolinecolor": "white",
           "zerolinewidth": 2
          }
         }
        },
        "xaxis": {
         "anchor": "y",
         "domain": [
          0,
          1
         ],
         "title": {
          "text": "format_compression_level"
         }
        },
        "yaxis": {
         "anchor": "x",
         "domain": [
          0,
          1
         ],
         "title": {
          "text": "compression ratio"
         }
        }
       }
      }
     },
     "metadata": {},
     "output_type": "display_data"
    }
   ],
   "source": [
    "fig = px.bar(df_default_cl, x=\"method_compression_with_level\", y=\"comp_ratio\", text_auto=True,\n",
    "             labels={\"comp_ratio\": \"compression ratio\",\n",
    "                     \"method_compression_with_level\": \"format_compression_level\"},)\n",
    "fig.show()\n",
    "fig.write_image(\"./plots/pandas_ff_bar_comp_ratio.svg\")\n"
   ]
  },
  {
   "cell_type": "markdown",
   "metadata": {},
   "source": [
    "## Insights\n",
    "\n",
    "- best compression has\n",
    "  - bz2\n",
    "  - xz\n",
    "  - brotli\n",
    "\n",
    "## Next Steps\n",
    "\n",
    "- check save times\n",
    "- check read times"
   ]
  },
  {
   "cell_type": "code",
   "execution_count": 6,
   "metadata": {},
   "outputs": [
    {
     "data": {
      "application/vnd.plotly.v1+json": {
       "config": {
        "plotlyServerURL": "https://plot.ly"
       },
       "data": [
        {
         "alignmentgroup": "True",
         "hovertemplate": "format_compression_level=%{x}<br>time to save data in seconds=%{y}<extra></extra>",
         "legendgroup": "",
         "marker": {
          "color": "#636efa",
          "pattern": {
           "shape": ""
          }
         },
         "name": "",
         "offsetgroup": "",
         "orientation": "v",
         "showlegend": false,
         "textposition": "auto",
         "texttemplate": "%{y}",
         "type": "bar",
         "x": [
          "csv_bz2_default",
          "csv_default_default",
          "csv_gzip_default",
          "csv_tar_default",
          "csv_xz_default",
          "csv_zip_default",
          "csv_zstd_default",
          "feather_default_default",
          "feather_lz4_default",
          "feather_uncompressed_default",
          "feather_zstd_default",
          "parquet_brotli_default",
          "parquet_default_default",
          "parquet_gzip_default",
          "parquet_lz4_default",
          "parquet_snappy_default",
          "parquet_zstd_default"
         ],
         "xaxis": "x",
         "y": [
          49.02,
          11.35,
          36.43,
          11.37,
          331.15,
          32.37,
          14.66,
          1.25,
          1.29,
          0.34,
          1.39,
          18.98,
          1.46,
          21.94,
          1.44,
          1.48,
          1.66
         ],
         "yaxis": "y"
        }
       ],
       "layout": {
        "barmode": "relative",
        "legend": {
         "tracegroupgap": 0
        },
        "margin": {
         "t": 60
        },
        "template": {
         "data": {
          "bar": [
           {
            "error_x": {
             "color": "#2a3f5f"
            },
            "error_y": {
             "color": "#2a3f5f"
            },
            "marker": {
             "line": {
              "color": "#E5ECF6",
              "width": 0.5
             },
             "pattern": {
              "fillmode": "overlay",
              "size": 10,
              "solidity": 0.2
             }
            },
            "type": "bar"
           }
          ],
          "barpolar": [
           {
            "marker": {
             "line": {
              "color": "#E5ECF6",
              "width": 0.5
             },
             "pattern": {
              "fillmode": "overlay",
              "size": 10,
              "solidity": 0.2
             }
            },
            "type": "barpolar"
           }
          ],
          "carpet": [
           {
            "aaxis": {
             "endlinecolor": "#2a3f5f",
             "gridcolor": "white",
             "linecolor": "white",
             "minorgridcolor": "white",
             "startlinecolor": "#2a3f5f"
            },
            "baxis": {
             "endlinecolor": "#2a3f5f",
             "gridcolor": "white",
             "linecolor": "white",
             "minorgridcolor": "white",
             "startlinecolor": "#2a3f5f"
            },
            "type": "carpet"
           }
          ],
          "choropleth": [
           {
            "colorbar": {
             "outlinewidth": 0,
             "ticks": ""
            },
            "type": "choropleth"
           }
          ],
          "contour": [
           {
            "colorbar": {
             "outlinewidth": 0,
             "ticks": ""
            },
            "colorscale": [
             [
              0,
              "#0d0887"
             ],
             [
              0.1111111111111111,
              "#46039f"
             ],
             [
              0.2222222222222222,
              "#7201a8"
             ],
             [
              0.3333333333333333,
              "#9c179e"
             ],
             [
              0.4444444444444444,
              "#bd3786"
             ],
             [
              0.5555555555555556,
              "#d8576b"
             ],
             [
              0.6666666666666666,
              "#ed7953"
             ],
             [
              0.7777777777777778,
              "#fb9f3a"
             ],
             [
              0.8888888888888888,
              "#fdca26"
             ],
             [
              1,
              "#f0f921"
             ]
            ],
            "type": "contour"
           }
          ],
          "contourcarpet": [
           {
            "colorbar": {
             "outlinewidth": 0,
             "ticks": ""
            },
            "type": "contourcarpet"
           }
          ],
          "heatmap": [
           {
            "colorbar": {
             "outlinewidth": 0,
             "ticks": ""
            },
            "colorscale": [
             [
              0,
              "#0d0887"
             ],
             [
              0.1111111111111111,
              "#46039f"
             ],
             [
              0.2222222222222222,
              "#7201a8"
             ],
             [
              0.3333333333333333,
              "#9c179e"
             ],
             [
              0.4444444444444444,
              "#bd3786"
             ],
             [
              0.5555555555555556,
              "#d8576b"
             ],
             [
              0.6666666666666666,
              "#ed7953"
             ],
             [
              0.7777777777777778,
              "#fb9f3a"
             ],
             [
              0.8888888888888888,
              "#fdca26"
             ],
             [
              1,
              "#f0f921"
             ]
            ],
            "type": "heatmap"
           }
          ],
          "heatmapgl": [
           {
            "colorbar": {
             "outlinewidth": 0,
             "ticks": ""
            },
            "colorscale": [
             [
              0,
              "#0d0887"
             ],
             [
              0.1111111111111111,
              "#46039f"
             ],
             [
              0.2222222222222222,
              "#7201a8"
             ],
             [
              0.3333333333333333,
              "#9c179e"
             ],
             [
              0.4444444444444444,
              "#bd3786"
             ],
             [
              0.5555555555555556,
              "#d8576b"
             ],
             [
              0.6666666666666666,
              "#ed7953"
             ],
             [
              0.7777777777777778,
              "#fb9f3a"
             ],
             [
              0.8888888888888888,
              "#fdca26"
             ],
             [
              1,
              "#f0f921"
             ]
            ],
            "type": "heatmapgl"
           }
          ],
          "histogram": [
           {
            "marker": {
             "pattern": {
              "fillmode": "overlay",
              "size": 10,
              "solidity": 0.2
             }
            },
            "type": "histogram"
           }
          ],
          "histogram2d": [
           {
            "colorbar": {
             "outlinewidth": 0,
             "ticks": ""
            },
            "colorscale": [
             [
              0,
              "#0d0887"
             ],
             [
              0.1111111111111111,
              "#46039f"
             ],
             [
              0.2222222222222222,
              "#7201a8"
             ],
             [
              0.3333333333333333,
              "#9c179e"
             ],
             [
              0.4444444444444444,
              "#bd3786"
             ],
             [
              0.5555555555555556,
              "#d8576b"
             ],
             [
              0.6666666666666666,
              "#ed7953"
             ],
             [
              0.7777777777777778,
              "#fb9f3a"
             ],
             [
              0.8888888888888888,
              "#fdca26"
             ],
             [
              1,
              "#f0f921"
             ]
            ],
            "type": "histogram2d"
           }
          ],
          "histogram2dcontour": [
           {
            "colorbar": {
             "outlinewidth": 0,
             "ticks": ""
            },
            "colorscale": [
             [
              0,
              "#0d0887"
             ],
             [
              0.1111111111111111,
              "#46039f"
             ],
             [
              0.2222222222222222,
              "#7201a8"
             ],
             [
              0.3333333333333333,
              "#9c179e"
             ],
             [
              0.4444444444444444,
              "#bd3786"
             ],
             [
              0.5555555555555556,
              "#d8576b"
             ],
             [
              0.6666666666666666,
              "#ed7953"
             ],
             [
              0.7777777777777778,
              "#fb9f3a"
             ],
             [
              0.8888888888888888,
              "#fdca26"
             ],
             [
              1,
              "#f0f921"
             ]
            ],
            "type": "histogram2dcontour"
           }
          ],
          "mesh3d": [
           {
            "colorbar": {
             "outlinewidth": 0,
             "ticks": ""
            },
            "type": "mesh3d"
           }
          ],
          "parcoords": [
           {
            "line": {
             "colorbar": {
              "outlinewidth": 0,
              "ticks": ""
             }
            },
            "type": "parcoords"
           }
          ],
          "pie": [
           {
            "automargin": true,
            "type": "pie"
           }
          ],
          "scatter": [
           {
            "fillpattern": {
             "fillmode": "overlay",
             "size": 10,
             "solidity": 0.2
            },
            "type": "scatter"
           }
          ],
          "scatter3d": [
           {
            "line": {
             "colorbar": {
              "outlinewidth": 0,
              "ticks": ""
             }
            },
            "marker": {
             "colorbar": {
              "outlinewidth": 0,
              "ticks": ""
             }
            },
            "type": "scatter3d"
           }
          ],
          "scattercarpet": [
           {
            "marker": {
             "colorbar": {
              "outlinewidth": 0,
              "ticks": ""
             }
            },
            "type": "scattercarpet"
           }
          ],
          "scattergeo": [
           {
            "marker": {
             "colorbar": {
              "outlinewidth": 0,
              "ticks": ""
             }
            },
            "type": "scattergeo"
           }
          ],
          "scattergl": [
           {
            "marker": {
             "colorbar": {
              "outlinewidth": 0,
              "ticks": ""
             }
            },
            "type": "scattergl"
           }
          ],
          "scattermapbox": [
           {
            "marker": {
             "colorbar": {
              "outlinewidth": 0,
              "ticks": ""
             }
            },
            "type": "scattermapbox"
           }
          ],
          "scatterpolar": [
           {
            "marker": {
             "colorbar": {
              "outlinewidth": 0,
              "ticks": ""
             }
            },
            "type": "scatterpolar"
           }
          ],
          "scatterpolargl": [
           {
            "marker": {
             "colorbar": {
              "outlinewidth": 0,
              "ticks": ""
             }
            },
            "type": "scatterpolargl"
           }
          ],
          "scatterternary": [
           {
            "marker": {
             "colorbar": {
              "outlinewidth": 0,
              "ticks": ""
             }
            },
            "type": "scatterternary"
           }
          ],
          "surface": [
           {
            "colorbar": {
             "outlinewidth": 0,
             "ticks": ""
            },
            "colorscale": [
             [
              0,
              "#0d0887"
             ],
             [
              0.1111111111111111,
              "#46039f"
             ],
             [
              0.2222222222222222,
              "#7201a8"
             ],
             [
              0.3333333333333333,
              "#9c179e"
             ],
             [
              0.4444444444444444,
              "#bd3786"
             ],
             [
              0.5555555555555556,
              "#d8576b"
             ],
             [
              0.6666666666666666,
              "#ed7953"
             ],
             [
              0.7777777777777778,
              "#fb9f3a"
             ],
             [
              0.8888888888888888,
              "#fdca26"
             ],
             [
              1,
              "#f0f921"
             ]
            ],
            "type": "surface"
           }
          ],
          "table": [
           {
            "cells": {
             "fill": {
              "color": "#EBF0F8"
             },
             "line": {
              "color": "white"
             }
            },
            "header": {
             "fill": {
              "color": "#C8D4E3"
             },
             "line": {
              "color": "white"
             }
            },
            "type": "table"
           }
          ]
         },
         "layout": {
          "annotationdefaults": {
           "arrowcolor": "#2a3f5f",
           "arrowhead": 0,
           "arrowwidth": 1
          },
          "autotypenumbers": "strict",
          "coloraxis": {
           "colorbar": {
            "outlinewidth": 0,
            "ticks": ""
           }
          },
          "colorscale": {
           "diverging": [
            [
             0,
             "#8e0152"
            ],
            [
             0.1,
             "#c51b7d"
            ],
            [
             0.2,
             "#de77ae"
            ],
            [
             0.3,
             "#f1b6da"
            ],
            [
             0.4,
             "#fde0ef"
            ],
            [
             0.5,
             "#f7f7f7"
            ],
            [
             0.6,
             "#e6f5d0"
            ],
            [
             0.7,
             "#b8e186"
            ],
            [
             0.8,
             "#7fbc41"
            ],
            [
             0.9,
             "#4d9221"
            ],
            [
             1,
             "#276419"
            ]
           ],
           "sequential": [
            [
             0,
             "#0d0887"
            ],
            [
             0.1111111111111111,
             "#46039f"
            ],
            [
             0.2222222222222222,
             "#7201a8"
            ],
            [
             0.3333333333333333,
             "#9c179e"
            ],
            [
             0.4444444444444444,
             "#bd3786"
            ],
            [
             0.5555555555555556,
             "#d8576b"
            ],
            [
             0.6666666666666666,
             "#ed7953"
            ],
            [
             0.7777777777777778,
             "#fb9f3a"
            ],
            [
             0.8888888888888888,
             "#fdca26"
            ],
            [
             1,
             "#f0f921"
            ]
           ],
           "sequentialminus": [
            [
             0,
             "#0d0887"
            ],
            [
             0.1111111111111111,
             "#46039f"
            ],
            [
             0.2222222222222222,
             "#7201a8"
            ],
            [
             0.3333333333333333,
             "#9c179e"
            ],
            [
             0.4444444444444444,
             "#bd3786"
            ],
            [
             0.5555555555555556,
             "#d8576b"
            ],
            [
             0.6666666666666666,
             "#ed7953"
            ],
            [
             0.7777777777777778,
             "#fb9f3a"
            ],
            [
             0.8888888888888888,
             "#fdca26"
            ],
            [
             1,
             "#f0f921"
            ]
           ]
          },
          "colorway": [
           "#636efa",
           "#EF553B",
           "#00cc96",
           "#ab63fa",
           "#FFA15A",
           "#19d3f3",
           "#FF6692",
           "#B6E880",
           "#FF97FF",
           "#FECB52"
          ],
          "font": {
           "color": "#2a3f5f"
          },
          "geo": {
           "bgcolor": "white",
           "lakecolor": "white",
           "landcolor": "#E5ECF6",
           "showlakes": true,
           "showland": true,
           "subunitcolor": "white"
          },
          "hoverlabel": {
           "align": "left"
          },
          "hovermode": "closest",
          "mapbox": {
           "style": "light"
          },
          "paper_bgcolor": "white",
          "plot_bgcolor": "#E5ECF6",
          "polar": {
           "angularaxis": {
            "gridcolor": "white",
            "linecolor": "white",
            "ticks": ""
           },
           "bgcolor": "#E5ECF6",
           "radialaxis": {
            "gridcolor": "white",
            "linecolor": "white",
            "ticks": ""
           }
          },
          "scene": {
           "xaxis": {
            "backgroundcolor": "#E5ECF6",
            "gridcolor": "white",
            "gridwidth": 2,
            "linecolor": "white",
            "showbackground": true,
            "ticks": "",
            "zerolinecolor": "white"
           },
           "yaxis": {
            "backgroundcolor": "#E5ECF6",
            "gridcolor": "white",
            "gridwidth": 2,
            "linecolor": "white",
            "showbackground": true,
            "ticks": "",
            "zerolinecolor": "white"
           },
           "zaxis": {
            "backgroundcolor": "#E5ECF6",
            "gridcolor": "white",
            "gridwidth": 2,
            "linecolor": "white",
            "showbackground": true,
            "ticks": "",
            "zerolinecolor": "white"
           }
          },
          "shapedefaults": {
           "line": {
            "color": "#2a3f5f"
           }
          },
          "ternary": {
           "aaxis": {
            "gridcolor": "white",
            "linecolor": "white",
            "ticks": ""
           },
           "baxis": {
            "gridcolor": "white",
            "linecolor": "white",
            "ticks": ""
           },
           "bgcolor": "#E5ECF6",
           "caxis": {
            "gridcolor": "white",
            "linecolor": "white",
            "ticks": ""
           }
          },
          "title": {
           "x": 0.05
          },
          "xaxis": {
           "automargin": true,
           "gridcolor": "white",
           "linecolor": "white",
           "ticks": "",
           "title": {
            "standoff": 15
           },
           "zerolinecolor": "white",
           "zerolinewidth": 2
          },
          "yaxis": {
           "automargin": true,
           "gridcolor": "white",
           "linecolor": "white",
           "ticks": "",
           "title": {
            "standoff": 15
           },
           "zerolinecolor": "white",
           "zerolinewidth": 2
          }
         }
        },
        "xaxis": {
         "anchor": "y",
         "domain": [
          0,
          1
         ],
         "title": {
          "text": "format_compression_level"
         }
        },
        "yaxis": {
         "anchor": "x",
         "domain": [
          0,
          1
         ],
         "title": {
          "text": "time to save data in seconds"
         }
        }
       }
      }
     },
     "metadata": {},
     "output_type": "display_data"
    }
   ],
   "source": [
    "fig = px.bar(df_default_cl, x=\"method_compression_with_level\", y=\"save_time\", text_auto=True,\n",
    "             labels={\"save_time\": \"time to save data in seconds\",\n",
    "                     \"method_compression_with_level\": \"format_compression_level\"},)\n",
    "fig.show()\n",
    "fig.write_image(\"./plots/pandas_ff_bar_save_time.svg\")\n"
   ]
  },
  {
   "cell_type": "markdown",
   "metadata": {},
   "source": [
    "## Insights\n",
    "\n",
    "- xz has a very long save time\n",
    "- xz save time is so much longer than bz2 that it does not justify the slightly better compression that bz2\n",
    "- xz is out\n",
    "- bz2 also has a long save time\n",
    "- brotli save time seems to be ok but not fastest\n",
    "\n",
    "## Next Steps\n",
    "\n",
    "- also check read times"
   ]
  },
  {
   "cell_type": "code",
   "execution_count": 7,
   "metadata": {},
   "outputs": [
    {
     "data": {
      "application/vnd.plotly.v1+json": {
       "config": {
        "plotlyServerURL": "https://plot.ly"
       },
       "data": [
        {
         "alignmentgroup": "True",
         "hovertemplate": "format_compression_level=%{x}<br>time to read data in seconds=%{y}<extra></extra>",
         "legendgroup": "",
         "marker": {
          "color": "#636efa",
          "pattern": {
           "shape": ""
          }
         },
         "name": "",
         "offsetgroup": "",
         "orientation": "v",
         "showlegend": false,
         "textposition": "auto",
         "texttemplate": "%{y}",
         "type": "bar",
         "x": [
          "csv_bz2_default",
          "csv_default_default",
          "csv_gzip_default",
          "csv_tar_default",
          "csv_xz_default",
          "csv_zip_default",
          "csv_zstd_default",
          "feather_default_default",
          "feather_lz4_default",
          "feather_uncompressed_default",
          "feather_zstd_default",
          "parquet_brotli_default",
          "parquet_default_default",
          "parquet_gzip_default",
          "parquet_lz4_default",
          "parquet_snappy_default",
          "parquet_zstd_default"
         ],
         "xaxis": "x",
         "y": [
          20,
          5.12,
          8.3,
          5.13,
          15.68,
          6.15,
          6.11,
          0.53,
          0.53,
          0.39,
          0.76,
          1.57,
          0.76,
          1.86,
          0.65,
          0.76,
          0.89
         ],
         "yaxis": "y"
        }
       ],
       "layout": {
        "barmode": "relative",
        "legend": {
         "tracegroupgap": 0
        },
        "margin": {
         "t": 60
        },
        "template": {
         "data": {
          "bar": [
           {
            "error_x": {
             "color": "#2a3f5f"
            },
            "error_y": {
             "color": "#2a3f5f"
            },
            "marker": {
             "line": {
              "color": "#E5ECF6",
              "width": 0.5
             },
             "pattern": {
              "fillmode": "overlay",
              "size": 10,
              "solidity": 0.2
             }
            },
            "type": "bar"
           }
          ],
          "barpolar": [
           {
            "marker": {
             "line": {
              "color": "#E5ECF6",
              "width": 0.5
             },
             "pattern": {
              "fillmode": "overlay",
              "size": 10,
              "solidity": 0.2
             }
            },
            "type": "barpolar"
           }
          ],
          "carpet": [
           {
            "aaxis": {
             "endlinecolor": "#2a3f5f",
             "gridcolor": "white",
             "linecolor": "white",
             "minorgridcolor": "white",
             "startlinecolor": "#2a3f5f"
            },
            "baxis": {
             "endlinecolor": "#2a3f5f",
             "gridcolor": "white",
             "linecolor": "white",
             "minorgridcolor": "white",
             "startlinecolor": "#2a3f5f"
            },
            "type": "carpet"
           }
          ],
          "choropleth": [
           {
            "colorbar": {
             "outlinewidth": 0,
             "ticks": ""
            },
            "type": "choropleth"
           }
          ],
          "contour": [
           {
            "colorbar": {
             "outlinewidth": 0,
             "ticks": ""
            },
            "colorscale": [
             [
              0,
              "#0d0887"
             ],
             [
              0.1111111111111111,
              "#46039f"
             ],
             [
              0.2222222222222222,
              "#7201a8"
             ],
             [
              0.3333333333333333,
              "#9c179e"
             ],
             [
              0.4444444444444444,
              "#bd3786"
             ],
             [
              0.5555555555555556,
              "#d8576b"
             ],
             [
              0.6666666666666666,
              "#ed7953"
             ],
             [
              0.7777777777777778,
              "#fb9f3a"
             ],
             [
              0.8888888888888888,
              "#fdca26"
             ],
             [
              1,
              "#f0f921"
             ]
            ],
            "type": "contour"
           }
          ],
          "contourcarpet": [
           {
            "colorbar": {
             "outlinewidth": 0,
             "ticks": ""
            },
            "type": "contourcarpet"
           }
          ],
          "heatmap": [
           {
            "colorbar": {
             "outlinewidth": 0,
             "ticks": ""
            },
            "colorscale": [
             [
              0,
              "#0d0887"
             ],
             [
              0.1111111111111111,
              "#46039f"
             ],
             [
              0.2222222222222222,
              "#7201a8"
             ],
             [
              0.3333333333333333,
              "#9c179e"
             ],
             [
              0.4444444444444444,
              "#bd3786"
             ],
             [
              0.5555555555555556,
              "#d8576b"
             ],
             [
              0.6666666666666666,
              "#ed7953"
             ],
             [
              0.7777777777777778,
              "#fb9f3a"
             ],
             [
              0.8888888888888888,
              "#fdca26"
             ],
             [
              1,
              "#f0f921"
             ]
            ],
            "type": "heatmap"
           }
          ],
          "heatmapgl": [
           {
            "colorbar": {
             "outlinewidth": 0,
             "ticks": ""
            },
            "colorscale": [
             [
              0,
              "#0d0887"
             ],
             [
              0.1111111111111111,
              "#46039f"
             ],
             [
              0.2222222222222222,
              "#7201a8"
             ],
             [
              0.3333333333333333,
              "#9c179e"
             ],
             [
              0.4444444444444444,
              "#bd3786"
             ],
             [
              0.5555555555555556,
              "#d8576b"
             ],
             [
              0.6666666666666666,
              "#ed7953"
             ],
             [
              0.7777777777777778,
              "#fb9f3a"
             ],
             [
              0.8888888888888888,
              "#fdca26"
             ],
             [
              1,
              "#f0f921"
             ]
            ],
            "type": "heatmapgl"
           }
          ],
          "histogram": [
           {
            "marker": {
             "pattern": {
              "fillmode": "overlay",
              "size": 10,
              "solidity": 0.2
             }
            },
            "type": "histogram"
           }
          ],
          "histogram2d": [
           {
            "colorbar": {
             "outlinewidth": 0,
             "ticks": ""
            },
            "colorscale": [
             [
              0,
              "#0d0887"
             ],
             [
              0.1111111111111111,
              "#46039f"
             ],
             [
              0.2222222222222222,
              "#7201a8"
             ],
             [
              0.3333333333333333,
              "#9c179e"
             ],
             [
              0.4444444444444444,
              "#bd3786"
             ],
             [
              0.5555555555555556,
              "#d8576b"
             ],
             [
              0.6666666666666666,
              "#ed7953"
             ],
             [
              0.7777777777777778,
              "#fb9f3a"
             ],
             [
              0.8888888888888888,
              "#fdca26"
             ],
             [
              1,
              "#f0f921"
             ]
            ],
            "type": "histogram2d"
           }
          ],
          "histogram2dcontour": [
           {
            "colorbar": {
             "outlinewidth": 0,
             "ticks": ""
            },
            "colorscale": [
             [
              0,
              "#0d0887"
             ],
             [
              0.1111111111111111,
              "#46039f"
             ],
             [
              0.2222222222222222,
              "#7201a8"
             ],
             [
              0.3333333333333333,
              "#9c179e"
             ],
             [
              0.4444444444444444,
              "#bd3786"
             ],
             [
              0.5555555555555556,
              "#d8576b"
             ],
             [
              0.6666666666666666,
              "#ed7953"
             ],
             [
              0.7777777777777778,
              "#fb9f3a"
             ],
             [
              0.8888888888888888,
              "#fdca26"
             ],
             [
              1,
              "#f0f921"
             ]
            ],
            "type": "histogram2dcontour"
           }
          ],
          "mesh3d": [
           {
            "colorbar": {
             "outlinewidth": 0,
             "ticks": ""
            },
            "type": "mesh3d"
           }
          ],
          "parcoords": [
           {
            "line": {
             "colorbar": {
              "outlinewidth": 0,
              "ticks": ""
             }
            },
            "type": "parcoords"
           }
          ],
          "pie": [
           {
            "automargin": true,
            "type": "pie"
           }
          ],
          "scatter": [
           {
            "fillpattern": {
             "fillmode": "overlay",
             "size": 10,
             "solidity": 0.2
            },
            "type": "scatter"
           }
          ],
          "scatter3d": [
           {
            "line": {
             "colorbar": {
              "outlinewidth": 0,
              "ticks": ""
             }
            },
            "marker": {
             "colorbar": {
              "outlinewidth": 0,
              "ticks": ""
             }
            },
            "type": "scatter3d"
           }
          ],
          "scattercarpet": [
           {
            "marker": {
             "colorbar": {
              "outlinewidth": 0,
              "ticks": ""
             }
            },
            "type": "scattercarpet"
           }
          ],
          "scattergeo": [
           {
            "marker": {
             "colorbar": {
              "outlinewidth": 0,
              "ticks": ""
             }
            },
            "type": "scattergeo"
           }
          ],
          "scattergl": [
           {
            "marker": {
             "colorbar": {
              "outlinewidth": 0,
              "ticks": ""
             }
            },
            "type": "scattergl"
           }
          ],
          "scattermapbox": [
           {
            "marker": {
             "colorbar": {
              "outlinewidth": 0,
              "ticks": ""
             }
            },
            "type": "scattermapbox"
           }
          ],
          "scatterpolar": [
           {
            "marker": {
             "colorbar": {
              "outlinewidth": 0,
              "ticks": ""
             }
            },
            "type": "scatterpolar"
           }
          ],
          "scatterpolargl": [
           {
            "marker": {
             "colorbar": {
              "outlinewidth": 0,
              "ticks": ""
             }
            },
            "type": "scatterpolargl"
           }
          ],
          "scatterternary": [
           {
            "marker": {
             "colorbar": {
              "outlinewidth": 0,
              "ticks": ""
             }
            },
            "type": "scatterternary"
           }
          ],
          "surface": [
           {
            "colorbar": {
             "outlinewidth": 0,
             "ticks": ""
            },
            "colorscale": [
             [
              0,
              "#0d0887"
             ],
             [
              0.1111111111111111,
              "#46039f"
             ],
             [
              0.2222222222222222,
              "#7201a8"
             ],
             [
              0.3333333333333333,
              "#9c179e"
             ],
             [
              0.4444444444444444,
              "#bd3786"
             ],
             [
              0.5555555555555556,
              "#d8576b"
             ],
             [
              0.6666666666666666,
              "#ed7953"
             ],
             [
              0.7777777777777778,
              "#fb9f3a"
             ],
             [
              0.8888888888888888,
              "#fdca26"
             ],
             [
              1,
              "#f0f921"
             ]
            ],
            "type": "surface"
           }
          ],
          "table": [
           {
            "cells": {
             "fill": {
              "color": "#EBF0F8"
             },
             "line": {
              "color": "white"
             }
            },
            "header": {
             "fill": {
              "color": "#C8D4E3"
             },
             "line": {
              "color": "white"
             }
            },
            "type": "table"
           }
          ]
         },
         "layout": {
          "annotationdefaults": {
           "arrowcolor": "#2a3f5f",
           "arrowhead": 0,
           "arrowwidth": 1
          },
          "autotypenumbers": "strict",
          "coloraxis": {
           "colorbar": {
            "outlinewidth": 0,
            "ticks": ""
           }
          },
          "colorscale": {
           "diverging": [
            [
             0,
             "#8e0152"
            ],
            [
             0.1,
             "#c51b7d"
            ],
            [
             0.2,
             "#de77ae"
            ],
            [
             0.3,
             "#f1b6da"
            ],
            [
             0.4,
             "#fde0ef"
            ],
            [
             0.5,
             "#f7f7f7"
            ],
            [
             0.6,
             "#e6f5d0"
            ],
            [
             0.7,
             "#b8e186"
            ],
            [
             0.8,
             "#7fbc41"
            ],
            [
             0.9,
             "#4d9221"
            ],
            [
             1,
             "#276419"
            ]
           ],
           "sequential": [
            [
             0,
             "#0d0887"
            ],
            [
             0.1111111111111111,
             "#46039f"
            ],
            [
             0.2222222222222222,
             "#7201a8"
            ],
            [
             0.3333333333333333,
             "#9c179e"
            ],
            [
             0.4444444444444444,
             "#bd3786"
            ],
            [
             0.5555555555555556,
             "#d8576b"
            ],
            [
             0.6666666666666666,
             "#ed7953"
            ],
            [
             0.7777777777777778,
             "#fb9f3a"
            ],
            [
             0.8888888888888888,
             "#fdca26"
            ],
            [
             1,
             "#f0f921"
            ]
           ],
           "sequentialminus": [
            [
             0,
             "#0d0887"
            ],
            [
             0.1111111111111111,
             "#46039f"
            ],
            [
             0.2222222222222222,
             "#7201a8"
            ],
            [
             0.3333333333333333,
             "#9c179e"
            ],
            [
             0.4444444444444444,
             "#bd3786"
            ],
            [
             0.5555555555555556,
             "#d8576b"
            ],
            [
             0.6666666666666666,
             "#ed7953"
            ],
            [
             0.7777777777777778,
             "#fb9f3a"
            ],
            [
             0.8888888888888888,
             "#fdca26"
            ],
            [
             1,
             "#f0f921"
            ]
           ]
          },
          "colorway": [
           "#636efa",
           "#EF553B",
           "#00cc96",
           "#ab63fa",
           "#FFA15A",
           "#19d3f3",
           "#FF6692",
           "#B6E880",
           "#FF97FF",
           "#FECB52"
          ],
          "font": {
           "color": "#2a3f5f"
          },
          "geo": {
           "bgcolor": "white",
           "lakecolor": "white",
           "landcolor": "#E5ECF6",
           "showlakes": true,
           "showland": true,
           "subunitcolor": "white"
          },
          "hoverlabel": {
           "align": "left"
          },
          "hovermode": "closest",
          "mapbox": {
           "style": "light"
          },
          "paper_bgcolor": "white",
          "plot_bgcolor": "#E5ECF6",
          "polar": {
           "angularaxis": {
            "gridcolor": "white",
            "linecolor": "white",
            "ticks": ""
           },
           "bgcolor": "#E5ECF6",
           "radialaxis": {
            "gridcolor": "white",
            "linecolor": "white",
            "ticks": ""
           }
          },
          "scene": {
           "xaxis": {
            "backgroundcolor": "#E5ECF6",
            "gridcolor": "white",
            "gridwidth": 2,
            "linecolor": "white",
            "showbackground": true,
            "ticks": "",
            "zerolinecolor": "white"
           },
           "yaxis": {
            "backgroundcolor": "#E5ECF6",
            "gridcolor": "white",
            "gridwidth": 2,
            "linecolor": "white",
            "showbackground": true,
            "ticks": "",
            "zerolinecolor": "white"
           },
           "zaxis": {
            "backgroundcolor": "#E5ECF6",
            "gridcolor": "white",
            "gridwidth": 2,
            "linecolor": "white",
            "showbackground": true,
            "ticks": "",
            "zerolinecolor": "white"
           }
          },
          "shapedefaults": {
           "line": {
            "color": "#2a3f5f"
           }
          },
          "ternary": {
           "aaxis": {
            "gridcolor": "white",
            "linecolor": "white",
            "ticks": ""
           },
           "baxis": {
            "gridcolor": "white",
            "linecolor": "white",
            "ticks": ""
           },
           "bgcolor": "#E5ECF6",
           "caxis": {
            "gridcolor": "white",
            "linecolor": "white",
            "ticks": ""
           }
          },
          "title": {
           "x": 0.05
          },
          "xaxis": {
           "automargin": true,
           "gridcolor": "white",
           "linecolor": "white",
           "ticks": "",
           "title": {
            "standoff": 15
           },
           "zerolinecolor": "white",
           "zerolinewidth": 2
          },
          "yaxis": {
           "automargin": true,
           "gridcolor": "white",
           "linecolor": "white",
           "ticks": "",
           "title": {
            "standoff": 15
           },
           "zerolinecolor": "white",
           "zerolinewidth": 2
          }
         }
        },
        "xaxis": {
         "anchor": "y",
         "domain": [
          0,
          1
         ],
         "title": {
          "text": "format_compression_level"
         }
        },
        "yaxis": {
         "anchor": "x",
         "domain": [
          0,
          1
         ],
         "title": {
          "text": "time to read data in seconds"
         }
        }
       }
      }
     },
     "metadata": {},
     "output_type": "display_data"
    }
   ],
   "source": [
    "fig = px.bar(df_default_cl, x=\"method_compression_with_level\", y=\"read_time\", text_auto=True,\n",
    "             labels={\"read_time\": \"time to read data in seconds\",\n",
    "                     \"method_compression_with_level\": \"format_compression_level\"},)\n",
    "fig.show()\n",
    "fig.write_image(\"./plots/pandas_ff_bar_read_time.svg\")"
   ]
  },
  {
   "cell_type": "markdown",
   "metadata": {},
   "source": [
    "## Insights\n",
    "\n",
    "- bz2 has a very long read time\n",
    "- xz also has a long read time\n",
    "- brotli read time seems to be ok but not fastest\n",
    "\n",
    "## Next Steps\n",
    "\n",
    "- what about the comprssion level?"
   ]
  },
  {
   "cell_type": "code",
   "execution_count": 8,
   "metadata": {},
   "outputs": [
    {
     "data": {
      "text/html": [
       "<div>\n",
       "<style scoped>\n",
       "    .dataframe tbody tr th:only-of-type {\n",
       "        vertical-align: middle;\n",
       "    }\n",
       "\n",
       "    .dataframe tbody tr th {\n",
       "        vertical-align: top;\n",
       "    }\n",
       "\n",
       "    .dataframe thead th {\n",
       "        text-align: right;\n",
       "    }\n",
       "</style>\n",
       "<table border=\"1\" class=\"dataframe\">\n",
       "  <thead>\n",
       "    <tr style=\"text-align: right;\">\n",
       "      <th></th>\n",
       "      <th>method</th>\n",
       "      <th>save_time</th>\n",
       "      <th>read_time</th>\n",
       "      <th>file_size</th>\n",
       "      <th>compression</th>\n",
       "      <th>compression_level</th>\n",
       "      <th>comp_ratio</th>\n",
       "      <th>type</th>\n",
       "      <th>method_compression_with_level</th>\n",
       "    </tr>\n",
       "  </thead>\n",
       "  <tbody>\n",
       "    <tr>\n",
       "      <th>0</th>\n",
       "      <td>parquet</td>\n",
       "      <td>2.31</td>\n",
       "      <td>1.06</td>\n",
       "      <td>276.737055</td>\n",
       "      <td>zstd</td>\n",
       "      <td>1</td>\n",
       "      <td>2.838</td>\n",
       "      <td>parquet_zstd</td>\n",
       "      <td>parquet_zstd_1</td>\n",
       "    </tr>\n",
       "    <tr>\n",
       "      <th>4</th>\n",
       "      <td>parquet</td>\n",
       "      <td>4.28</td>\n",
       "      <td>1.02</td>\n",
       "      <td>245.694203</td>\n",
       "      <td>zstd</td>\n",
       "      <td>5</td>\n",
       "      <td>3.197</td>\n",
       "      <td>parquet_zstd</td>\n",
       "      <td>parquet_zstd_5</td>\n",
       "    </tr>\n",
       "    <tr>\n",
       "      <th>9</th>\n",
       "      <td>parquet</td>\n",
       "      <td>11.04</td>\n",
       "      <td>0.94</td>\n",
       "      <td>234.672159</td>\n",
       "      <td>zstd</td>\n",
       "      <td>10</td>\n",
       "      <td>3.347</td>\n",
       "      <td>parquet_zstd</td>\n",
       "      <td>parquet_zstd_10</td>\n",
       "    </tr>\n",
       "    <tr>\n",
       "      <th>17</th>\n",
       "      <td>parquet</td>\n",
       "      <td>85.79</td>\n",
       "      <td>1.00</td>\n",
       "      <td>223.130116</td>\n",
       "      <td>zstd</td>\n",
       "      <td>18</td>\n",
       "      <td>3.520</td>\n",
       "      <td>parquet_zstd</td>\n",
       "      <td>parquet_zstd_18</td>\n",
       "    </tr>\n",
       "    <tr>\n",
       "      <th>20</th>\n",
       "      <td>parquet</td>\n",
       "      <td>1.54</td>\n",
       "      <td>0.68</td>\n",
       "      <td>375.513327</td>\n",
       "      <td>lz4</td>\n",
       "      <td>1</td>\n",
       "      <td>2.092</td>\n",
       "      <td>parquet_lz4</td>\n",
       "      <td>parquet_lz4_1</td>\n",
       "    </tr>\n",
       "    <tr>\n",
       "      <th>24</th>\n",
       "      <td>parquet</td>\n",
       "      <td>10.05</td>\n",
       "      <td>0.67</td>\n",
       "      <td>297.175719</td>\n",
       "      <td>lz4</td>\n",
       "      <td>5</td>\n",
       "      <td>2.643</td>\n",
       "      <td>parquet_lz4</td>\n",
       "      <td>parquet_lz4_5</td>\n",
       "    </tr>\n",
       "    <tr>\n",
       "      <th>29</th>\n",
       "      <td>parquet</td>\n",
       "      <td>23.11</td>\n",
       "      <td>0.67</td>\n",
       "      <td>293.824037</td>\n",
       "      <td>lz4</td>\n",
       "      <td>10</td>\n",
       "      <td>2.673</td>\n",
       "      <td>parquet_lz4</td>\n",
       "      <td>parquet_lz4_10</td>\n",
       "    </tr>\n",
       "    <tr>\n",
       "      <th>37</th>\n",
       "      <td>parquet</td>\n",
       "      <td>33.36</td>\n",
       "      <td>0.67</td>\n",
       "      <td>293.376779</td>\n",
       "      <td>lz4</td>\n",
       "      <td>18</td>\n",
       "      <td>2.677</td>\n",
       "      <td>parquet_lz4</td>\n",
       "      <td>parquet_lz4_18</td>\n",
       "    </tr>\n",
       "    <tr>\n",
       "      <th>40</th>\n",
       "      <td>feather</td>\n",
       "      <td>1.63</td>\n",
       "      <td>0.79</td>\n",
       "      <td>274.084230</td>\n",
       "      <td>zstd</td>\n",
       "      <td>1</td>\n",
       "      <td>2.866</td>\n",
       "      <td>feather_zstd</td>\n",
       "      <td>feather_zstd_1</td>\n",
       "    </tr>\n",
       "    <tr>\n",
       "      <th>44</th>\n",
       "      <td>feather</td>\n",
       "      <td>3.86</td>\n",
       "      <td>0.87</td>\n",
       "      <td>239.800180</td>\n",
       "      <td>zstd</td>\n",
       "      <td>5</td>\n",
       "      <td>3.275</td>\n",
       "      <td>feather_zstd</td>\n",
       "      <td>feather_zstd_5</td>\n",
       "    </tr>\n",
       "    <tr>\n",
       "      <th>49</th>\n",
       "      <td>feather</td>\n",
       "      <td>11.37</td>\n",
       "      <td>0.79</td>\n",
       "      <td>221.179506</td>\n",
       "      <td>zstd</td>\n",
       "      <td>10</td>\n",
       "      <td>3.551</td>\n",
       "      <td>feather_zstd</td>\n",
       "      <td>feather_zstd_10</td>\n",
       "    </tr>\n",
       "    <tr>\n",
       "      <th>57</th>\n",
       "      <td>feather</td>\n",
       "      <td>155.85</td>\n",
       "      <td>0.80</td>\n",
       "      <td>200.371073</td>\n",
       "      <td>zstd</td>\n",
       "      <td>18</td>\n",
       "      <td>3.920</td>\n",
       "      <td>feather_zstd</td>\n",
       "      <td>feather_zstd_18</td>\n",
       "    </tr>\n",
       "    <tr>\n",
       "      <th>60</th>\n",
       "      <td>feather</td>\n",
       "      <td>1.29</td>\n",
       "      <td>0.54</td>\n",
       "      <td>382.216593</td>\n",
       "      <td>lz4</td>\n",
       "      <td>1</td>\n",
       "      <td>2.055</td>\n",
       "      <td>feather_lz4</td>\n",
       "      <td>feather_lz4_1</td>\n",
       "    </tr>\n",
       "    <tr>\n",
       "      <th>64</th>\n",
       "      <td>feather</td>\n",
       "      <td>8.66</td>\n",
       "      <td>0.53</td>\n",
       "      <td>299.730021</td>\n",
       "      <td>lz4</td>\n",
       "      <td>5</td>\n",
       "      <td>2.621</td>\n",
       "      <td>feather_lz4</td>\n",
       "      <td>feather_lz4_5</td>\n",
       "    </tr>\n",
       "    <tr>\n",
       "      <th>69</th>\n",
       "      <td>feather</td>\n",
       "      <td>21.22</td>\n",
       "      <td>0.53</td>\n",
       "      <td>297.152727</td>\n",
       "      <td>lz4</td>\n",
       "      <td>10</td>\n",
       "      <td>2.643</td>\n",
       "      <td>feather_lz4</td>\n",
       "      <td>feather_lz4_10</td>\n",
       "    </tr>\n",
       "    <tr>\n",
       "      <th>77</th>\n",
       "      <td>feather</td>\n",
       "      <td>30.71</td>\n",
       "      <td>0.53</td>\n",
       "      <td>295.093279</td>\n",
       "      <td>lz4</td>\n",
       "      <td>18</td>\n",
       "      <td>2.662</td>\n",
       "      <td>feather_lz4</td>\n",
       "      <td>feather_lz4_18</td>\n",
       "    </tr>\n",
       "    <tr>\n",
       "      <th>84</th>\n",
       "      <td>parquet</td>\n",
       "      <td>18.98</td>\n",
       "      <td>1.57</td>\n",
       "      <td>230.745323</td>\n",
       "      <td>brotli</td>\n",
       "      <td>0</td>\n",
       "      <td>3.404</td>\n",
       "      <td>parquet_brotli</td>\n",
       "      <td>parquet_brotli_default</td>\n",
       "    </tr>\n",
       "    <tr>\n",
       "      <th>92</th>\n",
       "      <td>csv</td>\n",
       "      <td>49.02</td>\n",
       "      <td>20.00</td>\n",
       "      <td>230.634853</td>\n",
       "      <td>bz2</td>\n",
       "      <td>0</td>\n",
       "      <td>3.406</td>\n",
       "      <td>csv_bz2</td>\n",
       "      <td>csv_bz2_default</td>\n",
       "    </tr>\n",
       "    <tr>\n",
       "      <th>94</th>\n",
       "      <td>csv</td>\n",
       "      <td>331.15</td>\n",
       "      <td>15.68</td>\n",
       "      <td>212.404030</td>\n",
       "      <td>xz</td>\n",
       "      <td>0</td>\n",
       "      <td>3.698</td>\n",
       "      <td>csv_xz</td>\n",
       "      <td>csv_xz_default</td>\n",
       "    </tr>\n",
       "  </tbody>\n",
       "</table>\n",
       "</div>"
      ],
      "text/plain": [
       "     method  save_time  read_time   file_size compression  compression_level  \\\n",
       "0   parquet       2.31       1.06  276.737055        zstd                  1   \n",
       "4   parquet       4.28       1.02  245.694203        zstd                  5   \n",
       "9   parquet      11.04       0.94  234.672159        zstd                 10   \n",
       "17  parquet      85.79       1.00  223.130116        zstd                 18   \n",
       "20  parquet       1.54       0.68  375.513327         lz4                  1   \n",
       "24  parquet      10.05       0.67  297.175719         lz4                  5   \n",
       "29  parquet      23.11       0.67  293.824037         lz4                 10   \n",
       "37  parquet      33.36       0.67  293.376779         lz4                 18   \n",
       "40  feather       1.63       0.79  274.084230        zstd                  1   \n",
       "44  feather       3.86       0.87  239.800180        zstd                  5   \n",
       "49  feather      11.37       0.79  221.179506        zstd                 10   \n",
       "57  feather     155.85       0.80  200.371073        zstd                 18   \n",
       "60  feather       1.29       0.54  382.216593         lz4                  1   \n",
       "64  feather       8.66       0.53  299.730021         lz4                  5   \n",
       "69  feather      21.22       0.53  297.152727         lz4                 10   \n",
       "77  feather      30.71       0.53  295.093279         lz4                 18   \n",
       "84  parquet      18.98       1.57  230.745323      brotli                  0   \n",
       "92      csv      49.02      20.00  230.634853         bz2                  0   \n",
       "94      csv     331.15      15.68  212.404030          xz                  0   \n",
       "\n",
       "    comp_ratio            type method_compression_with_level  \n",
       "0        2.838    parquet_zstd                parquet_zstd_1  \n",
       "4        3.197    parquet_zstd                parquet_zstd_5  \n",
       "9        3.347    parquet_zstd               parquet_zstd_10  \n",
       "17       3.520    parquet_zstd               parquet_zstd_18  \n",
       "20       2.092     parquet_lz4                 parquet_lz4_1  \n",
       "24       2.643     parquet_lz4                 parquet_lz4_5  \n",
       "29       2.673     parquet_lz4                parquet_lz4_10  \n",
       "37       2.677     parquet_lz4                parquet_lz4_18  \n",
       "40       2.866    feather_zstd                feather_zstd_1  \n",
       "44       3.275    feather_zstd                feather_zstd_5  \n",
       "49       3.551    feather_zstd               feather_zstd_10  \n",
       "57       3.920    feather_zstd               feather_zstd_18  \n",
       "60       2.055     feather_lz4                 feather_lz4_1  \n",
       "64       2.621     feather_lz4                 feather_lz4_5  \n",
       "69       2.643     feather_lz4                feather_lz4_10  \n",
       "77       2.662     feather_lz4                feather_lz4_18  \n",
       "84       3.404  parquet_brotli        parquet_brotli_default  \n",
       "92       3.406         csv_bz2               csv_bz2_default  \n",
       "94       3.698          csv_xz                csv_xz_default  "
      ]
     },
     "execution_count": 8,
     "metadata": {},
     "output_type": "execute_result"
    }
   ],
   "source": [
    "interesting_method_compression_with_level = [\n",
    "    \"csv_bz2_default\",\n",
    "    \"csv_xz_default\",\n",
    "    \"parquet_brotli_default\",\n",
    "    \"parquet_zstd_1\",\n",
    "    \"parquet_zstd_5\",\n",
    "    \"parquet_zstd_10\",\n",
    "    \"parquet_zstd_18\",\n",
    "    \"parquet_lz4_1\",\n",
    "    \"parquet_lz4_5\",\n",
    "    \"parquet_lz4_10\",\n",
    "    \"parquet_lz4_18\",\n",
    "    \"feather_zstd_1\",\n",
    "    \"feather_zstd_5\",\n",
    "    \"feather_zstd_10\",\n",
    "    \"feather_zstd_18\",\n",
    "    \"feather_lz4_1\",\n",
    "    \"feather_lz4_5\",\n",
    "    \"feather_lz4_10\",\n",
    "    \"feather_lz4_18\",\n",
    "]\n",
    "\n",
    "df_interesting_levels = df[df[\"method_compression_with_level\"].isin(interesting_method_compression_with_level)].copy()\n",
    "#df_interesting_levels.sort_values(\"method_compression_with_level\", ascending=True, inplace=True)\n",
    "df_interesting_levels"
   ]
  },
  {
   "cell_type": "code",
   "execution_count": 9,
   "metadata": {},
   "outputs": [
    {
     "data": {
      "application/vnd.plotly.v1+json": {
       "config": {
        "plotlyServerURL": "https://plot.ly"
       },
       "data": [
        {
         "alignmentgroup": "True",
         "hovertemplate": "format_compression_level=%{x}<br>compression ratio=%{y}<extra></extra>",
         "legendgroup": "",
         "marker": {
          "color": "#636efa",
          "pattern": {
           "shape": ""
          }
         },
         "name": "",
         "offsetgroup": "",
         "orientation": "v",
         "showlegend": false,
         "textposition": "auto",
         "texttemplate": "%{y}",
         "type": "bar",
         "x": [
          "parquet_zstd_1",
          "parquet_zstd_5",
          "parquet_zstd_10",
          "parquet_zstd_18",
          "parquet_lz4_1",
          "parquet_lz4_5",
          "parquet_lz4_10",
          "parquet_lz4_18",
          "feather_zstd_1",
          "feather_zstd_5",
          "feather_zstd_10",
          "feather_zstd_18",
          "feather_lz4_1",
          "feather_lz4_5",
          "feather_lz4_10",
          "feather_lz4_18",
          "parquet_brotli_default",
          "csv_bz2_default",
          "csv_xz_default"
         ],
         "xaxis": "x",
         "y": [
          2.838,
          3.197,
          3.347,
          3.52,
          2.092,
          2.643,
          2.673,
          2.677,
          2.866,
          3.275,
          3.551,
          3.92,
          2.055,
          2.621,
          2.643,
          2.662,
          3.404,
          3.406,
          3.698
         ],
         "yaxis": "y"
        }
       ],
       "layout": {
        "barmode": "relative",
        "legend": {
         "tracegroupgap": 0
        },
        "margin": {
         "t": 60
        },
        "template": {
         "data": {
          "bar": [
           {
            "error_x": {
             "color": "#2a3f5f"
            },
            "error_y": {
             "color": "#2a3f5f"
            },
            "marker": {
             "line": {
              "color": "#E5ECF6",
              "width": 0.5
             },
             "pattern": {
              "fillmode": "overlay",
              "size": 10,
              "solidity": 0.2
             }
            },
            "type": "bar"
           }
          ],
          "barpolar": [
           {
            "marker": {
             "line": {
              "color": "#E5ECF6",
              "width": 0.5
             },
             "pattern": {
              "fillmode": "overlay",
              "size": 10,
              "solidity": 0.2
             }
            },
            "type": "barpolar"
           }
          ],
          "carpet": [
           {
            "aaxis": {
             "endlinecolor": "#2a3f5f",
             "gridcolor": "white",
             "linecolor": "white",
             "minorgridcolor": "white",
             "startlinecolor": "#2a3f5f"
            },
            "baxis": {
             "endlinecolor": "#2a3f5f",
             "gridcolor": "white",
             "linecolor": "white",
             "minorgridcolor": "white",
             "startlinecolor": "#2a3f5f"
            },
            "type": "carpet"
           }
          ],
          "choropleth": [
           {
            "colorbar": {
             "outlinewidth": 0,
             "ticks": ""
            },
            "type": "choropleth"
           }
          ],
          "contour": [
           {
            "colorbar": {
             "outlinewidth": 0,
             "ticks": ""
            },
            "colorscale": [
             [
              0,
              "#0d0887"
             ],
             [
              0.1111111111111111,
              "#46039f"
             ],
             [
              0.2222222222222222,
              "#7201a8"
             ],
             [
              0.3333333333333333,
              "#9c179e"
             ],
             [
              0.4444444444444444,
              "#bd3786"
             ],
             [
              0.5555555555555556,
              "#d8576b"
             ],
             [
              0.6666666666666666,
              "#ed7953"
             ],
             [
              0.7777777777777778,
              "#fb9f3a"
             ],
             [
              0.8888888888888888,
              "#fdca26"
             ],
             [
              1,
              "#f0f921"
             ]
            ],
            "type": "contour"
           }
          ],
          "contourcarpet": [
           {
            "colorbar": {
             "outlinewidth": 0,
             "ticks": ""
            },
            "type": "contourcarpet"
           }
          ],
          "heatmap": [
           {
            "colorbar": {
             "outlinewidth": 0,
             "ticks": ""
            },
            "colorscale": [
             [
              0,
              "#0d0887"
             ],
             [
              0.1111111111111111,
              "#46039f"
             ],
             [
              0.2222222222222222,
              "#7201a8"
             ],
             [
              0.3333333333333333,
              "#9c179e"
             ],
             [
              0.4444444444444444,
              "#bd3786"
             ],
             [
              0.5555555555555556,
              "#d8576b"
             ],
             [
              0.6666666666666666,
              "#ed7953"
             ],
             [
              0.7777777777777778,
              "#fb9f3a"
             ],
             [
              0.8888888888888888,
              "#fdca26"
             ],
             [
              1,
              "#f0f921"
             ]
            ],
            "type": "heatmap"
           }
          ],
          "heatmapgl": [
           {
            "colorbar": {
             "outlinewidth": 0,
             "ticks": ""
            },
            "colorscale": [
             [
              0,
              "#0d0887"
             ],
             [
              0.1111111111111111,
              "#46039f"
             ],
             [
              0.2222222222222222,
              "#7201a8"
             ],
             [
              0.3333333333333333,
              "#9c179e"
             ],
             [
              0.4444444444444444,
              "#bd3786"
             ],
             [
              0.5555555555555556,
              "#d8576b"
             ],
             [
              0.6666666666666666,
              "#ed7953"
             ],
             [
              0.7777777777777778,
              "#fb9f3a"
             ],
             [
              0.8888888888888888,
              "#fdca26"
             ],
             [
              1,
              "#f0f921"
             ]
            ],
            "type": "heatmapgl"
           }
          ],
          "histogram": [
           {
            "marker": {
             "pattern": {
              "fillmode": "overlay",
              "size": 10,
              "solidity": 0.2
             }
            },
            "type": "histogram"
           }
          ],
          "histogram2d": [
           {
            "colorbar": {
             "outlinewidth": 0,
             "ticks": ""
            },
            "colorscale": [
             [
              0,
              "#0d0887"
             ],
             [
              0.1111111111111111,
              "#46039f"
             ],
             [
              0.2222222222222222,
              "#7201a8"
             ],
             [
              0.3333333333333333,
              "#9c179e"
             ],
             [
              0.4444444444444444,
              "#bd3786"
             ],
             [
              0.5555555555555556,
              "#d8576b"
             ],
             [
              0.6666666666666666,
              "#ed7953"
             ],
             [
              0.7777777777777778,
              "#fb9f3a"
             ],
             [
              0.8888888888888888,
              "#fdca26"
             ],
             [
              1,
              "#f0f921"
             ]
            ],
            "type": "histogram2d"
           }
          ],
          "histogram2dcontour": [
           {
            "colorbar": {
             "outlinewidth": 0,
             "ticks": ""
            },
            "colorscale": [
             [
              0,
              "#0d0887"
             ],
             [
              0.1111111111111111,
              "#46039f"
             ],
             [
              0.2222222222222222,
              "#7201a8"
             ],
             [
              0.3333333333333333,
              "#9c179e"
             ],
             [
              0.4444444444444444,
              "#bd3786"
             ],
             [
              0.5555555555555556,
              "#d8576b"
             ],
             [
              0.6666666666666666,
              "#ed7953"
             ],
             [
              0.7777777777777778,
              "#fb9f3a"
             ],
             [
              0.8888888888888888,
              "#fdca26"
             ],
             [
              1,
              "#f0f921"
             ]
            ],
            "type": "histogram2dcontour"
           }
          ],
          "mesh3d": [
           {
            "colorbar": {
             "outlinewidth": 0,
             "ticks": ""
            },
            "type": "mesh3d"
           }
          ],
          "parcoords": [
           {
            "line": {
             "colorbar": {
              "outlinewidth": 0,
              "ticks": ""
             }
            },
            "type": "parcoords"
           }
          ],
          "pie": [
           {
            "automargin": true,
            "type": "pie"
           }
          ],
          "scatter": [
           {
            "fillpattern": {
             "fillmode": "overlay",
             "size": 10,
             "solidity": 0.2
            },
            "type": "scatter"
           }
          ],
          "scatter3d": [
           {
            "line": {
             "colorbar": {
              "outlinewidth": 0,
              "ticks": ""
             }
            },
            "marker": {
             "colorbar": {
              "outlinewidth": 0,
              "ticks": ""
             }
            },
            "type": "scatter3d"
           }
          ],
          "scattercarpet": [
           {
            "marker": {
             "colorbar": {
              "outlinewidth": 0,
              "ticks": ""
             }
            },
            "type": "scattercarpet"
           }
          ],
          "scattergeo": [
           {
            "marker": {
             "colorbar": {
              "outlinewidth": 0,
              "ticks": ""
             }
            },
            "type": "scattergeo"
           }
          ],
          "scattergl": [
           {
            "marker": {
             "colorbar": {
              "outlinewidth": 0,
              "ticks": ""
             }
            },
            "type": "scattergl"
           }
          ],
          "scattermapbox": [
           {
            "marker": {
             "colorbar": {
              "outlinewidth": 0,
              "ticks": ""
             }
            },
            "type": "scattermapbox"
           }
          ],
          "scatterpolar": [
           {
            "marker": {
             "colorbar": {
              "outlinewidth": 0,
              "ticks": ""
             }
            },
            "type": "scatterpolar"
           }
          ],
          "scatterpolargl": [
           {
            "marker": {
             "colorbar": {
              "outlinewidth": 0,
              "ticks": ""
             }
            },
            "type": "scatterpolargl"
           }
          ],
          "scatterternary": [
           {
            "marker": {
             "colorbar": {
              "outlinewidth": 0,
              "ticks": ""
             }
            },
            "type": "scatterternary"
           }
          ],
          "surface": [
           {
            "colorbar": {
             "outlinewidth": 0,
             "ticks": ""
            },
            "colorscale": [
             [
              0,
              "#0d0887"
             ],
             [
              0.1111111111111111,
              "#46039f"
             ],
             [
              0.2222222222222222,
              "#7201a8"
             ],
             [
              0.3333333333333333,
              "#9c179e"
             ],
             [
              0.4444444444444444,
              "#bd3786"
             ],
             [
              0.5555555555555556,
              "#d8576b"
             ],
             [
              0.6666666666666666,
              "#ed7953"
             ],
             [
              0.7777777777777778,
              "#fb9f3a"
             ],
             [
              0.8888888888888888,
              "#fdca26"
             ],
             [
              1,
              "#f0f921"
             ]
            ],
            "type": "surface"
           }
          ],
          "table": [
           {
            "cells": {
             "fill": {
              "color": "#EBF0F8"
             },
             "line": {
              "color": "white"
             }
            },
            "header": {
             "fill": {
              "color": "#C8D4E3"
             },
             "line": {
              "color": "white"
             }
            },
            "type": "table"
           }
          ]
         },
         "layout": {
          "annotationdefaults": {
           "arrowcolor": "#2a3f5f",
           "arrowhead": 0,
           "arrowwidth": 1
          },
          "autotypenumbers": "strict",
          "coloraxis": {
           "colorbar": {
            "outlinewidth": 0,
            "ticks": ""
           }
          },
          "colorscale": {
           "diverging": [
            [
             0,
             "#8e0152"
            ],
            [
             0.1,
             "#c51b7d"
            ],
            [
             0.2,
             "#de77ae"
            ],
            [
             0.3,
             "#f1b6da"
            ],
            [
             0.4,
             "#fde0ef"
            ],
            [
             0.5,
             "#f7f7f7"
            ],
            [
             0.6,
             "#e6f5d0"
            ],
            [
             0.7,
             "#b8e186"
            ],
            [
             0.8,
             "#7fbc41"
            ],
            [
             0.9,
             "#4d9221"
            ],
            [
             1,
             "#276419"
            ]
           ],
           "sequential": [
            [
             0,
             "#0d0887"
            ],
            [
             0.1111111111111111,
             "#46039f"
            ],
            [
             0.2222222222222222,
             "#7201a8"
            ],
            [
             0.3333333333333333,
             "#9c179e"
            ],
            [
             0.4444444444444444,
             "#bd3786"
            ],
            [
             0.5555555555555556,
             "#d8576b"
            ],
            [
             0.6666666666666666,
             "#ed7953"
            ],
            [
             0.7777777777777778,
             "#fb9f3a"
            ],
            [
             0.8888888888888888,
             "#fdca26"
            ],
            [
             1,
             "#f0f921"
            ]
           ],
           "sequentialminus": [
            [
             0,
             "#0d0887"
            ],
            [
             0.1111111111111111,
             "#46039f"
            ],
            [
             0.2222222222222222,
             "#7201a8"
            ],
            [
             0.3333333333333333,
             "#9c179e"
            ],
            [
             0.4444444444444444,
             "#bd3786"
            ],
            [
             0.5555555555555556,
             "#d8576b"
            ],
            [
             0.6666666666666666,
             "#ed7953"
            ],
            [
             0.7777777777777778,
             "#fb9f3a"
            ],
            [
             0.8888888888888888,
             "#fdca26"
            ],
            [
             1,
             "#f0f921"
            ]
           ]
          },
          "colorway": [
           "#636efa",
           "#EF553B",
           "#00cc96",
           "#ab63fa",
           "#FFA15A",
           "#19d3f3",
           "#FF6692",
           "#B6E880",
           "#FF97FF",
           "#FECB52"
          ],
          "font": {
           "color": "#2a3f5f"
          },
          "geo": {
           "bgcolor": "white",
           "lakecolor": "white",
           "landcolor": "#E5ECF6",
           "showlakes": true,
           "showland": true,
           "subunitcolor": "white"
          },
          "hoverlabel": {
           "align": "left"
          },
          "hovermode": "closest",
          "mapbox": {
           "style": "light"
          },
          "paper_bgcolor": "white",
          "plot_bgcolor": "#E5ECF6",
          "polar": {
           "angularaxis": {
            "gridcolor": "white",
            "linecolor": "white",
            "ticks": ""
           },
           "bgcolor": "#E5ECF6",
           "radialaxis": {
            "gridcolor": "white",
            "linecolor": "white",
            "ticks": ""
           }
          },
          "scene": {
           "xaxis": {
            "backgroundcolor": "#E5ECF6",
            "gridcolor": "white",
            "gridwidth": 2,
            "linecolor": "white",
            "showbackground": true,
            "ticks": "",
            "zerolinecolor": "white"
           },
           "yaxis": {
            "backgroundcolor": "#E5ECF6",
            "gridcolor": "white",
            "gridwidth": 2,
            "linecolor": "white",
            "showbackground": true,
            "ticks": "",
            "zerolinecolor": "white"
           },
           "zaxis": {
            "backgroundcolor": "#E5ECF6",
            "gridcolor": "white",
            "gridwidth": 2,
            "linecolor": "white",
            "showbackground": true,
            "ticks": "",
            "zerolinecolor": "white"
           }
          },
          "shapedefaults": {
           "line": {
            "color": "#2a3f5f"
           }
          },
          "ternary": {
           "aaxis": {
            "gridcolor": "white",
            "linecolor": "white",
            "ticks": ""
           },
           "baxis": {
            "gridcolor": "white",
            "linecolor": "white",
            "ticks": ""
           },
           "bgcolor": "#E5ECF6",
           "caxis": {
            "gridcolor": "white",
            "linecolor": "white",
            "ticks": ""
           }
          },
          "title": {
           "x": 0.05
          },
          "xaxis": {
           "automargin": true,
           "gridcolor": "white",
           "linecolor": "white",
           "ticks": "",
           "title": {
            "standoff": 15
           },
           "zerolinecolor": "white",
           "zerolinewidth": 2
          },
          "yaxis": {
           "automargin": true,
           "gridcolor": "white",
           "linecolor": "white",
           "ticks": "",
           "title": {
            "standoff": 15
           },
           "zerolinecolor": "white",
           "zerolinewidth": 2
          }
         }
        },
        "xaxis": {
         "anchor": "y",
         "domain": [
          0,
          1
         ],
         "title": {
          "text": "format_compression_level"
         }
        },
        "yaxis": {
         "anchor": "x",
         "domain": [
          0,
          1
         ],
         "title": {
          "text": "compression ratio"
         }
        }
       }
      }
     },
     "metadata": {},
     "output_type": "display_data"
    }
   ],
   "source": [
    "fig = px.bar(df_interesting_levels, x=\"method_compression_with_level\", y=\"comp_ratio\", text_auto=True,\n",
    "             labels={\"comp_ratio\": \"compression ratio\",\n",
    "                     \"method_compression_with_level\": \"format_compression_level\"},)\n",
    "fig.show()\n",
    "fig.write_image(\"./plots/pandas_ff_bar_comp_ratio_feather.svg\")\n"
   ]
  },
  {
   "cell_type": "code",
   "execution_count": 10,
   "metadata": {},
   "outputs": [
    {
     "data": {
      "application/vnd.plotly.v1+json": {
       "config": {
        "plotlyServerURL": "https://plot.ly"
       },
       "data": [
        {
         "alignmentgroup": "True",
         "hovertemplate": "format_compression_level=%{x}<br>time to save data in seconds=%{y}<extra></extra>",
         "legendgroup": "",
         "marker": {
          "color": "#636efa",
          "pattern": {
           "shape": ""
          }
         },
         "name": "",
         "offsetgroup": "",
         "orientation": "v",
         "showlegend": false,
         "textposition": "auto",
         "texttemplate": "%{y}",
         "type": "bar",
         "x": [
          "parquet_zstd_1",
          "parquet_zstd_5",
          "parquet_zstd_10",
          "parquet_zstd_18",
          "parquet_lz4_1",
          "parquet_lz4_5",
          "parquet_lz4_10",
          "parquet_lz4_18",
          "feather_zstd_1",
          "feather_zstd_5",
          "feather_zstd_10",
          "feather_zstd_18",
          "feather_lz4_1",
          "feather_lz4_5",
          "feather_lz4_10",
          "feather_lz4_18",
          "parquet_brotli_default",
          "csv_bz2_default",
          "csv_xz_default"
         ],
         "xaxis": "x",
         "y": [
          2.31,
          4.28,
          11.04,
          85.79,
          1.54,
          10.05,
          23.11,
          33.36,
          1.63,
          3.86,
          11.37,
          155.85,
          1.29,
          8.66,
          21.22,
          30.71,
          18.98,
          49.02,
          331.15
         ],
         "yaxis": "y"
        }
       ],
       "layout": {
        "barmode": "relative",
        "legend": {
         "tracegroupgap": 0
        },
        "margin": {
         "t": 60
        },
        "template": {
         "data": {
          "bar": [
           {
            "error_x": {
             "color": "#2a3f5f"
            },
            "error_y": {
             "color": "#2a3f5f"
            },
            "marker": {
             "line": {
              "color": "#E5ECF6",
              "width": 0.5
             },
             "pattern": {
              "fillmode": "overlay",
              "size": 10,
              "solidity": 0.2
             }
            },
            "type": "bar"
           }
          ],
          "barpolar": [
           {
            "marker": {
             "line": {
              "color": "#E5ECF6",
              "width": 0.5
             },
             "pattern": {
              "fillmode": "overlay",
              "size": 10,
              "solidity": 0.2
             }
            },
            "type": "barpolar"
           }
          ],
          "carpet": [
           {
            "aaxis": {
             "endlinecolor": "#2a3f5f",
             "gridcolor": "white",
             "linecolor": "white",
             "minorgridcolor": "white",
             "startlinecolor": "#2a3f5f"
            },
            "baxis": {
             "endlinecolor": "#2a3f5f",
             "gridcolor": "white",
             "linecolor": "white",
             "minorgridcolor": "white",
             "startlinecolor": "#2a3f5f"
            },
            "type": "carpet"
           }
          ],
          "choropleth": [
           {
            "colorbar": {
             "outlinewidth": 0,
             "ticks": ""
            },
            "type": "choropleth"
           }
          ],
          "contour": [
           {
            "colorbar": {
             "outlinewidth": 0,
             "ticks": ""
            },
            "colorscale": [
             [
              0,
              "#0d0887"
             ],
             [
              0.1111111111111111,
              "#46039f"
             ],
             [
              0.2222222222222222,
              "#7201a8"
             ],
             [
              0.3333333333333333,
              "#9c179e"
             ],
             [
              0.4444444444444444,
              "#bd3786"
             ],
             [
              0.5555555555555556,
              "#d8576b"
             ],
             [
              0.6666666666666666,
              "#ed7953"
             ],
             [
              0.7777777777777778,
              "#fb9f3a"
             ],
             [
              0.8888888888888888,
              "#fdca26"
             ],
             [
              1,
              "#f0f921"
             ]
            ],
            "type": "contour"
           }
          ],
          "contourcarpet": [
           {
            "colorbar": {
             "outlinewidth": 0,
             "ticks": ""
            },
            "type": "contourcarpet"
           }
          ],
          "heatmap": [
           {
            "colorbar": {
             "outlinewidth": 0,
             "ticks": ""
            },
            "colorscale": [
             [
              0,
              "#0d0887"
             ],
             [
              0.1111111111111111,
              "#46039f"
             ],
             [
              0.2222222222222222,
              "#7201a8"
             ],
             [
              0.3333333333333333,
              "#9c179e"
             ],
             [
              0.4444444444444444,
              "#bd3786"
             ],
             [
              0.5555555555555556,
              "#d8576b"
             ],
             [
              0.6666666666666666,
              "#ed7953"
             ],
             [
              0.7777777777777778,
              "#fb9f3a"
             ],
             [
              0.8888888888888888,
              "#fdca26"
             ],
             [
              1,
              "#f0f921"
             ]
            ],
            "type": "heatmap"
           }
          ],
          "heatmapgl": [
           {
            "colorbar": {
             "outlinewidth": 0,
             "ticks": ""
            },
            "colorscale": [
             [
              0,
              "#0d0887"
             ],
             [
              0.1111111111111111,
              "#46039f"
             ],
             [
              0.2222222222222222,
              "#7201a8"
             ],
             [
              0.3333333333333333,
              "#9c179e"
             ],
             [
              0.4444444444444444,
              "#bd3786"
             ],
             [
              0.5555555555555556,
              "#d8576b"
             ],
             [
              0.6666666666666666,
              "#ed7953"
             ],
             [
              0.7777777777777778,
              "#fb9f3a"
             ],
             [
              0.8888888888888888,
              "#fdca26"
             ],
             [
              1,
              "#f0f921"
             ]
            ],
            "type": "heatmapgl"
           }
          ],
          "histogram": [
           {
            "marker": {
             "pattern": {
              "fillmode": "overlay",
              "size": 10,
              "solidity": 0.2
             }
            },
            "type": "histogram"
           }
          ],
          "histogram2d": [
           {
            "colorbar": {
             "outlinewidth": 0,
             "ticks": ""
            },
            "colorscale": [
             [
              0,
              "#0d0887"
             ],
             [
              0.1111111111111111,
              "#46039f"
             ],
             [
              0.2222222222222222,
              "#7201a8"
             ],
             [
              0.3333333333333333,
              "#9c179e"
             ],
             [
              0.4444444444444444,
              "#bd3786"
             ],
             [
              0.5555555555555556,
              "#d8576b"
             ],
             [
              0.6666666666666666,
              "#ed7953"
             ],
             [
              0.7777777777777778,
              "#fb9f3a"
             ],
             [
              0.8888888888888888,
              "#fdca26"
             ],
             [
              1,
              "#f0f921"
             ]
            ],
            "type": "histogram2d"
           }
          ],
          "histogram2dcontour": [
           {
            "colorbar": {
             "outlinewidth": 0,
             "ticks": ""
            },
            "colorscale": [
             [
              0,
              "#0d0887"
             ],
             [
              0.1111111111111111,
              "#46039f"
             ],
             [
              0.2222222222222222,
              "#7201a8"
             ],
             [
              0.3333333333333333,
              "#9c179e"
             ],
             [
              0.4444444444444444,
              "#bd3786"
             ],
             [
              0.5555555555555556,
              "#d8576b"
             ],
             [
              0.6666666666666666,
              "#ed7953"
             ],
             [
              0.7777777777777778,
              "#fb9f3a"
             ],
             [
              0.8888888888888888,
              "#fdca26"
             ],
             [
              1,
              "#f0f921"
             ]
            ],
            "type": "histogram2dcontour"
           }
          ],
          "mesh3d": [
           {
            "colorbar": {
             "outlinewidth": 0,
             "ticks": ""
            },
            "type": "mesh3d"
           }
          ],
          "parcoords": [
           {
            "line": {
             "colorbar": {
              "outlinewidth": 0,
              "ticks": ""
             }
            },
            "type": "parcoords"
           }
          ],
          "pie": [
           {
            "automargin": true,
            "type": "pie"
           }
          ],
          "scatter": [
           {
            "fillpattern": {
             "fillmode": "overlay",
             "size": 10,
             "solidity": 0.2
            },
            "type": "scatter"
           }
          ],
          "scatter3d": [
           {
            "line": {
             "colorbar": {
              "outlinewidth": 0,
              "ticks": ""
             }
            },
            "marker": {
             "colorbar": {
              "outlinewidth": 0,
              "ticks": ""
             }
            },
            "type": "scatter3d"
           }
          ],
          "scattercarpet": [
           {
            "marker": {
             "colorbar": {
              "outlinewidth": 0,
              "ticks": ""
             }
            },
            "type": "scattercarpet"
           }
          ],
          "scattergeo": [
           {
            "marker": {
             "colorbar": {
              "outlinewidth": 0,
              "ticks": ""
             }
            },
            "type": "scattergeo"
           }
          ],
          "scattergl": [
           {
            "marker": {
             "colorbar": {
              "outlinewidth": 0,
              "ticks": ""
             }
            },
            "type": "scattergl"
           }
          ],
          "scattermapbox": [
           {
            "marker": {
             "colorbar": {
              "outlinewidth": 0,
              "ticks": ""
             }
            },
            "type": "scattermapbox"
           }
          ],
          "scatterpolar": [
           {
            "marker": {
             "colorbar": {
              "outlinewidth": 0,
              "ticks": ""
             }
            },
            "type": "scatterpolar"
           }
          ],
          "scatterpolargl": [
           {
            "marker": {
             "colorbar": {
              "outlinewidth": 0,
              "ticks": ""
             }
            },
            "type": "scatterpolargl"
           }
          ],
          "scatterternary": [
           {
            "marker": {
             "colorbar": {
              "outlinewidth": 0,
              "ticks": ""
             }
            },
            "type": "scatterternary"
           }
          ],
          "surface": [
           {
            "colorbar": {
             "outlinewidth": 0,
             "ticks": ""
            },
            "colorscale": [
             [
              0,
              "#0d0887"
             ],
             [
              0.1111111111111111,
              "#46039f"
             ],
             [
              0.2222222222222222,
              "#7201a8"
             ],
             [
              0.3333333333333333,
              "#9c179e"
             ],
             [
              0.4444444444444444,
              "#bd3786"
             ],
             [
              0.5555555555555556,
              "#d8576b"
             ],
             [
              0.6666666666666666,
              "#ed7953"
             ],
             [
              0.7777777777777778,
              "#fb9f3a"
             ],
             [
              0.8888888888888888,
              "#fdca26"
             ],
             [
              1,
              "#f0f921"
             ]
            ],
            "type": "surface"
           }
          ],
          "table": [
           {
            "cells": {
             "fill": {
              "color": "#EBF0F8"
             },
             "line": {
              "color": "white"
             }
            },
            "header": {
             "fill": {
              "color": "#C8D4E3"
             },
             "line": {
              "color": "white"
             }
            },
            "type": "table"
           }
          ]
         },
         "layout": {
          "annotationdefaults": {
           "arrowcolor": "#2a3f5f",
           "arrowhead": 0,
           "arrowwidth": 1
          },
          "autotypenumbers": "strict",
          "coloraxis": {
           "colorbar": {
            "outlinewidth": 0,
            "ticks": ""
           }
          },
          "colorscale": {
           "diverging": [
            [
             0,
             "#8e0152"
            ],
            [
             0.1,
             "#c51b7d"
            ],
            [
             0.2,
             "#de77ae"
            ],
            [
             0.3,
             "#f1b6da"
            ],
            [
             0.4,
             "#fde0ef"
            ],
            [
             0.5,
             "#f7f7f7"
            ],
            [
             0.6,
             "#e6f5d0"
            ],
            [
             0.7,
             "#b8e186"
            ],
            [
             0.8,
             "#7fbc41"
            ],
            [
             0.9,
             "#4d9221"
            ],
            [
             1,
             "#276419"
            ]
           ],
           "sequential": [
            [
             0,
             "#0d0887"
            ],
            [
             0.1111111111111111,
             "#46039f"
            ],
            [
             0.2222222222222222,
             "#7201a8"
            ],
            [
             0.3333333333333333,
             "#9c179e"
            ],
            [
             0.4444444444444444,
             "#bd3786"
            ],
            [
             0.5555555555555556,
             "#d8576b"
            ],
            [
             0.6666666666666666,
             "#ed7953"
            ],
            [
             0.7777777777777778,
             "#fb9f3a"
            ],
            [
             0.8888888888888888,
             "#fdca26"
            ],
            [
             1,
             "#f0f921"
            ]
           ],
           "sequentialminus": [
            [
             0,
             "#0d0887"
            ],
            [
             0.1111111111111111,
             "#46039f"
            ],
            [
             0.2222222222222222,
             "#7201a8"
            ],
            [
             0.3333333333333333,
             "#9c179e"
            ],
            [
             0.4444444444444444,
             "#bd3786"
            ],
            [
             0.5555555555555556,
             "#d8576b"
            ],
            [
             0.6666666666666666,
             "#ed7953"
            ],
            [
             0.7777777777777778,
             "#fb9f3a"
            ],
            [
             0.8888888888888888,
             "#fdca26"
            ],
            [
             1,
             "#f0f921"
            ]
           ]
          },
          "colorway": [
           "#636efa",
           "#EF553B",
           "#00cc96",
           "#ab63fa",
           "#FFA15A",
           "#19d3f3",
           "#FF6692",
           "#B6E880",
           "#FF97FF",
           "#FECB52"
          ],
          "font": {
           "color": "#2a3f5f"
          },
          "geo": {
           "bgcolor": "white",
           "lakecolor": "white",
           "landcolor": "#E5ECF6",
           "showlakes": true,
           "showland": true,
           "subunitcolor": "white"
          },
          "hoverlabel": {
           "align": "left"
          },
          "hovermode": "closest",
          "mapbox": {
           "style": "light"
          },
          "paper_bgcolor": "white",
          "plot_bgcolor": "#E5ECF6",
          "polar": {
           "angularaxis": {
            "gridcolor": "white",
            "linecolor": "white",
            "ticks": ""
           },
           "bgcolor": "#E5ECF6",
           "radialaxis": {
            "gridcolor": "white",
            "linecolor": "white",
            "ticks": ""
           }
          },
          "scene": {
           "xaxis": {
            "backgroundcolor": "#E5ECF6",
            "gridcolor": "white",
            "gridwidth": 2,
            "linecolor": "white",
            "showbackground": true,
            "ticks": "",
            "zerolinecolor": "white"
           },
           "yaxis": {
            "backgroundcolor": "#E5ECF6",
            "gridcolor": "white",
            "gridwidth": 2,
            "linecolor": "white",
            "showbackground": true,
            "ticks": "",
            "zerolinecolor": "white"
           },
           "zaxis": {
            "backgroundcolor": "#E5ECF6",
            "gridcolor": "white",
            "gridwidth": 2,
            "linecolor": "white",
            "showbackground": true,
            "ticks": "",
            "zerolinecolor": "white"
           }
          },
          "shapedefaults": {
           "line": {
            "color": "#2a3f5f"
           }
          },
          "ternary": {
           "aaxis": {
            "gridcolor": "white",
            "linecolor": "white",
            "ticks": ""
           },
           "baxis": {
            "gridcolor": "white",
            "linecolor": "white",
            "ticks": ""
           },
           "bgcolor": "#E5ECF6",
           "caxis": {
            "gridcolor": "white",
            "linecolor": "white",
            "ticks": ""
           }
          },
          "title": {
           "x": 0.05
          },
          "xaxis": {
           "automargin": true,
           "gridcolor": "white",
           "linecolor": "white",
           "ticks": "",
           "title": {
            "standoff": 15
           },
           "zerolinecolor": "white",
           "zerolinewidth": 2
          },
          "yaxis": {
           "automargin": true,
           "gridcolor": "white",
           "linecolor": "white",
           "ticks": "",
           "title": {
            "standoff": 15
           },
           "zerolinecolor": "white",
           "zerolinewidth": 2
          }
         }
        },
        "xaxis": {
         "anchor": "y",
         "domain": [
          0,
          1
         ],
         "title": {
          "text": "format_compression_level"
         }
        },
        "yaxis": {
         "anchor": "x",
         "domain": [
          0,
          1
         ],
         "title": {
          "text": "time to save data in seconds"
         }
        }
       }
      }
     },
     "metadata": {},
     "output_type": "display_data"
    }
   ],
   "source": [
    "fig = px.bar(df_interesting_levels, x=\"method_compression_with_level\", y=\"save_time\", text_auto=True,\n",
    "             labels={\"save_time\": \"time to save data in seconds\",\n",
    "                     \"method_compression_with_level\": \"format_compression_level\"},)\n",
    "fig.show()\n",
    "fig.write_image(\"./plots/pandas_ff_bar_save_time_feather.svg\")"
   ]
  },
  {
   "cell_type": "code",
   "execution_count": 11,
   "metadata": {},
   "outputs": [
    {
     "data": {
      "application/vnd.plotly.v1+json": {
       "config": {
        "plotlyServerURL": "https://plot.ly"
       },
       "data": [
        {
         "alignmentgroup": "True",
         "hovertemplate": "format_compression_level=%{x}<br>time to read data in seconds=%{y}<extra></extra>",
         "legendgroup": "",
         "marker": {
          "color": "#636efa",
          "pattern": {
           "shape": ""
          }
         },
         "name": "",
         "offsetgroup": "",
         "orientation": "v",
         "showlegend": false,
         "textposition": "auto",
         "texttemplate": "%{y}",
         "type": "bar",
         "x": [
          "parquet_zstd_1",
          "parquet_zstd_5",
          "parquet_zstd_10",
          "parquet_zstd_18",
          "parquet_lz4_1",
          "parquet_lz4_5",
          "parquet_lz4_10",
          "parquet_lz4_18",
          "feather_zstd_1",
          "feather_zstd_5",
          "feather_zstd_10",
          "feather_zstd_18",
          "feather_lz4_1",
          "feather_lz4_5",
          "feather_lz4_10",
          "feather_lz4_18",
          "parquet_brotli_default",
          "csv_bz2_default",
          "csv_xz_default"
         ],
         "xaxis": "x",
         "y": [
          1.06,
          1.02,
          0.94,
          1,
          0.68,
          0.67,
          0.67,
          0.67,
          0.79,
          0.87,
          0.79,
          0.8,
          0.54,
          0.53,
          0.53,
          0.53,
          1.57,
          20,
          15.68
         ],
         "yaxis": "y"
        }
       ],
       "layout": {
        "barmode": "relative",
        "legend": {
         "tracegroupgap": 0
        },
        "margin": {
         "t": 60
        },
        "template": {
         "data": {
          "bar": [
           {
            "error_x": {
             "color": "#2a3f5f"
            },
            "error_y": {
             "color": "#2a3f5f"
            },
            "marker": {
             "line": {
              "color": "#E5ECF6",
              "width": 0.5
             },
             "pattern": {
              "fillmode": "overlay",
              "size": 10,
              "solidity": 0.2
             }
            },
            "type": "bar"
           }
          ],
          "barpolar": [
           {
            "marker": {
             "line": {
              "color": "#E5ECF6",
              "width": 0.5
             },
             "pattern": {
              "fillmode": "overlay",
              "size": 10,
              "solidity": 0.2
             }
            },
            "type": "barpolar"
           }
          ],
          "carpet": [
           {
            "aaxis": {
             "endlinecolor": "#2a3f5f",
             "gridcolor": "white",
             "linecolor": "white",
             "minorgridcolor": "white",
             "startlinecolor": "#2a3f5f"
            },
            "baxis": {
             "endlinecolor": "#2a3f5f",
             "gridcolor": "white",
             "linecolor": "white",
             "minorgridcolor": "white",
             "startlinecolor": "#2a3f5f"
            },
            "type": "carpet"
           }
          ],
          "choropleth": [
           {
            "colorbar": {
             "outlinewidth": 0,
             "ticks": ""
            },
            "type": "choropleth"
           }
          ],
          "contour": [
           {
            "colorbar": {
             "outlinewidth": 0,
             "ticks": ""
            },
            "colorscale": [
             [
              0,
              "#0d0887"
             ],
             [
              0.1111111111111111,
              "#46039f"
             ],
             [
              0.2222222222222222,
              "#7201a8"
             ],
             [
              0.3333333333333333,
              "#9c179e"
             ],
             [
              0.4444444444444444,
              "#bd3786"
             ],
             [
              0.5555555555555556,
              "#d8576b"
             ],
             [
              0.6666666666666666,
              "#ed7953"
             ],
             [
              0.7777777777777778,
              "#fb9f3a"
             ],
             [
              0.8888888888888888,
              "#fdca26"
             ],
             [
              1,
              "#f0f921"
             ]
            ],
            "type": "contour"
           }
          ],
          "contourcarpet": [
           {
            "colorbar": {
             "outlinewidth": 0,
             "ticks": ""
            },
            "type": "contourcarpet"
           }
          ],
          "heatmap": [
           {
            "colorbar": {
             "outlinewidth": 0,
             "ticks": ""
            },
            "colorscale": [
             [
              0,
              "#0d0887"
             ],
             [
              0.1111111111111111,
              "#46039f"
             ],
             [
              0.2222222222222222,
              "#7201a8"
             ],
             [
              0.3333333333333333,
              "#9c179e"
             ],
             [
              0.4444444444444444,
              "#bd3786"
             ],
             [
              0.5555555555555556,
              "#d8576b"
             ],
             [
              0.6666666666666666,
              "#ed7953"
             ],
             [
              0.7777777777777778,
              "#fb9f3a"
             ],
             [
              0.8888888888888888,
              "#fdca26"
             ],
             [
              1,
              "#f0f921"
             ]
            ],
            "type": "heatmap"
           }
          ],
          "heatmapgl": [
           {
            "colorbar": {
             "outlinewidth": 0,
             "ticks": ""
            },
            "colorscale": [
             [
              0,
              "#0d0887"
             ],
             [
              0.1111111111111111,
              "#46039f"
             ],
             [
              0.2222222222222222,
              "#7201a8"
             ],
             [
              0.3333333333333333,
              "#9c179e"
             ],
             [
              0.4444444444444444,
              "#bd3786"
             ],
             [
              0.5555555555555556,
              "#d8576b"
             ],
             [
              0.6666666666666666,
              "#ed7953"
             ],
             [
              0.7777777777777778,
              "#fb9f3a"
             ],
             [
              0.8888888888888888,
              "#fdca26"
             ],
             [
              1,
              "#f0f921"
             ]
            ],
            "type": "heatmapgl"
           }
          ],
          "histogram": [
           {
            "marker": {
             "pattern": {
              "fillmode": "overlay",
              "size": 10,
              "solidity": 0.2
             }
            },
            "type": "histogram"
           }
          ],
          "histogram2d": [
           {
            "colorbar": {
             "outlinewidth": 0,
             "ticks": ""
            },
            "colorscale": [
             [
              0,
              "#0d0887"
             ],
             [
              0.1111111111111111,
              "#46039f"
             ],
             [
              0.2222222222222222,
              "#7201a8"
             ],
             [
              0.3333333333333333,
              "#9c179e"
             ],
             [
              0.4444444444444444,
              "#bd3786"
             ],
             [
              0.5555555555555556,
              "#d8576b"
             ],
             [
              0.6666666666666666,
              "#ed7953"
             ],
             [
              0.7777777777777778,
              "#fb9f3a"
             ],
             [
              0.8888888888888888,
              "#fdca26"
             ],
             [
              1,
              "#f0f921"
             ]
            ],
            "type": "histogram2d"
           }
          ],
          "histogram2dcontour": [
           {
            "colorbar": {
             "outlinewidth": 0,
             "ticks": ""
            },
            "colorscale": [
             [
              0,
              "#0d0887"
             ],
             [
              0.1111111111111111,
              "#46039f"
             ],
             [
              0.2222222222222222,
              "#7201a8"
             ],
             [
              0.3333333333333333,
              "#9c179e"
             ],
             [
              0.4444444444444444,
              "#bd3786"
             ],
             [
              0.5555555555555556,
              "#d8576b"
             ],
             [
              0.6666666666666666,
              "#ed7953"
             ],
             [
              0.7777777777777778,
              "#fb9f3a"
             ],
             [
              0.8888888888888888,
              "#fdca26"
             ],
             [
              1,
              "#f0f921"
             ]
            ],
            "type": "histogram2dcontour"
           }
          ],
          "mesh3d": [
           {
            "colorbar": {
             "outlinewidth": 0,
             "ticks": ""
            },
            "type": "mesh3d"
           }
          ],
          "parcoords": [
           {
            "line": {
             "colorbar": {
              "outlinewidth": 0,
              "ticks": ""
             }
            },
            "type": "parcoords"
           }
          ],
          "pie": [
           {
            "automargin": true,
            "type": "pie"
           }
          ],
          "scatter": [
           {
            "fillpattern": {
             "fillmode": "overlay",
             "size": 10,
             "solidity": 0.2
            },
            "type": "scatter"
           }
          ],
          "scatter3d": [
           {
            "line": {
             "colorbar": {
              "outlinewidth": 0,
              "ticks": ""
             }
            },
            "marker": {
             "colorbar": {
              "outlinewidth": 0,
              "ticks": ""
             }
            },
            "type": "scatter3d"
           }
          ],
          "scattercarpet": [
           {
            "marker": {
             "colorbar": {
              "outlinewidth": 0,
              "ticks": ""
             }
            },
            "type": "scattercarpet"
           }
          ],
          "scattergeo": [
           {
            "marker": {
             "colorbar": {
              "outlinewidth": 0,
              "ticks": ""
             }
            },
            "type": "scattergeo"
           }
          ],
          "scattergl": [
           {
            "marker": {
             "colorbar": {
              "outlinewidth": 0,
              "ticks": ""
             }
            },
            "type": "scattergl"
           }
          ],
          "scattermapbox": [
           {
            "marker": {
             "colorbar": {
              "outlinewidth": 0,
              "ticks": ""
             }
            },
            "type": "scattermapbox"
           }
          ],
          "scatterpolar": [
           {
            "marker": {
             "colorbar": {
              "outlinewidth": 0,
              "ticks": ""
             }
            },
            "type": "scatterpolar"
           }
          ],
          "scatterpolargl": [
           {
            "marker": {
             "colorbar": {
              "outlinewidth": 0,
              "ticks": ""
             }
            },
            "type": "scatterpolargl"
           }
          ],
          "scatterternary": [
           {
            "marker": {
             "colorbar": {
              "outlinewidth": 0,
              "ticks": ""
             }
            },
            "type": "scatterternary"
           }
          ],
          "surface": [
           {
            "colorbar": {
             "outlinewidth": 0,
             "ticks": ""
            },
            "colorscale": [
             [
              0,
              "#0d0887"
             ],
             [
              0.1111111111111111,
              "#46039f"
             ],
             [
              0.2222222222222222,
              "#7201a8"
             ],
             [
              0.3333333333333333,
              "#9c179e"
             ],
             [
              0.4444444444444444,
              "#bd3786"
             ],
             [
              0.5555555555555556,
              "#d8576b"
             ],
             [
              0.6666666666666666,
              "#ed7953"
             ],
             [
              0.7777777777777778,
              "#fb9f3a"
             ],
             [
              0.8888888888888888,
              "#fdca26"
             ],
             [
              1,
              "#f0f921"
             ]
            ],
            "type": "surface"
           }
          ],
          "table": [
           {
            "cells": {
             "fill": {
              "color": "#EBF0F8"
             },
             "line": {
              "color": "white"
             }
            },
            "header": {
             "fill": {
              "color": "#C8D4E3"
             },
             "line": {
              "color": "white"
             }
            },
            "type": "table"
           }
          ]
         },
         "layout": {
          "annotationdefaults": {
           "arrowcolor": "#2a3f5f",
           "arrowhead": 0,
           "arrowwidth": 1
          },
          "autotypenumbers": "strict",
          "coloraxis": {
           "colorbar": {
            "outlinewidth": 0,
            "ticks": ""
           }
          },
          "colorscale": {
           "diverging": [
            [
             0,
             "#8e0152"
            ],
            [
             0.1,
             "#c51b7d"
            ],
            [
             0.2,
             "#de77ae"
            ],
            [
             0.3,
             "#f1b6da"
            ],
            [
             0.4,
             "#fde0ef"
            ],
            [
             0.5,
             "#f7f7f7"
            ],
            [
             0.6,
             "#e6f5d0"
            ],
            [
             0.7,
             "#b8e186"
            ],
            [
             0.8,
             "#7fbc41"
            ],
            [
             0.9,
             "#4d9221"
            ],
            [
             1,
             "#276419"
            ]
           ],
           "sequential": [
            [
             0,
             "#0d0887"
            ],
            [
             0.1111111111111111,
             "#46039f"
            ],
            [
             0.2222222222222222,
             "#7201a8"
            ],
            [
             0.3333333333333333,
             "#9c179e"
            ],
            [
             0.4444444444444444,
             "#bd3786"
            ],
            [
             0.5555555555555556,
             "#d8576b"
            ],
            [
             0.6666666666666666,
             "#ed7953"
            ],
            [
             0.7777777777777778,
             "#fb9f3a"
            ],
            [
             0.8888888888888888,
             "#fdca26"
            ],
            [
             1,
             "#f0f921"
            ]
           ],
           "sequentialminus": [
            [
             0,
             "#0d0887"
            ],
            [
             0.1111111111111111,
             "#46039f"
            ],
            [
             0.2222222222222222,
             "#7201a8"
            ],
            [
             0.3333333333333333,
             "#9c179e"
            ],
            [
             0.4444444444444444,
             "#bd3786"
            ],
            [
             0.5555555555555556,
             "#d8576b"
            ],
            [
             0.6666666666666666,
             "#ed7953"
            ],
            [
             0.7777777777777778,
             "#fb9f3a"
            ],
            [
             0.8888888888888888,
             "#fdca26"
            ],
            [
             1,
             "#f0f921"
            ]
           ]
          },
          "colorway": [
           "#636efa",
           "#EF553B",
           "#00cc96",
           "#ab63fa",
           "#FFA15A",
           "#19d3f3",
           "#FF6692",
           "#B6E880",
           "#FF97FF",
           "#FECB52"
          ],
          "font": {
           "color": "#2a3f5f"
          },
          "geo": {
           "bgcolor": "white",
           "lakecolor": "white",
           "landcolor": "#E5ECF6",
           "showlakes": true,
           "showland": true,
           "subunitcolor": "white"
          },
          "hoverlabel": {
           "align": "left"
          },
          "hovermode": "closest",
          "mapbox": {
           "style": "light"
          },
          "paper_bgcolor": "white",
          "plot_bgcolor": "#E5ECF6",
          "polar": {
           "angularaxis": {
            "gridcolor": "white",
            "linecolor": "white",
            "ticks": ""
           },
           "bgcolor": "#E5ECF6",
           "radialaxis": {
            "gridcolor": "white",
            "linecolor": "white",
            "ticks": ""
           }
          },
          "scene": {
           "xaxis": {
            "backgroundcolor": "#E5ECF6",
            "gridcolor": "white",
            "gridwidth": 2,
            "linecolor": "white",
            "showbackground": true,
            "ticks": "",
            "zerolinecolor": "white"
           },
           "yaxis": {
            "backgroundcolor": "#E5ECF6",
            "gridcolor": "white",
            "gridwidth": 2,
            "linecolor": "white",
            "showbackground": true,
            "ticks": "",
            "zerolinecolor": "white"
           },
           "zaxis": {
            "backgroundcolor": "#E5ECF6",
            "gridcolor": "white",
            "gridwidth": 2,
            "linecolor": "white",
            "showbackground": true,
            "ticks": "",
            "zerolinecolor": "white"
           }
          },
          "shapedefaults": {
           "line": {
            "color": "#2a3f5f"
           }
          },
          "ternary": {
           "aaxis": {
            "gridcolor": "white",
            "linecolor": "white",
            "ticks": ""
           },
           "baxis": {
            "gridcolor": "white",
            "linecolor": "white",
            "ticks": ""
           },
           "bgcolor": "#E5ECF6",
           "caxis": {
            "gridcolor": "white",
            "linecolor": "white",
            "ticks": ""
           }
          },
          "title": {
           "x": 0.05
          },
          "xaxis": {
           "automargin": true,
           "gridcolor": "white",
           "linecolor": "white",
           "ticks": "",
           "title": {
            "standoff": 15
           },
           "zerolinecolor": "white",
           "zerolinewidth": 2
          },
          "yaxis": {
           "automargin": true,
           "gridcolor": "white",
           "linecolor": "white",
           "ticks": "",
           "title": {
            "standoff": 15
           },
           "zerolinecolor": "white",
           "zerolinewidth": 2
          }
         }
        },
        "xaxis": {
         "anchor": "y",
         "domain": [
          0,
          1
         ],
         "title": {
          "text": "format_compression_level"
         }
        },
        "yaxis": {
         "anchor": "x",
         "domain": [
          0,
          1
         ],
         "title": {
          "text": "time to read data in seconds"
         }
        }
       }
      }
     },
     "metadata": {},
     "output_type": "display_data"
    }
   ],
   "source": [
    "fig = px.bar(df_interesting_levels, x=\"method_compression_with_level\", y=\"read_time\", text_auto=True,\n",
    "             labels={\"read_time\": \"time to read data in seconds\",\n",
    "                     \"method_compression_with_level\": \"format_compression_level\"},)\n",
    "fig.show()\n",
    "fig.write_image(\"./plots/pandas_ff_bar_read_time_feather.svg\")"
   ]
  },
  {
   "cell_type": "code",
   "execution_count": 12,
   "metadata": {},
   "outputs": [
    {
     "data": {
      "text/html": [
       "<div>\n",
       "<style scoped>\n",
       "    .dataframe tbody tr th:only-of-type {\n",
       "        vertical-align: middle;\n",
       "    }\n",
       "\n",
       "    .dataframe tbody tr th {\n",
       "        vertical-align: top;\n",
       "    }\n",
       "\n",
       "    .dataframe thead th {\n",
       "        text-align: right;\n",
       "    }\n",
       "</style>\n",
       "<table border=\"1\" class=\"dataframe\">\n",
       "  <thead>\n",
       "    <tr style=\"text-align: right;\">\n",
       "      <th></th>\n",
       "      <th>method</th>\n",
       "      <th>save_time</th>\n",
       "      <th>read_time</th>\n",
       "      <th>file_size</th>\n",
       "      <th>compression</th>\n",
       "      <th>compression_level</th>\n",
       "      <th>comp_ratio</th>\n",
       "      <th>type</th>\n",
       "      <th>method_compression_with_level</th>\n",
       "    </tr>\n",
       "  </thead>\n",
       "  <tbody>\n",
       "    <tr>\n",
       "      <th>0</th>\n",
       "      <td>parquet</td>\n",
       "      <td>2.31</td>\n",
       "      <td>1.06</td>\n",
       "      <td>276.737055</td>\n",
       "      <td>zstd</td>\n",
       "      <td>1</td>\n",
       "      <td>2.838</td>\n",
       "      <td>parquet_zstd</td>\n",
       "      <td>parquet_zstd_1</td>\n",
       "    </tr>\n",
       "    <tr>\n",
       "      <th>1</th>\n",
       "      <td>parquet</td>\n",
       "      <td>2.56</td>\n",
       "      <td>1.04</td>\n",
       "      <td>262.036419</td>\n",
       "      <td>zstd</td>\n",
       "      <td>2</td>\n",
       "      <td>2.998</td>\n",
       "      <td>parquet_zstd</td>\n",
       "      <td>parquet_zstd_2</td>\n",
       "    </tr>\n",
       "    <tr>\n",
       "      <th>2</th>\n",
       "      <td>parquet</td>\n",
       "      <td>2.83</td>\n",
       "      <td>1.03</td>\n",
       "      <td>253.571889</td>\n",
       "      <td>zstd</td>\n",
       "      <td>3</td>\n",
       "      <td>3.098</td>\n",
       "      <td>parquet_zstd</td>\n",
       "      <td>parquet_zstd_3</td>\n",
       "    </tr>\n",
       "    <tr>\n",
       "      <th>3</th>\n",
       "      <td>parquet</td>\n",
       "      <td>2.80</td>\n",
       "      <td>1.01</td>\n",
       "      <td>251.290937</td>\n",
       "      <td>zstd</td>\n",
       "      <td>4</td>\n",
       "      <td>3.126</td>\n",
       "      <td>parquet_zstd</td>\n",
       "      <td>parquet_zstd_4</td>\n",
       "    </tr>\n",
       "    <tr>\n",
       "      <th>4</th>\n",
       "      <td>parquet</td>\n",
       "      <td>4.28</td>\n",
       "      <td>1.02</td>\n",
       "      <td>245.694203</td>\n",
       "      <td>zstd</td>\n",
       "      <td>5</td>\n",
       "      <td>3.197</td>\n",
       "      <td>parquet_zstd</td>\n",
       "      <td>parquet_zstd_5</td>\n",
       "    </tr>\n",
       "    <tr>\n",
       "      <th>5</th>\n",
       "      <td>parquet</td>\n",
       "      <td>5.91</td>\n",
       "      <td>1.00</td>\n",
       "      <td>240.567246</td>\n",
       "      <td>zstd</td>\n",
       "      <td>6</td>\n",
       "      <td>3.265</td>\n",
       "      <td>parquet_zstd</td>\n",
       "      <td>parquet_zstd_6</td>\n",
       "    </tr>\n",
       "    <tr>\n",
       "      <th>6</th>\n",
       "      <td>parquet</td>\n",
       "      <td>6.74</td>\n",
       "      <td>0.99</td>\n",
       "      <td>238.347815</td>\n",
       "      <td>zstd</td>\n",
       "      <td>7</td>\n",
       "      <td>3.295</td>\n",
       "      <td>parquet_zstd</td>\n",
       "      <td>parquet_zstd_7</td>\n",
       "    </tr>\n",
       "    <tr>\n",
       "      <th>7</th>\n",
       "      <td>parquet</td>\n",
       "      <td>8.51</td>\n",
       "      <td>0.97</td>\n",
       "      <td>236.484128</td>\n",
       "      <td>zstd</td>\n",
       "      <td>8</td>\n",
       "      <td>3.321</td>\n",
       "      <td>parquet_zstd</td>\n",
       "      <td>parquet_zstd_8</td>\n",
       "    </tr>\n",
       "    <tr>\n",
       "      <th>8</th>\n",
       "      <td>parquet</td>\n",
       "      <td>8.60</td>\n",
       "      <td>0.97</td>\n",
       "      <td>236.070246</td>\n",
       "      <td>zstd</td>\n",
       "      <td>9</td>\n",
       "      <td>3.327</td>\n",
       "      <td>parquet_zstd</td>\n",
       "      <td>parquet_zstd_9</td>\n",
       "    </tr>\n",
       "    <tr>\n",
       "      <th>9</th>\n",
       "      <td>parquet</td>\n",
       "      <td>11.04</td>\n",
       "      <td>0.94</td>\n",
       "      <td>234.672159</td>\n",
       "      <td>zstd</td>\n",
       "      <td>10</td>\n",
       "      <td>3.347</td>\n",
       "      <td>parquet_zstd</td>\n",
       "      <td>parquet_zstd_10</td>\n",
       "    </tr>\n",
       "    <tr>\n",
       "      <th>10</th>\n",
       "      <td>parquet</td>\n",
       "      <td>13.96</td>\n",
       "      <td>0.94</td>\n",
       "      <td>233.919816</td>\n",
       "      <td>zstd</td>\n",
       "      <td>11</td>\n",
       "      <td>3.358</td>\n",
       "      <td>parquet_zstd</td>\n",
       "      <td>parquet_zstd_11</td>\n",
       "    </tr>\n",
       "    <tr>\n",
       "      <th>11</th>\n",
       "      <td>parquet</td>\n",
       "      <td>13.93</td>\n",
       "      <td>0.94</td>\n",
       "      <td>233.919835</td>\n",
       "      <td>zstd</td>\n",
       "      <td>12</td>\n",
       "      <td>3.358</td>\n",
       "      <td>parquet_zstd</td>\n",
       "      <td>parquet_zstd_12</td>\n",
       "    </tr>\n",
       "    <tr>\n",
       "      <th>12</th>\n",
       "      <td>parquet</td>\n",
       "      <td>34.09</td>\n",
       "      <td>0.95</td>\n",
       "      <td>232.217687</td>\n",
       "      <td>zstd</td>\n",
       "      <td>13</td>\n",
       "      <td>3.382</td>\n",
       "      <td>parquet_zstd</td>\n",
       "      <td>parquet_zstd_13</td>\n",
       "    </tr>\n",
       "    <tr>\n",
       "      <th>13</th>\n",
       "      <td>parquet</td>\n",
       "      <td>38.86</td>\n",
       "      <td>0.94</td>\n",
       "      <td>231.648346</td>\n",
       "      <td>zstd</td>\n",
       "      <td>14</td>\n",
       "      <td>3.391</td>\n",
       "      <td>parquet_zstd</td>\n",
       "      <td>parquet_zstd_14</td>\n",
       "    </tr>\n",
       "    <tr>\n",
       "      <th>14</th>\n",
       "      <td>parquet</td>\n",
       "      <td>40.65</td>\n",
       "      <td>0.96</td>\n",
       "      <td>231.571476</td>\n",
       "      <td>zstd</td>\n",
       "      <td>15</td>\n",
       "      <td>3.392</td>\n",
       "      <td>parquet_zstd</td>\n",
       "      <td>parquet_zstd_15</td>\n",
       "    </tr>\n",
       "    <tr>\n",
       "      <th>15</th>\n",
       "      <td>parquet</td>\n",
       "      <td>59.32</td>\n",
       "      <td>0.96</td>\n",
       "      <td>225.101246</td>\n",
       "      <td>zstd</td>\n",
       "      <td>16</td>\n",
       "      <td>3.489</td>\n",
       "      <td>parquet_zstd</td>\n",
       "      <td>parquet_zstd_16</td>\n",
       "    </tr>\n",
       "    <tr>\n",
       "      <th>16</th>\n",
       "      <td>parquet</td>\n",
       "      <td>68.43</td>\n",
       "      <td>0.98</td>\n",
       "      <td>224.336647</td>\n",
       "      <td>zstd</td>\n",
       "      <td>17</td>\n",
       "      <td>3.501</td>\n",
       "      <td>parquet_zstd</td>\n",
       "      <td>parquet_zstd_17</td>\n",
       "    </tr>\n",
       "    <tr>\n",
       "      <th>17</th>\n",
       "      <td>parquet</td>\n",
       "      <td>85.79</td>\n",
       "      <td>1.00</td>\n",
       "      <td>223.130116</td>\n",
       "      <td>zstd</td>\n",
       "      <td>18</td>\n",
       "      <td>3.520</td>\n",
       "      <td>parquet_zstd</td>\n",
       "      <td>parquet_zstd_18</td>\n",
       "    </tr>\n",
       "    <tr>\n",
       "      <th>18</th>\n",
       "      <td>parquet</td>\n",
       "      <td>93.07</td>\n",
       "      <td>0.99</td>\n",
       "      <td>222.960415</td>\n",
       "      <td>zstd</td>\n",
       "      <td>19</td>\n",
       "      <td>3.523</td>\n",
       "      <td>parquet_zstd</td>\n",
       "      <td>parquet_zstd_19</td>\n",
       "    </tr>\n",
       "    <tr>\n",
       "      <th>19</th>\n",
       "      <td>parquet</td>\n",
       "      <td>89.85</td>\n",
       "      <td>0.98</td>\n",
       "      <td>222.960415</td>\n",
       "      <td>zstd</td>\n",
       "      <td>20</td>\n",
       "      <td>3.523</td>\n",
       "      <td>parquet_zstd</td>\n",
       "      <td>parquet_zstd_20</td>\n",
       "    </tr>\n",
       "    <tr>\n",
       "      <th>40</th>\n",
       "      <td>feather</td>\n",
       "      <td>1.63</td>\n",
       "      <td>0.79</td>\n",
       "      <td>274.084230</td>\n",
       "      <td>zstd</td>\n",
       "      <td>1</td>\n",
       "      <td>2.866</td>\n",
       "      <td>feather_zstd</td>\n",
       "      <td>feather_zstd_1</td>\n",
       "    </tr>\n",
       "    <tr>\n",
       "      <th>41</th>\n",
       "      <td>feather</td>\n",
       "      <td>2.02</td>\n",
       "      <td>0.86</td>\n",
       "      <td>258.837694</td>\n",
       "      <td>zstd</td>\n",
       "      <td>2</td>\n",
       "      <td>3.035</td>\n",
       "      <td>feather_zstd</td>\n",
       "      <td>feather_zstd_2</td>\n",
       "    </tr>\n",
       "    <tr>\n",
       "      <th>42</th>\n",
       "      <td>feather</td>\n",
       "      <td>2.22</td>\n",
       "      <td>0.87</td>\n",
       "      <td>249.054842</td>\n",
       "      <td>zstd</td>\n",
       "      <td>3</td>\n",
       "      <td>3.154</td>\n",
       "      <td>feather_zstd</td>\n",
       "      <td>feather_zstd_3</td>\n",
       "    </tr>\n",
       "    <tr>\n",
       "      <th>43</th>\n",
       "      <td>feather</td>\n",
       "      <td>2.32</td>\n",
       "      <td>0.87</td>\n",
       "      <td>245.375673</td>\n",
       "      <td>zstd</td>\n",
       "      <td>4</td>\n",
       "      <td>3.201</td>\n",
       "      <td>feather_zstd</td>\n",
       "      <td>feather_zstd_4</td>\n",
       "    </tr>\n",
       "    <tr>\n",
       "      <th>44</th>\n",
       "      <td>feather</td>\n",
       "      <td>3.86</td>\n",
       "      <td>0.87</td>\n",
       "      <td>239.800180</td>\n",
       "      <td>zstd</td>\n",
       "      <td>5</td>\n",
       "      <td>3.275</td>\n",
       "      <td>feather_zstd</td>\n",
       "      <td>feather_zstd_5</td>\n",
       "    </tr>\n",
       "    <tr>\n",
       "      <th>45</th>\n",
       "      <td>feather</td>\n",
       "      <td>5.46</td>\n",
       "      <td>0.84</td>\n",
       "      <td>234.572031</td>\n",
       "      <td>zstd</td>\n",
       "      <td>6</td>\n",
       "      <td>3.348</td>\n",
       "      <td>feather_zstd</td>\n",
       "      <td>feather_zstd_6</td>\n",
       "    </tr>\n",
       "    <tr>\n",
       "      <th>46</th>\n",
       "      <td>feather</td>\n",
       "      <td>6.48</td>\n",
       "      <td>0.82</td>\n",
       "      <td>230.769487</td>\n",
       "      <td>zstd</td>\n",
       "      <td>7</td>\n",
       "      <td>3.404</td>\n",
       "      <td>feather_zstd</td>\n",
       "      <td>feather_zstd_7</td>\n",
       "    </tr>\n",
       "    <tr>\n",
       "      <th>47</th>\n",
       "      <td>feather</td>\n",
       "      <td>8.30</td>\n",
       "      <td>0.80</td>\n",
       "      <td>228.068941</td>\n",
       "      <td>zstd</td>\n",
       "      <td>8</td>\n",
       "      <td>3.444</td>\n",
       "      <td>feather_zstd</td>\n",
       "      <td>feather_zstd_8</td>\n",
       "    </tr>\n",
       "    <tr>\n",
       "      <th>48</th>\n",
       "      <td>feather</td>\n",
       "      <td>8.39</td>\n",
       "      <td>0.81</td>\n",
       "      <td>224.303225</td>\n",
       "      <td>zstd</td>\n",
       "      <td>9</td>\n",
       "      <td>3.502</td>\n",
       "      <td>feather_zstd</td>\n",
       "      <td>feather_zstd_9</td>\n",
       "    </tr>\n",
       "    <tr>\n",
       "      <th>49</th>\n",
       "      <td>feather</td>\n",
       "      <td>11.37</td>\n",
       "      <td>0.79</td>\n",
       "      <td>221.179506</td>\n",
       "      <td>zstd</td>\n",
       "      <td>10</td>\n",
       "      <td>3.551</td>\n",
       "      <td>feather_zstd</td>\n",
       "      <td>feather_zstd_10</td>\n",
       "    </tr>\n",
       "    <tr>\n",
       "      <th>50</th>\n",
       "      <td>feather</td>\n",
       "      <td>16.07</td>\n",
       "      <td>0.79</td>\n",
       "      <td>219.373117</td>\n",
       "      <td>zstd</td>\n",
       "      <td>11</td>\n",
       "      <td>3.580</td>\n",
       "      <td>feather_zstd</td>\n",
       "      <td>feather_zstd_11</td>\n",
       "    </tr>\n",
       "    <tr>\n",
       "      <th>51</th>\n",
       "      <td>feather</td>\n",
       "      <td>17.58</td>\n",
       "      <td>0.78</td>\n",
       "      <td>218.901217</td>\n",
       "      <td>zstd</td>\n",
       "      <td>12</td>\n",
       "      <td>3.588</td>\n",
       "      <td>feather_zstd</td>\n",
       "      <td>feather_zstd_12</td>\n",
       "    </tr>\n",
       "    <tr>\n",
       "      <th>52</th>\n",
       "      <td>feather</td>\n",
       "      <td>48.42</td>\n",
       "      <td>0.78</td>\n",
       "      <td>216.753267</td>\n",
       "      <td>zstd</td>\n",
       "      <td>13</td>\n",
       "      <td>3.624</td>\n",
       "      <td>feather_zstd</td>\n",
       "      <td>feather_zstd_13</td>\n",
       "    </tr>\n",
       "    <tr>\n",
       "      <th>53</th>\n",
       "      <td>feather</td>\n",
       "      <td>61.80</td>\n",
       "      <td>0.77</td>\n",
       "      <td>213.890657</td>\n",
       "      <td>zstd</td>\n",
       "      <td>14</td>\n",
       "      <td>3.672</td>\n",
       "      <td>feather_zstd</td>\n",
       "      <td>feather_zstd_14</td>\n",
       "    </tr>\n",
       "    <tr>\n",
       "      <th>54</th>\n",
       "      <td>feather</td>\n",
       "      <td>101.14</td>\n",
       "      <td>0.76</td>\n",
       "      <td>211.619631</td>\n",
       "      <td>zstd</td>\n",
       "      <td>15</td>\n",
       "      <td>3.712</td>\n",
       "      <td>feather_zstd</td>\n",
       "      <td>feather_zstd_15</td>\n",
       "    </tr>\n",
       "    <tr>\n",
       "      <th>55</th>\n",
       "      <td>feather</td>\n",
       "      <td>87.12</td>\n",
       "      <td>0.77</td>\n",
       "      <td>207.891001</td>\n",
       "      <td>zstd</td>\n",
       "      <td>16</td>\n",
       "      <td>3.778</td>\n",
       "      <td>feather_zstd</td>\n",
       "      <td>feather_zstd_16</td>\n",
       "    </tr>\n",
       "    <tr>\n",
       "      <th>56</th>\n",
       "      <td>feather</td>\n",
       "      <td>134.68</td>\n",
       "      <td>0.79</td>\n",
       "      <td>202.579538</td>\n",
       "      <td>zstd</td>\n",
       "      <td>17</td>\n",
       "      <td>3.877</td>\n",
       "      <td>feather_zstd</td>\n",
       "      <td>feather_zstd_17</td>\n",
       "    </tr>\n",
       "    <tr>\n",
       "      <th>57</th>\n",
       "      <td>feather</td>\n",
       "      <td>155.85</td>\n",
       "      <td>0.80</td>\n",
       "      <td>200.371073</td>\n",
       "      <td>zstd</td>\n",
       "      <td>18</td>\n",
       "      <td>3.920</td>\n",
       "      <td>feather_zstd</td>\n",
       "      <td>feather_zstd_18</td>\n",
       "    </tr>\n",
       "    <tr>\n",
       "      <th>58</th>\n",
       "      <td>feather</td>\n",
       "      <td>191.89</td>\n",
       "      <td>0.77</td>\n",
       "      <td>199.140635</td>\n",
       "      <td>zstd</td>\n",
       "      <td>19</td>\n",
       "      <td>3.944</td>\n",
       "      <td>feather_zstd</td>\n",
       "      <td>feather_zstd_19</td>\n",
       "    </tr>\n",
       "    <tr>\n",
       "      <th>59</th>\n",
       "      <td>feather</td>\n",
       "      <td>232.07</td>\n",
       "      <td>0.76</td>\n",
       "      <td>190.442858</td>\n",
       "      <td>zstd</td>\n",
       "      <td>20</td>\n",
       "      <td>4.124</td>\n",
       "      <td>feather_zstd</td>\n",
       "      <td>feather_zstd_20</td>\n",
       "    </tr>\n",
       "  </tbody>\n",
       "</table>\n",
       "</div>"
      ],
      "text/plain": [
       "     method  save_time  read_time   file_size compression  compression_level  \\\n",
       "0   parquet       2.31       1.06  276.737055        zstd                  1   \n",
       "1   parquet       2.56       1.04  262.036419        zstd                  2   \n",
       "2   parquet       2.83       1.03  253.571889        zstd                  3   \n",
       "3   parquet       2.80       1.01  251.290937        zstd                  4   \n",
       "4   parquet       4.28       1.02  245.694203        zstd                  5   \n",
       "5   parquet       5.91       1.00  240.567246        zstd                  6   \n",
       "6   parquet       6.74       0.99  238.347815        zstd                  7   \n",
       "7   parquet       8.51       0.97  236.484128        zstd                  8   \n",
       "8   parquet       8.60       0.97  236.070246        zstd                  9   \n",
       "9   parquet      11.04       0.94  234.672159        zstd                 10   \n",
       "10  parquet      13.96       0.94  233.919816        zstd                 11   \n",
       "11  parquet      13.93       0.94  233.919835        zstd                 12   \n",
       "12  parquet      34.09       0.95  232.217687        zstd                 13   \n",
       "13  parquet      38.86       0.94  231.648346        zstd                 14   \n",
       "14  parquet      40.65       0.96  231.571476        zstd                 15   \n",
       "15  parquet      59.32       0.96  225.101246        zstd                 16   \n",
       "16  parquet      68.43       0.98  224.336647        zstd                 17   \n",
       "17  parquet      85.79       1.00  223.130116        zstd                 18   \n",
       "18  parquet      93.07       0.99  222.960415        zstd                 19   \n",
       "19  parquet      89.85       0.98  222.960415        zstd                 20   \n",
       "40  feather       1.63       0.79  274.084230        zstd                  1   \n",
       "41  feather       2.02       0.86  258.837694        zstd                  2   \n",
       "42  feather       2.22       0.87  249.054842        zstd                  3   \n",
       "43  feather       2.32       0.87  245.375673        zstd                  4   \n",
       "44  feather       3.86       0.87  239.800180        zstd                  5   \n",
       "45  feather       5.46       0.84  234.572031        zstd                  6   \n",
       "46  feather       6.48       0.82  230.769487        zstd                  7   \n",
       "47  feather       8.30       0.80  228.068941        zstd                  8   \n",
       "48  feather       8.39       0.81  224.303225        zstd                  9   \n",
       "49  feather      11.37       0.79  221.179506        zstd                 10   \n",
       "50  feather      16.07       0.79  219.373117        zstd                 11   \n",
       "51  feather      17.58       0.78  218.901217        zstd                 12   \n",
       "52  feather      48.42       0.78  216.753267        zstd                 13   \n",
       "53  feather      61.80       0.77  213.890657        zstd                 14   \n",
       "54  feather     101.14       0.76  211.619631        zstd                 15   \n",
       "55  feather      87.12       0.77  207.891001        zstd                 16   \n",
       "56  feather     134.68       0.79  202.579538        zstd                 17   \n",
       "57  feather     155.85       0.80  200.371073        zstd                 18   \n",
       "58  feather     191.89       0.77  199.140635        zstd                 19   \n",
       "59  feather     232.07       0.76  190.442858        zstd                 20   \n",
       "\n",
       "    comp_ratio          type method_compression_with_level  \n",
       "0        2.838  parquet_zstd                parquet_zstd_1  \n",
       "1        2.998  parquet_zstd                parquet_zstd_2  \n",
       "2        3.098  parquet_zstd                parquet_zstd_3  \n",
       "3        3.126  parquet_zstd                parquet_zstd_4  \n",
       "4        3.197  parquet_zstd                parquet_zstd_5  \n",
       "5        3.265  parquet_zstd                parquet_zstd_6  \n",
       "6        3.295  parquet_zstd                parquet_zstd_7  \n",
       "7        3.321  parquet_zstd                parquet_zstd_8  \n",
       "8        3.327  parquet_zstd                parquet_zstd_9  \n",
       "9        3.347  parquet_zstd               parquet_zstd_10  \n",
       "10       3.358  parquet_zstd               parquet_zstd_11  \n",
       "11       3.358  parquet_zstd               parquet_zstd_12  \n",
       "12       3.382  parquet_zstd               parquet_zstd_13  \n",
       "13       3.391  parquet_zstd               parquet_zstd_14  \n",
       "14       3.392  parquet_zstd               parquet_zstd_15  \n",
       "15       3.489  parquet_zstd               parquet_zstd_16  \n",
       "16       3.501  parquet_zstd               parquet_zstd_17  \n",
       "17       3.520  parquet_zstd               parquet_zstd_18  \n",
       "18       3.523  parquet_zstd               parquet_zstd_19  \n",
       "19       3.523  parquet_zstd               parquet_zstd_20  \n",
       "40       2.866  feather_zstd                feather_zstd_1  \n",
       "41       3.035  feather_zstd                feather_zstd_2  \n",
       "42       3.154  feather_zstd                feather_zstd_3  \n",
       "43       3.201  feather_zstd                feather_zstd_4  \n",
       "44       3.275  feather_zstd                feather_zstd_5  \n",
       "45       3.348  feather_zstd                feather_zstd_6  \n",
       "46       3.404  feather_zstd                feather_zstd_7  \n",
       "47       3.444  feather_zstd                feather_zstd_8  \n",
       "48       3.502  feather_zstd                feather_zstd_9  \n",
       "49       3.551  feather_zstd               feather_zstd_10  \n",
       "50       3.580  feather_zstd               feather_zstd_11  \n",
       "51       3.588  feather_zstd               feather_zstd_12  \n",
       "52       3.624  feather_zstd               feather_zstd_13  \n",
       "53       3.672  feather_zstd               feather_zstd_14  \n",
       "54       3.712  feather_zstd               feather_zstd_15  \n",
       "55       3.778  feather_zstd               feather_zstd_16  \n",
       "56       3.877  feather_zstd               feather_zstd_17  \n",
       "57       3.920  feather_zstd               feather_zstd_18  \n",
       "58       3.944  feather_zstd               feather_zstd_19  \n",
       "59       4.124  feather_zstd               feather_zstd_20  "
      ]
     },
     "execution_count": 12,
     "metadata": {},
     "output_type": "execute_result"
    }
   ],
   "source": [
    "feather_df = df[(df[\"method\"].isin([\"feather\", \"parquet\"])) & (df[\"compression_level\"] > 0) &\n",
    "                (df[\"compression\"] == \"zstd\")].copy()\n",
    "#feather_df = df[df[\"method\"].isin([\"feather\", \"parquet\"])].copy()\n",
    "\n",
    "feather_df"
   ]
  },
  {
   "cell_type": "code",
   "execution_count": 13,
   "metadata": {},
   "outputs": [
    {
     "data": {
      "application/vnd.plotly.v1+json": {
       "config": {
        "plotlyServerURL": "https://plot.ly"
       },
       "data": [
        {
         "customdata": [
          [
           2.31,
           1.06
          ],
          [
           2.56,
           1.04
          ],
          [
           2.83,
           1.03
          ],
          [
           2.8,
           1.01
          ],
          [
           4.28,
           1.02
          ],
          [
           5.91,
           1
          ],
          [
           6.74,
           0.99
          ],
          [
           8.51,
           0.97
          ],
          [
           8.6,
           0.97
          ],
          [
           11.04,
           0.94
          ],
          [
           13.96,
           0.94
          ],
          [
           13.93,
           0.94
          ],
          [
           34.09,
           0.95
          ],
          [
           38.86,
           0.94
          ],
          [
           40.65,
           0.96
          ],
          [
           59.32,
           0.96
          ],
          [
           68.43,
           0.98
          ],
          [
           85.79,
           1
          ],
          [
           93.07,
           0.99
          ],
          [
           89.85,
           0.98
          ]
         ],
         "hovertemplate": "type=parquet_zstd<br>level of compression=%{x}<br>compression ratio=%{y}<br>save_time=%{customdata[0]}<br>read_time=%{customdata[1]}<extra></extra>",
         "legendgroup": "parquet_zstd",
         "marker": {
          "color": "#636efa",
          "size": 8,
          "symbol": "circle"
         },
         "mode": "markers",
         "name": "parquet_zstd",
         "orientation": "v",
         "showlegend": true,
         "type": "scatter",
         "x": [
          1,
          2,
          3,
          4,
          5,
          6,
          7,
          8,
          9,
          10,
          11,
          12,
          13,
          14,
          15,
          16,
          17,
          18,
          19,
          20
         ],
         "xaxis": "x",
         "y": [
          2.838,
          2.998,
          3.098,
          3.126,
          3.197,
          3.265,
          3.295,
          3.321,
          3.327,
          3.347,
          3.358,
          3.358,
          3.382,
          3.391,
          3.392,
          3.489,
          3.501,
          3.52,
          3.523,
          3.523
         ],
         "yaxis": "y"
        },
        {
         "customdata": [
          [
           1.63,
           0.79
          ],
          [
           2.02,
           0.86
          ],
          [
           2.22,
           0.87
          ],
          [
           2.32,
           0.87
          ],
          [
           3.86,
           0.87
          ],
          [
           5.46,
           0.84
          ],
          [
           6.48,
           0.82
          ],
          [
           8.3,
           0.8
          ],
          [
           8.39,
           0.81
          ],
          [
           11.37,
           0.79
          ],
          [
           16.07,
           0.79
          ],
          [
           17.58,
           0.78
          ],
          [
           48.42,
           0.78
          ],
          [
           61.8,
           0.77
          ],
          [
           101.14,
           0.76
          ],
          [
           87.12,
           0.77
          ],
          [
           134.68,
           0.79
          ],
          [
           155.85,
           0.8
          ],
          [
           191.89,
           0.77
          ],
          [
           232.07,
           0.76
          ]
         ],
         "hovertemplate": "type=feather_zstd<br>level of compression=%{x}<br>compression ratio=%{y}<br>save_time=%{customdata[0]}<br>read_time=%{customdata[1]}<extra></extra>",
         "legendgroup": "feather_zstd",
         "marker": {
          "color": "#EF553B",
          "size": 8,
          "symbol": "diamond"
         },
         "mode": "markers",
         "name": "feather_zstd",
         "orientation": "v",
         "showlegend": true,
         "type": "scatter",
         "x": [
          1,
          2,
          3,
          4,
          5,
          6,
          7,
          8,
          9,
          10,
          11,
          12,
          13,
          14,
          15,
          16,
          17,
          18,
          19,
          20
         ],
         "xaxis": "x",
         "y": [
          2.866,
          3.035,
          3.154,
          3.201,
          3.275,
          3.348,
          3.404,
          3.444,
          3.502,
          3.551,
          3.58,
          3.588,
          3.624,
          3.672,
          3.712,
          3.778,
          3.877,
          3.92,
          3.944,
          4.124
         ],
         "yaxis": "y"
        }
       ],
       "layout": {
        "legend": {
         "title": {
          "text": "type"
         },
         "tracegroupgap": 0
        },
        "margin": {
         "t": 60
        },
        "template": {
         "data": {
          "bar": [
           {
            "error_x": {
             "color": "#2a3f5f"
            },
            "error_y": {
             "color": "#2a3f5f"
            },
            "marker": {
             "line": {
              "color": "#E5ECF6",
              "width": 0.5
             },
             "pattern": {
              "fillmode": "overlay",
              "size": 10,
              "solidity": 0.2
             }
            },
            "type": "bar"
           }
          ],
          "barpolar": [
           {
            "marker": {
             "line": {
              "color": "#E5ECF6",
              "width": 0.5
             },
             "pattern": {
              "fillmode": "overlay",
              "size": 10,
              "solidity": 0.2
             }
            },
            "type": "barpolar"
           }
          ],
          "carpet": [
           {
            "aaxis": {
             "endlinecolor": "#2a3f5f",
             "gridcolor": "white",
             "linecolor": "white",
             "minorgridcolor": "white",
             "startlinecolor": "#2a3f5f"
            },
            "baxis": {
             "endlinecolor": "#2a3f5f",
             "gridcolor": "white",
             "linecolor": "white",
             "minorgridcolor": "white",
             "startlinecolor": "#2a3f5f"
            },
            "type": "carpet"
           }
          ],
          "choropleth": [
           {
            "colorbar": {
             "outlinewidth": 0,
             "ticks": ""
            },
            "type": "choropleth"
           }
          ],
          "contour": [
           {
            "colorbar": {
             "outlinewidth": 0,
             "ticks": ""
            },
            "colorscale": [
             [
              0,
              "#0d0887"
             ],
             [
              0.1111111111111111,
              "#46039f"
             ],
             [
              0.2222222222222222,
              "#7201a8"
             ],
             [
              0.3333333333333333,
              "#9c179e"
             ],
             [
              0.4444444444444444,
              "#bd3786"
             ],
             [
              0.5555555555555556,
              "#d8576b"
             ],
             [
              0.6666666666666666,
              "#ed7953"
             ],
             [
              0.7777777777777778,
              "#fb9f3a"
             ],
             [
              0.8888888888888888,
              "#fdca26"
             ],
             [
              1,
              "#f0f921"
             ]
            ],
            "type": "contour"
           }
          ],
          "contourcarpet": [
           {
            "colorbar": {
             "outlinewidth": 0,
             "ticks": ""
            },
            "type": "contourcarpet"
           }
          ],
          "heatmap": [
           {
            "colorbar": {
             "outlinewidth": 0,
             "ticks": ""
            },
            "colorscale": [
             [
              0,
              "#0d0887"
             ],
             [
              0.1111111111111111,
              "#46039f"
             ],
             [
              0.2222222222222222,
              "#7201a8"
             ],
             [
              0.3333333333333333,
              "#9c179e"
             ],
             [
              0.4444444444444444,
              "#bd3786"
             ],
             [
              0.5555555555555556,
              "#d8576b"
             ],
             [
              0.6666666666666666,
              "#ed7953"
             ],
             [
              0.7777777777777778,
              "#fb9f3a"
             ],
             [
              0.8888888888888888,
              "#fdca26"
             ],
             [
              1,
              "#f0f921"
             ]
            ],
            "type": "heatmap"
           }
          ],
          "heatmapgl": [
           {
            "colorbar": {
             "outlinewidth": 0,
             "ticks": ""
            },
            "colorscale": [
             [
              0,
              "#0d0887"
             ],
             [
              0.1111111111111111,
              "#46039f"
             ],
             [
              0.2222222222222222,
              "#7201a8"
             ],
             [
              0.3333333333333333,
              "#9c179e"
             ],
             [
              0.4444444444444444,
              "#bd3786"
             ],
             [
              0.5555555555555556,
              "#d8576b"
             ],
             [
              0.6666666666666666,
              "#ed7953"
             ],
             [
              0.7777777777777778,
              "#fb9f3a"
             ],
             [
              0.8888888888888888,
              "#fdca26"
             ],
             [
              1,
              "#f0f921"
             ]
            ],
            "type": "heatmapgl"
           }
          ],
          "histogram": [
           {
            "marker": {
             "pattern": {
              "fillmode": "overlay",
              "size": 10,
              "solidity": 0.2
             }
            },
            "type": "histogram"
           }
          ],
          "histogram2d": [
           {
            "colorbar": {
             "outlinewidth": 0,
             "ticks": ""
            },
            "colorscale": [
             [
              0,
              "#0d0887"
             ],
             [
              0.1111111111111111,
              "#46039f"
             ],
             [
              0.2222222222222222,
              "#7201a8"
             ],
             [
              0.3333333333333333,
              "#9c179e"
             ],
             [
              0.4444444444444444,
              "#bd3786"
             ],
             [
              0.5555555555555556,
              "#d8576b"
             ],
             [
              0.6666666666666666,
              "#ed7953"
             ],
             [
              0.7777777777777778,
              "#fb9f3a"
             ],
             [
              0.8888888888888888,
              "#fdca26"
             ],
             [
              1,
              "#f0f921"
             ]
            ],
            "type": "histogram2d"
           }
          ],
          "histogram2dcontour": [
           {
            "colorbar": {
             "outlinewidth": 0,
             "ticks": ""
            },
            "colorscale": [
             [
              0,
              "#0d0887"
             ],
             [
              0.1111111111111111,
              "#46039f"
             ],
             [
              0.2222222222222222,
              "#7201a8"
             ],
             [
              0.3333333333333333,
              "#9c179e"
             ],
             [
              0.4444444444444444,
              "#bd3786"
             ],
             [
              0.5555555555555556,
              "#d8576b"
             ],
             [
              0.6666666666666666,
              "#ed7953"
             ],
             [
              0.7777777777777778,
              "#fb9f3a"
             ],
             [
              0.8888888888888888,
              "#fdca26"
             ],
             [
              1,
              "#f0f921"
             ]
            ],
            "type": "histogram2dcontour"
           }
          ],
          "mesh3d": [
           {
            "colorbar": {
             "outlinewidth": 0,
             "ticks": ""
            },
            "type": "mesh3d"
           }
          ],
          "parcoords": [
           {
            "line": {
             "colorbar": {
              "outlinewidth": 0,
              "ticks": ""
             }
            },
            "type": "parcoords"
           }
          ],
          "pie": [
           {
            "automargin": true,
            "type": "pie"
           }
          ],
          "scatter": [
           {
            "fillpattern": {
             "fillmode": "overlay",
             "size": 10,
             "solidity": 0.2
            },
            "type": "scatter"
           }
          ],
          "scatter3d": [
           {
            "line": {
             "colorbar": {
              "outlinewidth": 0,
              "ticks": ""
             }
            },
            "marker": {
             "colorbar": {
              "outlinewidth": 0,
              "ticks": ""
             }
            },
            "type": "scatter3d"
           }
          ],
          "scattercarpet": [
           {
            "marker": {
             "colorbar": {
              "outlinewidth": 0,
              "ticks": ""
             }
            },
            "type": "scattercarpet"
           }
          ],
          "scattergeo": [
           {
            "marker": {
             "colorbar": {
              "outlinewidth": 0,
              "ticks": ""
             }
            },
            "type": "scattergeo"
           }
          ],
          "scattergl": [
           {
            "marker": {
             "colorbar": {
              "outlinewidth": 0,
              "ticks": ""
             }
            },
            "type": "scattergl"
           }
          ],
          "scattermapbox": [
           {
            "marker": {
             "colorbar": {
              "outlinewidth": 0,
              "ticks": ""
             }
            },
            "type": "scattermapbox"
           }
          ],
          "scatterpolar": [
           {
            "marker": {
             "colorbar": {
              "outlinewidth": 0,
              "ticks": ""
             }
            },
            "type": "scatterpolar"
           }
          ],
          "scatterpolargl": [
           {
            "marker": {
             "colorbar": {
              "outlinewidth": 0,
              "ticks": ""
             }
            },
            "type": "scatterpolargl"
           }
          ],
          "scatterternary": [
           {
            "marker": {
             "colorbar": {
              "outlinewidth": 0,
              "ticks": ""
             }
            },
            "type": "scatterternary"
           }
          ],
          "surface": [
           {
            "colorbar": {
             "outlinewidth": 0,
             "ticks": ""
            },
            "colorscale": [
             [
              0,
              "#0d0887"
             ],
             [
              0.1111111111111111,
              "#46039f"
             ],
             [
              0.2222222222222222,
              "#7201a8"
             ],
             [
              0.3333333333333333,
              "#9c179e"
             ],
             [
              0.4444444444444444,
              "#bd3786"
             ],
             [
              0.5555555555555556,
              "#d8576b"
             ],
             [
              0.6666666666666666,
              "#ed7953"
             ],
             [
              0.7777777777777778,
              "#fb9f3a"
             ],
             [
              0.8888888888888888,
              "#fdca26"
             ],
             [
              1,
              "#f0f921"
             ]
            ],
            "type": "surface"
           }
          ],
          "table": [
           {
            "cells": {
             "fill": {
              "color": "#EBF0F8"
             },
             "line": {
              "color": "white"
             }
            },
            "header": {
             "fill": {
              "color": "#C8D4E3"
             },
             "line": {
              "color": "white"
             }
            },
            "type": "table"
           }
          ]
         },
         "layout": {
          "annotationdefaults": {
           "arrowcolor": "#2a3f5f",
           "arrowhead": 0,
           "arrowwidth": 1
          },
          "autotypenumbers": "strict",
          "coloraxis": {
           "colorbar": {
            "outlinewidth": 0,
            "ticks": ""
           }
          },
          "colorscale": {
           "diverging": [
            [
             0,
             "#8e0152"
            ],
            [
             0.1,
             "#c51b7d"
            ],
            [
             0.2,
             "#de77ae"
            ],
            [
             0.3,
             "#f1b6da"
            ],
            [
             0.4,
             "#fde0ef"
            ],
            [
             0.5,
             "#f7f7f7"
            ],
            [
             0.6,
             "#e6f5d0"
            ],
            [
             0.7,
             "#b8e186"
            ],
            [
             0.8,
             "#7fbc41"
            ],
            [
             0.9,
             "#4d9221"
            ],
            [
             1,
             "#276419"
            ]
           ],
           "sequential": [
            [
             0,
             "#0d0887"
            ],
            [
             0.1111111111111111,
             "#46039f"
            ],
            [
             0.2222222222222222,
             "#7201a8"
            ],
            [
             0.3333333333333333,
             "#9c179e"
            ],
            [
             0.4444444444444444,
             "#bd3786"
            ],
            [
             0.5555555555555556,
             "#d8576b"
            ],
            [
             0.6666666666666666,
             "#ed7953"
            ],
            [
             0.7777777777777778,
             "#fb9f3a"
            ],
            [
             0.8888888888888888,
             "#fdca26"
            ],
            [
             1,
             "#f0f921"
            ]
           ],
           "sequentialminus": [
            [
             0,
             "#0d0887"
            ],
            [
             0.1111111111111111,
             "#46039f"
            ],
            [
             0.2222222222222222,
             "#7201a8"
            ],
            [
             0.3333333333333333,
             "#9c179e"
            ],
            [
             0.4444444444444444,
             "#bd3786"
            ],
            [
             0.5555555555555556,
             "#d8576b"
            ],
            [
             0.6666666666666666,
             "#ed7953"
            ],
            [
             0.7777777777777778,
             "#fb9f3a"
            ],
            [
             0.8888888888888888,
             "#fdca26"
            ],
            [
             1,
             "#f0f921"
            ]
           ]
          },
          "colorway": [
           "#636efa",
           "#EF553B",
           "#00cc96",
           "#ab63fa",
           "#FFA15A",
           "#19d3f3",
           "#FF6692",
           "#B6E880",
           "#FF97FF",
           "#FECB52"
          ],
          "font": {
           "color": "#2a3f5f"
          },
          "geo": {
           "bgcolor": "white",
           "lakecolor": "white",
           "landcolor": "#E5ECF6",
           "showlakes": true,
           "showland": true,
           "subunitcolor": "white"
          },
          "hoverlabel": {
           "align": "left"
          },
          "hovermode": "closest",
          "mapbox": {
           "style": "light"
          },
          "paper_bgcolor": "white",
          "plot_bgcolor": "#E5ECF6",
          "polar": {
           "angularaxis": {
            "gridcolor": "white",
            "linecolor": "white",
            "ticks": ""
           },
           "bgcolor": "#E5ECF6",
           "radialaxis": {
            "gridcolor": "white",
            "linecolor": "white",
            "ticks": ""
           }
          },
          "scene": {
           "xaxis": {
            "backgroundcolor": "#E5ECF6",
            "gridcolor": "white",
            "gridwidth": 2,
            "linecolor": "white",
            "showbackground": true,
            "ticks": "",
            "zerolinecolor": "white"
           },
           "yaxis": {
            "backgroundcolor": "#E5ECF6",
            "gridcolor": "white",
            "gridwidth": 2,
            "linecolor": "white",
            "showbackground": true,
            "ticks": "",
            "zerolinecolor": "white"
           },
           "zaxis": {
            "backgroundcolor": "#E5ECF6",
            "gridcolor": "white",
            "gridwidth": 2,
            "linecolor": "white",
            "showbackground": true,
            "ticks": "",
            "zerolinecolor": "white"
           }
          },
          "shapedefaults": {
           "line": {
            "color": "#2a3f5f"
           }
          },
          "ternary": {
           "aaxis": {
            "gridcolor": "white",
            "linecolor": "white",
            "ticks": ""
           },
           "baxis": {
            "gridcolor": "white",
            "linecolor": "white",
            "ticks": ""
           },
           "bgcolor": "#E5ECF6",
           "caxis": {
            "gridcolor": "white",
            "linecolor": "white",
            "ticks": ""
           }
          },
          "title": {
           "x": 0.05
          },
          "xaxis": {
           "automargin": true,
           "gridcolor": "white",
           "linecolor": "white",
           "ticks": "",
           "title": {
            "standoff": 15
           },
           "zerolinecolor": "white",
           "zerolinewidth": 2
          },
          "yaxis": {
           "automargin": true,
           "gridcolor": "white",
           "linecolor": "white",
           "ticks": "",
           "title": {
            "standoff": 15
           },
           "zerolinecolor": "white",
           "zerolinewidth": 2
          }
         }
        },
        "xaxis": {
         "anchor": "y",
         "domain": [
          0,
          1
         ],
         "title": {
          "text": "level of compression"
         }
        },
        "yaxis": {
         "anchor": "x",
         "domain": [
          0,
          1
         ],
         "title": {
          "text": "compression ratio"
         }
        }
       }
      }
     },
     "metadata": {},
     "output_type": "display_data"
    }
   ],
   "source": [
    "fig = px.scatter(feather_df, x=\"compression_level\", y=\"comp_ratio\", color='type',\n",
    "                 hover_data=['save_time', \"read_time\"],\n",
    "                 symbol=\"type\",\n",
    "                 labels={\"comp_ratio\": \"compression ratio\",\n",
    "                         \"compression_level\": \"level of compression\"})\n",
    "fig.update_traces(marker_size=8)\n",
    "fig.show()\n",
    "fig.write_image(\"./plots/pandas_ff_scatter_comp_ratio_feather.svg\")"
   ]
  },
  {
   "cell_type": "code",
   "execution_count": 14,
   "metadata": {},
   "outputs": [
    {
     "data": {
      "application/vnd.plotly.v1+json": {
       "config": {
        "plotlyServerURL": "https://plot.ly"
       },
       "data": [
        {
         "customdata": [
          [
           2.838,
           1.06
          ],
          [
           2.998,
           1.04
          ],
          [
           3.098,
           1.03
          ],
          [
           3.126,
           1.01
          ],
          [
           3.197,
           1.02
          ],
          [
           3.265,
           1
          ],
          [
           3.295,
           0.99
          ],
          [
           3.321,
           0.97
          ],
          [
           3.327,
           0.97
          ],
          [
           3.347,
           0.94
          ],
          [
           3.358,
           0.94
          ],
          [
           3.358,
           0.94
          ],
          [
           3.382,
           0.95
          ],
          [
           3.391,
           0.94
          ],
          [
           3.392,
           0.96
          ],
          [
           3.489,
           0.96
          ],
          [
           3.501,
           0.98
          ],
          [
           3.52,
           1
          ],
          [
           3.523,
           0.99
          ],
          [
           3.523,
           0.98
          ]
         ],
         "hovertemplate": "type=parquet_zstd<br>level of compression=%{x}<br>time to save data in seconds=%{y}<br>comp_ratio=%{customdata[0]}<br>read_time=%{customdata[1]}<extra></extra>",
         "legendgroup": "parquet_zstd",
         "marker": {
          "color": "#636efa",
          "size": 8,
          "symbol": "circle"
         },
         "mode": "markers",
         "name": "parquet_zstd",
         "orientation": "v",
         "showlegend": true,
         "type": "scatter",
         "x": [
          1,
          2,
          3,
          4,
          5,
          6,
          7,
          8,
          9,
          10,
          11,
          12,
          13,
          14,
          15,
          16,
          17,
          18,
          19,
          20
         ],
         "xaxis": "x",
         "y": [
          2.31,
          2.56,
          2.83,
          2.8,
          4.28,
          5.91,
          6.74,
          8.51,
          8.6,
          11.04,
          13.96,
          13.93,
          34.09,
          38.86,
          40.65,
          59.32,
          68.43,
          85.79,
          93.07,
          89.85
         ],
         "yaxis": "y"
        },
        {
         "customdata": [
          [
           2.866,
           0.79
          ],
          [
           3.035,
           0.86
          ],
          [
           3.154,
           0.87
          ],
          [
           3.201,
           0.87
          ],
          [
           3.275,
           0.87
          ],
          [
           3.348,
           0.84
          ],
          [
           3.404,
           0.82
          ],
          [
           3.444,
           0.8
          ],
          [
           3.502,
           0.81
          ],
          [
           3.551,
           0.79
          ],
          [
           3.58,
           0.79
          ],
          [
           3.588,
           0.78
          ],
          [
           3.624,
           0.78
          ],
          [
           3.672,
           0.77
          ],
          [
           3.712,
           0.76
          ],
          [
           3.778,
           0.77
          ],
          [
           3.877,
           0.79
          ],
          [
           3.92,
           0.8
          ],
          [
           3.944,
           0.77
          ],
          [
           4.124,
           0.76
          ]
         ],
         "hovertemplate": "type=feather_zstd<br>level of compression=%{x}<br>time to save data in seconds=%{y}<br>comp_ratio=%{customdata[0]}<br>read_time=%{customdata[1]}<extra></extra>",
         "legendgroup": "feather_zstd",
         "marker": {
          "color": "#EF553B",
          "size": 8,
          "symbol": "diamond"
         },
         "mode": "markers",
         "name": "feather_zstd",
         "orientation": "v",
         "showlegend": true,
         "type": "scatter",
         "x": [
          1,
          2,
          3,
          4,
          5,
          6,
          7,
          8,
          9,
          10,
          11,
          12,
          13,
          14,
          15,
          16,
          17,
          18,
          19,
          20
         ],
         "xaxis": "x",
         "y": [
          1.63,
          2.02,
          2.22,
          2.32,
          3.86,
          5.46,
          6.48,
          8.3,
          8.39,
          11.37,
          16.07,
          17.58,
          48.42,
          61.8,
          101.14,
          87.12,
          134.68,
          155.85,
          191.89,
          232.07
         ],
         "yaxis": "y"
        }
       ],
       "layout": {
        "legend": {
         "title": {
          "text": "type"
         },
         "tracegroupgap": 0
        },
        "margin": {
         "t": 60
        },
        "template": {
         "data": {
          "bar": [
           {
            "error_x": {
             "color": "#2a3f5f"
            },
            "error_y": {
             "color": "#2a3f5f"
            },
            "marker": {
             "line": {
              "color": "#E5ECF6",
              "width": 0.5
             },
             "pattern": {
              "fillmode": "overlay",
              "size": 10,
              "solidity": 0.2
             }
            },
            "type": "bar"
           }
          ],
          "barpolar": [
           {
            "marker": {
             "line": {
              "color": "#E5ECF6",
              "width": 0.5
             },
             "pattern": {
              "fillmode": "overlay",
              "size": 10,
              "solidity": 0.2
             }
            },
            "type": "barpolar"
           }
          ],
          "carpet": [
           {
            "aaxis": {
             "endlinecolor": "#2a3f5f",
             "gridcolor": "white",
             "linecolor": "white",
             "minorgridcolor": "white",
             "startlinecolor": "#2a3f5f"
            },
            "baxis": {
             "endlinecolor": "#2a3f5f",
             "gridcolor": "white",
             "linecolor": "white",
             "minorgridcolor": "white",
             "startlinecolor": "#2a3f5f"
            },
            "type": "carpet"
           }
          ],
          "choropleth": [
           {
            "colorbar": {
             "outlinewidth": 0,
             "ticks": ""
            },
            "type": "choropleth"
           }
          ],
          "contour": [
           {
            "colorbar": {
             "outlinewidth": 0,
             "ticks": ""
            },
            "colorscale": [
             [
              0,
              "#0d0887"
             ],
             [
              0.1111111111111111,
              "#46039f"
             ],
             [
              0.2222222222222222,
              "#7201a8"
             ],
             [
              0.3333333333333333,
              "#9c179e"
             ],
             [
              0.4444444444444444,
              "#bd3786"
             ],
             [
              0.5555555555555556,
              "#d8576b"
             ],
             [
              0.6666666666666666,
              "#ed7953"
             ],
             [
              0.7777777777777778,
              "#fb9f3a"
             ],
             [
              0.8888888888888888,
              "#fdca26"
             ],
             [
              1,
              "#f0f921"
             ]
            ],
            "type": "contour"
           }
          ],
          "contourcarpet": [
           {
            "colorbar": {
             "outlinewidth": 0,
             "ticks": ""
            },
            "type": "contourcarpet"
           }
          ],
          "heatmap": [
           {
            "colorbar": {
             "outlinewidth": 0,
             "ticks": ""
            },
            "colorscale": [
             [
              0,
              "#0d0887"
             ],
             [
              0.1111111111111111,
              "#46039f"
             ],
             [
              0.2222222222222222,
              "#7201a8"
             ],
             [
              0.3333333333333333,
              "#9c179e"
             ],
             [
              0.4444444444444444,
              "#bd3786"
             ],
             [
              0.5555555555555556,
              "#d8576b"
             ],
             [
              0.6666666666666666,
              "#ed7953"
             ],
             [
              0.7777777777777778,
              "#fb9f3a"
             ],
             [
              0.8888888888888888,
              "#fdca26"
             ],
             [
              1,
              "#f0f921"
             ]
            ],
            "type": "heatmap"
           }
          ],
          "heatmapgl": [
           {
            "colorbar": {
             "outlinewidth": 0,
             "ticks": ""
            },
            "colorscale": [
             [
              0,
              "#0d0887"
             ],
             [
              0.1111111111111111,
              "#46039f"
             ],
             [
              0.2222222222222222,
              "#7201a8"
             ],
             [
              0.3333333333333333,
              "#9c179e"
             ],
             [
              0.4444444444444444,
              "#bd3786"
             ],
             [
              0.5555555555555556,
              "#d8576b"
             ],
             [
              0.6666666666666666,
              "#ed7953"
             ],
             [
              0.7777777777777778,
              "#fb9f3a"
             ],
             [
              0.8888888888888888,
              "#fdca26"
             ],
             [
              1,
              "#f0f921"
             ]
            ],
            "type": "heatmapgl"
           }
          ],
          "histogram": [
           {
            "marker": {
             "pattern": {
              "fillmode": "overlay",
              "size": 10,
              "solidity": 0.2
             }
            },
            "type": "histogram"
           }
          ],
          "histogram2d": [
           {
            "colorbar": {
             "outlinewidth": 0,
             "ticks": ""
            },
            "colorscale": [
             [
              0,
              "#0d0887"
             ],
             [
              0.1111111111111111,
              "#46039f"
             ],
             [
              0.2222222222222222,
              "#7201a8"
             ],
             [
              0.3333333333333333,
              "#9c179e"
             ],
             [
              0.4444444444444444,
              "#bd3786"
             ],
             [
              0.5555555555555556,
              "#d8576b"
             ],
             [
              0.6666666666666666,
              "#ed7953"
             ],
             [
              0.7777777777777778,
              "#fb9f3a"
             ],
             [
              0.8888888888888888,
              "#fdca26"
             ],
             [
              1,
              "#f0f921"
             ]
            ],
            "type": "histogram2d"
           }
          ],
          "histogram2dcontour": [
           {
            "colorbar": {
             "outlinewidth": 0,
             "ticks": ""
            },
            "colorscale": [
             [
              0,
              "#0d0887"
             ],
             [
              0.1111111111111111,
              "#46039f"
             ],
             [
              0.2222222222222222,
              "#7201a8"
             ],
             [
              0.3333333333333333,
              "#9c179e"
             ],
             [
              0.4444444444444444,
              "#bd3786"
             ],
             [
              0.5555555555555556,
              "#d8576b"
             ],
             [
              0.6666666666666666,
              "#ed7953"
             ],
             [
              0.7777777777777778,
              "#fb9f3a"
             ],
             [
              0.8888888888888888,
              "#fdca26"
             ],
             [
              1,
              "#f0f921"
             ]
            ],
            "type": "histogram2dcontour"
           }
          ],
          "mesh3d": [
           {
            "colorbar": {
             "outlinewidth": 0,
             "ticks": ""
            },
            "type": "mesh3d"
           }
          ],
          "parcoords": [
           {
            "line": {
             "colorbar": {
              "outlinewidth": 0,
              "ticks": ""
             }
            },
            "type": "parcoords"
           }
          ],
          "pie": [
           {
            "automargin": true,
            "type": "pie"
           }
          ],
          "scatter": [
           {
            "fillpattern": {
             "fillmode": "overlay",
             "size": 10,
             "solidity": 0.2
            },
            "type": "scatter"
           }
          ],
          "scatter3d": [
           {
            "line": {
             "colorbar": {
              "outlinewidth": 0,
              "ticks": ""
             }
            },
            "marker": {
             "colorbar": {
              "outlinewidth": 0,
              "ticks": ""
             }
            },
            "type": "scatter3d"
           }
          ],
          "scattercarpet": [
           {
            "marker": {
             "colorbar": {
              "outlinewidth": 0,
              "ticks": ""
             }
            },
            "type": "scattercarpet"
           }
          ],
          "scattergeo": [
           {
            "marker": {
             "colorbar": {
              "outlinewidth": 0,
              "ticks": ""
             }
            },
            "type": "scattergeo"
           }
          ],
          "scattergl": [
           {
            "marker": {
             "colorbar": {
              "outlinewidth": 0,
              "ticks": ""
             }
            },
            "type": "scattergl"
           }
          ],
          "scattermapbox": [
           {
            "marker": {
             "colorbar": {
              "outlinewidth": 0,
              "ticks": ""
             }
            },
            "type": "scattermapbox"
           }
          ],
          "scatterpolar": [
           {
            "marker": {
             "colorbar": {
              "outlinewidth": 0,
              "ticks": ""
             }
            },
            "type": "scatterpolar"
           }
          ],
          "scatterpolargl": [
           {
            "marker": {
             "colorbar": {
              "outlinewidth": 0,
              "ticks": ""
             }
            },
            "type": "scatterpolargl"
           }
          ],
          "scatterternary": [
           {
            "marker": {
             "colorbar": {
              "outlinewidth": 0,
              "ticks": ""
             }
            },
            "type": "scatterternary"
           }
          ],
          "surface": [
           {
            "colorbar": {
             "outlinewidth": 0,
             "ticks": ""
            },
            "colorscale": [
             [
              0,
              "#0d0887"
             ],
             [
              0.1111111111111111,
              "#46039f"
             ],
             [
              0.2222222222222222,
              "#7201a8"
             ],
             [
              0.3333333333333333,
              "#9c179e"
             ],
             [
              0.4444444444444444,
              "#bd3786"
             ],
             [
              0.5555555555555556,
              "#d8576b"
             ],
             [
              0.6666666666666666,
              "#ed7953"
             ],
             [
              0.7777777777777778,
              "#fb9f3a"
             ],
             [
              0.8888888888888888,
              "#fdca26"
             ],
             [
              1,
              "#f0f921"
             ]
            ],
            "type": "surface"
           }
          ],
          "table": [
           {
            "cells": {
             "fill": {
              "color": "#EBF0F8"
             },
             "line": {
              "color": "white"
             }
            },
            "header": {
             "fill": {
              "color": "#C8D4E3"
             },
             "line": {
              "color": "white"
             }
            },
            "type": "table"
           }
          ]
         },
         "layout": {
          "annotationdefaults": {
           "arrowcolor": "#2a3f5f",
           "arrowhead": 0,
           "arrowwidth": 1
          },
          "autotypenumbers": "strict",
          "coloraxis": {
           "colorbar": {
            "outlinewidth": 0,
            "ticks": ""
           }
          },
          "colorscale": {
           "diverging": [
            [
             0,
             "#8e0152"
            ],
            [
             0.1,
             "#c51b7d"
            ],
            [
             0.2,
             "#de77ae"
            ],
            [
             0.3,
             "#f1b6da"
            ],
            [
             0.4,
             "#fde0ef"
            ],
            [
             0.5,
             "#f7f7f7"
            ],
            [
             0.6,
             "#e6f5d0"
            ],
            [
             0.7,
             "#b8e186"
            ],
            [
             0.8,
             "#7fbc41"
            ],
            [
             0.9,
             "#4d9221"
            ],
            [
             1,
             "#276419"
            ]
           ],
           "sequential": [
            [
             0,
             "#0d0887"
            ],
            [
             0.1111111111111111,
             "#46039f"
            ],
            [
             0.2222222222222222,
             "#7201a8"
            ],
            [
             0.3333333333333333,
             "#9c179e"
            ],
            [
             0.4444444444444444,
             "#bd3786"
            ],
            [
             0.5555555555555556,
             "#d8576b"
            ],
            [
             0.6666666666666666,
             "#ed7953"
            ],
            [
             0.7777777777777778,
             "#fb9f3a"
            ],
            [
             0.8888888888888888,
             "#fdca26"
            ],
            [
             1,
             "#f0f921"
            ]
           ],
           "sequentialminus": [
            [
             0,
             "#0d0887"
            ],
            [
             0.1111111111111111,
             "#46039f"
            ],
            [
             0.2222222222222222,
             "#7201a8"
            ],
            [
             0.3333333333333333,
             "#9c179e"
            ],
            [
             0.4444444444444444,
             "#bd3786"
            ],
            [
             0.5555555555555556,
             "#d8576b"
            ],
            [
             0.6666666666666666,
             "#ed7953"
            ],
            [
             0.7777777777777778,
             "#fb9f3a"
            ],
            [
             0.8888888888888888,
             "#fdca26"
            ],
            [
             1,
             "#f0f921"
            ]
           ]
          },
          "colorway": [
           "#636efa",
           "#EF553B",
           "#00cc96",
           "#ab63fa",
           "#FFA15A",
           "#19d3f3",
           "#FF6692",
           "#B6E880",
           "#FF97FF",
           "#FECB52"
          ],
          "font": {
           "color": "#2a3f5f"
          },
          "geo": {
           "bgcolor": "white",
           "lakecolor": "white",
           "landcolor": "#E5ECF6",
           "showlakes": true,
           "showland": true,
           "subunitcolor": "white"
          },
          "hoverlabel": {
           "align": "left"
          },
          "hovermode": "closest",
          "mapbox": {
           "style": "light"
          },
          "paper_bgcolor": "white",
          "plot_bgcolor": "#E5ECF6",
          "polar": {
           "angularaxis": {
            "gridcolor": "white",
            "linecolor": "white",
            "ticks": ""
           },
           "bgcolor": "#E5ECF6",
           "radialaxis": {
            "gridcolor": "white",
            "linecolor": "white",
            "ticks": ""
           }
          },
          "scene": {
           "xaxis": {
            "backgroundcolor": "#E5ECF6",
            "gridcolor": "white",
            "gridwidth": 2,
            "linecolor": "white",
            "showbackground": true,
            "ticks": "",
            "zerolinecolor": "white"
           },
           "yaxis": {
            "backgroundcolor": "#E5ECF6",
            "gridcolor": "white",
            "gridwidth": 2,
            "linecolor": "white",
            "showbackground": true,
            "ticks": "",
            "zerolinecolor": "white"
           },
           "zaxis": {
            "backgroundcolor": "#E5ECF6",
            "gridcolor": "white",
            "gridwidth": 2,
            "linecolor": "white",
            "showbackground": true,
            "ticks": "",
            "zerolinecolor": "white"
           }
          },
          "shapedefaults": {
           "line": {
            "color": "#2a3f5f"
           }
          },
          "ternary": {
           "aaxis": {
            "gridcolor": "white",
            "linecolor": "white",
            "ticks": ""
           },
           "baxis": {
            "gridcolor": "white",
            "linecolor": "white",
            "ticks": ""
           },
           "bgcolor": "#E5ECF6",
           "caxis": {
            "gridcolor": "white",
            "linecolor": "white",
            "ticks": ""
           }
          },
          "title": {
           "x": 0.05
          },
          "xaxis": {
           "automargin": true,
           "gridcolor": "white",
           "linecolor": "white",
           "ticks": "",
           "title": {
            "standoff": 15
           },
           "zerolinecolor": "white",
           "zerolinewidth": 2
          },
          "yaxis": {
           "automargin": true,
           "gridcolor": "white",
           "linecolor": "white",
           "ticks": "",
           "title": {
            "standoff": 15
           },
           "zerolinecolor": "white",
           "zerolinewidth": 2
          }
         }
        },
        "xaxis": {
         "anchor": "y",
         "domain": [
          0,
          1
         ],
         "title": {
          "text": "level of compression"
         }
        },
        "yaxis": {
         "anchor": "x",
         "domain": [
          0,
          1
         ],
         "title": {
          "text": "time to save data in seconds"
         }
        }
       }
      }
     },
     "metadata": {},
     "output_type": "display_data"
    }
   ],
   "source": [
    "fig = px.scatter(feather_df, x=\"compression_level\", y=\"save_time\", color='type', hover_data=['comp_ratio', \"read_time\"],\n",
    "                 symbol=\"type\",\n",
    "                 labels={\"save_time\": \"time to save data in seconds\",\n",
    "                     \"compression_level\": \"level of compression\"})\n",
    "fig.update_traces(marker_size=8)\n",
    "fig.show()\n",
    "fig.write_image(\"./plots/pandas_ff_scatter_save_time_feather.svg\")"
   ]
  },
  {
   "cell_type": "code",
   "execution_count": 15,
   "metadata": {},
   "outputs": [
    {
     "data": {
      "application/vnd.plotly.v1+json": {
       "config": {
        "plotlyServerURL": "https://plot.ly"
       },
       "data": [
        {
         "customdata": [
          [
           2.838,
           2.31
          ],
          [
           2.998,
           2.56
          ],
          [
           3.098,
           2.83
          ],
          [
           3.126,
           2.8
          ],
          [
           3.197,
           4.28
          ],
          [
           3.265,
           5.91
          ],
          [
           3.295,
           6.74
          ],
          [
           3.321,
           8.51
          ],
          [
           3.327,
           8.6
          ],
          [
           3.347,
           11.04
          ],
          [
           3.358,
           13.96
          ],
          [
           3.358,
           13.93
          ],
          [
           3.382,
           34.09
          ],
          [
           3.391,
           38.86
          ],
          [
           3.392,
           40.65
          ],
          [
           3.489,
           59.32
          ],
          [
           3.501,
           68.43
          ],
          [
           3.52,
           85.79
          ],
          [
           3.523,
           93.07
          ],
          [
           3.523,
           89.85
          ]
         ],
         "hovertemplate": "type=parquet_zstd<br>level of compression=%{x}<br>time to read data in seconds=%{y}<br>comp_ratio=%{customdata[0]}<br>save_time=%{customdata[1]}<extra></extra>",
         "legendgroup": "parquet_zstd",
         "marker": {
          "color": "#636efa",
          "size": 8,
          "symbol": "circle"
         },
         "mode": "markers",
         "name": "parquet_zstd",
         "orientation": "v",
         "showlegend": true,
         "type": "scatter",
         "x": [
          1,
          2,
          3,
          4,
          5,
          6,
          7,
          8,
          9,
          10,
          11,
          12,
          13,
          14,
          15,
          16,
          17,
          18,
          19,
          20
         ],
         "xaxis": "x",
         "y": [
          1.06,
          1.04,
          1.03,
          1.01,
          1.02,
          1,
          0.99,
          0.97,
          0.97,
          0.94,
          0.94,
          0.94,
          0.95,
          0.94,
          0.96,
          0.96,
          0.98,
          1,
          0.99,
          0.98
         ],
         "yaxis": "y"
        },
        {
         "customdata": [
          [
           2.866,
           1.63
          ],
          [
           3.035,
           2.02
          ],
          [
           3.154,
           2.22
          ],
          [
           3.201,
           2.32
          ],
          [
           3.275,
           3.86
          ],
          [
           3.348,
           5.46
          ],
          [
           3.404,
           6.48
          ],
          [
           3.444,
           8.3
          ],
          [
           3.502,
           8.39
          ],
          [
           3.551,
           11.37
          ],
          [
           3.58,
           16.07
          ],
          [
           3.588,
           17.58
          ],
          [
           3.624,
           48.42
          ],
          [
           3.672,
           61.8
          ],
          [
           3.712,
           101.14
          ],
          [
           3.778,
           87.12
          ],
          [
           3.877,
           134.68
          ],
          [
           3.92,
           155.85
          ],
          [
           3.944,
           191.89
          ],
          [
           4.124,
           232.07
          ]
         ],
         "hovertemplate": "type=feather_zstd<br>level of compression=%{x}<br>time to read data in seconds=%{y}<br>comp_ratio=%{customdata[0]}<br>save_time=%{customdata[1]}<extra></extra>",
         "legendgroup": "feather_zstd",
         "marker": {
          "color": "#EF553B",
          "size": 8,
          "symbol": "diamond"
         },
         "mode": "markers",
         "name": "feather_zstd",
         "orientation": "v",
         "showlegend": true,
         "type": "scatter",
         "x": [
          1,
          2,
          3,
          4,
          5,
          6,
          7,
          8,
          9,
          10,
          11,
          12,
          13,
          14,
          15,
          16,
          17,
          18,
          19,
          20
         ],
         "xaxis": "x",
         "y": [
          0.79,
          0.86,
          0.87,
          0.87,
          0.87,
          0.84,
          0.82,
          0.8,
          0.81,
          0.79,
          0.79,
          0.78,
          0.78,
          0.77,
          0.76,
          0.77,
          0.79,
          0.8,
          0.77,
          0.76
         ],
         "yaxis": "y"
        }
       ],
       "layout": {
        "legend": {
         "title": {
          "text": "type"
         },
         "tracegroupgap": 0
        },
        "margin": {
         "t": 60
        },
        "template": {
         "data": {
          "bar": [
           {
            "error_x": {
             "color": "#2a3f5f"
            },
            "error_y": {
             "color": "#2a3f5f"
            },
            "marker": {
             "line": {
              "color": "#E5ECF6",
              "width": 0.5
             },
             "pattern": {
              "fillmode": "overlay",
              "size": 10,
              "solidity": 0.2
             }
            },
            "type": "bar"
           }
          ],
          "barpolar": [
           {
            "marker": {
             "line": {
              "color": "#E5ECF6",
              "width": 0.5
             },
             "pattern": {
              "fillmode": "overlay",
              "size": 10,
              "solidity": 0.2
             }
            },
            "type": "barpolar"
           }
          ],
          "carpet": [
           {
            "aaxis": {
             "endlinecolor": "#2a3f5f",
             "gridcolor": "white",
             "linecolor": "white",
             "minorgridcolor": "white",
             "startlinecolor": "#2a3f5f"
            },
            "baxis": {
             "endlinecolor": "#2a3f5f",
             "gridcolor": "white",
             "linecolor": "white",
             "minorgridcolor": "white",
             "startlinecolor": "#2a3f5f"
            },
            "type": "carpet"
           }
          ],
          "choropleth": [
           {
            "colorbar": {
             "outlinewidth": 0,
             "ticks": ""
            },
            "type": "choropleth"
           }
          ],
          "contour": [
           {
            "colorbar": {
             "outlinewidth": 0,
             "ticks": ""
            },
            "colorscale": [
             [
              0,
              "#0d0887"
             ],
             [
              0.1111111111111111,
              "#46039f"
             ],
             [
              0.2222222222222222,
              "#7201a8"
             ],
             [
              0.3333333333333333,
              "#9c179e"
             ],
             [
              0.4444444444444444,
              "#bd3786"
             ],
             [
              0.5555555555555556,
              "#d8576b"
             ],
             [
              0.6666666666666666,
              "#ed7953"
             ],
             [
              0.7777777777777778,
              "#fb9f3a"
             ],
             [
              0.8888888888888888,
              "#fdca26"
             ],
             [
              1,
              "#f0f921"
             ]
            ],
            "type": "contour"
           }
          ],
          "contourcarpet": [
           {
            "colorbar": {
             "outlinewidth": 0,
             "ticks": ""
            },
            "type": "contourcarpet"
           }
          ],
          "heatmap": [
           {
            "colorbar": {
             "outlinewidth": 0,
             "ticks": ""
            },
            "colorscale": [
             [
              0,
              "#0d0887"
             ],
             [
              0.1111111111111111,
              "#46039f"
             ],
             [
              0.2222222222222222,
              "#7201a8"
             ],
             [
              0.3333333333333333,
              "#9c179e"
             ],
             [
              0.4444444444444444,
              "#bd3786"
             ],
             [
              0.5555555555555556,
              "#d8576b"
             ],
             [
              0.6666666666666666,
              "#ed7953"
             ],
             [
              0.7777777777777778,
              "#fb9f3a"
             ],
             [
              0.8888888888888888,
              "#fdca26"
             ],
             [
              1,
              "#f0f921"
             ]
            ],
            "type": "heatmap"
           }
          ],
          "heatmapgl": [
           {
            "colorbar": {
             "outlinewidth": 0,
             "ticks": ""
            },
            "colorscale": [
             [
              0,
              "#0d0887"
             ],
             [
              0.1111111111111111,
              "#46039f"
             ],
             [
              0.2222222222222222,
              "#7201a8"
             ],
             [
              0.3333333333333333,
              "#9c179e"
             ],
             [
              0.4444444444444444,
              "#bd3786"
             ],
             [
              0.5555555555555556,
              "#d8576b"
             ],
             [
              0.6666666666666666,
              "#ed7953"
             ],
             [
              0.7777777777777778,
              "#fb9f3a"
             ],
             [
              0.8888888888888888,
              "#fdca26"
             ],
             [
              1,
              "#f0f921"
             ]
            ],
            "type": "heatmapgl"
           }
          ],
          "histogram": [
           {
            "marker": {
             "pattern": {
              "fillmode": "overlay",
              "size": 10,
              "solidity": 0.2
             }
            },
            "type": "histogram"
           }
          ],
          "histogram2d": [
           {
            "colorbar": {
             "outlinewidth": 0,
             "ticks": ""
            },
            "colorscale": [
             [
              0,
              "#0d0887"
             ],
             [
              0.1111111111111111,
              "#46039f"
             ],
             [
              0.2222222222222222,
              "#7201a8"
             ],
             [
              0.3333333333333333,
              "#9c179e"
             ],
             [
              0.4444444444444444,
              "#bd3786"
             ],
             [
              0.5555555555555556,
              "#d8576b"
             ],
             [
              0.6666666666666666,
              "#ed7953"
             ],
             [
              0.7777777777777778,
              "#fb9f3a"
             ],
             [
              0.8888888888888888,
              "#fdca26"
             ],
             [
              1,
              "#f0f921"
             ]
            ],
            "type": "histogram2d"
           }
          ],
          "histogram2dcontour": [
           {
            "colorbar": {
             "outlinewidth": 0,
             "ticks": ""
            },
            "colorscale": [
             [
              0,
              "#0d0887"
             ],
             [
              0.1111111111111111,
              "#46039f"
             ],
             [
              0.2222222222222222,
              "#7201a8"
             ],
             [
              0.3333333333333333,
              "#9c179e"
             ],
             [
              0.4444444444444444,
              "#bd3786"
             ],
             [
              0.5555555555555556,
              "#d8576b"
             ],
             [
              0.6666666666666666,
              "#ed7953"
             ],
             [
              0.7777777777777778,
              "#fb9f3a"
             ],
             [
              0.8888888888888888,
              "#fdca26"
             ],
             [
              1,
              "#f0f921"
             ]
            ],
            "type": "histogram2dcontour"
           }
          ],
          "mesh3d": [
           {
            "colorbar": {
             "outlinewidth": 0,
             "ticks": ""
            },
            "type": "mesh3d"
           }
          ],
          "parcoords": [
           {
            "line": {
             "colorbar": {
              "outlinewidth": 0,
              "ticks": ""
             }
            },
            "type": "parcoords"
           }
          ],
          "pie": [
           {
            "automargin": true,
            "type": "pie"
           }
          ],
          "scatter": [
           {
            "fillpattern": {
             "fillmode": "overlay",
             "size": 10,
             "solidity": 0.2
            },
            "type": "scatter"
           }
          ],
          "scatter3d": [
           {
            "line": {
             "colorbar": {
              "outlinewidth": 0,
              "ticks": ""
             }
            },
            "marker": {
             "colorbar": {
              "outlinewidth": 0,
              "ticks": ""
             }
            },
            "type": "scatter3d"
           }
          ],
          "scattercarpet": [
           {
            "marker": {
             "colorbar": {
              "outlinewidth": 0,
              "ticks": ""
             }
            },
            "type": "scattercarpet"
           }
          ],
          "scattergeo": [
           {
            "marker": {
             "colorbar": {
              "outlinewidth": 0,
              "ticks": ""
             }
            },
            "type": "scattergeo"
           }
          ],
          "scattergl": [
           {
            "marker": {
             "colorbar": {
              "outlinewidth": 0,
              "ticks": ""
             }
            },
            "type": "scattergl"
           }
          ],
          "scattermapbox": [
           {
            "marker": {
             "colorbar": {
              "outlinewidth": 0,
              "ticks": ""
             }
            },
            "type": "scattermapbox"
           }
          ],
          "scatterpolar": [
           {
            "marker": {
             "colorbar": {
              "outlinewidth": 0,
              "ticks": ""
             }
            },
            "type": "scatterpolar"
           }
          ],
          "scatterpolargl": [
           {
            "marker": {
             "colorbar": {
              "outlinewidth": 0,
              "ticks": ""
             }
            },
            "type": "scatterpolargl"
           }
          ],
          "scatterternary": [
           {
            "marker": {
             "colorbar": {
              "outlinewidth": 0,
              "ticks": ""
             }
            },
            "type": "scatterternary"
           }
          ],
          "surface": [
           {
            "colorbar": {
             "outlinewidth": 0,
             "ticks": ""
            },
            "colorscale": [
             [
              0,
              "#0d0887"
             ],
             [
              0.1111111111111111,
              "#46039f"
             ],
             [
              0.2222222222222222,
              "#7201a8"
             ],
             [
              0.3333333333333333,
              "#9c179e"
             ],
             [
              0.4444444444444444,
              "#bd3786"
             ],
             [
              0.5555555555555556,
              "#d8576b"
             ],
             [
              0.6666666666666666,
              "#ed7953"
             ],
             [
              0.7777777777777778,
              "#fb9f3a"
             ],
             [
              0.8888888888888888,
              "#fdca26"
             ],
             [
              1,
              "#f0f921"
             ]
            ],
            "type": "surface"
           }
          ],
          "table": [
           {
            "cells": {
             "fill": {
              "color": "#EBF0F8"
             },
             "line": {
              "color": "white"
             }
            },
            "header": {
             "fill": {
              "color": "#C8D4E3"
             },
             "line": {
              "color": "white"
             }
            },
            "type": "table"
           }
          ]
         },
         "layout": {
          "annotationdefaults": {
           "arrowcolor": "#2a3f5f",
           "arrowhead": 0,
           "arrowwidth": 1
          },
          "autotypenumbers": "strict",
          "coloraxis": {
           "colorbar": {
            "outlinewidth": 0,
            "ticks": ""
           }
          },
          "colorscale": {
           "diverging": [
            [
             0,
             "#8e0152"
            ],
            [
             0.1,
             "#c51b7d"
            ],
            [
             0.2,
             "#de77ae"
            ],
            [
             0.3,
             "#f1b6da"
            ],
            [
             0.4,
             "#fde0ef"
            ],
            [
             0.5,
             "#f7f7f7"
            ],
            [
             0.6,
             "#e6f5d0"
            ],
            [
             0.7,
             "#b8e186"
            ],
            [
             0.8,
             "#7fbc41"
            ],
            [
             0.9,
             "#4d9221"
            ],
            [
             1,
             "#276419"
            ]
           ],
           "sequential": [
            [
             0,
             "#0d0887"
            ],
            [
             0.1111111111111111,
             "#46039f"
            ],
            [
             0.2222222222222222,
             "#7201a8"
            ],
            [
             0.3333333333333333,
             "#9c179e"
            ],
            [
             0.4444444444444444,
             "#bd3786"
            ],
            [
             0.5555555555555556,
             "#d8576b"
            ],
            [
             0.6666666666666666,
             "#ed7953"
            ],
            [
             0.7777777777777778,
             "#fb9f3a"
            ],
            [
             0.8888888888888888,
             "#fdca26"
            ],
            [
             1,
             "#f0f921"
            ]
           ],
           "sequentialminus": [
            [
             0,
             "#0d0887"
            ],
            [
             0.1111111111111111,
             "#46039f"
            ],
            [
             0.2222222222222222,
             "#7201a8"
            ],
            [
             0.3333333333333333,
             "#9c179e"
            ],
            [
             0.4444444444444444,
             "#bd3786"
            ],
            [
             0.5555555555555556,
             "#d8576b"
            ],
            [
             0.6666666666666666,
             "#ed7953"
            ],
            [
             0.7777777777777778,
             "#fb9f3a"
            ],
            [
             0.8888888888888888,
             "#fdca26"
            ],
            [
             1,
             "#f0f921"
            ]
           ]
          },
          "colorway": [
           "#636efa",
           "#EF553B",
           "#00cc96",
           "#ab63fa",
           "#FFA15A",
           "#19d3f3",
           "#FF6692",
           "#B6E880",
           "#FF97FF",
           "#FECB52"
          ],
          "font": {
           "color": "#2a3f5f"
          },
          "geo": {
           "bgcolor": "white",
           "lakecolor": "white",
           "landcolor": "#E5ECF6",
           "showlakes": true,
           "showland": true,
           "subunitcolor": "white"
          },
          "hoverlabel": {
           "align": "left"
          },
          "hovermode": "closest",
          "mapbox": {
           "style": "light"
          },
          "paper_bgcolor": "white",
          "plot_bgcolor": "#E5ECF6",
          "polar": {
           "angularaxis": {
            "gridcolor": "white",
            "linecolor": "white",
            "ticks": ""
           },
           "bgcolor": "#E5ECF6",
           "radialaxis": {
            "gridcolor": "white",
            "linecolor": "white",
            "ticks": ""
           }
          },
          "scene": {
           "xaxis": {
            "backgroundcolor": "#E5ECF6",
            "gridcolor": "white",
            "gridwidth": 2,
            "linecolor": "white",
            "showbackground": true,
            "ticks": "",
            "zerolinecolor": "white"
           },
           "yaxis": {
            "backgroundcolor": "#E5ECF6",
            "gridcolor": "white",
            "gridwidth": 2,
            "linecolor": "white",
            "showbackground": true,
            "ticks": "",
            "zerolinecolor": "white"
           },
           "zaxis": {
            "backgroundcolor": "#E5ECF6",
            "gridcolor": "white",
            "gridwidth": 2,
            "linecolor": "white",
            "showbackground": true,
            "ticks": "",
            "zerolinecolor": "white"
           }
          },
          "shapedefaults": {
           "line": {
            "color": "#2a3f5f"
           }
          },
          "ternary": {
           "aaxis": {
            "gridcolor": "white",
            "linecolor": "white",
            "ticks": ""
           },
           "baxis": {
            "gridcolor": "white",
            "linecolor": "white",
            "ticks": ""
           },
           "bgcolor": "#E5ECF6",
           "caxis": {
            "gridcolor": "white",
            "linecolor": "white",
            "ticks": ""
           }
          },
          "title": {
           "x": 0.05
          },
          "xaxis": {
           "automargin": true,
           "gridcolor": "white",
           "linecolor": "white",
           "ticks": "",
           "title": {
            "standoff": 15
           },
           "zerolinecolor": "white",
           "zerolinewidth": 2
          },
          "yaxis": {
           "automargin": true,
           "gridcolor": "white",
           "linecolor": "white",
           "ticks": "",
           "title": {
            "standoff": 15
           },
           "zerolinecolor": "white",
           "zerolinewidth": 2
          }
         }
        },
        "xaxis": {
         "anchor": "y",
         "domain": [
          0,
          1
         ],
         "title": {
          "text": "level of compression"
         }
        },
        "yaxis": {
         "anchor": "x",
         "domain": [
          0,
          1
         ],
         "title": {
          "text": "time to read data in seconds"
         }
        }
       }
      }
     },
     "metadata": {},
     "output_type": "display_data"
    }
   ],
   "source": [
    "fig = px.scatter(feather_df, x=\"compression_level\", y=\"read_time\", color='type',\n",
    "                 hover_data=['comp_ratio', \"save_time\"],\n",
    "                 symbol=\"type\",\n",
    "                 labels={\"read_time\": \"time to read data in seconds\",\n",
    "                     \"compression_level\": \"level of compression\"})\n",
    "fig.update_traces(marker_size=8)\n",
    "fig.show()\n",
    "fig.write_image(\"./plots/pandas_ff_scatter_read_time_feather.svg\")"
   ]
  },
  {
   "cell_type": "code",
   "execution_count": null,
   "metadata": {},
   "outputs": [],
   "source": []
  }
 ],
 "metadata": {
  "kernelspec": {
   "display_name": ".venv",
   "language": "python",
   "name": "python3"
  },
  "language_info": {
   "codemirror_mode": {
    "name": "ipython",
    "version": 3
   },
   "file_extension": ".py",
   "mimetype": "text/x-python",
   "name": "python",
   "nbconvert_exporter": "python",
   "pygments_lexer": "ipython3",
   "version": "3.11.9"
  }
 },
 "nbformat": 4,
 "nbformat_minor": 2
}
