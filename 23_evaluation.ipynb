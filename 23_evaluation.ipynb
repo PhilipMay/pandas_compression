{
 "cells": [
  {
   "cell_type": "code",
   "execution_count": 1,
   "metadata": {},
   "outputs": [],
   "source": [
    "import pandas as pd\n",
    "import plotly.express as px"
   ]
  },
  {
   "cell_type": "code",
   "execution_count": 2,
   "metadata": {},
   "outputs": [
    {
     "data": {
      "text/html": [
       "<div>\n",
       "<style scoped>\n",
       "    .dataframe tbody tr th:only-of-type {\n",
       "        vertical-align: middle;\n",
       "    }\n",
       "\n",
       "    .dataframe tbody tr th {\n",
       "        vertical-align: top;\n",
       "    }\n",
       "\n",
       "    .dataframe thead th {\n",
       "        text-align: right;\n",
       "    }\n",
       "</style>\n",
       "<table border=\"1\" class=\"dataframe\">\n",
       "  <thead>\n",
       "    <tr style=\"text-align: right;\">\n",
       "      <th></th>\n",
       "      <th>method</th>\n",
       "      <th>save_time</th>\n",
       "      <th>read_time</th>\n",
       "      <th>file_size</th>\n",
       "      <th>compression</th>\n",
       "      <th>compression_level</th>\n",
       "      <th>comp_ratio</th>\n",
       "      <th>type</th>\n",
       "    </tr>\n",
       "  </thead>\n",
       "  <tbody>\n",
       "    <tr>\n",
       "      <th>0</th>\n",
       "      <td>parquet</td>\n",
       "      <td>2.09</td>\n",
       "      <td>0.98</td>\n",
       "      <td>226.889376</td>\n",
       "      <td>zstd</td>\n",
       "      <td>1</td>\n",
       "      <td>3.126</td>\n",
       "      <td>parquet_zstd</td>\n",
       "    </tr>\n",
       "    <tr>\n",
       "      <th>1</th>\n",
       "      <td>parquet</td>\n",
       "      <td>2.40</td>\n",
       "      <td>1.04</td>\n",
       "      <td>212.139284</td>\n",
       "      <td>zstd</td>\n",
       "      <td>2</td>\n",
       "      <td>3.344</td>\n",
       "      <td>parquet_zstd</td>\n",
       "    </tr>\n",
       "    <tr>\n",
       "      <th>2</th>\n",
       "      <td>parquet</td>\n",
       "      <td>2.79</td>\n",
       "      <td>1.04</td>\n",
       "      <td>203.676181</td>\n",
       "      <td>zstd</td>\n",
       "      <td>3</td>\n",
       "      <td>3.483</td>\n",
       "      <td>parquet_zstd</td>\n",
       "    </tr>\n",
       "    <tr>\n",
       "      <th>3</th>\n",
       "      <td>parquet</td>\n",
       "      <td>2.80</td>\n",
       "      <td>1.05</td>\n",
       "      <td>201.427144</td>\n",
       "      <td>zstd</td>\n",
       "      <td>4</td>\n",
       "      <td>3.522</td>\n",
       "      <td>parquet_zstd</td>\n",
       "    </tr>\n",
       "    <tr>\n",
       "      <th>4</th>\n",
       "      <td>parquet</td>\n",
       "      <td>4.34</td>\n",
       "      <td>1.07</td>\n",
       "      <td>195.823249</td>\n",
       "      <td>zstd</td>\n",
       "      <td>5</td>\n",
       "      <td>3.622</td>\n",
       "      <td>parquet_zstd</td>\n",
       "    </tr>\n",
       "    <tr>\n",
       "      <th>...</th>\n",
       "      <td>...</td>\n",
       "      <td>...</td>\n",
       "      <td>...</td>\n",
       "      <td>...</td>\n",
       "      <td>...</td>\n",
       "      <td>...</td>\n",
       "      <td>...</td>\n",
       "      <td>...</td>\n",
       "    </tr>\n",
       "    <tr>\n",
       "      <th>92</th>\n",
       "      <td>csv</td>\n",
       "      <td>39.75</td>\n",
       "      <td>16.60</td>\n",
       "      <td>172.703590</td>\n",
       "      <td>bz2</td>\n",
       "      <td>0</td>\n",
       "      <td>4.107</td>\n",
       "      <td>csv_bz2</td>\n",
       "    </tr>\n",
       "    <tr>\n",
       "      <th>93</th>\n",
       "      <td>csv</td>\n",
       "      <td>10.81</td>\n",
       "      <td>5.76</td>\n",
       "      <td>219.933631</td>\n",
       "      <td>zstd</td>\n",
       "      <td>0</td>\n",
       "      <td>3.225</td>\n",
       "      <td>csv_zstd</td>\n",
       "    </tr>\n",
       "    <tr>\n",
       "      <th>94</th>\n",
       "      <td>csv</td>\n",
       "      <td>251.99</td>\n",
       "      <td>12.83</td>\n",
       "      <td>153.802803</td>\n",
       "      <td>xz</td>\n",
       "      <td>0</td>\n",
       "      <td>4.612</td>\n",
       "      <td>csv_xz</td>\n",
       "    </tr>\n",
       "    <tr>\n",
       "      <th>95</th>\n",
       "      <td>csv</td>\n",
       "      <td>9.19</td>\n",
       "      <td>5.36</td>\n",
       "      <td>593.701172</td>\n",
       "      <td>tar</td>\n",
       "      <td>0</td>\n",
       "      <td>1.195</td>\n",
       "      <td>csv_tar</td>\n",
       "    </tr>\n",
       "    <tr>\n",
       "      <th>96</th>\n",
       "      <td>csv</td>\n",
       "      <td>8.58</td>\n",
       "      <td>5.34</td>\n",
       "      <td>593.696221</td>\n",
       "      <td>default</td>\n",
       "      <td>0</td>\n",
       "      <td>1.195</td>\n",
       "      <td>csv_default</td>\n",
       "    </tr>\n",
       "  </tbody>\n",
       "</table>\n",
       "<p>97 rows × 8 columns</p>\n",
       "</div>"
      ],
      "text/plain": [
       "     method  save_time  read_time   file_size compression  compression_level  \\\n",
       "0   parquet       2.09       0.98  226.889376        zstd                  1   \n",
       "1   parquet       2.40       1.04  212.139284        zstd                  2   \n",
       "2   parquet       2.79       1.04  203.676181        zstd                  3   \n",
       "3   parquet       2.80       1.05  201.427144        zstd                  4   \n",
       "4   parquet       4.34       1.07  195.823249        zstd                  5   \n",
       "..      ...        ...        ...         ...         ...                ...   \n",
       "92      csv      39.75      16.60  172.703590         bz2                  0   \n",
       "93      csv      10.81       5.76  219.933631        zstd                  0   \n",
       "94      csv     251.99      12.83  153.802803          xz                  0   \n",
       "95      csv       9.19       5.36  593.701172         tar                  0   \n",
       "96      csv       8.58       5.34  593.696221     default                  0   \n",
       "\n",
       "    comp_ratio          type  \n",
       "0        3.126  parquet_zstd  \n",
       "1        3.344  parquet_zstd  \n",
       "2        3.483  parquet_zstd  \n",
       "3        3.522  parquet_zstd  \n",
       "4        3.622  parquet_zstd  \n",
       "..         ...           ...  \n",
       "92       4.107       csv_bz2  \n",
       "93       3.225      csv_zstd  \n",
       "94       4.612        csv_xz  \n",
       "95       1.195       csv_tar  \n",
       "96       1.195   csv_default  \n",
       "\n",
       "[97 rows x 8 columns]"
      ]
     },
     "execution_count": 2,
     "metadata": {},
     "output_type": "execute_result"
    }
   ],
   "source": [
    "df = pd.read_pickle(\"./data/test_results_category_01.pkl.gz\")\n",
    "df[\"compression_level\"] = df[\"compression_level\"].fillna(0)\n",
    "df[\"compression\"] = df[\"compression\"].fillna(\"default\")\n",
    "df[\"type\"] = df[\"method\"] + \"_\" + df[\"compression\"]\n",
    "\n",
    "df[\"save_time\"] = df[\"save_time\"].round(2)\n",
    "df[\"read_time\"] = df[\"read_time\"].round(2)\n",
    "df[\"comp_ratio\"] = df[\"comp_ratio\"].round(3)\n",
    "\n",
    "# change type of column \"compression_level\" to int\n",
    "df[\"compression_level\"] = df[\"compression_level\"].astype(int)\n",
    "\n",
    "df"
   ]
  },
  {
   "cell_type": "code",
   "execution_count": 3,
   "metadata": {},
   "outputs": [
    {
     "data": {
      "text/html": [
       "<div>\n",
       "<style scoped>\n",
       "    .dataframe tbody tr th:only-of-type {\n",
       "        vertical-align: middle;\n",
       "    }\n",
       "\n",
       "    .dataframe tbody tr th {\n",
       "        vertical-align: top;\n",
       "    }\n",
       "\n",
       "    .dataframe thead th {\n",
       "        text-align: right;\n",
       "    }\n",
       "</style>\n",
       "<table border=\"1\" class=\"dataframe\">\n",
       "  <thead>\n",
       "    <tr style=\"text-align: right;\">\n",
       "      <th></th>\n",
       "      <th>method</th>\n",
       "      <th>save_time</th>\n",
       "      <th>read_time</th>\n",
       "      <th>file_size</th>\n",
       "      <th>compression</th>\n",
       "      <th>compression_level</th>\n",
       "      <th>comp_ratio</th>\n",
       "      <th>type</th>\n",
       "      <th>method_compression_with_level</th>\n",
       "    </tr>\n",
       "  </thead>\n",
       "  <tbody>\n",
       "    <tr>\n",
       "      <th>0</th>\n",
       "      <td>parquet</td>\n",
       "      <td>2.09</td>\n",
       "      <td>0.98</td>\n",
       "      <td>226.889376</td>\n",
       "      <td>zstd</td>\n",
       "      <td>1</td>\n",
       "      <td>3.126</td>\n",
       "      <td>parquet_zstd</td>\n",
       "      <td>parquet_zstd_1</td>\n",
       "    </tr>\n",
       "    <tr>\n",
       "      <th>1</th>\n",
       "      <td>parquet</td>\n",
       "      <td>2.40</td>\n",
       "      <td>1.04</td>\n",
       "      <td>212.139284</td>\n",
       "      <td>zstd</td>\n",
       "      <td>2</td>\n",
       "      <td>3.344</td>\n",
       "      <td>parquet_zstd</td>\n",
       "      <td>parquet_zstd_2</td>\n",
       "    </tr>\n",
       "    <tr>\n",
       "      <th>2</th>\n",
       "      <td>parquet</td>\n",
       "      <td>2.79</td>\n",
       "      <td>1.04</td>\n",
       "      <td>203.676181</td>\n",
       "      <td>zstd</td>\n",
       "      <td>3</td>\n",
       "      <td>3.483</td>\n",
       "      <td>parquet_zstd</td>\n",
       "      <td>parquet_zstd_3</td>\n",
       "    </tr>\n",
       "    <tr>\n",
       "      <th>3</th>\n",
       "      <td>parquet</td>\n",
       "      <td>2.80</td>\n",
       "      <td>1.05</td>\n",
       "      <td>201.427144</td>\n",
       "      <td>zstd</td>\n",
       "      <td>4</td>\n",
       "      <td>3.522</td>\n",
       "      <td>parquet_zstd</td>\n",
       "      <td>parquet_zstd_4</td>\n",
       "    </tr>\n",
       "    <tr>\n",
       "      <th>4</th>\n",
       "      <td>parquet</td>\n",
       "      <td>4.34</td>\n",
       "      <td>1.07</td>\n",
       "      <td>195.823249</td>\n",
       "      <td>zstd</td>\n",
       "      <td>5</td>\n",
       "      <td>3.622</td>\n",
       "      <td>parquet_zstd</td>\n",
       "      <td>parquet_zstd_5</td>\n",
       "    </tr>\n",
       "    <tr>\n",
       "      <th>...</th>\n",
       "      <td>...</td>\n",
       "      <td>...</td>\n",
       "      <td>...</td>\n",
       "      <td>...</td>\n",
       "      <td>...</td>\n",
       "      <td>...</td>\n",
       "      <td>...</td>\n",
       "      <td>...</td>\n",
       "      <td>...</td>\n",
       "    </tr>\n",
       "    <tr>\n",
       "      <th>92</th>\n",
       "      <td>csv</td>\n",
       "      <td>39.75</td>\n",
       "      <td>16.60</td>\n",
       "      <td>172.703590</td>\n",
       "      <td>bz2</td>\n",
       "      <td>0</td>\n",
       "      <td>4.107</td>\n",
       "      <td>csv_bz2</td>\n",
       "      <td>csv_bz2_default</td>\n",
       "    </tr>\n",
       "    <tr>\n",
       "      <th>93</th>\n",
       "      <td>csv</td>\n",
       "      <td>10.81</td>\n",
       "      <td>5.76</td>\n",
       "      <td>219.933631</td>\n",
       "      <td>zstd</td>\n",
       "      <td>0</td>\n",
       "      <td>3.225</td>\n",
       "      <td>csv_zstd</td>\n",
       "      <td>csv_zstd_default</td>\n",
       "    </tr>\n",
       "    <tr>\n",
       "      <th>94</th>\n",
       "      <td>csv</td>\n",
       "      <td>251.99</td>\n",
       "      <td>12.83</td>\n",
       "      <td>153.802803</td>\n",
       "      <td>xz</td>\n",
       "      <td>0</td>\n",
       "      <td>4.612</td>\n",
       "      <td>csv_xz</td>\n",
       "      <td>csv_xz_default</td>\n",
       "    </tr>\n",
       "    <tr>\n",
       "      <th>95</th>\n",
       "      <td>csv</td>\n",
       "      <td>9.19</td>\n",
       "      <td>5.36</td>\n",
       "      <td>593.701172</td>\n",
       "      <td>tar</td>\n",
       "      <td>0</td>\n",
       "      <td>1.195</td>\n",
       "      <td>csv_tar</td>\n",
       "      <td>csv_tar_default</td>\n",
       "    </tr>\n",
       "    <tr>\n",
       "      <th>96</th>\n",
       "      <td>csv</td>\n",
       "      <td>8.58</td>\n",
       "      <td>5.34</td>\n",
       "      <td>593.696221</td>\n",
       "      <td>default</td>\n",
       "      <td>0</td>\n",
       "      <td>1.195</td>\n",
       "      <td>csv_default</td>\n",
       "      <td>csv_default_default</td>\n",
       "    </tr>\n",
       "  </tbody>\n",
       "</table>\n",
       "<p>97 rows × 9 columns</p>\n",
       "</div>"
      ],
      "text/plain": [
       "     method  save_time  read_time   file_size compression  compression_level  \\\n",
       "0   parquet       2.09       0.98  226.889376        zstd                  1   \n",
       "1   parquet       2.40       1.04  212.139284        zstd                  2   \n",
       "2   parquet       2.79       1.04  203.676181        zstd                  3   \n",
       "3   parquet       2.80       1.05  201.427144        zstd                  4   \n",
       "4   parquet       4.34       1.07  195.823249        zstd                  5   \n",
       "..      ...        ...        ...         ...         ...                ...   \n",
       "92      csv      39.75      16.60  172.703590         bz2                  0   \n",
       "93      csv      10.81       5.76  219.933631        zstd                  0   \n",
       "94      csv     251.99      12.83  153.802803          xz                  0   \n",
       "95      csv       9.19       5.36  593.701172         tar                  0   \n",
       "96      csv       8.58       5.34  593.696221     default                  0   \n",
       "\n",
       "    comp_ratio          type method_compression_with_level  \n",
       "0        3.126  parquet_zstd                parquet_zstd_1  \n",
       "1        3.344  parquet_zstd                parquet_zstd_2  \n",
       "2        3.483  parquet_zstd                parquet_zstd_3  \n",
       "3        3.522  parquet_zstd                parquet_zstd_4  \n",
       "4        3.622  parquet_zstd                parquet_zstd_5  \n",
       "..         ...           ...                           ...  \n",
       "92       4.107       csv_bz2               csv_bz2_default  \n",
       "93       3.225      csv_zstd              csv_zstd_default  \n",
       "94       4.612        csv_xz                csv_xz_default  \n",
       "95       1.195       csv_tar               csv_tar_default  \n",
       "96       1.195   csv_default           csv_default_default  \n",
       "\n",
       "[97 rows x 9 columns]"
      ]
     },
     "execution_count": 3,
     "metadata": {},
     "output_type": "execute_result"
    }
   ],
   "source": [
    "def method_compression_with_level(row) -> str:\n",
    "    level = row[\"compression_level\"] if row[\"compression_level\"] > 0 else \"default\"\n",
    "    return f\"{row['method']}_{row['compression']}_{level}\"\n",
    "\n",
    "df[\"method_compression_with_level\"] = df.apply(method_compression_with_level, axis=1)\n",
    "df"
   ]
  },
  {
   "cell_type": "code",
   "execution_count": 4,
   "metadata": {},
   "outputs": [
    {
     "data": {
      "text/html": [
       "<div>\n",
       "<style scoped>\n",
       "    .dataframe tbody tr th:only-of-type {\n",
       "        vertical-align: middle;\n",
       "    }\n",
       "\n",
       "    .dataframe tbody tr th {\n",
       "        vertical-align: top;\n",
       "    }\n",
       "\n",
       "    .dataframe thead th {\n",
       "        text-align: right;\n",
       "    }\n",
       "</style>\n",
       "<table border=\"1\" class=\"dataframe\">\n",
       "  <thead>\n",
       "    <tr style=\"text-align: right;\">\n",
       "      <th></th>\n",
       "      <th>method</th>\n",
       "      <th>save_time</th>\n",
       "      <th>read_time</th>\n",
       "      <th>file_size</th>\n",
       "      <th>compression</th>\n",
       "      <th>compression_level</th>\n",
       "      <th>comp_ratio</th>\n",
       "      <th>type</th>\n",
       "      <th>method_compression_with_level</th>\n",
       "    </tr>\n",
       "  </thead>\n",
       "  <tbody>\n",
       "    <tr>\n",
       "      <th>92</th>\n",
       "      <td>csv</td>\n",
       "      <td>39.75</td>\n",
       "      <td>16.60</td>\n",
       "      <td>172.703590</td>\n",
       "      <td>bz2</td>\n",
       "      <td>0</td>\n",
       "      <td>4.107</td>\n",
       "      <td>csv_bz2</td>\n",
       "      <td>csv_bz2_default</td>\n",
       "    </tr>\n",
       "    <tr>\n",
       "      <th>96</th>\n",
       "      <td>csv</td>\n",
       "      <td>8.58</td>\n",
       "      <td>5.34</td>\n",
       "      <td>593.696221</td>\n",
       "      <td>default</td>\n",
       "      <td>0</td>\n",
       "      <td>1.195</td>\n",
       "      <td>csv_default</td>\n",
       "      <td>csv_default_default</td>\n",
       "    </tr>\n",
       "    <tr>\n",
       "      <th>91</th>\n",
       "      <td>csv</td>\n",
       "      <td>32.59</td>\n",
       "      <td>7.22</td>\n",
       "      <td>228.723257</td>\n",
       "      <td>gzip</td>\n",
       "      <td>0</td>\n",
       "      <td>3.101</td>\n",
       "      <td>csv_gzip</td>\n",
       "      <td>csv_gzip_default</td>\n",
       "    </tr>\n",
       "    <tr>\n",
       "      <th>95</th>\n",
       "      <td>csv</td>\n",
       "      <td>9.19</td>\n",
       "      <td>5.36</td>\n",
       "      <td>593.701172</td>\n",
       "      <td>tar</td>\n",
       "      <td>0</td>\n",
       "      <td>1.195</td>\n",
       "      <td>csv_tar</td>\n",
       "      <td>csv_tar_default</td>\n",
       "    </tr>\n",
       "    <tr>\n",
       "      <th>94</th>\n",
       "      <td>csv</td>\n",
       "      <td>251.99</td>\n",
       "      <td>12.83</td>\n",
       "      <td>153.802803</td>\n",
       "      <td>xz</td>\n",
       "      <td>0</td>\n",
       "      <td>4.612</td>\n",
       "      <td>csv_xz</td>\n",
       "      <td>csv_xz_default</td>\n",
       "    </tr>\n",
       "    <tr>\n",
       "      <th>90</th>\n",
       "      <td>csv</td>\n",
       "      <td>28.59</td>\n",
       "      <td>5.93</td>\n",
       "      <td>229.096903</td>\n",
       "      <td>zip</td>\n",
       "      <td>0</td>\n",
       "      <td>3.096</td>\n",
       "      <td>csv_zip</td>\n",
       "      <td>csv_zip_default</td>\n",
       "    </tr>\n",
       "    <tr>\n",
       "      <th>93</th>\n",
       "      <td>csv</td>\n",
       "      <td>10.81</td>\n",
       "      <td>5.76</td>\n",
       "      <td>219.933631</td>\n",
       "      <td>zstd</td>\n",
       "      <td>0</td>\n",
       "      <td>3.225</td>\n",
       "      <td>csv_zstd</td>\n",
       "      <td>csv_zstd_default</td>\n",
       "    </tr>\n",
       "    <tr>\n",
       "      <th>89</th>\n",
       "      <td>feather</td>\n",
       "      <td>1.34</td>\n",
       "      <td>0.56</td>\n",
       "      <td>334.113550</td>\n",
       "      <td>default</td>\n",
       "      <td>0</td>\n",
       "      <td>2.123</td>\n",
       "      <td>feather_default</td>\n",
       "      <td>feather_default_default</td>\n",
       "    </tr>\n",
       "    <tr>\n",
       "      <th>86</th>\n",
       "      <td>feather</td>\n",
       "      <td>1.34</td>\n",
       "      <td>0.52</td>\n",
       "      <td>334.113550</td>\n",
       "      <td>lz4</td>\n",
       "      <td>0</td>\n",
       "      <td>2.123</td>\n",
       "      <td>feather_lz4</td>\n",
       "      <td>feather_lz4_default</td>\n",
       "    </tr>\n",
       "    <tr>\n",
       "      <th>88</th>\n",
       "      <td>feather</td>\n",
       "      <td>0.38</td>\n",
       "      <td>0.40</td>\n",
       "      <td>558.761370</td>\n",
       "      <td>uncompressed</td>\n",
       "      <td>0</td>\n",
       "      <td>1.269</td>\n",
       "      <td>feather_uncompressed</td>\n",
       "      <td>feather_uncompressed_default</td>\n",
       "    </tr>\n",
       "    <tr>\n",
       "      <th>87</th>\n",
       "      <td>feather</td>\n",
       "      <td>1.38</td>\n",
       "      <td>0.77</td>\n",
       "      <td>224.013041</td>\n",
       "      <td>zstd</td>\n",
       "      <td>0</td>\n",
       "      <td>3.166</td>\n",
       "      <td>feather_zstd</td>\n",
       "      <td>feather_zstd_default</td>\n",
       "    </tr>\n",
       "    <tr>\n",
       "      <th>84</th>\n",
       "      <td>parquet</td>\n",
       "      <td>18.57</td>\n",
       "      <td>1.66</td>\n",
       "      <td>181.176989</td>\n",
       "      <td>brotli</td>\n",
       "      <td>0</td>\n",
       "      <td>3.915</td>\n",
       "      <td>parquet_brotli</td>\n",
       "      <td>parquet_brotli_default</td>\n",
       "    </tr>\n",
       "    <tr>\n",
       "      <th>85</th>\n",
       "      <td>parquet</td>\n",
       "      <td>1.68</td>\n",
       "      <td>0.84</td>\n",
       "      <td>318.714994</td>\n",
       "      <td>default</td>\n",
       "      <td>0</td>\n",
       "      <td>2.226</td>\n",
       "      <td>parquet_default</td>\n",
       "      <td>parquet_default_default</td>\n",
       "    </tr>\n",
       "    <tr>\n",
       "      <th>80</th>\n",
       "      <td>parquet</td>\n",
       "      <td>20.33</td>\n",
       "      <td>1.89</td>\n",
       "      <td>211.332207</td>\n",
       "      <td>gzip</td>\n",
       "      <td>0</td>\n",
       "      <td>3.356</td>\n",
       "      <td>parquet_gzip</td>\n",
       "      <td>parquet_gzip_default</td>\n",
       "    </tr>\n",
       "    <tr>\n",
       "      <th>82</th>\n",
       "      <td>parquet</td>\n",
       "      <td>1.56</td>\n",
       "      <td>0.71</td>\n",
       "      <td>321.755417</td>\n",
       "      <td>lz4</td>\n",
       "      <td>0</td>\n",
       "      <td>2.205</td>\n",
       "      <td>parquet_lz4</td>\n",
       "      <td>parquet_lz4_default</td>\n",
       "    </tr>\n",
       "    <tr>\n",
       "      <th>81</th>\n",
       "      <td>parquet</td>\n",
       "      <td>1.71</td>\n",
       "      <td>0.81</td>\n",
       "      <td>318.714994</td>\n",
       "      <td>snappy</td>\n",
       "      <td>0</td>\n",
       "      <td>2.226</td>\n",
       "      <td>parquet_snappy</td>\n",
       "      <td>parquet_snappy_default</td>\n",
       "    </tr>\n",
       "    <tr>\n",
       "      <th>83</th>\n",
       "      <td>parquet</td>\n",
       "      <td>1.72</td>\n",
       "      <td>0.95</td>\n",
       "      <td>226.889376</td>\n",
       "      <td>zstd</td>\n",
       "      <td>0</td>\n",
       "      <td>3.126</td>\n",
       "      <td>parquet_zstd</td>\n",
       "      <td>parquet_zstd_default</td>\n",
       "    </tr>\n",
       "  </tbody>\n",
       "</table>\n",
       "</div>"
      ],
      "text/plain": [
       "     method  save_time  read_time   file_size   compression  \\\n",
       "92      csv      39.75      16.60  172.703590           bz2   \n",
       "96      csv       8.58       5.34  593.696221       default   \n",
       "91      csv      32.59       7.22  228.723257          gzip   \n",
       "95      csv       9.19       5.36  593.701172           tar   \n",
       "94      csv     251.99      12.83  153.802803            xz   \n",
       "90      csv      28.59       5.93  229.096903           zip   \n",
       "93      csv      10.81       5.76  219.933631          zstd   \n",
       "89  feather       1.34       0.56  334.113550       default   \n",
       "86  feather       1.34       0.52  334.113550           lz4   \n",
       "88  feather       0.38       0.40  558.761370  uncompressed   \n",
       "87  feather       1.38       0.77  224.013041          zstd   \n",
       "84  parquet      18.57       1.66  181.176989        brotli   \n",
       "85  parquet       1.68       0.84  318.714994       default   \n",
       "80  parquet      20.33       1.89  211.332207          gzip   \n",
       "82  parquet       1.56       0.71  321.755417           lz4   \n",
       "81  parquet       1.71       0.81  318.714994        snappy   \n",
       "83  parquet       1.72       0.95  226.889376          zstd   \n",
       "\n",
       "    compression_level  comp_ratio                  type  \\\n",
       "92                  0       4.107               csv_bz2   \n",
       "96                  0       1.195           csv_default   \n",
       "91                  0       3.101              csv_gzip   \n",
       "95                  0       1.195               csv_tar   \n",
       "94                  0       4.612                csv_xz   \n",
       "90                  0       3.096               csv_zip   \n",
       "93                  0       3.225              csv_zstd   \n",
       "89                  0       2.123       feather_default   \n",
       "86                  0       2.123           feather_lz4   \n",
       "88                  0       1.269  feather_uncompressed   \n",
       "87                  0       3.166          feather_zstd   \n",
       "84                  0       3.915        parquet_brotli   \n",
       "85                  0       2.226       parquet_default   \n",
       "80                  0       3.356          parquet_gzip   \n",
       "82                  0       2.205           parquet_lz4   \n",
       "81                  0       2.226        parquet_snappy   \n",
       "83                  0       3.126          parquet_zstd   \n",
       "\n",
       "   method_compression_with_level  \n",
       "92               csv_bz2_default  \n",
       "96           csv_default_default  \n",
       "91              csv_gzip_default  \n",
       "95               csv_tar_default  \n",
       "94                csv_xz_default  \n",
       "90               csv_zip_default  \n",
       "93              csv_zstd_default  \n",
       "89       feather_default_default  \n",
       "86           feather_lz4_default  \n",
       "88  feather_uncompressed_default  \n",
       "87          feather_zstd_default  \n",
       "84        parquet_brotli_default  \n",
       "85       parquet_default_default  \n",
       "80          parquet_gzip_default  \n",
       "82           parquet_lz4_default  \n",
       "81        parquet_snappy_default  \n",
       "83          parquet_zstd_default  "
      ]
     },
     "execution_count": 4,
     "metadata": {},
     "output_type": "execute_result"
    }
   ],
   "source": [
    "df_default_cl = df[df[\"compression_level\"] == 0].copy()\n",
    "\n",
    "# oder df_default_cl by method_compression_with_level\n",
    "df_default_cl.sort_values(\"method_compression_with_level\", ascending=True, inplace=True)\n",
    "\n",
    "df_default_cl"
   ]
  },
  {
   "cell_type": "code",
   "execution_count": 5,
   "metadata": {},
   "outputs": [
    {
     "data": {
      "application/vnd.plotly.v1+json": {
       "config": {
        "plotlyServerURL": "https://plot.ly"
       },
       "data": [
        {
         "alignmentgroup": "True",
         "hovertemplate": "format_compression_level=%{x}<br>compression ratio=%{y}<extra></extra>",
         "legendgroup": "",
         "marker": {
          "color": "#636efa",
          "pattern": {
           "shape": ""
          }
         },
         "name": "",
         "offsetgroup": "",
         "orientation": "v",
         "showlegend": false,
         "textposition": "auto",
         "texttemplate": "%{y}",
         "type": "bar",
         "x": [
          "csv_bz2_default",
          "csv_default_default",
          "csv_gzip_default",
          "csv_tar_default",
          "csv_xz_default",
          "csv_zip_default",
          "csv_zstd_default",
          "feather_default_default",
          "feather_lz4_default",
          "feather_uncompressed_default",
          "feather_zstd_default",
          "parquet_brotli_default",
          "parquet_default_default",
          "parquet_gzip_default",
          "parquet_lz4_default",
          "parquet_snappy_default",
          "parquet_zstd_default"
         ],
         "xaxis": "x",
         "y": [
          4.107,
          1.195,
          3.101,
          1.195,
          4.612,
          3.096,
          3.225,
          2.123,
          2.123,
          1.269,
          3.166,
          3.915,
          2.226,
          3.356,
          2.205,
          2.226,
          3.126
         ],
         "yaxis": "y"
        }
       ],
       "layout": {
        "barmode": "relative",
        "legend": {
         "tracegroupgap": 0
        },
        "margin": {
         "t": 60
        },
        "template": {
         "data": {
          "bar": [
           {
            "error_x": {
             "color": "#2a3f5f"
            },
            "error_y": {
             "color": "#2a3f5f"
            },
            "marker": {
             "line": {
              "color": "#E5ECF6",
              "width": 0.5
             },
             "pattern": {
              "fillmode": "overlay",
              "size": 10,
              "solidity": 0.2
             }
            },
            "type": "bar"
           }
          ],
          "barpolar": [
           {
            "marker": {
             "line": {
              "color": "#E5ECF6",
              "width": 0.5
             },
             "pattern": {
              "fillmode": "overlay",
              "size": 10,
              "solidity": 0.2
             }
            },
            "type": "barpolar"
           }
          ],
          "carpet": [
           {
            "aaxis": {
             "endlinecolor": "#2a3f5f",
             "gridcolor": "white",
             "linecolor": "white",
             "minorgridcolor": "white",
             "startlinecolor": "#2a3f5f"
            },
            "baxis": {
             "endlinecolor": "#2a3f5f",
             "gridcolor": "white",
             "linecolor": "white",
             "minorgridcolor": "white",
             "startlinecolor": "#2a3f5f"
            },
            "type": "carpet"
           }
          ],
          "choropleth": [
           {
            "colorbar": {
             "outlinewidth": 0,
             "ticks": ""
            },
            "type": "choropleth"
           }
          ],
          "contour": [
           {
            "colorbar": {
             "outlinewidth": 0,
             "ticks": ""
            },
            "colorscale": [
             [
              0,
              "#0d0887"
             ],
             [
              0.1111111111111111,
              "#46039f"
             ],
             [
              0.2222222222222222,
              "#7201a8"
             ],
             [
              0.3333333333333333,
              "#9c179e"
             ],
             [
              0.4444444444444444,
              "#bd3786"
             ],
             [
              0.5555555555555556,
              "#d8576b"
             ],
             [
              0.6666666666666666,
              "#ed7953"
             ],
             [
              0.7777777777777778,
              "#fb9f3a"
             ],
             [
              0.8888888888888888,
              "#fdca26"
             ],
             [
              1,
              "#f0f921"
             ]
            ],
            "type": "contour"
           }
          ],
          "contourcarpet": [
           {
            "colorbar": {
             "outlinewidth": 0,
             "ticks": ""
            },
            "type": "contourcarpet"
           }
          ],
          "heatmap": [
           {
            "colorbar": {
             "outlinewidth": 0,
             "ticks": ""
            },
            "colorscale": [
             [
              0,
              "#0d0887"
             ],
             [
              0.1111111111111111,
              "#46039f"
             ],
             [
              0.2222222222222222,
              "#7201a8"
             ],
             [
              0.3333333333333333,
              "#9c179e"
             ],
             [
              0.4444444444444444,
              "#bd3786"
             ],
             [
              0.5555555555555556,
              "#d8576b"
             ],
             [
              0.6666666666666666,
              "#ed7953"
             ],
             [
              0.7777777777777778,
              "#fb9f3a"
             ],
             [
              0.8888888888888888,
              "#fdca26"
             ],
             [
              1,
              "#f0f921"
             ]
            ],
            "type": "heatmap"
           }
          ],
          "heatmapgl": [
           {
            "colorbar": {
             "outlinewidth": 0,
             "ticks": ""
            },
            "colorscale": [
             [
              0,
              "#0d0887"
             ],
             [
              0.1111111111111111,
              "#46039f"
             ],
             [
              0.2222222222222222,
              "#7201a8"
             ],
             [
              0.3333333333333333,
              "#9c179e"
             ],
             [
              0.4444444444444444,
              "#bd3786"
             ],
             [
              0.5555555555555556,
              "#d8576b"
             ],
             [
              0.6666666666666666,
              "#ed7953"
             ],
             [
              0.7777777777777778,
              "#fb9f3a"
             ],
             [
              0.8888888888888888,
              "#fdca26"
             ],
             [
              1,
              "#f0f921"
             ]
            ],
            "type": "heatmapgl"
           }
          ],
          "histogram": [
           {
            "marker": {
             "pattern": {
              "fillmode": "overlay",
              "size": 10,
              "solidity": 0.2
             }
            },
            "type": "histogram"
           }
          ],
          "histogram2d": [
           {
            "colorbar": {
             "outlinewidth": 0,
             "ticks": ""
            },
            "colorscale": [
             [
              0,
              "#0d0887"
             ],
             [
              0.1111111111111111,
              "#46039f"
             ],
             [
              0.2222222222222222,
              "#7201a8"
             ],
             [
              0.3333333333333333,
              "#9c179e"
             ],
             [
              0.4444444444444444,
              "#bd3786"
             ],
             [
              0.5555555555555556,
              "#d8576b"
             ],
             [
              0.6666666666666666,
              "#ed7953"
             ],
             [
              0.7777777777777778,
              "#fb9f3a"
             ],
             [
              0.8888888888888888,
              "#fdca26"
             ],
             [
              1,
              "#f0f921"
             ]
            ],
            "type": "histogram2d"
           }
          ],
          "histogram2dcontour": [
           {
            "colorbar": {
             "outlinewidth": 0,
             "ticks": ""
            },
            "colorscale": [
             [
              0,
              "#0d0887"
             ],
             [
              0.1111111111111111,
              "#46039f"
             ],
             [
              0.2222222222222222,
              "#7201a8"
             ],
             [
              0.3333333333333333,
              "#9c179e"
             ],
             [
              0.4444444444444444,
              "#bd3786"
             ],
             [
              0.5555555555555556,
              "#d8576b"
             ],
             [
              0.6666666666666666,
              "#ed7953"
             ],
             [
              0.7777777777777778,
              "#fb9f3a"
             ],
             [
              0.8888888888888888,
              "#fdca26"
             ],
             [
              1,
              "#f0f921"
             ]
            ],
            "type": "histogram2dcontour"
           }
          ],
          "mesh3d": [
           {
            "colorbar": {
             "outlinewidth": 0,
             "ticks": ""
            },
            "type": "mesh3d"
           }
          ],
          "parcoords": [
           {
            "line": {
             "colorbar": {
              "outlinewidth": 0,
              "ticks": ""
             }
            },
            "type": "parcoords"
           }
          ],
          "pie": [
           {
            "automargin": true,
            "type": "pie"
           }
          ],
          "scatter": [
           {
            "fillpattern": {
             "fillmode": "overlay",
             "size": 10,
             "solidity": 0.2
            },
            "type": "scatter"
           }
          ],
          "scatter3d": [
           {
            "line": {
             "colorbar": {
              "outlinewidth": 0,
              "ticks": ""
             }
            },
            "marker": {
             "colorbar": {
              "outlinewidth": 0,
              "ticks": ""
             }
            },
            "type": "scatter3d"
           }
          ],
          "scattercarpet": [
           {
            "marker": {
             "colorbar": {
              "outlinewidth": 0,
              "ticks": ""
             }
            },
            "type": "scattercarpet"
           }
          ],
          "scattergeo": [
           {
            "marker": {
             "colorbar": {
              "outlinewidth": 0,
              "ticks": ""
             }
            },
            "type": "scattergeo"
           }
          ],
          "scattergl": [
           {
            "marker": {
             "colorbar": {
              "outlinewidth": 0,
              "ticks": ""
             }
            },
            "type": "scattergl"
           }
          ],
          "scattermapbox": [
           {
            "marker": {
             "colorbar": {
              "outlinewidth": 0,
              "ticks": ""
             }
            },
            "type": "scattermapbox"
           }
          ],
          "scatterpolar": [
           {
            "marker": {
             "colorbar": {
              "outlinewidth": 0,
              "ticks": ""
             }
            },
            "type": "scatterpolar"
           }
          ],
          "scatterpolargl": [
           {
            "marker": {
             "colorbar": {
              "outlinewidth": 0,
              "ticks": ""
             }
            },
            "type": "scatterpolargl"
           }
          ],
          "scatterternary": [
           {
            "marker": {
             "colorbar": {
              "outlinewidth": 0,
              "ticks": ""
             }
            },
            "type": "scatterternary"
           }
          ],
          "surface": [
           {
            "colorbar": {
             "outlinewidth": 0,
             "ticks": ""
            },
            "colorscale": [
             [
              0,
              "#0d0887"
             ],
             [
              0.1111111111111111,
              "#46039f"
             ],
             [
              0.2222222222222222,
              "#7201a8"
             ],
             [
              0.3333333333333333,
              "#9c179e"
             ],
             [
              0.4444444444444444,
              "#bd3786"
             ],
             [
              0.5555555555555556,
              "#d8576b"
             ],
             [
              0.6666666666666666,
              "#ed7953"
             ],
             [
              0.7777777777777778,
              "#fb9f3a"
             ],
             [
              0.8888888888888888,
              "#fdca26"
             ],
             [
              1,
              "#f0f921"
             ]
            ],
            "type": "surface"
           }
          ],
          "table": [
           {
            "cells": {
             "fill": {
              "color": "#EBF0F8"
             },
             "line": {
              "color": "white"
             }
            },
            "header": {
             "fill": {
              "color": "#C8D4E3"
             },
             "line": {
              "color": "white"
             }
            },
            "type": "table"
           }
          ]
         },
         "layout": {
          "annotationdefaults": {
           "arrowcolor": "#2a3f5f",
           "arrowhead": 0,
           "arrowwidth": 1
          },
          "autotypenumbers": "strict",
          "coloraxis": {
           "colorbar": {
            "outlinewidth": 0,
            "ticks": ""
           }
          },
          "colorscale": {
           "diverging": [
            [
             0,
             "#8e0152"
            ],
            [
             0.1,
             "#c51b7d"
            ],
            [
             0.2,
             "#de77ae"
            ],
            [
             0.3,
             "#f1b6da"
            ],
            [
             0.4,
             "#fde0ef"
            ],
            [
             0.5,
             "#f7f7f7"
            ],
            [
             0.6,
             "#e6f5d0"
            ],
            [
             0.7,
             "#b8e186"
            ],
            [
             0.8,
             "#7fbc41"
            ],
            [
             0.9,
             "#4d9221"
            ],
            [
             1,
             "#276419"
            ]
           ],
           "sequential": [
            [
             0,
             "#0d0887"
            ],
            [
             0.1111111111111111,
             "#46039f"
            ],
            [
             0.2222222222222222,
             "#7201a8"
            ],
            [
             0.3333333333333333,
             "#9c179e"
            ],
            [
             0.4444444444444444,
             "#bd3786"
            ],
            [
             0.5555555555555556,
             "#d8576b"
            ],
            [
             0.6666666666666666,
             "#ed7953"
            ],
            [
             0.7777777777777778,
             "#fb9f3a"
            ],
            [
             0.8888888888888888,
             "#fdca26"
            ],
            [
             1,
             "#f0f921"
            ]
           ],
           "sequentialminus": [
            [
             0,
             "#0d0887"
            ],
            [
             0.1111111111111111,
             "#46039f"
            ],
            [
             0.2222222222222222,
             "#7201a8"
            ],
            [
             0.3333333333333333,
             "#9c179e"
            ],
            [
             0.4444444444444444,
             "#bd3786"
            ],
            [
             0.5555555555555556,
             "#d8576b"
            ],
            [
             0.6666666666666666,
             "#ed7953"
            ],
            [
             0.7777777777777778,
             "#fb9f3a"
            ],
            [
             0.8888888888888888,
             "#fdca26"
            ],
            [
             1,
             "#f0f921"
            ]
           ]
          },
          "colorway": [
           "#636efa",
           "#EF553B",
           "#00cc96",
           "#ab63fa",
           "#FFA15A",
           "#19d3f3",
           "#FF6692",
           "#B6E880",
           "#FF97FF",
           "#FECB52"
          ],
          "font": {
           "color": "#2a3f5f"
          },
          "geo": {
           "bgcolor": "white",
           "lakecolor": "white",
           "landcolor": "#E5ECF6",
           "showlakes": true,
           "showland": true,
           "subunitcolor": "white"
          },
          "hoverlabel": {
           "align": "left"
          },
          "hovermode": "closest",
          "mapbox": {
           "style": "light"
          },
          "paper_bgcolor": "white",
          "plot_bgcolor": "#E5ECF6",
          "polar": {
           "angularaxis": {
            "gridcolor": "white",
            "linecolor": "white",
            "ticks": ""
           },
           "bgcolor": "#E5ECF6",
           "radialaxis": {
            "gridcolor": "white",
            "linecolor": "white",
            "ticks": ""
           }
          },
          "scene": {
           "xaxis": {
            "backgroundcolor": "#E5ECF6",
            "gridcolor": "white",
            "gridwidth": 2,
            "linecolor": "white",
            "showbackground": true,
            "ticks": "",
            "zerolinecolor": "white"
           },
           "yaxis": {
            "backgroundcolor": "#E5ECF6",
            "gridcolor": "white",
            "gridwidth": 2,
            "linecolor": "white",
            "showbackground": true,
            "ticks": "",
            "zerolinecolor": "white"
           },
           "zaxis": {
            "backgroundcolor": "#E5ECF6",
            "gridcolor": "white",
            "gridwidth": 2,
            "linecolor": "white",
            "showbackground": true,
            "ticks": "",
            "zerolinecolor": "white"
           }
          },
          "shapedefaults": {
           "line": {
            "color": "#2a3f5f"
           }
          },
          "ternary": {
           "aaxis": {
            "gridcolor": "white",
            "linecolor": "white",
            "ticks": ""
           },
           "baxis": {
            "gridcolor": "white",
            "linecolor": "white",
            "ticks": ""
           },
           "bgcolor": "#E5ECF6",
           "caxis": {
            "gridcolor": "white",
            "linecolor": "white",
            "ticks": ""
           }
          },
          "title": {
           "x": 0.05
          },
          "xaxis": {
           "automargin": true,
           "gridcolor": "white",
           "linecolor": "white",
           "ticks": "",
           "title": {
            "standoff": 15
           },
           "zerolinecolor": "white",
           "zerolinewidth": 2
          },
          "yaxis": {
           "automargin": true,
           "gridcolor": "white",
           "linecolor": "white",
           "ticks": "",
           "title": {
            "standoff": 15
           },
           "zerolinecolor": "white",
           "zerolinewidth": 2
          }
         }
        },
        "xaxis": {
         "anchor": "y",
         "domain": [
          0,
          1
         ],
         "title": {
          "text": "format_compression_level"
         }
        },
        "yaxis": {
         "anchor": "x",
         "domain": [
          0,
          1
         ],
         "title": {
          "text": "compression ratio"
         }
        }
       }
      }
     },
     "metadata": {},
     "output_type": "display_data"
    },
    {
     "ename": "FileNotFoundError",
     "evalue": "[Errno 2] No such file or directory: 'plots_category/pandas_ff_bar_comp_ratio.svg'",
     "output_type": "error",
     "traceback": [
      "\u001b[0;31m---------------------------------------------------------------------------\u001b[0m",
      "\u001b[0;31mFileNotFoundError\u001b[0m                         Traceback (most recent call last)",
      "Cell \u001b[0;32mIn[5], line 5\u001b[0m\n\u001b[1;32m      1\u001b[0m fig \u001b[38;5;241m=\u001b[39m px\u001b[38;5;241m.\u001b[39mbar(df_default_cl, x\u001b[38;5;241m=\u001b[39m\u001b[38;5;124m\"\u001b[39m\u001b[38;5;124mmethod_compression_with_level\u001b[39m\u001b[38;5;124m\"\u001b[39m, y\u001b[38;5;241m=\u001b[39m\u001b[38;5;124m\"\u001b[39m\u001b[38;5;124mcomp_ratio\u001b[39m\u001b[38;5;124m\"\u001b[39m, text_auto\u001b[38;5;241m=\u001b[39m\u001b[38;5;28;01mTrue\u001b[39;00m,\n\u001b[1;32m      2\u001b[0m              labels\u001b[38;5;241m=\u001b[39m{\u001b[38;5;124m\"\u001b[39m\u001b[38;5;124mcomp_ratio\u001b[39m\u001b[38;5;124m\"\u001b[39m: \u001b[38;5;124m\"\u001b[39m\u001b[38;5;124mcompression ratio\u001b[39m\u001b[38;5;124m\"\u001b[39m,\n\u001b[1;32m      3\u001b[0m                      \u001b[38;5;124m\"\u001b[39m\u001b[38;5;124mmethod_compression_with_level\u001b[39m\u001b[38;5;124m\"\u001b[39m: \u001b[38;5;124m\"\u001b[39m\u001b[38;5;124mformat_compression_level\u001b[39m\u001b[38;5;124m\"\u001b[39m},)\n\u001b[1;32m      4\u001b[0m fig\u001b[38;5;241m.\u001b[39mshow()\n\u001b[0;32m----> 5\u001b[0m \u001b[43mfig\u001b[49m\u001b[38;5;241;43m.\u001b[39;49m\u001b[43mwrite_image\u001b[49m\u001b[43m(\u001b[49m\u001b[38;5;124;43m\"\u001b[39;49m\u001b[38;5;124;43m./plots_category/pandas_ff_bar_comp_ratio.svg\u001b[39;49m\u001b[38;5;124;43m\"\u001b[39;49m\u001b[43m)\u001b[49m\n",
      "File \u001b[0;32m~/code/git/pandas_compression/.venv/lib/python3.11/site-packages/plotly/basedatatypes.py:3841\u001b[0m, in \u001b[0;36mBaseFigure.write_image\u001b[0;34m(self, *args, **kwargs)\u001b[0m\n\u001b[1;32m   3781\u001b[0m \u001b[38;5;250m\u001b[39m\u001b[38;5;124;03m\"\"\"\u001b[39;00m\n\u001b[1;32m   3782\u001b[0m \u001b[38;5;124;03mConvert a figure to a static image and write it to a file or writeable\u001b[39;00m\n\u001b[1;32m   3783\u001b[0m \u001b[38;5;124;03mobject\u001b[39;00m\n\u001b[0;32m   (...)\u001b[0m\n\u001b[1;32m   3837\u001b[0m \u001b[38;5;124;03mNone\u001b[39;00m\n\u001b[1;32m   3838\u001b[0m \u001b[38;5;124;03m\"\"\"\u001b[39;00m\n\u001b[1;32m   3839\u001b[0m \u001b[38;5;28;01mimport\u001b[39;00m \u001b[38;5;21;01mplotly\u001b[39;00m\u001b[38;5;21;01m.\u001b[39;00m\u001b[38;5;21;01mio\u001b[39;00m \u001b[38;5;28;01mas\u001b[39;00m \u001b[38;5;21;01mpio\u001b[39;00m\n\u001b[0;32m-> 3841\u001b[0m \u001b[38;5;28;01mreturn\u001b[39;00m \u001b[43mpio\u001b[49m\u001b[38;5;241;43m.\u001b[39;49m\u001b[43mwrite_image\u001b[49m\u001b[43m(\u001b[49m\u001b[38;5;28;43mself\u001b[39;49m\u001b[43m,\u001b[49m\u001b[43m \u001b[49m\u001b[38;5;241;43m*\u001b[39;49m\u001b[43margs\u001b[49m\u001b[43m,\u001b[49m\u001b[43m \u001b[49m\u001b[38;5;241;43m*\u001b[39;49m\u001b[38;5;241;43m*\u001b[39;49m\u001b[43mkwargs\u001b[49m\u001b[43m)\u001b[49m\n",
      "File \u001b[0;32m~/code/git/pandas_compression/.venv/lib/python3.11/site-packages/plotly/io/_kaleido.py:296\u001b[0m, in \u001b[0;36mwrite_image\u001b[0;34m(fig, file, format, scale, width, height, validate, engine)\u001b[0m\n\u001b[1;32m    286\u001b[0m         \u001b[38;5;28;01mraise\u001b[39;00m \u001b[38;5;167;01mValueError\u001b[39;00m(\n\u001b[1;32m    287\u001b[0m \u001b[38;5;250m            \u001b[39m\u001b[38;5;124;03m\"\"\"\u001b[39;00m\n\u001b[1;32m    288\u001b[0m \u001b[38;5;124;03mThe 'file' argument '{file}' is not a string, pathlib.Path object, or file descriptor.\u001b[39;00m\n\u001b[0;32m   (...)\u001b[0m\n\u001b[1;32m    291\u001b[0m             )\n\u001b[1;32m    292\u001b[0m         )\n\u001b[1;32m    293\u001b[0m     \u001b[38;5;28;01melse\u001b[39;00m:\n\u001b[1;32m    294\u001b[0m         \u001b[38;5;66;03m# We previously succeeded in interpreting `file` as a pathlib object.\u001b[39;00m\n\u001b[1;32m    295\u001b[0m         \u001b[38;5;66;03m# Now we can use `write_bytes()`.\u001b[39;00m\n\u001b[0;32m--> 296\u001b[0m         \u001b[43mpath\u001b[49m\u001b[38;5;241;43m.\u001b[39;49m\u001b[43mwrite_bytes\u001b[49m\u001b[43m(\u001b[49m\u001b[43mimg_data\u001b[49m\u001b[43m)\u001b[49m\n",
      "File \u001b[0;32m~/.pyenv/versions/3.11.9/lib/python3.11/pathlib.py:1067\u001b[0m, in \u001b[0;36mPath.write_bytes\u001b[0;34m(self, data)\u001b[0m\n\u001b[1;32m   1065\u001b[0m \u001b[38;5;66;03m# type-check for the buffer interface before truncating the file\u001b[39;00m\n\u001b[1;32m   1066\u001b[0m view \u001b[38;5;241m=\u001b[39m \u001b[38;5;28mmemoryview\u001b[39m(data)\n\u001b[0;32m-> 1067\u001b[0m \u001b[38;5;28;01mwith\u001b[39;00m \u001b[38;5;28;43mself\u001b[39;49m\u001b[38;5;241;43m.\u001b[39;49m\u001b[43mopen\u001b[49m\u001b[43m(\u001b[49m\u001b[43mmode\u001b[49m\u001b[38;5;241;43m=\u001b[39;49m\u001b[38;5;124;43m'\u001b[39;49m\u001b[38;5;124;43mwb\u001b[39;49m\u001b[38;5;124;43m'\u001b[39;49m\u001b[43m)\u001b[49m \u001b[38;5;28;01mas\u001b[39;00m f:\n\u001b[1;32m   1068\u001b[0m     \u001b[38;5;28;01mreturn\u001b[39;00m f\u001b[38;5;241m.\u001b[39mwrite(view)\n",
      "File \u001b[0;32m~/.pyenv/versions/3.11.9/lib/python3.11/pathlib.py:1044\u001b[0m, in \u001b[0;36mPath.open\u001b[0;34m(self, mode, buffering, encoding, errors, newline)\u001b[0m\n\u001b[1;32m   1042\u001b[0m \u001b[38;5;28;01mif\u001b[39;00m \u001b[38;5;124m\"\u001b[39m\u001b[38;5;124mb\u001b[39m\u001b[38;5;124m\"\u001b[39m \u001b[38;5;129;01mnot\u001b[39;00m \u001b[38;5;129;01min\u001b[39;00m mode:\n\u001b[1;32m   1043\u001b[0m     encoding \u001b[38;5;241m=\u001b[39m io\u001b[38;5;241m.\u001b[39mtext_encoding(encoding)\n\u001b[0;32m-> 1044\u001b[0m \u001b[38;5;28;01mreturn\u001b[39;00m io\u001b[38;5;241m.\u001b[39mopen(\u001b[38;5;28mself\u001b[39m, mode, buffering, encoding, errors, newline)\n",
      "\u001b[0;31mFileNotFoundError\u001b[0m: [Errno 2] No such file or directory: 'plots_category/pandas_ff_bar_comp_ratio.svg'"
     ]
    }
   ],
   "source": [
    "fig = px.bar(df_default_cl, x=\"method_compression_with_level\", y=\"comp_ratio\", text_auto=True,\n",
    "             labels={\"comp_ratio\": \"compression ratio\",\n",
    "                     \"method_compression_with_level\": \"format_compression_level\"},)\n",
    "fig.show()\n",
    "fig.write_image(\"./plots_category/pandas_ff_bar_comp_ratio.svg\")\n"
   ]
  },
  {
   "cell_type": "markdown",
   "metadata": {},
   "source": [
    "## Insights\n",
    "\n",
    "- best compression has\n",
    "  - bz2\n",
    "  - xz\n",
    "  - brotli\n",
    "\n",
    "## Next Steps\n",
    "\n",
    "- check save times\n",
    "- check read times"
   ]
  },
  {
   "cell_type": "code",
   "execution_count": null,
   "metadata": {},
   "outputs": [],
   "source": [
    "fig = px.bar(df_default_cl, x=\"method_compression_with_level\", y=\"save_time\", text_auto=True,\n",
    "             labels={\"save_time\": \"time to save data in seconds\",\n",
    "                     \"method_compression_with_level\": \"format_compression_level\"},)\n",
    "fig.show()\n",
    "fig.write_image(\"./plots_category/pandas_ff_bar_save_time.svg\")\n"
   ]
  },
  {
   "cell_type": "markdown",
   "metadata": {},
   "source": [
    "## Insights\n",
    "\n",
    "- xz has a very long save time\n",
    "- xz save time is so much longer than bz2 that it does not justify the slightly better compression that bz2\n",
    "- xz is out\n",
    "- bz2 also has a long save time\n",
    "- brotli save time seems to be ok but not fastest\n",
    "\n",
    "## Next Steps\n",
    "\n",
    "- also check read times"
   ]
  },
  {
   "cell_type": "code",
   "execution_count": null,
   "metadata": {},
   "outputs": [],
   "source": [
    "fig = px.bar(df_default_cl, x=\"method_compression_with_level\", y=\"read_time\", text_auto=True,\n",
    "             labels={\"read_time\": \"time to read data in seconds\",\n",
    "                     \"method_compression_with_level\": \"format_compression_level\"},)\n",
    "fig.show()\n",
    "fig.write_image(\"./plots_category/pandas_ff_bar_read_time.svg\")"
   ]
  },
  {
   "cell_type": "markdown",
   "metadata": {},
   "source": [
    "## Insights\n",
    "\n",
    "- bz2 has a very long read time\n",
    "- xz also has a long read time\n",
    "- brotli read time seems to be ok but not fastest\n",
    "\n",
    "## Next Steps\n",
    "\n",
    "- what about the comprssion level?"
   ]
  },
  {
   "cell_type": "code",
   "execution_count": null,
   "metadata": {},
   "outputs": [],
   "source": [
    "interesting_method_compression_with_level = [\n",
    "    \"csv_bz2_default\",\n",
    "    \"csv_xz_default\",\n",
    "    \"parquet_brotli_default\",\n",
    "    \"parquet_zstd_1\",\n",
    "    \"parquet_zstd_5\",\n",
    "    \"parquet_zstd_10\",\n",
    "    \"parquet_zstd_18\",\n",
    "    \"parquet_lz4_1\",\n",
    "    \"parquet_lz4_5\",\n",
    "    \"parquet_lz4_10\",\n",
    "    \"parquet_lz4_18\",\n",
    "    \"feather_zstd_1\",\n",
    "    \"feather_zstd_5\",\n",
    "    \"feather_zstd_10\",\n",
    "    \"feather_zstd_18\",\n",
    "    \"feather_lz4_1\",\n",
    "    \"feather_lz4_5\",\n",
    "    \"feather_lz4_10\",\n",
    "    \"feather_lz4_18\",\n",
    "]\n",
    "\n",
    "df_interesting_levels = df[df[\"method_compression_with_level\"].isin(interesting_method_compression_with_level)].copy()\n",
    "#df_interesting_levels.sort_values(\"method_compression_with_level\", ascending=True, inplace=True)\n",
    "df_interesting_levels"
   ]
  },
  {
   "cell_type": "code",
   "execution_count": null,
   "metadata": {},
   "outputs": [],
   "source": [
    "fig = px.bar(df_interesting_levels, x=\"method_compression_with_level\", y=\"comp_ratio\", text_auto=True,\n",
    "             labels={\"comp_ratio\": \"compression ratio\",\n",
    "                     \"method_compression_with_level\": \"format_compression_level\"},)\n",
    "fig.show()\n",
    "fig.write_image(\"./plots_category/pandas_ff_bar_comp_ratio_feather.svg\")\n"
   ]
  },
  {
   "cell_type": "code",
   "execution_count": null,
   "metadata": {},
   "outputs": [],
   "source": [
    "fig = px.bar(df_interesting_levels, x=\"method_compression_with_level\", y=\"save_time\", text_auto=True,\n",
    "             labels={\"save_time\": \"time to save data in seconds\",\n",
    "                     \"method_compression_with_level\": \"format_compression_level\"},)\n",
    "fig.show()\n",
    "fig.write_image(\"./plots_category/pandas_ff_bar_save_time_feather.svg\")"
   ]
  },
  {
   "cell_type": "code",
   "execution_count": null,
   "metadata": {},
   "outputs": [],
   "source": [
    "fig = px.bar(df_interesting_levels, x=\"method_compression_with_level\", y=\"read_time\", text_auto=True,\n",
    "             labels={\"read_time\": \"time to read data in seconds\",\n",
    "                     \"method_compression_with_level\": \"format_compression_level\"},)\n",
    "fig.show()\n",
    "fig.write_image(\"./plots_category/pandas_ff_bar_read_time_feather.svg\")"
   ]
  },
  {
   "cell_type": "code",
   "execution_count": null,
   "metadata": {},
   "outputs": [],
   "source": [
    "feather_df = df[(df[\"method\"].isin([\"feather\", \"parquet\"])) & (df[\"compression_level\"] > 0) &\n",
    "                (df[\"compression\"] == \"zstd\")].copy()\n",
    "#feather_df = df[df[\"method\"].isin([\"feather\", \"parquet\"])].copy()\n",
    "\n",
    "feather_df"
   ]
  },
  {
   "cell_type": "code",
   "execution_count": null,
   "metadata": {},
   "outputs": [],
   "source": [
    "fig = px.scatter(feather_df, x=\"compression_level\", y=\"comp_ratio\", color='type',\n",
    "                 hover_data=['save_time', \"read_time\"],\n",
    "                 symbol=\"type\",\n",
    "                 labels={\"comp_ratio\": \"compression ratio\",\n",
    "                         \"compression_level\": \"level of compression\"})\n",
    "fig.update_traces(marker_size=8)\n",
    "fig.show()\n",
    "fig.write_image(\"./plots_category/pandas_ff_scatter_comp_ratio_feather.svg\")"
   ]
  },
  {
   "cell_type": "code",
   "execution_count": null,
   "metadata": {},
   "outputs": [],
   "source": [
    "fig = px.scatter(feather_df, x=\"compression_level\", y=\"save_time\", color='type', hover_data=['comp_ratio', \"read_time\"],\n",
    "                 symbol=\"type\",\n",
    "                 labels={\"save_time\": \"time to save data in seconds\",\n",
    "                     \"compression_level\": \"level of compression\"})\n",
    "fig.update_traces(marker_size=8)\n",
    "fig.show()\n",
    "fig.write_image(\"./plots_category/pandas_ff_scatter_save_time_feather.svg\")"
   ]
  },
  {
   "cell_type": "code",
   "execution_count": null,
   "metadata": {},
   "outputs": [],
   "source": [
    "fig = px.scatter(feather_df, x=\"compression_level\", y=\"read_time\", color='type',\n",
    "                 hover_data=['comp_ratio', \"save_time\"],\n",
    "                 symbol=\"type\",\n",
    "                 labels={\"read_time\": \"time to read data in seconds\",\n",
    "                     \"compression_level\": \"level of compression\"})\n",
    "fig.update_traces(marker_size=8)\n",
    "fig.show()\n",
    "fig.write_image(\"./plots_category/pandas_ff_scatter_read_time_feather.svg\")"
   ]
  },
  {
   "cell_type": "code",
   "execution_count": null,
   "metadata": {},
   "outputs": [],
   "source": []
  }
 ],
 "metadata": {
  "kernelspec": {
   "display_name": ".venv",
   "language": "python",
   "name": "python3"
  },
  "language_info": {
   "codemirror_mode": {
    "name": "ipython",
    "version": 3
   },
   "file_extension": ".py",
   "mimetype": "text/x-python",
   "name": "python",
   "nbconvert_exporter": "python",
   "pygments_lexer": "ipython3",
   "version": "3.11.9"
  }
 },
 "nbformat": 4,
 "nbformat_minor": 2
}
