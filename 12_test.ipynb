{
 "cells": [
  {
   "cell_type": "code",
   "execution_count": 1,
   "metadata": {},
   "outputs": [],
   "source": [
    "import pandas as pd\n",
    "import time\n",
    "from typing import Literal\n",
    "from functools import partial\n",
    "from typing import Optional\n",
    "import os\n",
    "from tqdm import tqdm"
   ]
  },
  {
   "cell_type": "code",
   "execution_count": 2,
   "metadata": {},
   "outputs": [
    {
     "data": {
      "text/html": [
       "<div>\n",
       "<style scoped>\n",
       "    .dataframe tbody tr th:only-of-type {\n",
       "        vertical-align: middle;\n",
       "    }\n",
       "\n",
       "    .dataframe tbody tr th {\n",
       "        vertical-align: top;\n",
       "    }\n",
       "\n",
       "    .dataframe thead th {\n",
       "        text-align: right;\n",
       "    }\n",
       "</style>\n",
       "<table border=\"1\" class=\"dataframe\">\n",
       "  <thead>\n",
       "    <tr style=\"text-align: right;\">\n",
       "      <th></th>\n",
       "      <th>text</th>\n",
       "      <th>uuid</th>\n",
       "      <th>date_0</th>\n",
       "      <th>date_1</th>\n",
       "      <th>date_2</th>\n",
       "      <th>date_3</th>\n",
       "      <th>date_4</th>\n",
       "      <th>date_5</th>\n",
       "      <th>date_6</th>\n",
       "      <th>date_7</th>\n",
       "      <th>...</th>\n",
       "      <th>date_90</th>\n",
       "      <th>date_91</th>\n",
       "      <th>date_92</th>\n",
       "      <th>date_93</th>\n",
       "      <th>date_94</th>\n",
       "      <th>date_95</th>\n",
       "      <th>date_96</th>\n",
       "      <th>date_97</th>\n",
       "      <th>date_98</th>\n",
       "      <th>date_99</th>\n",
       "    </tr>\n",
       "  </thead>\n",
       "  <tbody>\n",
       "    <tr>\n",
       "      <th>0</th>\n",
       "      <td>Write an article based on this \"A man has been...</td>\n",
       "      <td>f4edc429-b986-4ea5-9b04-73488e5500e0</td>\n",
       "      <td>1387-04-08 00:00:00</td>\n",
       "      <td>1869-12-21 00:00:00</td>\n",
       "      <td>1499-05-10 00:00:00</td>\n",
       "      <td>1565-04-28 00:00:00</td>\n",
       "      <td>1767-11-03 00:00:00</td>\n",
       "      <td>1986-07-09 00:00:00</td>\n",
       "      <td>1268-03-28 00:00:00</td>\n",
       "      <td>2001-08-03 00:00:00</td>\n",
       "      <td>...</td>\n",
       "      <td>1597-11-28 00:00:00</td>\n",
       "      <td>1750-07-19 00:00:00</td>\n",
       "      <td>1743-10-06 00:00:00</td>\n",
       "      <td>1427-06-13 00:00:00</td>\n",
       "      <td>1676-06-12 00:00:00</td>\n",
       "      <td>1154-04-24 00:00:00</td>\n",
       "      <td>1101-07-07 00:00:00</td>\n",
       "      <td>1542-08-15 00:00:00</td>\n",
       "      <td>1258-02-04 00:00:00</td>\n",
       "      <td>1683-04-16 00:00:00</td>\n",
       "    </tr>\n",
       "    <tr>\n",
       "      <th>1</th>\n",
       "      <td>Answer the following question: - number is 54 ...</td>\n",
       "      <td>e1eed6a3-e5fe-41ec-ab4a-2a65731a177a</td>\n",
       "      <td>1555-07-10 00:00:00</td>\n",
       "      <td>1468-10-31 00:00:00</td>\n",
       "      <td>1868-10-20 00:00:00</td>\n",
       "      <td>1182-06-28 00:00:00</td>\n",
       "      <td>1367-03-16 00:00:00</td>\n",
       "      <td>1329-04-03 00:00:00</td>\n",
       "      <td>1950-10-24 00:00:00</td>\n",
       "      <td>1674-01-02 00:00:00</td>\n",
       "      <td>...</td>\n",
       "      <td>1965-07-07 00:00:00</td>\n",
       "      <td>1818-04-05 00:00:00</td>\n",
       "      <td>1557-05-13 00:00:00</td>\n",
       "      <td>1630-06-15 00:00:00</td>\n",
       "      <td>1146-07-25 00:00:00</td>\n",
       "      <td>1719-10-28 00:00:00</td>\n",
       "      <td>1191-08-09 00:00:00</td>\n",
       "      <td>1261-02-02 00:00:00</td>\n",
       "      <td>1496-05-27 00:00:00</td>\n",
       "      <td>1978-09-09 00:00:00</td>\n",
       "    </tr>\n",
       "    <tr>\n",
       "      <th>2</th>\n",
       "      <td>Produce a long descriptive sentence that uses ...</td>\n",
       "      <td>04f1e908-60f7-42b1-8d41-ad55d656727c</td>\n",
       "      <td>1698-01-06 00:00:00</td>\n",
       "      <td>1832-03-14 00:00:00</td>\n",
       "      <td>1104-04-07 00:00:00</td>\n",
       "      <td>1359-06-01 00:00:00</td>\n",
       "      <td>1747-05-14 00:00:00</td>\n",
       "      <td>1667-05-26 00:00:00</td>\n",
       "      <td>1417-11-19 00:00:00</td>\n",
       "      <td>1272-03-10 00:00:00</td>\n",
       "      <td>...</td>\n",
       "      <td>1200-06-11 00:00:00</td>\n",
       "      <td>1673-12-30 00:00:00</td>\n",
       "      <td>1751-11-14 00:00:00</td>\n",
       "      <td>1931-02-16 00:00:00</td>\n",
       "      <td>1505-02-27 00:00:00</td>\n",
       "      <td>1531-06-30 00:00:00</td>\n",
       "      <td>1317-03-09 00:00:00</td>\n",
       "      <td>1481-01-20 00:00:00</td>\n",
       "      <td>1422-07-03 00:00:00</td>\n",
       "      <td>1437-12-28 00:00:00</td>\n",
       "    </tr>\n",
       "    <tr>\n",
       "      <th>3</th>\n",
       "      <td>Write a title for this article:\\n\\nArbitration...</td>\n",
       "      <td>c76ac704-64c0-40ae-9572-c4ee55dbd546</td>\n",
       "      <td>1612-03-12 00:00:00</td>\n",
       "      <td>1372-02-15 00:00:00</td>\n",
       "      <td>1329-11-18 00:00:00</td>\n",
       "      <td>1004-01-23 00:00:00</td>\n",
       "      <td>1678-05-28 00:00:00</td>\n",
       "      <td>1281-05-22 00:00:00</td>\n",
       "      <td>1736-07-07 00:00:00</td>\n",
       "      <td>1577-02-06 00:00:00</td>\n",
       "      <td>...</td>\n",
       "      <td>1717-11-19 00:00:00</td>\n",
       "      <td>1629-02-22 00:00:00</td>\n",
       "      <td>1462-09-12 00:00:00</td>\n",
       "      <td>1137-10-04 00:00:00</td>\n",
       "      <td>1498-05-20 00:00:00</td>\n",
       "      <td>1808-07-29 00:00:00</td>\n",
       "      <td>1424-09-16 00:00:00</td>\n",
       "      <td>1694-06-06 00:00:00</td>\n",
       "      <td>1024-10-16 00:00:00</td>\n",
       "      <td>1485-06-20 00:00:00</td>\n",
       "    </tr>\n",
       "    <tr>\n",
       "      <th>4</th>\n",
       "      <td>Read the following paragraph and determine if ...</td>\n",
       "      <td>9148b0d1-aaf9-44b6-9032-8ce7a4643419</td>\n",
       "      <td>1156-02-14 00:00:00</td>\n",
       "      <td>1264-09-16 00:00:00</td>\n",
       "      <td>1651-08-28 00:00:00</td>\n",
       "      <td>1371-01-16 00:00:00</td>\n",
       "      <td>1956-10-24 00:00:00</td>\n",
       "      <td>1017-04-29 00:00:00</td>\n",
       "      <td>1887-03-21 00:00:00</td>\n",
       "      <td>1433-04-25 00:00:00</td>\n",
       "      <td>...</td>\n",
       "      <td>2047-11-13 00:00:00</td>\n",
       "      <td>1267-07-14 00:00:00</td>\n",
       "      <td>1253-10-13 00:00:00</td>\n",
       "      <td>1873-11-03 00:00:00</td>\n",
       "      <td>1030-12-18 00:00:00</td>\n",
       "      <td>1515-10-11 00:00:00</td>\n",
       "      <td>1298-11-02 00:00:00</td>\n",
       "      <td>1269-05-31 00:00:00</td>\n",
       "      <td>1097-09-15 00:00:00</td>\n",
       "      <td>1588-03-31 00:00:00</td>\n",
       "    </tr>\n",
       "    <tr>\n",
       "      <th>...</th>\n",
       "      <td>...</td>\n",
       "      <td>...</td>\n",
       "      <td>...</td>\n",
       "      <td>...</td>\n",
       "      <td>...</td>\n",
       "      <td>...</td>\n",
       "      <td>...</td>\n",
       "      <td>...</td>\n",
       "      <td>...</td>\n",
       "      <td>...</td>\n",
       "      <td>...</td>\n",
       "      <td>...</td>\n",
       "      <td>...</td>\n",
       "      <td>...</td>\n",
       "      <td>...</td>\n",
       "      <td>...</td>\n",
       "      <td>...</td>\n",
       "      <td>...</td>\n",
       "      <td>...</td>\n",
       "      <td>...</td>\n",
       "      <td>...</td>\n",
       "    </tr>\n",
       "    <tr>\n",
       "      <th>363486</th>\n",
       "      <td>Q: Context: Dragon Ball Z (ドラゴンボール ゼット, Dorago...</td>\n",
       "      <td>beb6b4d7-97ab-45d8-8817-34ef110e5df6</td>\n",
       "      <td>1050-11-10 00:00:00</td>\n",
       "      <td>2029-12-20 00:00:00</td>\n",
       "      <td>1853-05-16 00:00:00</td>\n",
       "      <td>1288-10-15 00:00:00</td>\n",
       "      <td>1843-11-20 00:00:00</td>\n",
       "      <td>1153-08-25 00:00:00</td>\n",
       "      <td>1984-08-20 00:00:00</td>\n",
       "      <td>1308-10-05 00:00:00</td>\n",
       "      <td>...</td>\n",
       "      <td>1888-02-01 00:00:00</td>\n",
       "      <td>1685-09-23 00:00:00</td>\n",
       "      <td>1685-10-14 00:00:00</td>\n",
       "      <td>1717-12-12 00:00:00</td>\n",
       "      <td>1427-02-24 00:00:00</td>\n",
       "      <td>1875-02-23 00:00:00</td>\n",
       "      <td>1752-03-08 00:00:00</td>\n",
       "      <td>1815-04-04 00:00:00</td>\n",
       "      <td>1659-10-04 00:00:00</td>\n",
       "      <td>1137-03-09 00:00:00</td>\n",
       "    </tr>\n",
       "    <tr>\n",
       "      <th>363487</th>\n",
       "      <td>My question is: At the beginning of an academi...</td>\n",
       "      <td>07809f13-3e4d-4e90-86bb-a83fc3ff89bd</td>\n",
       "      <td>1653-11-03 00:00:00</td>\n",
       "      <td>1638-11-24 00:00:00</td>\n",
       "      <td>1821-10-13 00:00:00</td>\n",
       "      <td>1607-07-08 00:00:00</td>\n",
       "      <td>1537-10-22 00:00:00</td>\n",
       "      <td>1390-06-11 00:00:00</td>\n",
       "      <td>1031-01-02 00:00:00</td>\n",
       "      <td>1257-10-21 00:00:00</td>\n",
       "      <td>...</td>\n",
       "      <td>1613-10-23 00:00:00</td>\n",
       "      <td>1622-12-16 00:00:00</td>\n",
       "      <td>1405-07-13 00:00:00</td>\n",
       "      <td>1439-10-20 00:00:00</td>\n",
       "      <td>1387-01-25 00:00:00</td>\n",
       "      <td>1845-08-14 00:00:00</td>\n",
       "      <td>1746-01-19 00:00:00</td>\n",
       "      <td>2036-05-20 00:00:00</td>\n",
       "      <td>1497-04-01 00:00:00</td>\n",
       "      <td>1147-04-02 00:00:00</td>\n",
       "    </tr>\n",
       "    <tr>\n",
       "      <th>363488</th>\n",
       "      <td>Leo: Given the sentence \"A small child in wate...</td>\n",
       "      <td>ccf4a744-1ad6-490c-9abe-7d263ff04e6e</td>\n",
       "      <td>1156-07-18 00:00:00</td>\n",
       "      <td>1167-03-26 00:00:00</td>\n",
       "      <td>1521-07-17 00:00:00</td>\n",
       "      <td>1598-01-13 00:00:00</td>\n",
       "      <td>1876-10-18 00:00:00</td>\n",
       "      <td>1601-08-07 00:00:00</td>\n",
       "      <td>1211-04-15 00:00:00</td>\n",
       "      <td>1461-03-11 00:00:00</td>\n",
       "      <td>...</td>\n",
       "      <td>1319-10-23 00:00:00</td>\n",
       "      <td>1997-08-07 00:00:00</td>\n",
       "      <td>1467-07-18 00:00:00</td>\n",
       "      <td>1836-06-18 00:00:00</td>\n",
       "      <td>1498-02-07 00:00:00</td>\n",
       "      <td>1454-11-18 00:00:00</td>\n",
       "      <td>1606-05-14 00:00:00</td>\n",
       "      <td>1529-07-24 00:00:00</td>\n",
       "      <td>1701-05-03 00:00:00</td>\n",
       "      <td>1742-08-29 00:00:00</td>\n",
       "    </tr>\n",
       "    <tr>\n",
       "      <th>363489</th>\n",
       "      <td>Explain simply why yes is the correct answer t...</td>\n",
       "      <td>d8986a12-f86f-44ec-9bdd-8271231ba230</td>\n",
       "      <td>1000-04-13 00:00:00</td>\n",
       "      <td>1365-08-01 00:00:00</td>\n",
       "      <td>1099-04-10 00:00:00</td>\n",
       "      <td>1398-09-24 00:00:00</td>\n",
       "      <td>1456-02-28 00:00:00</td>\n",
       "      <td>1851-12-06 00:00:00</td>\n",
       "      <td>1023-12-05 00:00:00</td>\n",
       "      <td>1873-08-16 00:00:00</td>\n",
       "      <td>...</td>\n",
       "      <td>2036-07-18 00:00:00</td>\n",
       "      <td>1245-05-25 00:00:00</td>\n",
       "      <td>1683-02-09 00:00:00</td>\n",
       "      <td>1014-03-29 00:00:00</td>\n",
       "      <td>1642-04-20 00:00:00</td>\n",
       "      <td>1163-02-12 00:00:00</td>\n",
       "      <td>1989-06-29 00:00:00</td>\n",
       "      <td>1849-02-02 00:00:00</td>\n",
       "      <td>1857-05-27 00:00:00</td>\n",
       "      <td>2042-01-22 00:00:00</td>\n",
       "    </tr>\n",
       "    <tr>\n",
       "      <th>363490</th>\n",
       "      <td>**Q**\\nIs the following sentence factually cor...</td>\n",
       "      <td>f7c2d6e0-57e9-48d7-981f-45307dfb75da</td>\n",
       "      <td>1279-08-02 00:00:00</td>\n",
       "      <td>2010-01-26 00:00:00</td>\n",
       "      <td>1964-11-04 00:00:00</td>\n",
       "      <td>1755-11-09 00:00:00</td>\n",
       "      <td>1703-06-27 00:00:00</td>\n",
       "      <td>1830-04-06 00:00:00</td>\n",
       "      <td>1065-10-21 00:00:00</td>\n",
       "      <td>1331-01-10 00:00:00</td>\n",
       "      <td>...</td>\n",
       "      <td>1299-01-01 00:00:00</td>\n",
       "      <td>1089-04-04 00:00:00</td>\n",
       "      <td>1628-09-29 00:00:00</td>\n",
       "      <td>1522-08-16 00:00:00</td>\n",
       "      <td>2016-06-01 00:00:00</td>\n",
       "      <td>1055-04-26 00:00:00</td>\n",
       "      <td>1506-02-28 00:00:00</td>\n",
       "      <td>1466-03-02 00:00:00</td>\n",
       "      <td>1060-04-29 00:00:00</td>\n",
       "      <td>1965-11-11 00:00:00</td>\n",
       "    </tr>\n",
       "  </tbody>\n",
       "</table>\n",
       "<p>363491 rows × 102 columns</p>\n",
       "</div>"
      ],
      "text/plain": [
       "                                                     text  \\\n",
       "0       Write an article based on this \"A man has been...   \n",
       "1       Answer the following question: - number is 54 ...   \n",
       "2       Produce a long descriptive sentence that uses ...   \n",
       "3       Write a title for this article:\\n\\nArbitration...   \n",
       "4       Read the following paragraph and determine if ...   \n",
       "...                                                   ...   \n",
       "363486  Q: Context: Dragon Ball Z (ドラゴンボール ゼット, Dorago...   \n",
       "363487  My question is: At the beginning of an academi...   \n",
       "363488  Leo: Given the sentence \"A small child in wate...   \n",
       "363489  Explain simply why yes is the correct answer t...   \n",
       "363490  **Q**\\nIs the following sentence factually cor...   \n",
       "\n",
       "                                        uuid               date_0  \\\n",
       "0       f4edc429-b986-4ea5-9b04-73488e5500e0  1387-04-08 00:00:00   \n",
       "1       e1eed6a3-e5fe-41ec-ab4a-2a65731a177a  1555-07-10 00:00:00   \n",
       "2       04f1e908-60f7-42b1-8d41-ad55d656727c  1698-01-06 00:00:00   \n",
       "3       c76ac704-64c0-40ae-9572-c4ee55dbd546  1612-03-12 00:00:00   \n",
       "4       9148b0d1-aaf9-44b6-9032-8ce7a4643419  1156-02-14 00:00:00   \n",
       "...                                      ...                  ...   \n",
       "363486  beb6b4d7-97ab-45d8-8817-34ef110e5df6  1050-11-10 00:00:00   \n",
       "363487  07809f13-3e4d-4e90-86bb-a83fc3ff89bd  1653-11-03 00:00:00   \n",
       "363488  ccf4a744-1ad6-490c-9abe-7d263ff04e6e  1156-07-18 00:00:00   \n",
       "363489  d8986a12-f86f-44ec-9bdd-8271231ba230  1000-04-13 00:00:00   \n",
       "363490  f7c2d6e0-57e9-48d7-981f-45307dfb75da  1279-08-02 00:00:00   \n",
       "\n",
       "                     date_1               date_2               date_3  \\\n",
       "0       1869-12-21 00:00:00  1499-05-10 00:00:00  1565-04-28 00:00:00   \n",
       "1       1468-10-31 00:00:00  1868-10-20 00:00:00  1182-06-28 00:00:00   \n",
       "2       1832-03-14 00:00:00  1104-04-07 00:00:00  1359-06-01 00:00:00   \n",
       "3       1372-02-15 00:00:00  1329-11-18 00:00:00  1004-01-23 00:00:00   \n",
       "4       1264-09-16 00:00:00  1651-08-28 00:00:00  1371-01-16 00:00:00   \n",
       "...                     ...                  ...                  ...   \n",
       "363486  2029-12-20 00:00:00  1853-05-16 00:00:00  1288-10-15 00:00:00   \n",
       "363487  1638-11-24 00:00:00  1821-10-13 00:00:00  1607-07-08 00:00:00   \n",
       "363488  1167-03-26 00:00:00  1521-07-17 00:00:00  1598-01-13 00:00:00   \n",
       "363489  1365-08-01 00:00:00  1099-04-10 00:00:00  1398-09-24 00:00:00   \n",
       "363490  2010-01-26 00:00:00  1964-11-04 00:00:00  1755-11-09 00:00:00   \n",
       "\n",
       "                     date_4               date_5               date_6  \\\n",
       "0       1767-11-03 00:00:00  1986-07-09 00:00:00  1268-03-28 00:00:00   \n",
       "1       1367-03-16 00:00:00  1329-04-03 00:00:00  1950-10-24 00:00:00   \n",
       "2       1747-05-14 00:00:00  1667-05-26 00:00:00  1417-11-19 00:00:00   \n",
       "3       1678-05-28 00:00:00  1281-05-22 00:00:00  1736-07-07 00:00:00   \n",
       "4       1956-10-24 00:00:00  1017-04-29 00:00:00  1887-03-21 00:00:00   \n",
       "...                     ...                  ...                  ...   \n",
       "363486  1843-11-20 00:00:00  1153-08-25 00:00:00  1984-08-20 00:00:00   \n",
       "363487  1537-10-22 00:00:00  1390-06-11 00:00:00  1031-01-02 00:00:00   \n",
       "363488  1876-10-18 00:00:00  1601-08-07 00:00:00  1211-04-15 00:00:00   \n",
       "363489  1456-02-28 00:00:00  1851-12-06 00:00:00  1023-12-05 00:00:00   \n",
       "363490  1703-06-27 00:00:00  1830-04-06 00:00:00  1065-10-21 00:00:00   \n",
       "\n",
       "                     date_7  ...              date_90              date_91  \\\n",
       "0       2001-08-03 00:00:00  ...  1597-11-28 00:00:00  1750-07-19 00:00:00   \n",
       "1       1674-01-02 00:00:00  ...  1965-07-07 00:00:00  1818-04-05 00:00:00   \n",
       "2       1272-03-10 00:00:00  ...  1200-06-11 00:00:00  1673-12-30 00:00:00   \n",
       "3       1577-02-06 00:00:00  ...  1717-11-19 00:00:00  1629-02-22 00:00:00   \n",
       "4       1433-04-25 00:00:00  ...  2047-11-13 00:00:00  1267-07-14 00:00:00   \n",
       "...                     ...  ...                  ...                  ...   \n",
       "363486  1308-10-05 00:00:00  ...  1888-02-01 00:00:00  1685-09-23 00:00:00   \n",
       "363487  1257-10-21 00:00:00  ...  1613-10-23 00:00:00  1622-12-16 00:00:00   \n",
       "363488  1461-03-11 00:00:00  ...  1319-10-23 00:00:00  1997-08-07 00:00:00   \n",
       "363489  1873-08-16 00:00:00  ...  2036-07-18 00:00:00  1245-05-25 00:00:00   \n",
       "363490  1331-01-10 00:00:00  ...  1299-01-01 00:00:00  1089-04-04 00:00:00   \n",
       "\n",
       "                    date_92              date_93              date_94  \\\n",
       "0       1743-10-06 00:00:00  1427-06-13 00:00:00  1676-06-12 00:00:00   \n",
       "1       1557-05-13 00:00:00  1630-06-15 00:00:00  1146-07-25 00:00:00   \n",
       "2       1751-11-14 00:00:00  1931-02-16 00:00:00  1505-02-27 00:00:00   \n",
       "3       1462-09-12 00:00:00  1137-10-04 00:00:00  1498-05-20 00:00:00   \n",
       "4       1253-10-13 00:00:00  1873-11-03 00:00:00  1030-12-18 00:00:00   \n",
       "...                     ...                  ...                  ...   \n",
       "363486  1685-10-14 00:00:00  1717-12-12 00:00:00  1427-02-24 00:00:00   \n",
       "363487  1405-07-13 00:00:00  1439-10-20 00:00:00  1387-01-25 00:00:00   \n",
       "363488  1467-07-18 00:00:00  1836-06-18 00:00:00  1498-02-07 00:00:00   \n",
       "363489  1683-02-09 00:00:00  1014-03-29 00:00:00  1642-04-20 00:00:00   \n",
       "363490  1628-09-29 00:00:00  1522-08-16 00:00:00  2016-06-01 00:00:00   \n",
       "\n",
       "                    date_95              date_96              date_97  \\\n",
       "0       1154-04-24 00:00:00  1101-07-07 00:00:00  1542-08-15 00:00:00   \n",
       "1       1719-10-28 00:00:00  1191-08-09 00:00:00  1261-02-02 00:00:00   \n",
       "2       1531-06-30 00:00:00  1317-03-09 00:00:00  1481-01-20 00:00:00   \n",
       "3       1808-07-29 00:00:00  1424-09-16 00:00:00  1694-06-06 00:00:00   \n",
       "4       1515-10-11 00:00:00  1298-11-02 00:00:00  1269-05-31 00:00:00   \n",
       "...                     ...                  ...                  ...   \n",
       "363486  1875-02-23 00:00:00  1752-03-08 00:00:00  1815-04-04 00:00:00   \n",
       "363487  1845-08-14 00:00:00  1746-01-19 00:00:00  2036-05-20 00:00:00   \n",
       "363488  1454-11-18 00:00:00  1606-05-14 00:00:00  1529-07-24 00:00:00   \n",
       "363489  1163-02-12 00:00:00  1989-06-29 00:00:00  1849-02-02 00:00:00   \n",
       "363490  1055-04-26 00:00:00  1506-02-28 00:00:00  1466-03-02 00:00:00   \n",
       "\n",
       "                    date_98              date_99  \n",
       "0       1258-02-04 00:00:00  1683-04-16 00:00:00  \n",
       "1       1496-05-27 00:00:00  1978-09-09 00:00:00  \n",
       "2       1422-07-03 00:00:00  1437-12-28 00:00:00  \n",
       "3       1024-10-16 00:00:00  1485-06-20 00:00:00  \n",
       "4       1097-09-15 00:00:00  1588-03-31 00:00:00  \n",
       "...                     ...                  ...  \n",
       "363486  1659-10-04 00:00:00  1137-03-09 00:00:00  \n",
       "363487  1497-04-01 00:00:00  1147-04-02 00:00:00  \n",
       "363488  1701-05-03 00:00:00  1742-08-29 00:00:00  \n",
       "363489  1857-05-27 00:00:00  2042-01-22 00:00:00  \n",
       "363490  1060-04-29 00:00:00  1965-11-11 00:00:00  \n",
       "\n",
       "[363491 rows x 102 columns]"
      ]
     },
     "execution_count": 2,
     "metadata": {},
     "output_type": "execute_result"
    }
   ],
   "source": [
    "df = pd.read_pickle(\"./data/data_date.pkl.gz\")\n",
    "df"
   ]
  },
  {
   "cell_type": "code",
   "execution_count": 3,
   "metadata": {},
   "outputs": [
    {
     "data": {
      "text/plain": [
       "np.int64(2742841394)"
      ]
     },
     "execution_count": 3,
     "metadata": {},
     "output_type": "execute_result"
    }
   ],
   "source": [
    "# total memory usage in bytes without index\n",
    "# see https://pandas.pydata.org/docs/reference/api/pandas.DataFrame.memory_usage.html\n",
    "mem_usage = df.memory_usage(index=False, deep=True).sum()\n",
    "mem_usage"
   ]
  },
  {
   "cell_type": "code",
   "execution_count": 4,
   "metadata": {},
   "outputs": [
    {
     "data": {
      "text/plain": [
       "np.float64(2615.777391433716)"
      ]
     },
     "execution_count": 4,
     "metadata": {},
     "output_type": "execute_result"
    }
   ],
   "source": [
    "# total memory usage in m_bytes without index\n",
    "mem_size_mb = mem_usage / 1024 / 1024\n",
    "mem_size_mb"
   ]
  },
  {
   "cell_type": "code",
   "execution_count": 5,
   "metadata": {},
   "outputs": [],
   "source": [
    "def evaluate_performance(\n",
    "        df,\n",
    "        method: Literal[\"csv\", \"parquet\"],\n",
    "        compression: Optional[str] = None,\n",
    "        compression_level: Optional[int] = None,\n",
    "    ) -> dict:\n",
    "    filename = f\"./test_data/data.{method}\"\n",
    "\n",
    "    # set save_fn and read_fn\n",
    "    save_fn = None\n",
    "    read_fn = None\n",
    "    additional_save_params = {}\n",
    "    if method == \"csv\":\n",
    "        if compression is not None:\n",
    "            additional_save_params[\"compression\"] = compression\n",
    "        assert compression_level is None\n",
    "        save_fn = partial(df.to_csv, index=False, path_or_buf=filename, **additional_save_params)\n",
    "        read_fn = partial(pd.read_csv, filepath_or_buffer=filename, **additional_save_params)\n",
    "    elif method == \"parquet\":\n",
    "        if compression is not None:\n",
    "            additional_save_params[\"compression\"] = compression\n",
    "        if compression_level is not None:\n",
    "            additional_save_params[\"compression_level\"] = compression_level\n",
    "        save_fn = partial(df.to_parquet, index=False, engine=\"pyarrow\", path=filename, **additional_save_params)\n",
    "        read_fn = partial(pd.read_parquet, path=filename, engine=\"pyarrow\")\n",
    "    elif method == \"feather\":\n",
    "        if compression is not None:\n",
    "            additional_save_params[\"compression\"] = compression\n",
    "        if compression_level is not None:\n",
    "            additional_save_params[\"compression_level\"] = compression_level\n",
    "        save_fn = partial(df.to_feather, path=filename, **additional_save_params)\n",
    "        read_fn = partial(pd.read_feather, path=filename)\n",
    "    assert save_fn is not None\n",
    "    assert read_fn is not None\n",
    "\n",
    "\n",
    "    # write\n",
    "    start_time = time.time()\n",
    "    save_fn()\n",
    "    save_time = time.time() - start_time\n",
    "    # print(\"save_time:\", save_time)\n",
    "\n",
    "    # read\n",
    "    start_time = time.time()\n",
    "    for _ in range(10):\n",
    "        read_fn()\n",
    "    read_time = (time.time() - start_time) / 10\n",
    "    # print(\"read_time:\", read_time)\n",
    "\n",
    "    # get size\n",
    "    file_size = os.path.getsize(filename) / 1024 / 1024\n",
    "    # print(\"file_size:\", file_size)\n",
    "\n",
    "    # delete file\n",
    "    os.remove(filename)\n",
    "\n",
    "    result = {\n",
    "        \"method\": method,\n",
    "        \"save_time\": save_time,\n",
    "        \"read_time\": read_time,\n",
    "        \"file_size\": file_size,\n",
    "    }\n",
    "\n",
    "    for k, v in additional_save_params.items():\n",
    "        result[k] = v\n",
    "\n",
    "    return result\n"
   ]
  },
  {
   "cell_type": "code",
   "execution_count": 6,
   "metadata": {},
   "outputs": [],
   "source": [
    "eval_results = []"
   ]
  },
  {
   "cell_type": "code",
   "execution_count": 7,
   "metadata": {},
   "outputs": [
    {
     "name": "stderr",
     "output_type": "stream",
     "text": [
      "  5%|▌         | 1/20 [00:20<06:37, 20.90s/it]"
     ]
    },
    {
     "name": "stdout",
     "output_type": "stream",
     "text": [
      "{'method': 'parquet', 'save_time': 9.79012393951416, 'read_time': 1.1106995820999146, 'file_size': 454.35195541381836, 'compression': 'zstd', 'compression_level': 1}\n"
     ]
    },
    {
     "name": "stderr",
     "output_type": "stream",
     "text": [
      " 10%|█         | 2/20 [00:41<06:14, 20.82s/it]"
     ]
    },
    {
     "name": "stdout",
     "output_type": "stream",
     "text": [
      "{'method': 'parquet', 'save_time': 9.49612307548523, 'read_time': 1.1257668018341065, 'file_size': 438.7085485458374, 'compression': 'zstd', 'compression_level': 2}\n"
     ]
    },
    {
     "name": "stderr",
     "output_type": "stream",
     "text": [
      " 15%|█▌        | 3/20 [01:03<05:59, 21.16s/it]"
     ]
    },
    {
     "name": "stdout",
     "output_type": "stream",
     "text": [
      "{'method': 'parquet', 'save_time': 10.224086046218872, 'read_time': 1.1324087619781493, 'file_size': 427.4734058380127, 'compression': 'zstd', 'compression_level': 3}\n"
     ]
    },
    {
     "name": "stderr",
     "output_type": "stream",
     "text": [
      " 20%|██        | 4/20 [01:25<05:44, 21.51s/it]"
     ]
    },
    {
     "name": "stdout",
     "output_type": "stream",
     "text": [
      "{'method': 'parquet', 'save_time': 10.759801149368286, 'read_time': 1.1294045925140381, 'file_size': 422.64007472991943, 'compression': 'zstd', 'compression_level': 4}\n"
     ]
    },
    {
     "name": "stderr",
     "output_type": "stream",
     "text": [
      " 25%|██▌       | 5/20 [01:49<05:38, 22.56s/it]"
     ]
    },
    {
     "name": "stdout",
     "output_type": "stream",
     "text": [
      "{'method': 'parquet', 'save_time': 12.995082139968872, 'read_time': 1.1401029825210571, 'file_size': 413.28878593444824, 'compression': 'zstd', 'compression_level': 5}\n"
     ]
    },
    {
     "name": "stderr",
     "output_type": "stream",
     "text": [
      " 30%|███       | 6/20 [02:15<05:32, 23.72s/it]"
     ]
    },
    {
     "name": "stdout",
     "output_type": "stream",
     "text": [
      "{'method': 'parquet', 'save_time': 14.687639951705933, 'read_time': 1.1273555278778076, 'file_size': 407.76862144470215, 'compression': 'zstd', 'compression_level': 6}\n"
     ]
    },
    {
     "name": "stderr",
     "output_type": "stream",
     "text": [
      " 35%|███▌      | 7/20 [02:42<05:20, 24.68s/it]"
     ]
    },
    {
     "name": "stdout",
     "output_type": "stream",
     "text": [
      "{'method': 'parquet', 'save_time': 15.583861112594604, 'read_time': 1.105964994430542, 'file_size': 404.4102945327759, 'compression': 'zstd', 'compression_level': 7}\n"
     ]
    },
    {
     "name": "stderr",
     "output_type": "stream",
     "text": [
      " 40%|████      | 8/20 [03:10<05:10, 25.87s/it]"
     ]
    },
    {
     "name": "stdout",
     "output_type": "stream",
     "text": [
      "{'method': 'parquet', 'save_time': 17.483379125595093, 'read_time': 1.092091703414917, 'file_size': 402.1354808807373, 'compression': 'zstd', 'compression_level': 8}\n"
     ]
    },
    {
     "name": "stderr",
     "output_type": "stream",
     "text": [
      " 45%|████▌     | 9/20 [03:38<04:52, 26.58s/it]"
     ]
    },
    {
     "name": "stdout",
     "output_type": "stream",
     "text": [
      "{'method': 'parquet', 'save_time': 17.27383279800415, 'read_time': 1.085597777366638, 'file_size': 401.63129711151123, 'compression': 'zstd', 'compression_level': 9}\n"
     ]
    },
    {
     "name": "stderr",
     "output_type": "stream",
     "text": [
      " 50%|█████     | 10/20 [04:10<04:41, 28.18s/it]"
     ]
    },
    {
     "name": "stdout",
     "output_type": "stream",
     "text": [
      "{'method': 'parquet', 'save_time': 20.764587879180908, 'read_time': 1.098838472366333, 'file_size': 400.2274799346924, 'compression': 'zstd', 'compression_level': 10}\n"
     ]
    },
    {
     "name": "stderr",
     "output_type": "stream",
     "text": [
      " 55%|█████▌    | 11/20 [04:46<04:34, 30.53s/it]"
     ]
    },
    {
     "name": "stdout",
     "output_type": "stream",
     "text": [
      "{'method': 'parquet', 'save_time': 24.069570779800415, 'read_time': 1.1782253980636597, 'file_size': 399.4835910797119, 'compression': 'zstd', 'compression_level': 11}\n"
     ]
    },
    {
     "name": "stderr",
     "output_type": "stream",
     "text": [
      " 60%|██████    | 12/20 [05:20<04:13, 31.71s/it]"
     ]
    },
    {
     "name": "stdout",
     "output_type": "stream",
     "text": [
      "{'method': 'parquet', 'save_time': 23.442872047424316, 'read_time': 1.0971449851989745, 'file_size': 399.4835910797119, 'compression': 'zstd', 'compression_level': 12}\n"
     ]
    },
    {
     "name": "stderr",
     "output_type": "stream",
     "text": [
      " 65%|██████▌   | 13/20 [06:18<04:36, 39.56s/it]"
     ]
    },
    {
     "name": "stdout",
     "output_type": "stream",
     "text": [
      "{'method': 'parquet', 'save_time': 46.46933197975159, 'read_time': 1.1140334129333496, 'file_size': 394.57505798339844, 'compression': 'zstd', 'compression_level': 13}\n"
     ]
    },
    {
     "name": "stderr",
     "output_type": "stream",
     "text": [
      " 70%|███████   | 14/20 [07:20<04:38, 46.41s/it]"
     ]
    },
    {
     "name": "stdout",
     "output_type": "stream",
     "text": [
      "{'method': 'parquet', 'save_time': 51.24733209609985, 'read_time': 1.096910309791565, 'file_size': 394.0057439804077, 'compression': 'zstd', 'compression_level': 14}\n"
     ]
    },
    {
     "name": "stderr",
     "output_type": "stream",
     "text": [
      " 75%|███████▌  | 15/20 [08:24<04:18, 51.63s/it]"
     ]
    },
    {
     "name": "stdout",
     "output_type": "stream",
     "text": [
      "{'method': 'parquet', 'save_time': 52.6986300945282, 'read_time': 1.101265811920166, 'file_size': 393.9288864135742, 'compression': 'zstd', 'compression_level': 15}\n"
     ]
    },
    {
     "name": "stderr",
     "output_type": "stream",
     "text": [
      " 80%|████████  | 16/20 [09:48<04:05, 61.39s/it]"
     ]
    },
    {
     "name": "stdout",
     "output_type": "stream",
     "text": [
      "{'method': 'parquet', 'save_time': 72.94667196273804, 'read_time': 1.1094797134399415, 'file_size': 388.8920307159424, 'compression': 'zstd', 'compression_level': 16}\n"
     ]
    },
    {
     "name": "stderr",
     "output_type": "stream",
     "text": [
      " 85%|████████▌ | 17/20 [11:27<03:38, 72.70s/it]"
     ]
    },
    {
     "name": "stdout",
     "output_type": "stream",
     "text": [
      "{'method': 'parquet', 'save_time': 88.04275512695312, 'read_time': 1.0954324007034302, 'file_size': 369.51036167144775, 'compression': 'zstd', 'compression_level': 17}\n"
     ]
    },
    {
     "name": "stderr",
     "output_type": "stream",
     "text": [
      " 90%|█████████ | 18/20 [13:23<02:51, 85.71s/it]"
     ]
    },
    {
     "name": "stdout",
     "output_type": "stream",
     "text": [
      "{'method': 'parquet', 'save_time': 104.99427890777588, 'read_time': 1.0980794906616211, 'file_size': 370.35676097869873, 'compression': 'zstd', 'compression_level': 18}\n"
     ]
    },
    {
     "name": "stderr",
     "output_type": "stream",
     "text": [
      " 95%|█████████▌| 19/20 [15:29<01:37, 97.76s/it]"
     ]
    },
    {
     "name": "stdout",
     "output_type": "stream",
     "text": [
      "{'method': 'parquet', 'save_time': 114.60722208023071, 'read_time': 1.1203243017196656, 'file_size': 370.0747289657593, 'compression': 'zstd', 'compression_level': 19}\n"
     ]
    },
    {
     "name": "stderr",
     "output_type": "stream",
     "text": [
      "100%|██████████| 20/20 [17:34<00:00, 52.74s/it] "
     ]
    },
    {
     "name": "stdout",
     "output_type": "stream",
     "text": [
      "{'method': 'parquet', 'save_time': 114.44360995292664, 'read_time': 1.0999604225158692, 'file_size': 370.0747289657593, 'compression': 'zstd', 'compression_level': 20}\n"
     ]
    },
    {
     "name": "stderr",
     "output_type": "stream",
     "text": [
      "\n"
     ]
    }
   ],
   "source": [
    "# parquet, zstd\n",
    "for cl in tqdm(range(1, 21)):\n",
    "    r = evaluate_performance(df, \"parquet\", compression=\"zstd\", compression_level=cl)\n",
    "    print(r)\n",
    "    eval_results.append(r)"
   ]
  },
  {
   "cell_type": "code",
   "execution_count": 8,
   "metadata": {},
   "outputs": [
    {
     "name": "stderr",
     "output_type": "stream",
     "text": [
      "  5%|▌         | 1/20 [00:16<05:14, 16.56s/it]"
     ]
    },
    {
     "name": "stdout",
     "output_type": "stream",
     "text": [
      "{'method': 'parquet', 'save_time': 8.301766872406006, 'read_time': 0.8248625993728638, 'file_size': 590.422794342041, 'compression': 'lz4', 'compression_level': 1}\n"
     ]
    },
    {
     "name": "stderr",
     "output_type": "stream",
     "text": [
      " 10%|█         | 2/20 [00:33<04:57, 16.54s/it]"
     ]
    },
    {
     "name": "stdout",
     "output_type": "stream",
     "text": [
      "{'method': 'parquet', 'save_time': 8.258089780807495, 'read_time': 0.8262882232666016, 'file_size': 590.422794342041, 'compression': 'lz4', 'compression_level': 2}\n"
     ]
    },
    {
     "name": "stderr",
     "output_type": "stream",
     "text": [
      " 15%|█▌        | 3/20 [00:57<05:40, 20.01s/it]"
     ]
    },
    {
     "name": "stdout",
     "output_type": "stream",
     "text": [
      "{'method': 'parquet', 'save_time': 16.039042234420776, 'read_time': 0.8093063116073609, 'file_size': 484.52827644348145, 'compression': 'lz4', 'compression_level': 3}\n"
     ]
    },
    {
     "name": "stderr",
     "output_type": "stream",
     "text": [
      " 20%|██        | 4/20 [01:23<06:00, 22.50s/it]"
     ]
    },
    {
     "name": "stdout",
     "output_type": "stream",
     "text": [
      "{'method': 'parquet', 'save_time': 18.459150075912476, 'read_time': 0.7847368955612183, 'file_size': 478.7453145980835, 'compression': 'lz4', 'compression_level': 4}\n"
     ]
    },
    {
     "name": "stderr",
     "output_type": "stream",
     "text": [
      " 25%|██▌       | 5/20 [01:52<06:14, 24.96s/it]"
     ]
    },
    {
     "name": "stdout",
     "output_type": "stream",
     "text": [
      "{'method': 'parquet', 'save_time': 21.310905933380127, 'read_time': 0.8007037878036499, 'file_size': 475.6817455291748, 'compression': 'lz4', 'compression_level': 5}\n"
     ]
    },
    {
     "name": "stderr",
     "output_type": "stream",
     "text": [
      " 30%|███       | 6/20 [02:24<06:18, 27.07s/it]"
     ]
    },
    {
     "name": "stdout",
     "output_type": "stream",
     "text": [
      "{'method': 'parquet', 'save_time': 23.276548862457275, 'read_time': 0.7861457824707031, 'file_size': 474.4032173156738, 'compression': 'lz4', 'compression_level': 6}\n"
     ]
    },
    {
     "name": "stderr",
     "output_type": "stream",
     "text": [
      " 35%|███▌      | 7/20 [02:57<06:18, 29.13s/it]"
     ]
    },
    {
     "name": "stdout",
     "output_type": "stream",
     "text": [
      "{'method': 'parquet', 'save_time': 25.20924425125122, 'read_time': 0.8158005952835083, 'file_size': 473.88039779663086, 'compression': 'lz4', 'compression_level': 7}\n"
     ]
    },
    {
     "name": "stderr",
     "output_type": "stream",
     "text": [
      " 40%|████      | 8/20 [03:32<06:10, 30.87s/it]"
     ]
    },
    {
     "name": "stdout",
     "output_type": "stream",
     "text": [
      "{'method': 'parquet', 'save_time': 26.534332036972046, 'read_time': 0.8060007095336914, 'file_size': 473.679744720459, 'compression': 'lz4', 'compression_level': 8}\n"
     ]
    },
    {
     "name": "stderr",
     "output_type": "stream",
     "text": [
      " 45%|████▌     | 9/20 [04:08<05:57, 32.48s/it]"
     ]
    },
    {
     "name": "stdout",
     "output_type": "stream",
     "text": [
      "{'method': 'parquet', 'save_time': 27.947238206863403, 'read_time': 0.8049122095108032, 'file_size': 473.5702180862427, 'compression': 'lz4', 'compression_level': 9}\n"
     ]
    },
    {
     "name": "stderr",
     "output_type": "stream",
     "text": [
      " 50%|█████     | 10/20 [04:52<06:01, 36.17s/it]"
     ]
    },
    {
     "name": "stdout",
     "output_type": "stream",
     "text": [
      "{'method': 'parquet', 'save_time': 36.41278100013733, 'read_time': 0.8007642984390259, 'file_size': 472.3934621810913, 'compression': 'lz4', 'compression_level': 10}\n"
     ]
    },
    {
     "name": "stderr",
     "output_type": "stream",
     "text": [
      " 55%|█████▌    | 11/20 [05:41<06:00, 40.01s/it]"
     ]
    },
    {
     "name": "stdout",
     "output_type": "stream",
     "text": [
      "{'method': 'parquet', 'save_time': 40.760437965393066, 'read_time': 0.7937253236770629, 'file_size': 471.9833459854126, 'compression': 'lz4', 'compression_level': 11}\n"
     ]
    },
    {
     "name": "stderr",
     "output_type": "stream",
     "text": [
      " 60%|██████    | 12/20 [06:34<05:52, 44.02s/it]"
     ]
    },
    {
     "name": "stdout",
     "output_type": "stream",
     "text": [
      "{'method': 'parquet', 'save_time': 45.13817596435547, 'read_time': 0.8044687032699585, 'file_size': 471.9557991027832, 'compression': 'lz4', 'compression_level': 12}\n"
     ]
    },
    {
     "name": "stderr",
     "output_type": "stream",
     "text": [
      " 65%|██████▌   | 13/20 [07:27<05:27, 46.83s/it]"
     ]
    },
    {
     "name": "stdout",
     "output_type": "stream",
     "text": [
      "{'method': 'parquet', 'save_time': 45.25547504425049, 'read_time': 0.8041392803192139, 'file_size': 471.9557991027832, 'compression': 'lz4', 'compression_level': 13}\n"
     ]
    },
    {
     "name": "stderr",
     "output_type": "stream",
     "text": [
      " 70%|███████   | 14/20 [08:20<04:52, 48.73s/it]"
     ]
    },
    {
     "name": "stdout",
     "output_type": "stream",
     "text": [
      "{'method': 'parquet', 'save_time': 45.05961012840271, 'read_time': 0.8037712812423706, 'file_size': 471.9557991027832, 'compression': 'lz4', 'compression_level': 14}\n"
     ]
    },
    {
     "name": "stderr",
     "output_type": "stream",
     "text": [
      " 75%|███████▌  | 15/20 [09:13<04:10, 50.06s/it]"
     ]
    },
    {
     "name": "stdout",
     "output_type": "stream",
     "text": [
      "{'method': 'parquet', 'save_time': 45.095538854599, 'read_time': 0.8023222208023071, 'file_size': 471.9557991027832, 'compression': 'lz4', 'compression_level': 15}\n"
     ]
    },
    {
     "name": "stderr",
     "output_type": "stream",
     "text": [
      " 80%|████████  | 16/20 [10:07<03:24, 51.01s/it]"
     ]
    },
    {
     "name": "stdout",
     "output_type": "stream",
     "text": [
      "{'method': 'parquet', 'save_time': 44.976829051971436, 'read_time': 0.8242367029190063, 'file_size': 471.9557991027832, 'compression': 'lz4', 'compression_level': 16}\n"
     ]
    },
    {
     "name": "stderr",
     "output_type": "stream",
     "text": [
      " 85%|████████▌ | 17/20 [11:00<02:34, 51.64s/it]"
     ]
    },
    {
     "name": "stdout",
     "output_type": "stream",
     "text": [
      "{'method': 'parquet', 'save_time': 45.09025168418884, 'read_time': 0.8008285999298096, 'file_size': 471.9557991027832, 'compression': 'lz4', 'compression_level': 17}\n"
     ]
    },
    {
     "name": "stderr",
     "output_type": "stream",
     "text": [
      " 90%|█████████ | 18/20 [11:53<01:44, 52.07s/it]"
     ]
    },
    {
     "name": "stdout",
     "output_type": "stream",
     "text": [
      "{'method': 'parquet', 'save_time': 45.04824090003967, 'read_time': 0.8009310960769653, 'file_size': 471.9557991027832, 'compression': 'lz4', 'compression_level': 18}\n"
     ]
    },
    {
     "name": "stderr",
     "output_type": "stream",
     "text": [
      " 95%|█████████▌| 19/20 [12:46<00:52, 52.44s/it]"
     ]
    },
    {
     "name": "stdout",
     "output_type": "stream",
     "text": [
      "{'method': 'parquet', 'save_time': 45.322035789489746, 'read_time': 0.7969977855682373, 'file_size': 471.9557991027832, 'compression': 'lz4', 'compression_level': 19}\n"
     ]
    },
    {
     "name": "stderr",
     "output_type": "stream",
     "text": [
      "100%|██████████| 20/20 [13:39<00:00, 41.00s/it]"
     ]
    },
    {
     "name": "stdout",
     "output_type": "stream",
     "text": [
      "{'method': 'parquet', 'save_time': 45.10698223114014, 'read_time': 0.8186408758163453, 'file_size': 471.9557991027832, 'compression': 'lz4', 'compression_level': 20}\n"
     ]
    },
    {
     "name": "stderr",
     "output_type": "stream",
     "text": [
      "\n"
     ]
    }
   ],
   "source": [
    "# parquet, lz4\n",
    "for cl in tqdm(range(1, 21)):\n",
    "    r = evaluate_performance(df, \"parquet\", compression=\"lz4\", compression_level=cl)\n",
    "    print(r)\n",
    "    eval_results.append(r)"
   ]
  },
  {
   "cell_type": "code",
   "execution_count": 9,
   "metadata": {},
   "outputs": [
    {
     "name": "stderr",
     "output_type": "stream",
     "text": [
      "  5%|▌         | 1/20 [00:16<05:14, 16.53s/it]"
     ]
    },
    {
     "name": "stdout",
     "output_type": "stream",
     "text": [
      "{'method': 'feather', 'save_time': 7.810703277587891, 'read_time': 0.8711262941360474, 'file_size': 437.12684059143066, 'compression': 'zstd', 'compression_level': 1}\n"
     ]
    },
    {
     "name": "stderr",
     "output_type": "stream",
     "text": [
      " 10%|█         | 2/20 [00:34<05:12, 17.37s/it]"
     ]
    },
    {
     "name": "stdout",
     "output_type": "stream",
     "text": [
      "{'method': 'feather', 'save_time': 8.428096055984497, 'read_time': 0.9513471841812133, 'file_size': 421.69519233703613, 'compression': 'zstd', 'compression_level': 2}\n"
     ]
    },
    {
     "name": "stderr",
     "output_type": "stream",
     "text": [
      " 15%|█▌        | 3/20 [00:52<05:00, 17.70s/it]"
     ]
    },
    {
     "name": "stdout",
     "output_type": "stream",
     "text": [
      "{'method': 'feather', 'save_time': 8.518265008926392, 'read_time': 0.9566247940063477, 'file_size': 408.58621406555176, 'compression': 'zstd', 'compression_level': 3}\n"
     ]
    },
    {
     "name": "stderr",
     "output_type": "stream",
     "text": [
      " 20%|██        | 4/20 [01:10<04:47, 17.94s/it]"
     ]
    },
    {
     "name": "stdout",
     "output_type": "stream",
     "text": [
      "{'method': 'feather', 'save_time': 8.81140398979187, 'read_time': 0.9494781017303466, 'file_size': 403.8554935455322, 'compression': 'zstd', 'compression_level': 4}\n"
     ]
    },
    {
     "name": "stderr",
     "output_type": "stream",
     "text": [
      " 25%|██▌       | 5/20 [01:30<04:40, 18.71s/it]"
     ]
    },
    {
     "name": "stdout",
     "output_type": "stream",
     "text": [
      "{'method': 'feather', 'save_time': 10.409194946289062, 'read_time': 0.9664724111557007, 'file_size': 394.0708255767822, 'compression': 'zstd', 'compression_level': 5}\n"
     ]
    },
    {
     "name": "stderr",
     "output_type": "stream",
     "text": [
      " 30%|███       | 6/20 [01:52<04:34, 19.59s/it]"
     ]
    },
    {
     "name": "stdout",
     "output_type": "stream",
     "text": [
      "{'method': 'feather', 'save_time': 12.00289011001587, 'read_time': 0.9283122777938843, 'file_size': 387.834566116333, 'compression': 'zstd', 'compression_level': 6}\n"
     ]
    },
    {
     "name": "stderr",
     "output_type": "stream",
     "text": [
      " 35%|███▌      | 7/20 [02:14<04:26, 20.47s/it]"
     ]
    },
    {
     "name": "stdout",
     "output_type": "stream",
     "text": [
      "{'method': 'feather', 'save_time': 13.160423994064331, 'read_time': 0.9120407104492188, 'file_size': 383.9965763092041, 'compression': 'zstd', 'compression_level': 7}\n"
     ]
    },
    {
     "name": "stderr",
     "output_type": "stream",
     "text": [
      " 40%|████      | 8/20 [02:38<04:18, 21.51s/it]"
     ]
    },
    {
     "name": "stdout",
     "output_type": "stream",
     "text": [
      "{'method': 'feather', 'save_time': 14.772194147109985, 'read_time': 0.8933410882949829, 'file_size': 381.45667457580566, 'compression': 'zstd', 'compression_level': 8}\n"
     ]
    },
    {
     "name": "stderr",
     "output_type": "stream",
     "text": [
      " 45%|████▌     | 9/20 [03:02<04:05, 22.28s/it]"
     ]
    },
    {
     "name": "stdout",
     "output_type": "stream",
     "text": [
      "{'method': 'feather', 'save_time': 15.102346420288086, 'read_time': 0.8858551025390625, 'file_size': 377.6910800933838, 'compression': 'zstd', 'compression_level': 9}\n"
     ]
    },
    {
     "name": "stderr",
     "output_type": "stream",
     "text": [
      " 50%|█████     | 10/20 [03:28<03:55, 23.58s/it]"
     ]
    },
    {
     "name": "stdout",
     "output_type": "stream",
     "text": [
      "{'method': 'feather', 'save_time': 17.789350032806396, 'read_time': 0.8713590145111084, 'file_size': 374.5852680206299, 'compression': 'zstd', 'compression_level': 10}\n"
     ]
    },
    {
     "name": "stderr",
     "output_type": "stream",
     "text": [
      " 55%|█████▌    | 11/20 [03:59<03:51, 25.77s/it]"
     ]
    },
    {
     "name": "stdout",
     "output_type": "stream",
     "text": [
      "{'method': 'feather', 'save_time': 22.122727155685425, 'read_time': 0.8613993883132934, 'file_size': 372.8045291900635, 'compression': 'zstd', 'compression_level': 11}\n"
     ]
    },
    {
     "name": "stderr",
     "output_type": "stream",
     "text": [
      " 60%|██████    | 12/20 [04:31<03:42, 27.78s/it]"
     ]
    },
    {
     "name": "stdout",
     "output_type": "stream",
     "text": [
      "{'method': 'feather', 'save_time': 23.7255597114563, 'read_time': 0.8624277353286743, 'file_size': 372.3326053619385, 'compression': 'zstd', 'compression_level': 12}\n"
     ]
    },
    {
     "name": "stderr",
     "output_type": "stream",
     "text": [
      " 65%|██████▌   | 13/20 [05:32<04:24, 37.74s/it]"
     ]
    },
    {
     "name": "stdout",
     "output_type": "stream",
     "text": [
      "{'method': 'feather', 'save_time': 52.036056995391846, 'read_time': 0.8633211135864258, 'file_size': 366.2343006134033, 'compression': 'zstd', 'compression_level': 13}\n"
     ]
    },
    {
     "name": "stderr",
     "output_type": "stream",
     "text": [
      " 70%|███████   | 14/20 [06:44<04:47, 48.00s/it]"
     ]
    },
    {
     "name": "stdout",
     "output_type": "stream",
     "text": [
      "{'method': 'feather', 'save_time': 63.18654990196228, 'read_time': 0.8490873813629151, 'file_size': 364.6156635284424, 'compression': 'zstd', 'compression_level': 14}\n"
     ]
    },
    {
     "name": "stderr",
     "output_type": "stream",
     "text": [
      " 75%|███████▌  | 15/20 [08:32<05:30, 66.19s/it]"
     ]
    },
    {
     "name": "stdout",
     "output_type": "stream",
     "text": [
      "{'method': 'feather', 'save_time': 99.90090799331665, 'read_time': 0.8451828002929688, 'file_size': 362.36819648742676, 'compression': 'zstd', 'compression_level': 15}\n"
     ]
    },
    {
     "name": "stderr",
     "output_type": "stream",
     "text": [
      " 80%|████████  | 16/20 [10:10<05:02, 75.63s/it]"
     ]
    },
    {
     "name": "stdout",
     "output_type": "stream",
     "text": [
      "{'method': 'feather', 'save_time': 88.9525420665741, 'read_time': 0.8575389862060547, 'file_size': 357.7556552886963, 'compression': 'zstd', 'compression_level': 16}\n"
     ]
    },
    {
     "name": "stderr",
     "output_type": "stream",
     "text": [
      " 85%|████████▌ | 17/20 [12:34<04:48, 96.22s/it]"
     ]
    },
    {
     "name": "stdout",
     "output_type": "stream",
     "text": [
      "{'method': 'feather', 'save_time': 135.46715807914734, 'read_time': 0.8610291004180908, 'file_size': 334.8456287384033, 'compression': 'zstd', 'compression_level': 17}\n"
     ]
    },
    {
     "name": "stderr",
     "output_type": "stream",
     "text": [
      " 90%|█████████ | 18/20 [15:18<03:53, 116.74s/it]"
     ]
    },
    {
     "name": "stdout",
     "output_type": "stream",
     "text": [
      "{'method': 'feather', 'save_time': 155.86569905281067, 'read_time': 0.8627039909362793, 'file_size': 333.5891819000244, 'compression': 'zstd', 'compression_level': 18}\n"
     ]
    },
    {
     "name": "stderr",
     "output_type": "stream",
     "text": [
      " 95%|█████████▌| 19/20 [18:56<02:27, 147.16s/it]"
     ]
    },
    {
     "name": "stdout",
     "output_type": "stream",
     "text": [
      "{'method': 'feather', 'save_time': 208.59472608566284, 'read_time': 0.9432460069656372, 'file_size': 331.5420169830322, 'compression': 'zstd', 'compression_level': 19}\n"
     ]
    },
    {
     "name": "stderr",
     "output_type": "stream",
     "text": [
      "100%|██████████| 20/20 [23:20<00:00, 70.04s/it] "
     ]
    },
    {
     "name": "stdout",
     "output_type": "stream",
     "text": [
      "{'method': 'feather', 'save_time': 255.14146280288696, 'read_time': 0.8919703960418701, 'file_size': 322.84424018859863, 'compression': 'zstd', 'compression_level': 20}\n"
     ]
    },
    {
     "name": "stderr",
     "output_type": "stream",
     "text": [
      "\n"
     ]
    }
   ],
   "source": [
    "# feather, zstd\n",
    "for cl in tqdm(range(1, 21)):\n",
    "    r = evaluate_performance(df, \"feather\", compression=\"zstd\", compression_level=cl)\n",
    "    print(r)\n",
    "    eval_results.append(r)"
   ]
  },
  {
   "cell_type": "code",
   "execution_count": 10,
   "metadata": {},
   "outputs": [
    {
     "name": "stderr",
     "output_type": "stream",
     "text": [
      "  5%|▌         | 1/20 [00:14<04:33, 14.38s/it]"
     ]
    },
    {
     "name": "stdout",
     "output_type": "stream",
     "text": [
      "{'method': 'feather', 'save_time': 7.732300043106079, 'read_time': 0.6641348838806153, 'file_size': 576.73313331604, 'compression': 'lz4', 'compression_level': 1}\n"
     ]
    },
    {
     "name": "stderr",
     "output_type": "stream",
     "text": [
      " 10%|█         | 2/20 [00:28<04:15, 14.20s/it]"
     ]
    },
    {
     "name": "stdout",
     "output_type": "stream",
     "text": [
      "{'method': 'feather', 'save_time': 7.507879018783569, 'read_time': 0.6554886102676392, 'file_size': 576.73313331604, 'compression': 'lz4', 'compression_level': 2}\n"
     ]
    },
    {
     "name": "stderr",
     "output_type": "stream",
     "text": [
      " 15%|█▌        | 3/20 [00:46<04:33, 16.09s/it]"
     ]
    },
    {
     "name": "stdout",
     "output_type": "stream",
     "text": [
      "{'method': 'feather', 'save_time': 11.740862131118774, 'read_time': 0.6594517946243286, 'file_size': 467.63547706604004, 'compression': 'lz4', 'compression_level': 3}\n"
     ]
    },
    {
     "name": "stderr",
     "output_type": "stream",
     "text": [
      " 20%|██        | 4/20 [01:06<04:42, 17.63s/it]"
     ]
    },
    {
     "name": "stdout",
     "output_type": "stream",
     "text": [
      "{'method': 'feather', 'save_time': 13.364941120147705, 'read_time': 0.6612981081008911, 'file_size': 461.724946975708, 'compression': 'lz4', 'compression_level': 4}\n"
     ]
    },
    {
     "name": "stderr",
     "output_type": "stream",
     "text": [
      " 25%|██▌       | 5/20 [01:28<04:47, 19.20s/it]"
     ]
    },
    {
     "name": "stdout",
     "output_type": "stream",
     "text": [
      "{'method': 'feather', 'save_time': 15.471939086914062, 'read_time': 0.6500041007995605, 'file_size': 458.59187507629395, 'compression': 'lz4', 'compression_level': 5}\n"
     ]
    },
    {
     "name": "stderr",
     "output_type": "stream",
     "text": [
      " 30%|███       | 6/20 [01:52<04:51, 20.84s/it]"
     ]
    },
    {
     "name": "stdout",
     "output_type": "stream",
     "text": [
      "{'method': 'feather', 'save_time': 17.485082864761353, 'read_time': 0.6545364141464234, 'file_size': 457.28421211242676, 'compression': 'lz4', 'compression_level': 6}\n"
     ]
    },
    {
     "name": "stderr",
     "output_type": "stream",
     "text": [
      " 35%|███▌      | 7/20 [02:18<04:51, 22.46s/it]"
     ]
    },
    {
     "name": "stdout",
     "output_type": "stream",
     "text": [
      "{'method': 'feather', 'save_time': 19.239831686019897, 'read_time': 0.6536489963531494, 'file_size': 456.75145149230957, 'compression': 'lz4', 'compression_level': 7}\n"
     ]
    },
    {
     "name": "stderr",
     "output_type": "stream",
     "text": [
      " 40%|████      | 8/20 [02:45<04:47, 23.99s/it]"
     ]
    },
    {
     "name": "stdout",
     "output_type": "stream",
     "text": [
      "{'method': 'feather', 'save_time': 20.885124921798706, 'read_time': 0.6375043869018555, 'file_size': 456.5489978790283, 'compression': 'lz4', 'compression_level': 8}\n"
     ]
    },
    {
     "name": "stderr",
     "output_type": "stream",
     "text": [
      " 45%|████▌     | 9/20 [03:14<04:39, 25.41s/it]"
     ]
    },
    {
     "name": "stdout",
     "output_type": "stream",
     "text": [
      "{'method': 'feather', 'save_time': 22.181387901306152, 'read_time': 0.6322266817092895, 'file_size': 456.43675422668457, 'compression': 'lz4', 'compression_level': 9}\n"
     ]
    },
    {
     "name": "stderr",
     "output_type": "stream",
     "text": [
      " 50%|█████     | 10/20 [03:48<04:41, 28.11s/it]"
     ]
    },
    {
     "name": "stdout",
     "output_type": "stream",
     "text": [
      "{'method': 'feather', 'save_time': 27.824586153030396, 'read_time': 0.6322901010513305, 'file_size': 455.24280738830566, 'compression': 'lz4', 'compression_level': 10}\n"
     ]
    },
    {
     "name": "stderr",
     "output_type": "stream",
     "text": [
      " 55%|█████▌    | 11/20 [04:26<04:41, 31.25s/it]"
     ]
    },
    {
     "name": "stdout",
     "output_type": "stream",
     "text": [
      "{'method': 'feather', 'save_time': 32.06261992454529, 'read_time': 0.6296546220779419, 'file_size': 454.84026527404785, 'compression': 'lz4', 'compression_level': 11}\n"
     ]
    },
    {
     "name": "stderr",
     "output_type": "stream",
     "text": [
      " 60%|██████    | 12/20 [05:09<04:37, 34.73s/it]"
     ]
    },
    {
     "name": "stdout",
     "output_type": "stream",
     "text": [
      "{'method': 'feather', 'save_time': 36.2489218711853, 'read_time': 0.6442419052124023, 'file_size': 454.8148822784424, 'compression': 'lz4', 'compression_level': 12}\n"
     ]
    },
    {
     "name": "stderr",
     "output_type": "stream",
     "text": [
      " 65%|██████▌   | 13/20 [05:51<04:19, 37.04s/it]"
     ]
    },
    {
     "name": "stdout",
     "output_type": "stream",
     "text": [
      "{'method': 'feather', 'save_time': 36.02102971076965, 'read_time': 0.6319858312606812, 'file_size': 454.8148822784424, 'compression': 'lz4', 'compression_level': 13}\n"
     ]
    },
    {
     "name": "stderr",
     "output_type": "stream",
     "text": [
      " 70%|███████   | 14/20 [06:34<03:51, 38.63s/it]"
     ]
    },
    {
     "name": "stdout",
     "output_type": "stream",
     "text": [
      "{'method': 'feather', 'save_time': 36.00388288497925, 'read_time': 0.6305265903472901, 'file_size': 454.8148822784424, 'compression': 'lz4', 'compression_level': 14}\n"
     ]
    },
    {
     "name": "stderr",
     "output_type": "stream",
     "text": [
      " 75%|███████▌  | 15/20 [07:16<03:18, 39.78s/it]"
     ]
    },
    {
     "name": "stdout",
     "output_type": "stream",
     "text": [
      "{'method': 'feather', 'save_time': 36.10609698295593, 'read_time': 0.6321071147918701, 'file_size': 454.8148822784424, 'compression': 'lz4', 'compression_level': 15}\n"
     ]
    },
    {
     "name": "stderr",
     "output_type": "stream",
     "text": [
      " 80%|████████  | 16/20 [07:59<02:42, 40.58s/it]"
     ]
    },
    {
     "name": "stdout",
     "output_type": "stream",
     "text": [
      "{'method': 'feather', 'save_time': 36.02380871772766, 'read_time': 0.6389189243316651, 'file_size': 454.8148822784424, 'compression': 'lz4', 'compression_level': 16}\n"
     ]
    },
    {
     "name": "stderr",
     "output_type": "stream",
     "text": [
      " 85%|████████▌ | 17/20 [08:41<02:03, 41.17s/it]"
     ]
    },
    {
     "name": "stdout",
     "output_type": "stream",
     "text": [
      "{'method': 'feather', 'save_time': 36.17722010612488, 'read_time': 0.6350032806396484, 'file_size': 454.8148822784424, 'compression': 'lz4', 'compression_level': 17}\n"
     ]
    },
    {
     "name": "stderr",
     "output_type": "stream",
     "text": [
      " 90%|█████████ | 18/20 [09:24<01:23, 41.52s/it]"
     ]
    },
    {
     "name": "stdout",
     "output_type": "stream",
     "text": [
      "{'method': 'feather', 'save_time': 36.01498198509216, 'read_time': 0.6327189207077026, 'file_size': 454.8148822784424, 'compression': 'lz4', 'compression_level': 18}\n"
     ]
    },
    {
     "name": "stderr",
     "output_type": "stream",
     "text": [
      " 95%|█████████▌| 19/20 [10:06<00:41, 41.74s/it]"
     ]
    },
    {
     "name": "stdout",
     "output_type": "stream",
     "text": [
      "{'method': 'feather', 'save_time': 35.95403170585632, 'read_time': 0.6290494918823242, 'file_size': 454.8148822784424, 'compression': 'lz4', 'compression_level': 19}\n"
     ]
    },
    {
     "name": "stderr",
     "output_type": "stream",
     "text": [
      "100%|██████████| 20/20 [10:48<00:00, 32.44s/it]"
     ]
    },
    {
     "name": "stdout",
     "output_type": "stream",
     "text": [
      "{'method': 'feather', 'save_time': 36.05960512161255, 'read_time': 0.6369312047958374, 'file_size': 454.8148822784424, 'compression': 'lz4', 'compression_level': 20}\n"
     ]
    },
    {
     "name": "stderr",
     "output_type": "stream",
     "text": [
      "\n"
     ]
    }
   ],
   "source": [
    "# feather, lz4\n",
    "for cl in tqdm(range(1, 21)):\n",
    "    r = evaluate_performance(df, \"feather\", compression=\"lz4\", compression_level=cl)\n",
    "    print(r)\n",
    "    eval_results.append(r)"
   ]
  },
  {
   "cell_type": "code",
   "execution_count": 11,
   "metadata": {},
   "outputs": [
    {
     "name": "stdout",
     "output_type": "stream",
     "text": [
      "{'method': 'parquet', 'save_time': 46.06715679168701, 'read_time': 1.9953484058380127, 'file_size': 424.7738380432129, 'compression': 'gzip'}\n",
      "{'method': 'parquet', 'save_time': 8.336032152175903, 'read_time': 0.9161159992218018, 'file_size': 584.8069200515747, 'compression': 'snappy'}\n",
      "{'method': 'parquet', 'save_time': 8.190977096557617, 'read_time': 0.8201051950454712, 'file_size': 590.422794342041, 'compression': 'lz4'}\n",
      "{'method': 'parquet', 'save_time': 8.388648986816406, 'read_time': 1.0264885187149049, 'file_size': 454.35195541381836, 'compression': 'zstd'}\n",
      "{'method': 'parquet', 'save_time': 36.953263998031616, 'read_time': 1.7408971071243287, 'file_size': 382.1520986557007, 'compression': 'brotli'}\n",
      "{'method': 'parquet', 'save_time': 8.401474237442017, 'read_time': 0.9038358926773071, 'file_size': 584.8069200515747}\n"
     ]
    }
   ],
   "source": [
    "# parquet\n",
    "for c in [\"gzip\", \"snappy\", \"lz4\", \"zstd\", \"brotli\", None]:\n",
    "    r = evaluate_performance(df, \"parquet\", compression=c)\n",
    "    print(r)\n",
    "    eval_results.append(r)"
   ]
  },
  {
   "cell_type": "code",
   "execution_count": 12,
   "metadata": {},
   "outputs": [
    {
     "name": "stdout",
     "output_type": "stream",
     "text": [
      "{'method': 'feather', 'save_time': 7.603612899780273, 'read_time': 0.6373041868209839, 'file_size': 576.73313331604, 'compression': 'lz4'}\n",
      "{'method': 'feather', 'save_time': 7.647130012512207, 'read_time': 0.8722016096115113, 'file_size': 437.12684059143066, 'compression': 'zstd'}\n",
      "{'method': 'feather', 'save_time': 6.693665981292725, 'read_time': 0.5236799001693726, 'file_size': 801.368257522583, 'compression': 'uncompressed'}\n",
      "{'method': 'feather', 'save_time': 7.1558802127838135, 'read_time': 0.624337911605835, 'file_size': 576.73313331604}\n"
     ]
    }
   ],
   "source": [
    "# feather\n",
    "for c in [\"lz4\", \"zstd\", \"uncompressed\", None]:\n",
    "    r = evaluate_performance(df, \"feather\", compression=c)\n",
    "    print(r)\n",
    "    eval_results.append(r)"
   ]
  },
  {
   "cell_type": "code",
   "execution_count": 13,
   "metadata": {},
   "outputs": [
    {
     "name": "stdout",
     "output_type": "stream",
     "text": [
      "{'method': 'csv', 'save_time': 72.97698092460632, 'read_time': 15.965630602836608, 'file_size': 370.0820064544678, 'compression': 'zip'}\n",
      "{'method': 'csv', 'save_time': 108.0157880783081, 'read_time': 17.66051230430603, 'file_size': 368.6087369918823, 'compression': 'gzip'}\n",
      "{'method': 'csv', 'save_time': 95.6966609954834, 'read_time': 34.35328049659729, 'file_size': 253.52459526062012, 'compression': 'bz2'}\n",
      "{'method': 'csv', 'save_time': 37.434401750564575, 'read_time': 15.710261034965516, 'file_size': 362.1894760131836, 'compression': 'zstd'}\n",
      "{'method': 'csv', 'save_time': 564.3232109546661, 'read_time': 26.306042075157166, 'file_size': 257.16525650024414, 'compression': 'xz'}\n",
      "{'method': 'csv', 'save_time': 34.24093818664551, 'read_time': 15.284685277938843, 'file_size': 1217.67578125, 'compression': 'tar'}\n",
      "{'method': 'csv', 'save_time': 33.819628953933716, 'read_time': 14.74233419895172, 'file_size': 1217.6694955825806}\n"
     ]
    }
   ],
   "source": [
    "# csv\n",
    "for c in ['zip', 'gzip', 'bz2', 'zstd', 'xz', 'tar', None]:\n",
    "    r = evaluate_performance(df, \"csv\", compression=c)\n",
    "    print(r)\n",
    "    eval_results.append(r)"
   ]
  },
  {
   "cell_type": "code",
   "execution_count": 14,
   "metadata": {},
   "outputs": [
    {
     "data": {
      "text/html": [
       "<div>\n",
       "<style scoped>\n",
       "    .dataframe tbody tr th:only-of-type {\n",
       "        vertical-align: middle;\n",
       "    }\n",
       "\n",
       "    .dataframe tbody tr th {\n",
       "        vertical-align: top;\n",
       "    }\n",
       "\n",
       "    .dataframe thead th {\n",
       "        text-align: right;\n",
       "    }\n",
       "</style>\n",
       "<table border=\"1\" class=\"dataframe\">\n",
       "  <thead>\n",
       "    <tr style=\"text-align: right;\">\n",
       "      <th></th>\n",
       "      <th>method</th>\n",
       "      <th>save_time</th>\n",
       "      <th>read_time</th>\n",
       "      <th>file_size</th>\n",
       "      <th>compression</th>\n",
       "      <th>compression_level</th>\n",
       "    </tr>\n",
       "  </thead>\n",
       "  <tbody>\n",
       "    <tr>\n",
       "      <th>0</th>\n",
       "      <td>parquet</td>\n",
       "      <td>9.790124</td>\n",
       "      <td>1.110700</td>\n",
       "      <td>454.351955</td>\n",
       "      <td>zstd</td>\n",
       "      <td>1.0</td>\n",
       "    </tr>\n",
       "    <tr>\n",
       "      <th>1</th>\n",
       "      <td>parquet</td>\n",
       "      <td>9.496123</td>\n",
       "      <td>1.125767</td>\n",
       "      <td>438.708549</td>\n",
       "      <td>zstd</td>\n",
       "      <td>2.0</td>\n",
       "    </tr>\n",
       "    <tr>\n",
       "      <th>2</th>\n",
       "      <td>parquet</td>\n",
       "      <td>10.224086</td>\n",
       "      <td>1.132409</td>\n",
       "      <td>427.473406</td>\n",
       "      <td>zstd</td>\n",
       "      <td>3.0</td>\n",
       "    </tr>\n",
       "    <tr>\n",
       "      <th>3</th>\n",
       "      <td>parquet</td>\n",
       "      <td>10.759801</td>\n",
       "      <td>1.129405</td>\n",
       "      <td>422.640075</td>\n",
       "      <td>zstd</td>\n",
       "      <td>4.0</td>\n",
       "    </tr>\n",
       "    <tr>\n",
       "      <th>4</th>\n",
       "      <td>parquet</td>\n",
       "      <td>12.995082</td>\n",
       "      <td>1.140103</td>\n",
       "      <td>413.288786</td>\n",
       "      <td>zstd</td>\n",
       "      <td>5.0</td>\n",
       "    </tr>\n",
       "    <tr>\n",
       "      <th>...</th>\n",
       "      <td>...</td>\n",
       "      <td>...</td>\n",
       "      <td>...</td>\n",
       "      <td>...</td>\n",
       "      <td>...</td>\n",
       "      <td>...</td>\n",
       "    </tr>\n",
       "    <tr>\n",
       "      <th>92</th>\n",
       "      <td>csv</td>\n",
       "      <td>95.696661</td>\n",
       "      <td>34.353280</td>\n",
       "      <td>253.524595</td>\n",
       "      <td>bz2</td>\n",
       "      <td>NaN</td>\n",
       "    </tr>\n",
       "    <tr>\n",
       "      <th>93</th>\n",
       "      <td>csv</td>\n",
       "      <td>37.434402</td>\n",
       "      <td>15.710261</td>\n",
       "      <td>362.189476</td>\n",
       "      <td>zstd</td>\n",
       "      <td>NaN</td>\n",
       "    </tr>\n",
       "    <tr>\n",
       "      <th>94</th>\n",
       "      <td>csv</td>\n",
       "      <td>564.323211</td>\n",
       "      <td>26.306042</td>\n",
       "      <td>257.165257</td>\n",
       "      <td>xz</td>\n",
       "      <td>NaN</td>\n",
       "    </tr>\n",
       "    <tr>\n",
       "      <th>95</th>\n",
       "      <td>csv</td>\n",
       "      <td>34.240938</td>\n",
       "      <td>15.284685</td>\n",
       "      <td>1217.675781</td>\n",
       "      <td>tar</td>\n",
       "      <td>NaN</td>\n",
       "    </tr>\n",
       "    <tr>\n",
       "      <th>96</th>\n",
       "      <td>csv</td>\n",
       "      <td>33.819629</td>\n",
       "      <td>14.742334</td>\n",
       "      <td>1217.669496</td>\n",
       "      <td>NaN</td>\n",
       "      <td>NaN</td>\n",
       "    </tr>\n",
       "  </tbody>\n",
       "</table>\n",
       "<p>97 rows × 6 columns</p>\n",
       "</div>"
      ],
      "text/plain": [
       "     method   save_time  read_time    file_size compression  compression_level\n",
       "0   parquet    9.790124   1.110700   454.351955        zstd                1.0\n",
       "1   parquet    9.496123   1.125767   438.708549        zstd                2.0\n",
       "2   parquet   10.224086   1.132409   427.473406        zstd                3.0\n",
       "3   parquet   10.759801   1.129405   422.640075        zstd                4.0\n",
       "4   parquet   12.995082   1.140103   413.288786        zstd                5.0\n",
       "..      ...         ...        ...          ...         ...                ...\n",
       "92      csv   95.696661  34.353280   253.524595         bz2                NaN\n",
       "93      csv   37.434402  15.710261   362.189476        zstd                NaN\n",
       "94      csv  564.323211  26.306042   257.165257          xz                NaN\n",
       "95      csv   34.240938  15.284685  1217.675781         tar                NaN\n",
       "96      csv   33.819629  14.742334  1217.669496         NaN                NaN\n",
       "\n",
       "[97 rows x 6 columns]"
      ]
     },
     "execution_count": 14,
     "metadata": {},
     "output_type": "execute_result"
    }
   ],
   "source": [
    "df = pd.DataFrame(eval_results)\n",
    "df"
   ]
  },
  {
   "cell_type": "code",
   "execution_count": 15,
   "metadata": {},
   "outputs": [
    {
     "data": {
      "text/html": [
       "<div>\n",
       "<style scoped>\n",
       "    .dataframe tbody tr th:only-of-type {\n",
       "        vertical-align: middle;\n",
       "    }\n",
       "\n",
       "    .dataframe tbody tr th {\n",
       "        vertical-align: top;\n",
       "    }\n",
       "\n",
       "    .dataframe thead th {\n",
       "        text-align: right;\n",
       "    }\n",
       "</style>\n",
       "<table border=\"1\" class=\"dataframe\">\n",
       "  <thead>\n",
       "    <tr style=\"text-align: right;\">\n",
       "      <th></th>\n",
       "      <th>method</th>\n",
       "      <th>save_time</th>\n",
       "      <th>read_time</th>\n",
       "      <th>file_size</th>\n",
       "      <th>compression</th>\n",
       "      <th>compression_level</th>\n",
       "      <th>comp_ratio</th>\n",
       "    </tr>\n",
       "  </thead>\n",
       "  <tbody>\n",
       "    <tr>\n",
       "      <th>0</th>\n",
       "      <td>parquet</td>\n",
       "      <td>9.790124</td>\n",
       "      <td>1.110700</td>\n",
       "      <td>454.351955</td>\n",
       "      <td>zstd</td>\n",
       "      <td>1.0</td>\n",
       "      <td>5.757161</td>\n",
       "    </tr>\n",
       "    <tr>\n",
       "      <th>1</th>\n",
       "      <td>parquet</td>\n",
       "      <td>9.496123</td>\n",
       "      <td>1.125767</td>\n",
       "      <td>438.708549</td>\n",
       "      <td>zstd</td>\n",
       "      <td>2.0</td>\n",
       "      <td>5.962449</td>\n",
       "    </tr>\n",
       "    <tr>\n",
       "      <th>2</th>\n",
       "      <td>parquet</td>\n",
       "      <td>10.224086</td>\n",
       "      <td>1.132409</td>\n",
       "      <td>427.473406</td>\n",
       "      <td>zstd</td>\n",
       "      <td>3.0</td>\n",
       "      <td>6.119158</td>\n",
       "    </tr>\n",
       "    <tr>\n",
       "      <th>3</th>\n",
       "      <td>parquet</td>\n",
       "      <td>10.759801</td>\n",
       "      <td>1.129405</td>\n",
       "      <td>422.640075</td>\n",
       "      <td>zstd</td>\n",
       "      <td>4.0</td>\n",
       "      <td>6.189137</td>\n",
       "    </tr>\n",
       "    <tr>\n",
       "      <th>4</th>\n",
       "      <td>parquet</td>\n",
       "      <td>12.995082</td>\n",
       "      <td>1.140103</td>\n",
       "      <td>413.288786</td>\n",
       "      <td>zstd</td>\n",
       "      <td>5.0</td>\n",
       "      <td>6.329176</td>\n",
       "    </tr>\n",
       "    <tr>\n",
       "      <th>...</th>\n",
       "      <td>...</td>\n",
       "      <td>...</td>\n",
       "      <td>...</td>\n",
       "      <td>...</td>\n",
       "      <td>...</td>\n",
       "      <td>...</td>\n",
       "      <td>...</td>\n",
       "    </tr>\n",
       "    <tr>\n",
       "      <th>92</th>\n",
       "      <td>csv</td>\n",
       "      <td>95.696661</td>\n",
       "      <td>34.353280</td>\n",
       "      <td>253.524595</td>\n",
       "      <td>bz2</td>\n",
       "      <td>NaN</td>\n",
       "      <td>10.317647</td>\n",
       "    </tr>\n",
       "    <tr>\n",
       "      <th>93</th>\n",
       "      <td>csv</td>\n",
       "      <td>37.434402</td>\n",
       "      <td>15.710261</td>\n",
       "      <td>362.189476</td>\n",
       "      <td>zstd</td>\n",
       "      <td>NaN</td>\n",
       "      <td>7.222124</td>\n",
       "    </tr>\n",
       "    <tr>\n",
       "      <th>94</th>\n",
       "      <td>csv</td>\n",
       "      <td>564.323211</td>\n",
       "      <td>26.306042</td>\n",
       "      <td>257.165257</td>\n",
       "      <td>xz</td>\n",
       "      <td>NaN</td>\n",
       "      <td>10.171582</td>\n",
       "    </tr>\n",
       "    <tr>\n",
       "      <th>95</th>\n",
       "      <td>csv</td>\n",
       "      <td>34.240938</td>\n",
       "      <td>15.284685</td>\n",
       "      <td>1217.675781</td>\n",
       "      <td>tar</td>\n",
       "      <td>NaN</td>\n",
       "      <td>2.148172</td>\n",
       "    </tr>\n",
       "    <tr>\n",
       "      <th>96</th>\n",
       "      <td>csv</td>\n",
       "      <td>33.819629</td>\n",
       "      <td>14.742334</td>\n",
       "      <td>1217.669496</td>\n",
       "      <td>NaN</td>\n",
       "      <td>NaN</td>\n",
       "      <td>2.148183</td>\n",
       "    </tr>\n",
       "  </tbody>\n",
       "</table>\n",
       "<p>97 rows × 7 columns</p>\n",
       "</div>"
      ],
      "text/plain": [
       "     method   save_time  read_time    file_size compression  \\\n",
       "0   parquet    9.790124   1.110700   454.351955        zstd   \n",
       "1   parquet    9.496123   1.125767   438.708549        zstd   \n",
       "2   parquet   10.224086   1.132409   427.473406        zstd   \n",
       "3   parquet   10.759801   1.129405   422.640075        zstd   \n",
       "4   parquet   12.995082   1.140103   413.288786        zstd   \n",
       "..      ...         ...        ...          ...         ...   \n",
       "92      csv   95.696661  34.353280   253.524595         bz2   \n",
       "93      csv   37.434402  15.710261   362.189476        zstd   \n",
       "94      csv  564.323211  26.306042   257.165257          xz   \n",
       "95      csv   34.240938  15.284685  1217.675781         tar   \n",
       "96      csv   33.819629  14.742334  1217.669496         NaN   \n",
       "\n",
       "    compression_level  comp_ratio  \n",
       "0                 1.0    5.757161  \n",
       "1                 2.0    5.962449  \n",
       "2                 3.0    6.119158  \n",
       "3                 4.0    6.189137  \n",
       "4                 5.0    6.329176  \n",
       "..                ...         ...  \n",
       "92                NaN   10.317647  \n",
       "93                NaN    7.222124  \n",
       "94                NaN   10.171582  \n",
       "95                NaN    2.148172  \n",
       "96                NaN    2.148183  \n",
       "\n",
       "[97 rows x 7 columns]"
      ]
     },
     "execution_count": 15,
     "metadata": {},
     "output_type": "execute_result"
    }
   ],
   "source": [
    "df[\"comp_ratio\"] = mem_size_mb / df[\"file_size\"]\n",
    "df"
   ]
  },
  {
   "cell_type": "code",
   "execution_count": 16,
   "metadata": {},
   "outputs": [],
   "source": [
    "df.to_pickle(\"./data/test_results_date_01.pkl.gz\", compression=\"gzip\")"
   ]
  },
  {
   "cell_type": "code",
   "execution_count": null,
   "metadata": {},
   "outputs": [],
   "source": []
  }
 ],
 "metadata": {
  "kernelspec": {
   "display_name": ".venv",
   "language": "python",
   "name": "python3"
  },
  "language_info": {
   "codemirror_mode": {
    "name": "ipython",
    "version": 3
   },
   "file_extension": ".py",
   "mimetype": "text/x-python",
   "name": "python",
   "nbconvert_exporter": "python",
   "pygments_lexer": "ipython3",
   "version": "3.11.9"
  }
 },
 "nbformat": 4,
 "nbformat_minor": 2
}
